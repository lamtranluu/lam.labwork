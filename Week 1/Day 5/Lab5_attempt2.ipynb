{
 "cells": [
  {
   "cell_type": "markdown",
   "id": "bc22c5a4",
   "metadata": {},
   "source": [
    "# <font color ='red'>1.Import the data frame"
   ]
  },
  {
   "cell_type": "code",
   "execution_count": 1,
   "id": "ffe3abf2",
   "metadata": {},
   "outputs": [],
   "source": [
    "import numpy as np\n",
    "import pandas as pd\n",
    "import seaborn as sns \n",
    "import matplotlib.pyplot as plt \n",
    "%matplotlib inline\n",
    "from sklearn import linear_model\n",
    "from sklearn.model_selection import train_test_split\n",
    "from sklearn.metrics import mean_squared_error, r2_score"
   ]
  },
  {
   "cell_type": "code",
   "execution_count": 2,
   "id": "58b42e36",
   "metadata": {},
   "outputs": [],
   "source": [
    "def first(lab3):\n",
    "    ## Trabsformation number 1: standardize column headers\n",
    "    cols=[]\n",
    "    for i in range (len(lab3.columns)):\n",
    "        cols.append(lab3.columns[i].lower())\n",
    "    lab3.columns = cols\n",
    "    \n",
    "    ## Transformation number 2: deal with NanN values\n",
    "    \n",
    "    # Scenario 1: delete a row if they have all NaN \n",
    "    lab3=lab3.dropna(how='all')\n",
    "    lab3.reset_index(drop=True,inplace=True)\n",
    "    \n",
    "    #Scenario 2: Fill in vehicle class unknown values\n",
    "    lab3['vehicle class']= lab3['vehicle class'].fillna(\"Unknown\")\n",
    "    \n",
    "    #Scenario 3: Fill in vhicle size unknown values\n",
    "    lab3['vehicle size']= lab3['vehicle size'].fillna(\"Unknown\")\n",
    "    \n",
    "    #Scenario 4: Fill in vehicle type unknwon values\n",
    "    lab3['vehicle type']= lab3['vehicle type'].fillna(\"Unknown\")\n",
    "    \n",
    "    #Scnario 5: Fill in NaN opn complaints with median number\n",
    "    med_16=lab3['number of open complaints'].median()\n",
    "    lab3['number of open complaints']=lab3['number of open complaints'].fillna(med_16)\n",
    "    \n",
    "    #Scenario 6: Fill in NaN months since last claim with median value\n",
    "    med_14=lab3['months since last claim'].median()\n",
    "    lab3['months since last claim']=lab3['months since last claim'].fillna(med_14)\n",
    "    \n",
    "    #Scnario 7: Fill all of columns with NaN data with Unknown\n",
    "    lab3.fillna(\"Unknown\",inplace=True)    \n",
    "    return lab3\n"
   ]
  },
  {
   "cell_type": "code",
   "execution_count": 3,
   "id": "ef2be921",
   "metadata": {},
   "outputs": [],
   "source": [
    "bun=pd.read_csv('/Users/macbook/Documents/IRON  HACK/Day3_Pandas_Date format/marketing_customer_analysis.csv')"
   ]
  },
  {
   "cell_type": "code",
   "execution_count": 4,
   "id": "72c28833",
   "metadata": {},
   "outputs": [],
   "source": [
    "lab5 = first(bun)"
   ]
  },
  {
   "cell_type": "code",
   "execution_count": 5,
   "id": "b1e2a1ed",
   "metadata": {},
   "outputs": [
    {
     "name": "stdout",
     "output_type": "stream",
     "text": [
      "<class 'pandas.core.frame.DataFrame'>\n",
      "RangeIndex: 10910 entries, 0 to 10909\n",
      "Data columns (total 26 columns):\n",
      " #   Column                         Non-Null Count  Dtype  \n",
      "---  ------                         --------------  -----  \n",
      " 0   unnamed: 0                     10910 non-null  int64  \n",
      " 1   customer                       10910 non-null  object \n",
      " 2   state                          10910 non-null  object \n",
      " 3   customer lifetime value        10910 non-null  float64\n",
      " 4   response                       10910 non-null  object \n",
      " 5   coverage                       10910 non-null  object \n",
      " 6   education                      10910 non-null  object \n",
      " 7   effective to date              10910 non-null  object \n",
      " 8   employmentstatus               10910 non-null  object \n",
      " 9   gender                         10910 non-null  object \n",
      " 10  income                         10910 non-null  int64  \n",
      " 11  location code                  10910 non-null  object \n",
      " 12  marital status                 10910 non-null  object \n",
      " 13  monthly premium auto           10910 non-null  int64  \n",
      " 14  months since last claim        10910 non-null  float64\n",
      " 15  months since policy inception  10910 non-null  int64  \n",
      " 16  number of open complaints      10910 non-null  float64\n",
      " 17  number of policies             10910 non-null  int64  \n",
      " 18  policy type                    10910 non-null  object \n",
      " 19  policy                         10910 non-null  object \n",
      " 20  renew offer type               10910 non-null  object \n",
      " 21  sales channel                  10910 non-null  object \n",
      " 22  total claim amount             10910 non-null  float64\n",
      " 23  vehicle class                  10910 non-null  object \n",
      " 24  vehicle size                   10910 non-null  object \n",
      " 25  vehicle type                   10910 non-null  object \n",
      "dtypes: float64(4), int64(5), object(17)\n",
      "memory usage: 2.2+ MB\n"
     ]
    }
   ],
   "source": [
    "lab5.info()"
   ]
  },
  {
   "cell_type": "code",
   "execution_count": 6,
   "id": "bfccbe02",
   "metadata": {},
   "outputs": [
    {
     "data": {
      "text/html": [
       "<div>\n",
       "<style scoped>\n",
       "    .dataframe tbody tr th:only-of-type {\n",
       "        vertical-align: middle;\n",
       "    }\n",
       "\n",
       "    .dataframe tbody tr th {\n",
       "        vertical-align: top;\n",
       "    }\n",
       "\n",
       "    .dataframe thead th {\n",
       "        text-align: right;\n",
       "    }\n",
       "</style>\n",
       "<table border=\"1\" class=\"dataframe\">\n",
       "  <thead>\n",
       "    <tr style=\"text-align: right;\">\n",
       "      <th></th>\n",
       "      <th>unnamed: 0</th>\n",
       "      <th>customer</th>\n",
       "      <th>state</th>\n",
       "      <th>customer lifetime value</th>\n",
       "      <th>response</th>\n",
       "      <th>coverage</th>\n",
       "      <th>education</th>\n",
       "      <th>effective to date</th>\n",
       "      <th>employmentstatus</th>\n",
       "      <th>gender</th>\n",
       "      <th>...</th>\n",
       "      <th>number of open complaints</th>\n",
       "      <th>number of policies</th>\n",
       "      <th>policy type</th>\n",
       "      <th>policy</th>\n",
       "      <th>renew offer type</th>\n",
       "      <th>sales channel</th>\n",
       "      <th>total claim amount</th>\n",
       "      <th>vehicle class</th>\n",
       "      <th>vehicle size</th>\n",
       "      <th>vehicle type</th>\n",
       "    </tr>\n",
       "  </thead>\n",
       "  <tbody>\n",
       "    <tr>\n",
       "      <th>0</th>\n",
       "      <td>0</td>\n",
       "      <td>DK49336</td>\n",
       "      <td>Arizona</td>\n",
       "      <td>4809.216960</td>\n",
       "      <td>No</td>\n",
       "      <td>Basic</td>\n",
       "      <td>College</td>\n",
       "      <td>2/18/11</td>\n",
       "      <td>Employed</td>\n",
       "      <td>M</td>\n",
       "      <td>...</td>\n",
       "      <td>0.0</td>\n",
       "      <td>9</td>\n",
       "      <td>Corporate Auto</td>\n",
       "      <td>Corporate L3</td>\n",
       "      <td>Offer3</td>\n",
       "      <td>Agent</td>\n",
       "      <td>292.800000</td>\n",
       "      <td>Four-Door Car</td>\n",
       "      <td>Medsize</td>\n",
       "      <td>Unknown</td>\n",
       "    </tr>\n",
       "    <tr>\n",
       "      <th>1</th>\n",
       "      <td>1</td>\n",
       "      <td>KX64629</td>\n",
       "      <td>California</td>\n",
       "      <td>2228.525238</td>\n",
       "      <td>No</td>\n",
       "      <td>Basic</td>\n",
       "      <td>College</td>\n",
       "      <td>1/18/11</td>\n",
       "      <td>Unemployed</td>\n",
       "      <td>F</td>\n",
       "      <td>...</td>\n",
       "      <td>0.0</td>\n",
       "      <td>1</td>\n",
       "      <td>Personal Auto</td>\n",
       "      <td>Personal L3</td>\n",
       "      <td>Offer4</td>\n",
       "      <td>Call Center</td>\n",
       "      <td>744.924331</td>\n",
       "      <td>Four-Door Car</td>\n",
       "      <td>Medsize</td>\n",
       "      <td>Unknown</td>\n",
       "    </tr>\n",
       "    <tr>\n",
       "      <th>2</th>\n",
       "      <td>2</td>\n",
       "      <td>LZ68649</td>\n",
       "      <td>Washington</td>\n",
       "      <td>14947.917300</td>\n",
       "      <td>No</td>\n",
       "      <td>Basic</td>\n",
       "      <td>Bachelor</td>\n",
       "      <td>2/10/11</td>\n",
       "      <td>Employed</td>\n",
       "      <td>M</td>\n",
       "      <td>...</td>\n",
       "      <td>0.0</td>\n",
       "      <td>2</td>\n",
       "      <td>Personal Auto</td>\n",
       "      <td>Personal L3</td>\n",
       "      <td>Offer3</td>\n",
       "      <td>Call Center</td>\n",
       "      <td>480.000000</td>\n",
       "      <td>SUV</td>\n",
       "      <td>Medsize</td>\n",
       "      <td>A</td>\n",
       "    </tr>\n",
       "  </tbody>\n",
       "</table>\n",
       "<p>3 rows × 26 columns</p>\n",
       "</div>"
      ],
      "text/plain": [
       "   unnamed: 0 customer       state  customer lifetime value response coverage  \\\n",
       "0           0  DK49336     Arizona              4809.216960       No    Basic   \n",
       "1           1  KX64629  California              2228.525238       No    Basic   \n",
       "2           2  LZ68649  Washington             14947.917300       No    Basic   \n",
       "\n",
       "  education effective to date employmentstatus gender  ...  \\\n",
       "0   College           2/18/11         Employed      M  ...   \n",
       "1   College           1/18/11       Unemployed      F  ...   \n",
       "2  Bachelor           2/10/11         Employed      M  ...   \n",
       "\n",
       "   number of open complaints number of policies     policy type        policy  \\\n",
       "0                        0.0                  9  Corporate Auto  Corporate L3   \n",
       "1                        0.0                  1   Personal Auto   Personal L3   \n",
       "2                        0.0                  2   Personal Auto   Personal L3   \n",
       "\n",
       "   renew offer type  sales channel  total claim amount  vehicle class  \\\n",
       "0            Offer3          Agent          292.800000  Four-Door Car   \n",
       "1            Offer4    Call Center          744.924331  Four-Door Car   \n",
       "2            Offer3    Call Center          480.000000            SUV   \n",
       "\n",
       "  vehicle size vehicle type  \n",
       "0      Medsize      Unknown  \n",
       "1      Medsize      Unknown  \n",
       "2      Medsize            A  \n",
       "\n",
       "[3 rows x 26 columns]"
      ]
     },
     "execution_count": 6,
     "metadata": {},
     "output_type": "execute_result"
    }
   ],
   "source": [
    "lab5.head(3)"
   ]
  },
  {
   "cell_type": "code",
   "execution_count": 7,
   "id": "6420fc52",
   "metadata": {},
   "outputs": [
    {
     "data": {
      "text/html": [
       "<div>\n",
       "<style scoped>\n",
       "    .dataframe tbody tr th:only-of-type {\n",
       "        vertical-align: middle;\n",
       "    }\n",
       "\n",
       "    .dataframe tbody tr th {\n",
       "        vertical-align: top;\n",
       "    }\n",
       "\n",
       "    .dataframe thead th {\n",
       "        text-align: right;\n",
       "    }\n",
       "</style>\n",
       "<table border=\"1\" class=\"dataframe\">\n",
       "  <thead>\n",
       "    <tr style=\"text-align: right;\">\n",
       "      <th></th>\n",
       "      <th>unnamed: 0</th>\n",
       "      <th>customer lifetime value</th>\n",
       "      <th>income</th>\n",
       "      <th>monthly premium auto</th>\n",
       "      <th>months since last claim</th>\n",
       "      <th>months since policy inception</th>\n",
       "      <th>number of open complaints</th>\n",
       "      <th>number of policies</th>\n",
       "      <th>total claim amount</th>\n",
       "    </tr>\n",
       "  </thead>\n",
       "  <tbody>\n",
       "    <tr>\n",
       "      <th>count</th>\n",
       "      <td>10910.000000</td>\n",
       "      <td>10910.000000</td>\n",
       "      <td>10910.000000</td>\n",
       "      <td>10910.000000</td>\n",
       "      <td>10910.000000</td>\n",
       "      <td>10910.000000</td>\n",
       "      <td>10910.000000</td>\n",
       "      <td>10910.000000</td>\n",
       "      <td>10910.000000</td>\n",
       "    </tr>\n",
       "    <tr>\n",
       "      <th>mean</th>\n",
       "      <td>5454.500000</td>\n",
       "      <td>8018.241094</td>\n",
       "      <td>37536.284785</td>\n",
       "      <td>93.196059</td>\n",
       "      <td>15.082401</td>\n",
       "      <td>48.091934</td>\n",
       "      <td>0.361962</td>\n",
       "      <td>2.979193</td>\n",
       "      <td>434.888330</td>\n",
       "    </tr>\n",
       "    <tr>\n",
       "      <th>std</th>\n",
       "      <td>3149.590053</td>\n",
       "      <td>6885.081434</td>\n",
       "      <td>30359.195670</td>\n",
       "      <td>34.442532</td>\n",
       "      <td>9.787208</td>\n",
       "      <td>27.940675</td>\n",
       "      <td>0.890134</td>\n",
       "      <td>2.399359</td>\n",
       "      <td>292.180556</td>\n",
       "    </tr>\n",
       "    <tr>\n",
       "      <th>min</th>\n",
       "      <td>0.000000</td>\n",
       "      <td>1898.007675</td>\n",
       "      <td>0.000000</td>\n",
       "      <td>61.000000</td>\n",
       "      <td>0.000000</td>\n",
       "      <td>0.000000</td>\n",
       "      <td>0.000000</td>\n",
       "      <td>1.000000</td>\n",
       "      <td>0.099007</td>\n",
       "    </tr>\n",
       "    <tr>\n",
       "      <th>25%</th>\n",
       "      <td>2727.250000</td>\n",
       "      <td>4014.453113</td>\n",
       "      <td>0.000000</td>\n",
       "      <td>68.000000</td>\n",
       "      <td>7.000000</td>\n",
       "      <td>24.000000</td>\n",
       "      <td>0.000000</td>\n",
       "      <td>1.000000</td>\n",
       "      <td>271.082527</td>\n",
       "    </tr>\n",
       "    <tr>\n",
       "      <th>50%</th>\n",
       "      <td>5454.500000</td>\n",
       "      <td>5771.147235</td>\n",
       "      <td>33813.500000</td>\n",
       "      <td>83.000000</td>\n",
       "      <td>14.000000</td>\n",
       "      <td>48.000000</td>\n",
       "      <td>0.000000</td>\n",
       "      <td>2.000000</td>\n",
       "      <td>382.564630</td>\n",
       "    </tr>\n",
       "    <tr>\n",
       "      <th>75%</th>\n",
       "      <td>8181.750000</td>\n",
       "      <td>8992.779137</td>\n",
       "      <td>62250.750000</td>\n",
       "      <td>109.000000</td>\n",
       "      <td>23.000000</td>\n",
       "      <td>71.000000</td>\n",
       "      <td>0.000000</td>\n",
       "      <td>4.000000</td>\n",
       "      <td>547.200000</td>\n",
       "    </tr>\n",
       "    <tr>\n",
       "      <th>max</th>\n",
       "      <td>10909.000000</td>\n",
       "      <td>83325.381190</td>\n",
       "      <td>99981.000000</td>\n",
       "      <td>298.000000</td>\n",
       "      <td>35.000000</td>\n",
       "      <td>99.000000</td>\n",
       "      <td>5.000000</td>\n",
       "      <td>9.000000</td>\n",
       "      <td>2893.239678</td>\n",
       "    </tr>\n",
       "  </tbody>\n",
       "</table>\n",
       "</div>"
      ],
      "text/plain": [
       "         unnamed: 0  customer lifetime value        income  \\\n",
       "count  10910.000000             10910.000000  10910.000000   \n",
       "mean    5454.500000              8018.241094  37536.284785   \n",
       "std     3149.590053              6885.081434  30359.195670   \n",
       "min        0.000000              1898.007675      0.000000   \n",
       "25%     2727.250000              4014.453113      0.000000   \n",
       "50%     5454.500000              5771.147235  33813.500000   \n",
       "75%     8181.750000              8992.779137  62250.750000   \n",
       "max    10909.000000             83325.381190  99981.000000   \n",
       "\n",
       "       monthly premium auto  months since last claim  \\\n",
       "count          10910.000000             10910.000000   \n",
       "mean              93.196059                15.082401   \n",
       "std               34.442532                 9.787208   \n",
       "min               61.000000                 0.000000   \n",
       "25%               68.000000                 7.000000   \n",
       "50%               83.000000                14.000000   \n",
       "75%              109.000000                23.000000   \n",
       "max              298.000000                35.000000   \n",
       "\n",
       "       months since policy inception  number of open complaints  \\\n",
       "count                   10910.000000               10910.000000   \n",
       "mean                       48.091934                   0.361962   \n",
       "std                        27.940675                   0.890134   \n",
       "min                         0.000000                   0.000000   \n",
       "25%                        24.000000                   0.000000   \n",
       "50%                        48.000000                   0.000000   \n",
       "75%                        71.000000                   0.000000   \n",
       "max                        99.000000                   5.000000   \n",
       "\n",
       "       number of policies  total claim amount  \n",
       "count        10910.000000        10910.000000  \n",
       "mean             2.979193          434.888330  \n",
       "std              2.399359          292.180556  \n",
       "min              1.000000            0.099007  \n",
       "25%              1.000000          271.082527  \n",
       "50%              2.000000          382.564630  \n",
       "75%              4.000000          547.200000  \n",
       "max              9.000000         2893.239678  "
      ]
     },
     "execution_count": 7,
     "metadata": {},
     "output_type": "execute_result"
    }
   ],
   "source": [
    "lab5.describe()"
   ]
  },
  {
   "cell_type": "markdown",
   "id": "209a17b7",
   "metadata": {},
   "source": [
    "## <font color ='red'>02 - Cleaning/Wrangling/EDA"
   ]
  },
  {
   "cell_type": "markdown",
   "id": "5e8346a4",
   "metadata": {},
   "source": [
    "### <font color= 'green'> 2.a.Split categorical Features and Numerical Features."
   ]
  },
  {
   "cell_type": "code",
   "execution_count": 8,
   "id": "bd8f6d01",
   "metadata": {},
   "outputs": [],
   "source": [
    "X=lab5.drop(['customer','unnamed: 0','location code','policy type','vehicle type','vehicle size','effective to date'],axis=1)"
   ]
  },
  {
   "cell_type": "code",
   "execution_count": 9,
   "id": "5398bd40",
   "metadata": {},
   "outputs": [
    {
     "name": "stdout",
     "output_type": "stream",
     "text": [
      "<class 'pandas.core.frame.DataFrame'>\n",
      "RangeIndex: 10910 entries, 0 to 10909\n",
      "Data columns (total 19 columns):\n",
      " #   Column                         Non-Null Count  Dtype  \n",
      "---  ------                         --------------  -----  \n",
      " 0   state                          10910 non-null  object \n",
      " 1   customer lifetime value        10910 non-null  float64\n",
      " 2   response                       10910 non-null  object \n",
      " 3   coverage                       10910 non-null  object \n",
      " 4   education                      10910 non-null  object \n",
      " 5   employmentstatus               10910 non-null  object \n",
      " 6   gender                         10910 non-null  object \n",
      " 7   income                         10910 non-null  int64  \n",
      " 8   marital status                 10910 non-null  object \n",
      " 9   monthly premium auto           10910 non-null  int64  \n",
      " 10  months since last claim        10910 non-null  float64\n",
      " 11  months since policy inception  10910 non-null  int64  \n",
      " 12  number of open complaints      10910 non-null  float64\n",
      " 13  number of policies             10910 non-null  int64  \n",
      " 14  policy                         10910 non-null  object \n",
      " 15  renew offer type               10910 non-null  object \n",
      " 16  sales channel                  10910 non-null  object \n",
      " 17  total claim amount             10910 non-null  float64\n",
      " 18  vehicle class                  10910 non-null  object \n",
      "dtypes: float64(4), int64(4), object(11)\n",
      "memory usage: 1.6+ MB\n"
     ]
    }
   ],
   "source": [
    "X.info()"
   ]
  },
  {
   "cell_type": "code",
   "execution_count": 10,
   "id": "fae93314",
   "metadata": {},
   "outputs": [
    {
     "data": {
      "text/plain": [
       "(10910, 8)"
      ]
     },
     "execution_count": 10,
     "metadata": {},
     "output_type": "execute_result"
    }
   ],
   "source": [
    "X_num=X._get_numeric_data()\n",
    "X_num.shape"
   ]
  },
  {
   "cell_type": "code",
   "execution_count": 11,
   "id": "c0becff9",
   "metadata": {},
   "outputs": [
    {
     "data": {
      "text/plain": [
       "(10910, 11)"
      ]
     },
     "execution_count": 11,
     "metadata": {},
     "output_type": "execute_result"
    }
   ],
   "source": [
    "X_cat=X.select_dtypes('object')\n",
    "X_cat.shape"
   ]
  },
  {
   "cell_type": "markdown",
   "id": "a3145108",
   "metadata": {},
   "source": [
    "### <font color= 'green'> 2.b.Explore visually both sets of features, to identify next steps."
   ]
  },
  {
   "cell_type": "code",
   "execution_count": 12,
   "id": "79de68ac",
   "metadata": {},
   "outputs": [
    {
     "data": {
      "text/plain": [
       "array([[<AxesSubplot:title={'center':'customer lifetime value'}>,\n",
       "        <AxesSubplot:title={'center':'income'}>],\n",
       "       [<AxesSubplot:title={'center':'monthly premium auto'}>,\n",
       "        <AxesSubplot:title={'center':'months since last claim'}>],\n",
       "       [<AxesSubplot:title={'center':'months since policy inception'}>,\n",
       "        <AxesSubplot:title={'center':'number of open complaints'}>],\n",
       "       [<AxesSubplot:title={'center':'number of policies'}>,\n",
       "        <AxesSubplot:title={'center':'total claim amount'}>],\n",
       "       [<AxesSubplot:>, <AxesSubplot:>]], dtype=object)"
      ]
     },
     "execution_count": 12,
     "metadata": {},
     "output_type": "execute_result"
    },
    {
     "data": {
      "image/png": "[encoded data removed]",
      "text/plain": [
       "<Figure size 1080x1080 with 10 Axes>"
      ]
     },
     "metadata": {
      "needs_background": "light"
     },
     "output_type": "display_data"
    }
   ],
   "source": [
    "X_num.hist(figsize=(15,15), bins=50, layout=(5,2))"
   ]
  },
  {
   "cell_type": "code",
   "execution_count": 48,
   "id": "11cf8a2e",
   "metadata": {},
   "outputs": [],
   "source": [
    "#We can see in customer lifetime value and monthly premium auto, it has outliers , which should be remove"
   ]
  },
  {
   "cell_type": "code",
   "execution_count": 49,
   "id": "ef01f625",
   "metadata": {},
   "outputs": [
    {
     "data": {
      "text/html": [
       "<div>\n",
       "<style scoped>\n",
       "    .dataframe tbody tr th:only-of-type {\n",
       "        vertical-align: middle;\n",
       "    }\n",
       "\n",
       "    .dataframe tbody tr th {\n",
       "        vertical-align: top;\n",
       "    }\n",
       "\n",
       "    .dataframe thead th {\n",
       "        text-align: right;\n",
       "    }\n",
       "</style>\n",
       "<table border=\"1\" class=\"dataframe\">\n",
       "  <thead>\n",
       "    <tr style=\"text-align: right;\">\n",
       "      <th></th>\n",
       "      <th>customer lifetime value</th>\n",
       "      <th>income</th>\n",
       "      <th>monthly premium auto</th>\n",
       "      <th>months since last claim</th>\n",
       "      <th>months since policy inception</th>\n",
       "      <th>number of open complaints</th>\n",
       "      <th>number of policies</th>\n",
       "      <th>total claim amount</th>\n",
       "    </tr>\n",
       "  </thead>\n",
       "  <tbody>\n",
       "    <tr>\n",
       "      <th>customer lifetime value</th>\n",
       "      <td>1.000000</td>\n",
       "      <td>0.028306</td>\n",
       "      <td>0.403069</td>\n",
       "      <td>0.015874</td>\n",
       "      <td>0.016960</td>\n",
       "      <td>-0.030616</td>\n",
       "      <td>0.016024</td>\n",
       "      <td>0.232626</td>\n",
       "    </tr>\n",
       "    <tr>\n",
       "      <th>income</th>\n",
       "      <td>0.028306</td>\n",
       "      <td>1.000000</td>\n",
       "      <td>-0.009788</td>\n",
       "      <td>-0.022708</td>\n",
       "      <td>-0.005903</td>\n",
       "      <td>0.008425</td>\n",
       "      <td>-0.009960</td>\n",
       "      <td>-0.354141</td>\n",
       "    </tr>\n",
       "    <tr>\n",
       "      <th>monthly premium auto</th>\n",
       "      <td>0.403069</td>\n",
       "      <td>-0.009788</td>\n",
       "      <td>1.000000</td>\n",
       "      <td>0.008489</td>\n",
       "      <td>0.018953</td>\n",
       "      <td>-0.010059</td>\n",
       "      <td>-0.020505</td>\n",
       "      <td>0.631799</td>\n",
       "    </tr>\n",
       "    <tr>\n",
       "      <th>months since last claim</th>\n",
       "      <td>0.015874</td>\n",
       "      <td>-0.022708</td>\n",
       "      <td>0.008489</td>\n",
       "      <td>1.000000</td>\n",
       "      <td>-0.038157</td>\n",
       "      <td>0.005004</td>\n",
       "      <td>0.006807</td>\n",
       "      <td>0.012340</td>\n",
       "    </tr>\n",
       "    <tr>\n",
       "      <th>months since policy inception</th>\n",
       "      <td>0.016960</td>\n",
       "      <td>-0.005903</td>\n",
       "      <td>0.018953</td>\n",
       "      <td>-0.038157</td>\n",
       "      <td>1.000000</td>\n",
       "      <td>0.004165</td>\n",
       "      <td>-0.009123</td>\n",
       "      <td>0.003095</td>\n",
       "    </tr>\n",
       "    <tr>\n",
       "      <th>number of open complaints</th>\n",
       "      <td>-0.030616</td>\n",
       "      <td>0.008425</td>\n",
       "      <td>-0.010059</td>\n",
       "      <td>0.005004</td>\n",
       "      <td>0.004165</td>\n",
       "      <td>1.000000</td>\n",
       "      <td>0.001681</td>\n",
       "      <td>-0.012380</td>\n",
       "    </tr>\n",
       "    <tr>\n",
       "      <th>number of policies</th>\n",
       "      <td>0.016024</td>\n",
       "      <td>-0.009960</td>\n",
       "      <td>-0.020505</td>\n",
       "      <td>0.006807</td>\n",
       "      <td>-0.009123</td>\n",
       "      <td>0.001681</td>\n",
       "      <td>1.000000</td>\n",
       "      <td>-0.008923</td>\n",
       "    </tr>\n",
       "    <tr>\n",
       "      <th>total claim amount</th>\n",
       "      <td>0.232626</td>\n",
       "      <td>-0.354141</td>\n",
       "      <td>0.631799</td>\n",
       "      <td>0.012340</td>\n",
       "      <td>0.003095</td>\n",
       "      <td>-0.012380</td>\n",
       "      <td>-0.008923</td>\n",
       "      <td>1.000000</td>\n",
       "    </tr>\n",
       "  </tbody>\n",
       "</table>\n",
       "</div>"
      ],
      "text/plain": [
       "                               customer lifetime value    income  \\\n",
       "customer lifetime value                       1.000000  0.028306   \n",
       "income                                        0.028306  1.000000   \n",
       "monthly premium auto                          0.403069 -0.009788   \n",
       "months since last claim                       0.015874 -0.022708   \n",
       "months since policy inception                 0.016960 -0.005903   \n",
       "number of open complaints                    -0.030616  0.008425   \n",
       "number of policies                            0.016024 -0.009960   \n",
       "total claim amount                            0.232626 -0.354141   \n",
       "\n",
       "                               monthly premium auto  months since last claim  \\\n",
       "customer lifetime value                    0.403069                 0.015874   \n",
       "income                                    -0.009788                -0.022708   \n",
       "monthly premium auto                       1.000000                 0.008489   \n",
       "months since last claim                    0.008489                 1.000000   \n",
       "months since policy inception              0.018953                -0.038157   \n",
       "number of open complaints                 -0.010059                 0.005004   \n",
       "number of policies                        -0.020505                 0.006807   \n",
       "total claim amount                         0.631799                 0.012340   \n",
       "\n",
       "                               months since policy inception  \\\n",
       "customer lifetime value                             0.016960   \n",
       "income                                             -0.005903   \n",
       "monthly premium auto                                0.018953   \n",
       "months since last claim                            -0.038157   \n",
       "months since policy inception                       1.000000   \n",
       "number of open complaints                           0.004165   \n",
       "number of policies                                 -0.009123   \n",
       "total claim amount                                  0.003095   \n",
       "\n",
       "                               number of open complaints  number of policies  \\\n",
       "customer lifetime value                        -0.030616            0.016024   \n",
       "income                                          0.008425           -0.009960   \n",
       "monthly premium auto                           -0.010059           -0.020505   \n",
       "months since last claim                         0.005004            0.006807   \n",
       "months since policy inception                   0.004165           -0.009123   \n",
       "number of open complaints                       1.000000            0.001681   \n",
       "number of policies                              0.001681            1.000000   \n",
       "total claim amount                             -0.012380           -0.008923   \n",
       "\n",
       "                               total claim amount  \n",
       "customer lifetime value                  0.232626  \n",
       "income                                  -0.354141  \n",
       "monthly premium auto                     0.631799  \n",
       "months since last claim                  0.012340  \n",
       "months since policy inception            0.003095  \n",
       "number of open complaints               -0.012380  \n",
       "number of policies                      -0.008923  \n",
       "total claim amount                       1.000000  "
      ]
     },
     "execution_count": 49,
     "metadata": {},
     "output_type": "execute_result"
    }
   ],
   "source": [
    "corre_matrix=X.corr() #only for numerical filed\n",
    "corre_matrix"
   ]
  },
  {
   "cell_type": "code",
   "execution_count": 50,
   "id": "b89ca3ee",
   "metadata": {},
   "outputs": [
    {
     "data": {
      "image/png": "[encoded data removed]",
      "text/plain": [
       "<Figure size 720x360 with 2 Axes>"
      ]
     },
     "metadata": {
      "needs_background": "light"
     },
     "output_type": "display_data"
    }
   ],
   "source": [
    "plt.figure(figsize=(10,5))\n",
    "sns.heatmap(corre_matrix, annot=True);"
   ]
  },
  {
   "cell_type": "markdown",
   "id": "dd31149d",
   "metadata": {},
   "source": [
    "### <font color= 'green'>2.c. Delete outliers in customer lifetime value and montly premium auto"
   ]
  },
  {
   "cell_type": "code",
   "execution_count": 51,
   "id": "cad999d9",
   "metadata": {},
   "outputs": [
    {
     "data": {
      "text/plain": [
       "4978.326024"
      ]
     },
     "execution_count": 51,
     "metadata": {},
     "output_type": "execute_result"
    }
   ],
   "source": [
    "iqr=np.percentile(X['customer lifetime value'],75)-np.percentile(X['customer lifetime value'],25)\n",
    "iqr"
   ]
  },
  {
   "cell_type": "code",
   "execution_count": 52,
   "id": "caf8a056",
   "metadata": {},
   "outputs": [
    {
     "name": "stdout",
     "output_type": "stream",
     "text": [
      "16460.268173 -3453.035923\n"
     ]
    }
   ],
   "source": [
    "upper_limit=np.percentile(X['customer lifetime value'],75)+1.5*iqr\n",
    "lower_limit=np.percentile(X['customer lifetime value'],25)-1.5*iqr\n",
    "print (upper_limit, lower_limit)"
   ]
  },
  {
   "cell_type": "code",
   "execution_count": 53,
   "id": "24256a27",
   "metadata": {},
   "outputs": [],
   "source": [
    "data_exc_out=X[(X['customer lifetime value']>lower_limit)&(X['customer lifetime value']<upper_limit)]"
   ]
  },
  {
   "cell_type": "code",
   "execution_count": 54,
   "id": "00675e37",
   "metadata": {},
   "outputs": [
    {
     "data": {
      "text/plain": [
       "<AxesSubplot:>"
      ]
     },
     "execution_count": 54,
     "metadata": {},
     "output_type": "execute_result"
    },
    {
     "data": {
      "image/png": "[encoded data removed]",
      "text/plain": [
       "<Figure size 432x288 with 1 Axes>"
      ]
     },
     "metadata": {
      "needs_background": "light"
     },
     "output_type": "display_data"
    }
   ],
   "source": [
    "data_exc_out['customer lifetime value'].hist()"
   ]
  },
  {
   "cell_type": "code",
   "execution_count": 55,
   "id": "d40143db",
   "metadata": {},
   "outputs": [],
   "source": [
    "data_exc_out.reset_index(drop=True, inplace=True)\n"
   ]
  },
  {
   "cell_type": "code",
   "execution_count": 56,
   "id": "3b76a16b",
   "metadata": {},
   "outputs": [
    {
     "name": "stdout",
     "output_type": "stream",
     "text": [
      "<class 'pandas.core.frame.DataFrame'>\n",
      "RangeIndex: 9926 entries, 0 to 9925\n",
      "Data columns (total 19 columns):\n",
      " #   Column                         Non-Null Count  Dtype  \n",
      "---  ------                         --------------  -----  \n",
      " 0   state                          9926 non-null   object \n",
      " 1   customer lifetime value        9926 non-null   float64\n",
      " 2   response                       9926 non-null   object \n",
      " 3   coverage                       9926 non-null   object \n",
      " 4   education                      9926 non-null   object \n",
      " 5   employmentstatus               9926 non-null   object \n",
      " 6   gender                         9926 non-null   object \n",
      " 7   income                         9926 non-null   int64  \n",
      " 8   marital status                 9926 non-null   object \n",
      " 9   monthly premium auto           9926 non-null   int64  \n",
      " 10  months since last claim        9926 non-null   float64\n",
      " 11  months since policy inception  9926 non-null   int64  \n",
      " 12  number of open complaints      9926 non-null   float64\n",
      " 13  number of policies             9926 non-null   int64  \n",
      " 14  policy                         9926 non-null   object \n",
      " 15  renew offer type               9926 non-null   object \n",
      " 16  sales channel                  9926 non-null   object \n",
      " 17  total claim amount             9926 non-null   float64\n",
      " 18  vehicle class                  9926 non-null   object \n",
      "dtypes: float64(4), int64(4), object(11)\n",
      "memory usage: 1.4+ MB\n"
     ]
    }
   ],
   "source": [
    "data_exc_out.info()"
   ]
  },
  {
   "cell_type": "code",
   "execution_count": 57,
   "id": "4f6a9c73",
   "metadata": {},
   "outputs": [
    {
     "name": "stderr",
     "output_type": "stream",
     "text": [
      "<ipython-input-57-4273e18bd32a>:7: SettingWithCopyWarning: \n",
      "A value is trying to be set on a copy of a slice from a DataFrame.\n",
      "Try using .loc[row_indexer,col_indexer] = value instead\n",
      "\n",
      "See the caveats in the documentation: https://pandas.pydata.org/pandas-docs/stable/user_guide/indexing.html#returning-a-view-versus-a-copy\n",
      "  data_exc_out['monthly premium auto']=list(map(log_transform_clean,data_exc_out['monthly premium auto']))\n"
     ]
    }
   ],
   "source": [
    "def log_transform_clean(x):\n",
    "    x=np.log(x)\n",
    "    if np.isfinite(x):\n",
    "        return x\n",
    "    else:\n",
    "        return 0\n",
    "data_exc_out['monthly premium auto']=list(map(log_transform_clean,data_exc_out['monthly premium auto']))"
   ]
  },
  {
   "cell_type": "code",
   "execution_count": 58,
   "id": "d4cce56a",
   "metadata": {},
   "outputs": [
    {
     "data": {
      "text/plain": [
       "<AxesSubplot:>"
      ]
     },
     "execution_count": 58,
     "metadata": {},
     "output_type": "execute_result"
    },
    {
     "data": {
      "image/png": "[encoded data removed]",
      "text/plain": [
       "<Figure size 432x288 with 1 Axes>"
      ]
     },
     "metadata": {
      "needs_background": "light"
     },
     "output_type": "display_data"
    }
   ],
   "source": [
    "data_exc_out['monthly premium auto'].hist()"
   ]
  },
  {
   "cell_type": "code",
   "execution_count": 59,
   "id": "d6bdfa0c",
   "metadata": {},
   "outputs": [
    {
     "data": {
      "text/plain": [
       "(9926, 8)"
      ]
     },
     "execution_count": 59,
     "metadata": {},
     "output_type": "execute_result"
    }
   ],
   "source": [
    "#check the info of 2files\n",
    "bun_num=data_exc_out._get_numeric_data()\n",
    "bun_num.shape"
   ]
  },
  {
   "cell_type": "code",
   "execution_count": 60,
   "id": "022e3f34",
   "metadata": {},
   "outputs": [
    {
     "data": {
      "text/plain": [
       "(9926, 11)"
      ]
     },
     "execution_count": 60,
     "metadata": {},
     "output_type": "execute_result"
    }
   ],
   "source": [
    "bun_cat=data_exc_out.select_dtypes('object')\n",
    "bun_cat.shape"
   ]
  },
  {
   "cell_type": "markdown",
   "id": "46e7775f",
   "metadata": {},
   "source": [
    "## <font color ='red'>3.Processing the data\n",
    "### <font color ='green'> 3.a. Implement standard scaler on numerical columns to reduce the range of value in each variable, make it more consistent"
   ]
  },
  {
   "cell_type": "code",
   "execution_count": 61,
   "id": "9da71a73",
   "metadata": {},
   "outputs": [],
   "source": [
    "from sklearn.preprocessing import StandardScaler   #standard scaler on numerical columns\n",
    "scaler = StandardScaler()\n",
    "scaled=scaler.fit(bun_num)\n",
    "scaled_bun_num=scaled.transform(bun_num)"
   ]
  },
  {
   "cell_type": "code",
   "execution_count": 62,
   "id": "a9835f48",
   "metadata": {},
   "outputs": [
    {
     "data": {
      "text/plain": [
       "array([[-0.45339067,  0.34618135, -1.21364749, ..., -0.40759683,\n",
       "         2.39484121, -0.47271997],\n",
       "       [-1.24896941, -1.23324988, -1.04838747, ..., -0.40759683,\n",
       "        -0.82793453,  1.16461903],\n",
       "       [ 2.67218002, -0.50520999,  0.48784691, ..., -0.40759683,\n",
       "        -0.42508756,  0.20521272],\n",
       "       ...,\n",
       "       [-0.31459388,  0.77753323, -0.9950181 , ..., -0.40759683,\n",
       "         1.18630031, -0.54435583],\n",
       "       [ 1.75475378,  0.87779944,  2.06242025, ...,  4.00560867,\n",
       "         1.18630031,  0.70601683],\n",
       "       [ 0.17806262, -1.23324988,  0.52209849, ..., -0.40759683,\n",
       "        -0.02224059,  2.16701445]])"
      ]
     },
     "execution_count": 62,
     "metadata": {},
     "output_type": "execute_result"
    }
   ],
   "source": [
    "scaled_bun_num"
   ]
  },
  {
   "cell_type": "code",
   "execution_count": 63,
   "id": "6491fee1",
   "metadata": {},
   "outputs": [],
   "source": [
    "scaled_X_bun_df = pd.DataFrame(scaled_bun_num, index=bun_num.index, columns=bun_num.columns)"
   ]
  },
  {
   "cell_type": "code",
   "execution_count": 64,
   "id": "a3cecaf6",
   "metadata": {},
   "outputs": [
    {
     "data": {
      "text/plain": [
       "array([[<AxesSubplot:title={'center':'customer lifetime value'}>,\n",
       "        <AxesSubplot:title={'center':'income'}>],\n",
       "       [<AxesSubplot:title={'center':'monthly premium auto'}>,\n",
       "        <AxesSubplot:title={'center':'months since last claim'}>],\n",
       "       [<AxesSubplot:title={'center':'months since policy inception'}>,\n",
       "        <AxesSubplot:title={'center':'number of open complaints'}>],\n",
       "       [<AxesSubplot:title={'center':'number of policies'}>,\n",
       "        <AxesSubplot:title={'center':'total claim amount'}>],\n",
       "       [<AxesSubplot:>, <AxesSubplot:>]], dtype=object)"
      ]
     },
     "execution_count": 64,
     "metadata": {},
     "output_type": "execute_result"
    },
    {
     "data": {
      "image/png": "[encoded data removed]",
      "text/plain": [
       "<Figure size 1080x1080 with 10 Axes>"
      ]
     },
     "metadata": {
      "needs_background": "light"
     },
     "output_type": "display_data"
    }
   ],
   "source": [
    "scaled_X_bun_df.hist(figsize=(15,15), bins=50, layout=(5,2)) \n",
    "#visualise the numerical filed after droping outliers and standard scaler function."
   ]
  },
  {
   "cell_type": "markdown",
   "id": "f3552f98",
   "metadata": {},
   "source": [
    "### <font color ='green'> 3.a. Encode the categorical filed before concat and run the predictting model"
   ]
  },
  {
   "cell_type": "code",
   "execution_count": 65,
   "id": "2c0b743f",
   "metadata": {},
   "outputs": [
    {
     "data": {
      "text/html": [
       "<div>\n",
       "<style scoped>\n",
       "    .dataframe tbody tr th:only-of-type {\n",
       "        vertical-align: middle;\n",
       "    }\n",
       "\n",
       "    .dataframe tbody tr th {\n",
       "        vertical-align: top;\n",
       "    }\n",
       "\n",
       "    .dataframe thead th {\n",
       "        text-align: right;\n",
       "    }\n",
       "</style>\n",
       "<table border=\"1\" class=\"dataframe\">\n",
       "  <thead>\n",
       "    <tr style=\"text-align: right;\">\n",
       "      <th></th>\n",
       "      <th>state</th>\n",
       "      <th>customer lifetime value</th>\n",
       "      <th>response</th>\n",
       "      <th>coverage</th>\n",
       "      <th>education</th>\n",
       "      <th>employmentstatus</th>\n",
       "      <th>gender</th>\n",
       "      <th>income</th>\n",
       "      <th>marital status</th>\n",
       "      <th>monthly premium auto</th>\n",
       "      <th>months since last claim</th>\n",
       "      <th>months since policy inception</th>\n",
       "      <th>number of open complaints</th>\n",
       "      <th>number of policies</th>\n",
       "      <th>policy</th>\n",
       "      <th>renew offer type</th>\n",
       "      <th>sales channel</th>\n",
       "      <th>vehicle class</th>\n",
       "    </tr>\n",
       "  </thead>\n",
       "  <tbody>\n",
       "    <tr>\n",
       "      <th>0</th>\n",
       "      <td>Arizona</td>\n",
       "      <td>4809.216960</td>\n",
       "      <td>No</td>\n",
       "      <td>Basic</td>\n",
       "      <td>College</td>\n",
       "      <td>Employed</td>\n",
       "      <td>M</td>\n",
       "      <td>48029</td>\n",
       "      <td>Married</td>\n",
       "      <td>4.110874</td>\n",
       "      <td>7.0</td>\n",
       "      <td>52</td>\n",
       "      <td>0.0</td>\n",
       "      <td>9</td>\n",
       "      <td>Corporate L3</td>\n",
       "      <td>Offer3</td>\n",
       "      <td>Agent</td>\n",
       "      <td>Four-Door Car</td>\n",
       "    </tr>\n",
       "    <tr>\n",
       "      <th>1</th>\n",
       "      <td>California</td>\n",
       "      <td>2228.525238</td>\n",
       "      <td>No</td>\n",
       "      <td>Basic</td>\n",
       "      <td>College</td>\n",
       "      <td>Unemployed</td>\n",
       "      <td>F</td>\n",
       "      <td>0</td>\n",
       "      <td>Single</td>\n",
       "      <td>4.158883</td>\n",
       "      <td>3.0</td>\n",
       "      <td>26</td>\n",
       "      <td>0.0</td>\n",
       "      <td>1</td>\n",
       "      <td>Personal L3</td>\n",
       "      <td>Offer4</td>\n",
       "      <td>Call Center</td>\n",
       "      <td>Four-Door Car</td>\n",
       "    </tr>\n",
       "    <tr>\n",
       "      <th>2</th>\n",
       "      <td>Washington</td>\n",
       "      <td>14947.917300</td>\n",
       "      <td>No</td>\n",
       "      <td>Basic</td>\n",
       "      <td>Bachelor</td>\n",
       "      <td>Employed</td>\n",
       "      <td>M</td>\n",
       "      <td>22139</td>\n",
       "      <td>Single</td>\n",
       "      <td>4.605170</td>\n",
       "      <td>34.0</td>\n",
       "      <td>31</td>\n",
       "      <td>0.0</td>\n",
       "      <td>2</td>\n",
       "      <td>Personal L3</td>\n",
       "      <td>Offer3</td>\n",
       "      <td>Call Center</td>\n",
       "      <td>SUV</td>\n",
       "    </tr>\n",
       "    <tr>\n",
       "      <th>3</th>\n",
       "      <td>Oregon</td>\n",
       "      <td>9025.067525</td>\n",
       "      <td>No</td>\n",
       "      <td>Premium</td>\n",
       "      <td>Bachelor</td>\n",
       "      <td>Medical Leave</td>\n",
       "      <td>F</td>\n",
       "      <td>23675</td>\n",
       "      <td>Married</td>\n",
       "      <td>4.762174</td>\n",
       "      <td>14.0</td>\n",
       "      <td>31</td>\n",
       "      <td>0.0</td>\n",
       "      <td>7</td>\n",
       "      <td>Personal L2</td>\n",
       "      <td>Offer1</td>\n",
       "      <td>Branch</td>\n",
       "      <td>Four-Door Car</td>\n",
       "    </tr>\n",
       "    <tr>\n",
       "      <th>4</th>\n",
       "      <td>Unknown</td>\n",
       "      <td>4745.181764</td>\n",
       "      <td>Unknown</td>\n",
       "      <td>Basic</td>\n",
       "      <td>High School or Below</td>\n",
       "      <td>Employed</td>\n",
       "      <td>M</td>\n",
       "      <td>50549</td>\n",
       "      <td>Divorced</td>\n",
       "      <td>4.110874</td>\n",
       "      <td>2.0</td>\n",
       "      <td>73</td>\n",
       "      <td>0.0</td>\n",
       "      <td>7</td>\n",
       "      <td>Personal L3</td>\n",
       "      <td>Offer1</td>\n",
       "      <td>Agent</td>\n",
       "      <td>Four-Door Car</td>\n",
       "    </tr>\n",
       "    <tr>\n",
       "      <th>...</th>\n",
       "      <td>...</td>\n",
       "      <td>...</td>\n",
       "      <td>...</td>\n",
       "      <td>...</td>\n",
       "      <td>...</td>\n",
       "      <td>...</td>\n",
       "      <td>...</td>\n",
       "      <td>...</td>\n",
       "      <td>...</td>\n",
       "      <td>...</td>\n",
       "      <td>...</td>\n",
       "      <td>...</td>\n",
       "      <td>...</td>\n",
       "      <td>...</td>\n",
       "      <td>...</td>\n",
       "      <td>...</td>\n",
       "      <td>...</td>\n",
       "      <td>...</td>\n",
       "    </tr>\n",
       "    <tr>\n",
       "      <th>9921</th>\n",
       "      <td>Arizona</td>\n",
       "      <td>2771.663013</td>\n",
       "      <td>No</td>\n",
       "      <td>Basic</td>\n",
       "      <td>College</td>\n",
       "      <td>Employed</td>\n",
       "      <td>M</td>\n",
       "      <td>59855</td>\n",
       "      <td>Married</td>\n",
       "      <td>4.304065</td>\n",
       "      <td>30.0</td>\n",
       "      <td>82</td>\n",
       "      <td>4.0</td>\n",
       "      <td>1</td>\n",
       "      <td>Personal L2</td>\n",
       "      <td>Offer2</td>\n",
       "      <td>Branch</td>\n",
       "      <td>Two-Door Car</td>\n",
       "    </tr>\n",
       "    <tr>\n",
       "      <th>9922</th>\n",
       "      <td>Nevada</td>\n",
       "      <td>15563.369440</td>\n",
       "      <td>No</td>\n",
       "      <td>Premium</td>\n",
       "      <td>Bachelor</td>\n",
       "      <td>Unemployed</td>\n",
       "      <td>F</td>\n",
       "      <td>0</td>\n",
       "      <td>Married</td>\n",
       "      <td>5.533389</td>\n",
       "      <td>14.0</td>\n",
       "      <td>40</td>\n",
       "      <td>0.0</td>\n",
       "      <td>7</td>\n",
       "      <td>Personal L1</td>\n",
       "      <td>Offer3</td>\n",
       "      <td>Web</td>\n",
       "      <td>Luxury Car</td>\n",
       "    </tr>\n",
       "    <tr>\n",
       "      <th>9923</th>\n",
       "      <td>Oregon</td>\n",
       "      <td>5259.444853</td>\n",
       "      <td>No</td>\n",
       "      <td>Basic</td>\n",
       "      <td>College</td>\n",
       "      <td>Employed</td>\n",
       "      <td>F</td>\n",
       "      <td>61146</td>\n",
       "      <td>Married</td>\n",
       "      <td>4.174387</td>\n",
       "      <td>7.0</td>\n",
       "      <td>68</td>\n",
       "      <td>0.0</td>\n",
       "      <td>6</td>\n",
       "      <td>Personal L3</td>\n",
       "      <td>Offer2</td>\n",
       "      <td>Branch</td>\n",
       "      <td>Four-Door Car</td>\n",
       "    </tr>\n",
       "    <tr>\n",
       "      <th>9924</th>\n",
       "      <td>California</td>\n",
       "      <td>11971.977650</td>\n",
       "      <td>No</td>\n",
       "      <td>Premium</td>\n",
       "      <td>College</td>\n",
       "      <td>Employed</td>\n",
       "      <td>F</td>\n",
       "      <td>64195</td>\n",
       "      <td>Divorced</td>\n",
       "      <td>5.062595</td>\n",
       "      <td>0.0</td>\n",
       "      <td>27</td>\n",
       "      <td>4.0</td>\n",
       "      <td>6</td>\n",
       "      <td>Personal L1</td>\n",
       "      <td>Offer1</td>\n",
       "      <td>Branch</td>\n",
       "      <td>SUV</td>\n",
       "    </tr>\n",
       "    <tr>\n",
       "      <th>9925</th>\n",
       "      <td>Unknown</td>\n",
       "      <td>6857.519928</td>\n",
       "      <td>Unknown</td>\n",
       "      <td>Basic</td>\n",
       "      <td>Bachelor</td>\n",
       "      <td>Unemployed</td>\n",
       "      <td>M</td>\n",
       "      <td>0</td>\n",
       "      <td>Single</td>\n",
       "      <td>4.615121</td>\n",
       "      <td>31.0</td>\n",
       "      <td>1</td>\n",
       "      <td>0.0</td>\n",
       "      <td>3</td>\n",
       "      <td>Personal L1</td>\n",
       "      <td>Offer4</td>\n",
       "      <td>Web</td>\n",
       "      <td>SUV</td>\n",
       "    </tr>\n",
       "  </tbody>\n",
       "</table>\n",
       "<p>9926 rows × 18 columns</p>\n",
       "</div>"
      ],
      "text/plain": [
       "           state  customer lifetime value response coverage  \\\n",
       "0        Arizona              4809.216960       No    Basic   \n",
       "1     California              2228.525238       No    Basic   \n",
       "2     Washington             14947.917300       No    Basic   \n",
       "3         Oregon              9025.067525       No  Premium   \n",
       "4        Unknown              4745.181764  Unknown    Basic   \n",
       "...          ...                      ...      ...      ...   \n",
       "9921     Arizona              2771.663013       No    Basic   \n",
       "9922      Nevada             15563.369440       No  Premium   \n",
       "9923      Oregon              5259.444853       No    Basic   \n",
       "9924  California             11971.977650       No  Premium   \n",
       "9925     Unknown              6857.519928  Unknown    Basic   \n",
       "\n",
       "                 education employmentstatus gender  income marital status  \\\n",
       "0                  College         Employed      M   48029        Married   \n",
       "1                  College       Unemployed      F       0         Single   \n",
       "2                 Bachelor         Employed      M   22139         Single   \n",
       "3                 Bachelor    Medical Leave      F   23675        Married   \n",
       "4     High School or Below         Employed      M   50549       Divorced   \n",
       "...                    ...              ...    ...     ...            ...   \n",
       "9921               College         Employed      M   59855        Married   \n",
       "9922              Bachelor       Unemployed      F       0        Married   \n",
       "9923               College         Employed      F   61146        Married   \n",
       "9924               College         Employed      F   64195       Divorced   \n",
       "9925              Bachelor       Unemployed      M       0         Single   \n",
       "\n",
       "      monthly premium auto  months since last claim  \\\n",
       "0                 4.110874                      7.0   \n",
       "1                 4.158883                      3.0   \n",
       "2                 4.605170                     34.0   \n",
       "3                 4.762174                     14.0   \n",
       "4                 4.110874                      2.0   \n",
       "...                    ...                      ...   \n",
       "9921              4.304065                     30.0   \n",
       "9922              5.533389                     14.0   \n",
       "9923              4.174387                      7.0   \n",
       "9924              5.062595                      0.0   \n",
       "9925              4.615121                     31.0   \n",
       "\n",
       "      months since policy inception  number of open complaints  \\\n",
       "0                                52                        0.0   \n",
       "1                                26                        0.0   \n",
       "2                                31                        0.0   \n",
       "3                                31                        0.0   \n",
       "4                                73                        0.0   \n",
       "...                             ...                        ...   \n",
       "9921                             82                        4.0   \n",
       "9922                             40                        0.0   \n",
       "9923                             68                        0.0   \n",
       "9924                             27                        4.0   \n",
       "9925                              1                        0.0   \n",
       "\n",
       "      number of policies        policy renew offer type sales channel  \\\n",
       "0                      9  Corporate L3           Offer3         Agent   \n",
       "1                      1   Personal L3           Offer4   Call Center   \n",
       "2                      2   Personal L3           Offer3   Call Center   \n",
       "3                      7   Personal L2           Offer1        Branch   \n",
       "4                      7   Personal L3           Offer1         Agent   \n",
       "...                  ...           ...              ...           ...   \n",
       "9921                   1   Personal L2           Offer2        Branch   \n",
       "9922                   7   Personal L1           Offer3           Web   \n",
       "9923                   6   Personal L3           Offer2        Branch   \n",
       "9924                   6   Personal L1           Offer1        Branch   \n",
       "9925                   3   Personal L1           Offer4           Web   \n",
       "\n",
       "      vehicle class  \n",
       "0     Four-Door Car  \n",
       "1     Four-Door Car  \n",
       "2               SUV  \n",
       "3     Four-Door Car  \n",
       "4     Four-Door Car  \n",
       "...             ...  \n",
       "9921   Two-Door Car  \n",
       "9922     Luxury Car  \n",
       "9923  Four-Door Car  \n",
       "9924            SUV  \n",
       "9925            SUV  \n",
       "\n",
       "[9926 rows x 18 columns]"
      ]
     },
     "execution_count": 65,
     "metadata": {},
     "output_type": "execute_result"
    }
   ],
   "source": [
    "data_exc_out.drop(['total claim amount'],axis=1)\n"
   ]
  },
  {
   "cell_type": "code",
   "execution_count": 66,
   "id": "4193a9d7",
   "metadata": {},
   "outputs": [],
   "source": [
    "X_dummies=pd.get_dummies(bun_cat, drop_first=True)"
   ]
  },
  {
   "cell_type": "code",
   "execution_count": 67,
   "id": "bab3b37b",
   "metadata": {},
   "outputs": [
    {
     "data": {
      "text/plain": [
       "(9926, 40)"
      ]
     },
     "execution_count": 67,
     "metadata": {},
     "output_type": "execute_result"
    }
   ],
   "source": [
    "X_dummies.shape"
   ]
  },
  {
   "cell_type": "markdown",
   "id": "a0c1cc31",
   "metadata": {},
   "source": [
    "### <font color ='green'> 3.b. Concat 2 data frames"
   ]
  },
  {
   "cell_type": "code",
   "execution_count": 68,
   "id": "ee234304",
   "metadata": {},
   "outputs": [],
   "source": [
    "lab5_final=pd.concat((bun_num,X_dummies),axis=1)"
   ]
  },
  {
   "cell_type": "code",
   "execution_count": 69,
   "id": "02a9d496",
   "metadata": {},
   "outputs": [
    {
     "data": {
      "text/plain": [
       "(9926, 48)"
      ]
     },
     "execution_count": 69,
     "metadata": {},
     "output_type": "execute_result"
    }
   ],
   "source": [
    "lab5_final.shape"
   ]
  },
  {
   "cell_type": "code",
   "execution_count": 70,
   "id": "90986f9c",
   "metadata": {},
   "outputs": [],
   "source": [
    "y=lab5_final['total claim amount']\n"
   ]
  },
  {
   "cell_type": "code",
   "execution_count": 71,
   "id": "ed592d41",
   "metadata": {},
   "outputs": [],
   "source": [
    "B=lab5_final.drop(['total claim amount'],axis=1)\n"
   ]
  },
  {
   "cell_type": "code",
   "execution_count": 72,
   "id": "3ae5ebd5",
   "metadata": {},
   "outputs": [
    {
     "name": "stdout",
     "output_type": "stream",
     "text": [
      "<class 'pandas.core.frame.DataFrame'>\n",
      "RangeIndex: 9926 entries, 0 to 9925\n",
      "Data columns (total 47 columns):\n",
      " #   Column                          Non-Null Count  Dtype  \n",
      "---  ------                          --------------  -----  \n",
      " 0   customer lifetime value         9926 non-null   float64\n",
      " 1   income                          9926 non-null   int64  \n",
      " 2   monthly premium auto            9926 non-null   float64\n",
      " 3   months since last claim         9926 non-null   float64\n",
      " 4   months since policy inception   9926 non-null   int64  \n",
      " 5   number of open complaints       9926 non-null   float64\n",
      " 6   number of policies              9926 non-null   int64  \n",
      " 7   state_California                9926 non-null   uint8  \n",
      " 8   state_Nevada                    9926 non-null   uint8  \n",
      " 9   state_Oregon                    9926 non-null   uint8  \n",
      " 10  state_Unknown                   9926 non-null   uint8  \n",
      " 11  state_Washington                9926 non-null   uint8  \n",
      " 12  response_Unknown                9926 non-null   uint8  \n",
      " 13  response_Yes                    9926 non-null   uint8  \n",
      " 14  coverage_Extended               9926 non-null   uint8  \n",
      " 15  coverage_Premium                9926 non-null   uint8  \n",
      " 16  education_College               9926 non-null   uint8  \n",
      " 17  education_Doctor                9926 non-null   uint8  \n",
      " 18  education_High School or Below  9926 non-null   uint8  \n",
      " 19  education_Master                9926 non-null   uint8  \n",
      " 20  employmentstatus_Employed       9926 non-null   uint8  \n",
      " 21  employmentstatus_Medical Leave  9926 non-null   uint8  \n",
      " 22  employmentstatus_Retired        9926 non-null   uint8  \n",
      " 23  employmentstatus_Unemployed     9926 non-null   uint8  \n",
      " 24  gender_M                        9926 non-null   uint8  \n",
      " 25  marital status_Married          9926 non-null   uint8  \n",
      " 26  marital status_Single           9926 non-null   uint8  \n",
      " 27  policy_Corporate L2             9926 non-null   uint8  \n",
      " 28  policy_Corporate L3             9926 non-null   uint8  \n",
      " 29  policy_Personal L1              9926 non-null   uint8  \n",
      " 30  policy_Personal L2              9926 non-null   uint8  \n",
      " 31  policy_Personal L3              9926 non-null   uint8  \n",
      " 32  policy_Special L1               9926 non-null   uint8  \n",
      " 33  policy_Special L2               9926 non-null   uint8  \n",
      " 34  policy_Special L3               9926 non-null   uint8  \n",
      " 35  renew offer type_Offer2         9926 non-null   uint8  \n",
      " 36  renew offer type_Offer3         9926 non-null   uint8  \n",
      " 37  renew offer type_Offer4         9926 non-null   uint8  \n",
      " 38  sales channel_Branch            9926 non-null   uint8  \n",
      " 39  sales channel_Call Center       9926 non-null   uint8  \n",
      " 40  sales channel_Web               9926 non-null   uint8  \n",
      " 41  vehicle class_Luxury Car        9926 non-null   uint8  \n",
      " 42  vehicle class_Luxury SUV        9926 non-null   uint8  \n",
      " 43  vehicle class_SUV               9926 non-null   uint8  \n",
      " 44  vehicle class_Sports Car        9926 non-null   uint8  \n",
      " 45  vehicle class_Two-Door Car      9926 non-null   uint8  \n",
      " 46  vehicle class_Unknown           9926 non-null   uint8  \n",
      "dtypes: float64(4), int64(3), uint8(40)\n",
      "memory usage: 930.7 KB\n"
     ]
    }
   ],
   "source": [
    "B.info()"
   ]
  },
  {
   "cell_type": "markdown",
   "id": "492c3977",
   "metadata": {},
   "source": [
    "\n",
    "### <font color ='green'> 3.c. Define X and y, the y value you are seeking to predict is claim amount.\n",
    "### <font color ='green'> Splitting into train set and test dataset using random state, eg 80%:20% ."
   ]
  },
  {
   "cell_type": "code",
   "execution_count": 73,
   "id": "246c0379",
   "metadata": {},
   "outputs": [],
   "source": [
    "\n",
    "X_train,X_test,y_train,y_test=train_test_split(B,y,test_size=0.2, random_state=80)"
   ]
  },
  {
   "cell_type": "markdown",
   "id": "e0ad88b3",
   "metadata": {},
   "source": [
    "## <font color ='red'>4. Modeling\n",
    "### <font color ='green'> 4.a. Apply linear regression model from sklearn.linear_model.\n",
    "\n",
    "### Fit over your train data and predict against X test."
   ]
  },
  {
   "cell_type": "code",
   "execution_count": 74,
   "id": "75bed616",
   "metadata": {},
   "outputs": [],
   "source": [
    "lm=linear_model.LinearRegression() #configure model \n",
    "model=lm.fit(X_train,y_train)"
   ]
  },
  {
   "cell_type": "code",
   "execution_count": 75,
   "id": "169dee0e",
   "metadata": {},
   "outputs": [],
   "source": [
    "preds=lm.predict(X_test)"
   ]
  },
  {
   "cell_type": "code",
   "execution_count": 76,
   "id": "b7ed8598",
   "metadata": {},
   "outputs": [
    {
     "data": {
      "text/plain": [
       "array([718.08948301, 496.75551842, 160.10556966, ...,  91.54697897,\n",
       "       240.58271966, 412.13244594])"
      ]
     },
     "execution_count": 76,
     "metadata": {},
     "output_type": "execute_result"
    }
   ],
   "source": [
    "preds"
   ]
  },
  {
   "cell_type": "markdown",
   "id": "8ebc7e3b",
   "metadata": {},
   "source": [
    "## <font color ='red'>06 - Model Validation\n",
    "#You should gather appropriate metrics to evaluate model accuracy over y_test- such as : R2. MSE. RMSE. MAE."
   ]
  },
  {
   "cell_type": "code",
   "execution_count": 77,
   "id": "33ccdeaf",
   "metadata": {},
   "outputs": [
    {
     "data": {
      "text/plain": [
       "0.514652421335888"
      ]
     },
     "execution_count": 77,
     "metadata": {},
     "output_type": "execute_result"
    }
   ],
   "source": [
    "r2_score(y_test,preds)"
   ]
  },
  {
   "cell_type": "code",
   "execution_count": 42,
   "id": "90bc918d",
   "metadata": {},
   "outputs": [],
   "source": [
    "from sklearn.metrics import mean_squared_error, mean_absolute_error\n",
    "y_true = y_test\n",
    "y_pred = preds\n",
    "mse = mean_squared_error(y_true, y_pred)\n",
    "rmse = np.sqrt(mse)\n",
    "mae = mean_absolute_error(y_true, y_pred)"
   ]
  },
  {
   "cell_type": "code",
   "execution_count": 43,
   "id": "b32f88de",
   "metadata": {},
   "outputs": [
    {
     "data": {
      "text/plain": [
       "34661.30797041163"
      ]
     },
     "execution_count": 43,
     "metadata": {},
     "output_type": "execute_result"
    }
   ],
   "source": [
    "mse"
   ]
  },
  {
   "cell_type": "code",
   "execution_count": 44,
   "id": "c278c90d",
   "metadata": {},
   "outputs": [
    {
     "data": {
      "text/plain": [
       "186.1754762862489"
      ]
     },
     "execution_count": 44,
     "metadata": {},
     "output_type": "execute_result"
    }
   ],
   "source": [
    "rmse"
   ]
  },
  {
   "cell_type": "code",
   "execution_count": 45,
   "id": "049ab685",
   "metadata": {},
   "outputs": [
    {
     "data": {
      "text/plain": [
       "136.1024768472751"
      ]
     },
     "execution_count": 45,
     "metadata": {},
     "output_type": "execute_result"
    }
   ],
   "source": [
    "mae"
   ]
  },
  {
   "cell_type": "markdown",
   "id": "383fedb9",
   "metadata": {},
   "source": [
    "## <font color ='red'>07 - Reporting"
   ]
  },
  {
   "cell_type": "code",
   "execution_count": 46,
   "id": "76923262",
   "metadata": {},
   "outputs": [],
   "source": [
    "#look at r2: 51% of the model predictions are correct\n",
    "# however mse, rmse, mae show a big value which can be indicated that it is not a good predict model.\n"
   ]
  },
  {
   "cell_type": "code",
   "execution_count": null,
   "id": "83b998f7",
   "metadata": {},
   "outputs": [],
   "source": []
  }
 ],
 "metadata": {
  "kernelspec": {
   "display_name": "Python 3",
   "language": "python",
   "name": "python3"
  },
  "language_info": {
   "codemirror_mode": {
    "name": "ipython",
    "version": 3
   },
   "file_extension": ".py",
   "mimetype": "text/x-python",
   "name": "python",
   "nbconvert_exporter": "python",
   "pygments_lexer": "ipython3",
   "version": "3.8.8"
  },
  "widgets": {
   "application/vnd.jupyter.widget-state+json": {
    "state": {},
    "version_major": 2,
    "version_minor": 0
   }
  }
 },
 "nbformat": 4,
 "nbformat_minor": 5
}
