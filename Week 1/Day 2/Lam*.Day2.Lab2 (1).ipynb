{
 "cells": [
  {
   "cell_type": "markdown",
   "id": "2a796497",
   "metadata": {},
   "source": [
    "### 1.Read the three files into python as dataframes\n",
    "* Import 3 csv into data frame"
   ]
  },
  {
   "cell_type": "code",
   "execution_count": 3,
   "id": "aa80b022",
   "metadata": {},
   "outputs": [],
   "source": [
    "import numpy as np\n",
    "import pandas as pd"
   ]
  },
  {
   "cell_type": "code",
   "execution_count": 4,
   "id": "5b055557",
   "metadata": {},
   "outputs": [],
   "source": [
    "file1=pd.read_csv(\"/Users/macbook/Desktop/IRON  HÂCK/Day2_Pandas/file1.csv\")\n",
    "file2=pd.read_csv(\"/Users/macbook/Desktop/IRON  HÂCK/Day2_Pandas/file2.csv\")\n",
    "file3=pd.read_csv(\"/Users/macbook/Desktop/IRON  HÂCK/Day2_Pandas/file3.csv\")"
   ]
  },
  {
   "cell_type": "markdown",
   "id": "4cf179c0",
   "metadata": {},
   "source": [
    "### 2. Show the DataFrame's shape."
   ]
  },
  {
   "cell_type": "code",
   "execution_count": 5,
   "id": "7a776486",
   "metadata": {},
   "outputs": [
    {
     "data": {
      "text/plain": [
       "(4008, 11)"
      ]
     },
     "execution_count": 5,
     "metadata": {},
     "output_type": "execute_result"
    }
   ],
   "source": [
    "file1.shape"
   ]
  },
  {
   "cell_type": "code",
   "execution_count": 6,
   "id": "40adebc4",
   "metadata": {},
   "outputs": [
    {
     "data": {
      "text/plain": [
       "(996, 11)"
      ]
     },
     "execution_count": 6,
     "metadata": {},
     "output_type": "execute_result"
    }
   ],
   "source": [
    "file2.shape"
   ]
  },
  {
   "cell_type": "code",
   "execution_count": 7,
   "id": "58f85828",
   "metadata": {},
   "outputs": [
    {
     "data": {
      "text/plain": [
       "(7070, 11)"
      ]
     },
     "execution_count": 7,
     "metadata": {},
     "output_type": "execute_result"
    }
   ],
   "source": [
    "file3.shape"
   ]
  },
  {
   "cell_type": "markdown",
   "id": "4bed408a",
   "metadata": {},
   "source": [
    "### 3.Standardize header names.\n",
    "* Rename \"st\" in file 2 & file 1 to \"state\" \n",
    "* Change to lower case in all heading of 3 files\n"
   ]
  },
  {
   "cell_type": "code",
   "execution_count": 8,
   "id": "433a15e1",
   "metadata": {},
   "outputs": [],
   "source": [
    "new_names={'st':'state'}"
   ]
  },
  {
   "cell_type": "code",
   "execution_count": 9,
   "id": "b7513c18",
   "metadata": {},
   "outputs": [],
   "source": [
    "file1.rename(columns=new_names,inplace=True)"
   ]
  },
  {
   "cell_type": "code",
   "execution_count": 10,
   "id": "2f121308",
   "metadata": {},
   "outputs": [],
   "source": [
    "file2.rename(columns=new_names,inplace=True)"
   ]
  },
  {
   "cell_type": "code",
   "execution_count": 11,
   "id": "4dfd39a3",
   "metadata": {},
   "outputs": [],
   "source": [
    "col1=[]\n",
    "for i in range (len(file1.columns)):\n",
    "    col1.append(file1.columns[i].lower())"
   ]
  },
  {
   "cell_type": "code",
   "execution_count": 12,
   "id": "cceb6f18",
   "metadata": {},
   "outputs": [
    {
     "data": {
      "text/plain": [
       "Index(['customer', 'st', 'gender', 'education', 'customer lifetime value',\n",
       "       'income', 'monthly premium auto', 'number of open complaints',\n",
       "       'policy type', 'vehicle class', 'total claim amount'],\n",
       "      dtype='object')"
      ]
     },
     "execution_count": 12,
     "metadata": {},
     "output_type": "execute_result"
    }
   ],
   "source": [
    "file1.columns=col1\n",
    "file1.columns"
   ]
  },
  {
   "cell_type": "code",
   "execution_count": 13,
   "id": "81e00374",
   "metadata": {},
   "outputs": [],
   "source": [
    "col2=[]\n",
    "for i in range (len(file2.columns)):\n",
    "    col2.append(file2.columns[i].lower())"
   ]
  },
  {
   "cell_type": "code",
   "execution_count": 14,
   "id": "5cfa407c",
   "metadata": {},
   "outputs": [],
   "source": [
    "file2.columns=col2\n"
   ]
  },
  {
   "cell_type": "code",
   "execution_count": 15,
   "id": "65a98328",
   "metadata": {},
   "outputs": [
    {
     "data": {
      "text/plain": [
       "Index(['customer', 'st', 'gender', 'education', 'customer lifetime value',\n",
       "       'income', 'monthly premium auto', 'number of open complaints',\n",
       "       'total claim amount', 'policy type', 'vehicle class'],\n",
       "      dtype='object')"
      ]
     },
     "execution_count": 15,
     "metadata": {},
     "output_type": "execute_result"
    }
   ],
   "source": [
    "file2.columns"
   ]
  },
  {
   "cell_type": "code",
   "execution_count": 16,
   "id": "0a90a06d",
   "metadata": {},
   "outputs": [],
   "source": [
    "col3=[]\n",
    "for i in range (len(file3.columns)):\n",
    "    col3.append(file3.columns[i].lower())"
   ]
  },
  {
   "cell_type": "code",
   "execution_count": 17,
   "id": "3e4af71c",
   "metadata": {},
   "outputs": [],
   "source": [
    "file3.columns=col3"
   ]
  },
  {
   "cell_type": "code",
   "execution_count": 18,
   "id": "e88f1cbe",
   "metadata": {},
   "outputs": [
    {
     "data": {
      "text/plain": [
       "Index(['customer', 'state', 'customer lifetime value', 'education', 'gender',\n",
       "       'income', 'monthly premium auto', 'number of open complaints',\n",
       "       'policy type', 'total claim amount', 'vehicle class'],\n",
       "      dtype='object')"
      ]
     },
     "execution_count": 18,
     "metadata": {},
     "output_type": "execute_result"
    }
   ],
   "source": [
    "file3.columns"
   ]
  },
  {
   "cell_type": "markdown",
   "id": "e73ac0d2",
   "metadata": {},
   "source": [
    "### 4. Concatenate the three dataframes\n",
    "Use pd.concat fuction, with <font color=red>axis = 0 to copy by row"
   ]
  },
  {
   "cell_type": "code",
   "execution_count": 19,
   "id": "cb3d5673",
   "metadata": {},
   "outputs": [],
   "source": [
    "lab2=pd.concat([file1,file2,file3], axis =0)"
   ]
  },
  {
   "cell_type": "markdown",
   "id": "c430ebcf",
   "metadata": {},
   "source": [
    "### pay attention to the Int64Index: because there ar 12074 entries, but only 7069 row"
   ]
  },
  {
   "cell_type": "code",
   "execution_count": 20,
   "id": "506e41d3",
   "metadata": {},
   "outputs": [
    {
     "name": "stdout",
     "output_type": "stream",
     "text": [
      "<class 'pandas.core.frame.DataFrame'>\n",
      "Int64Index: 12074 entries, 0 to 7069\n",
      "Data columns (total 12 columns):\n",
      " #   Column                     Non-Null Count  Dtype  \n",
      "---  ------                     --------------  -----  \n",
      " 0   customer                   9137 non-null   object \n",
      " 1   st                         2067 non-null   object \n",
      " 2   gender                     9015 non-null   object \n",
      " 3   education                  9137 non-null   object \n",
      " 4   customer lifetime value    9130 non-null   object \n",
      " 5   income                     9137 non-null   float64\n",
      " 6   monthly premium auto       9137 non-null   float64\n",
      " 7   number of open complaints  9137 non-null   object \n",
      " 8   policy type                9137 non-null   object \n",
      " 9   vehicle class              9137 non-null   object \n",
      " 10  total claim amount         9137 non-null   float64\n",
      " 11  state                      7070 non-null   object \n",
      "dtypes: float64(3), object(9)\n",
      "memory usage: 1.2+ MB\n"
     ]
    }
   ],
   "source": [
    "lab2.info()"
   ]
  },
  {
   "cell_type": "code",
   "execution_count": 21,
   "id": "05fe947a",
   "metadata": {},
   "outputs": [
    {
     "data": {
      "text/html": [
       "<div>\n",
       "<style scoped>\n",
       "    .dataframe tbody tr th:only-of-type {\n",
       "        vertical-align: middle;\n",
       "    }\n",
       "\n",
       "    .dataframe tbody tr th {\n",
       "        vertical-align: top;\n",
       "    }\n",
       "\n",
       "    .dataframe thead th {\n",
       "        text-align: right;\n",
       "    }\n",
       "</style>\n",
       "<table border=\"1\" class=\"dataframe\">\n",
       "  <thead>\n",
       "    <tr style=\"text-align: right;\">\n",
       "      <th></th>\n",
       "      <th>customer</th>\n",
       "      <th>st</th>\n",
       "      <th>gender</th>\n",
       "      <th>education</th>\n",
       "      <th>customer lifetime value</th>\n",
       "      <th>income</th>\n",
       "      <th>monthly premium auto</th>\n",
       "      <th>number of open complaints</th>\n",
       "      <th>policy type</th>\n",
       "      <th>vehicle class</th>\n",
       "      <th>total claim amount</th>\n",
       "      <th>state</th>\n",
       "    </tr>\n",
       "  </thead>\n",
       "  <tbody>\n",
       "    <tr>\n",
       "      <th>7069</th>\n",
       "      <td>Y167826</td>\n",
       "      <td>NaN</td>\n",
       "      <td>M</td>\n",
       "      <td>College</td>\n",
       "      <td>2611.836866</td>\n",
       "      <td>0.0</td>\n",
       "      <td>77.0</td>\n",
       "      <td>0</td>\n",
       "      <td>Corporate Auto</td>\n",
       "      <td>Two-Door Car</td>\n",
       "      <td>369.6</td>\n",
       "      <td>California</td>\n",
       "    </tr>\n",
       "  </tbody>\n",
       "</table>\n",
       "</div>"
      ],
      "text/plain": [
       "     customer   st gender education customer lifetime value  income  \\\n",
       "7069  Y167826  NaN      M   College             2611.836866     0.0   \n",
       "\n",
       "      monthly premium auto number of open complaints     policy type  \\\n",
       "7069                  77.0                         0  Corporate Auto   \n",
       "\n",
       "     vehicle class  total claim amount       state  \n",
       "7069  Two-Door Car               369.6  California  "
      ]
     },
     "execution_count": 21,
     "metadata": {},
     "output_type": "execute_result"
    }
   ],
   "source": [
    "lab2.tail(1)"
   ]
  },
  {
   "cell_type": "code",
   "execution_count": 22,
   "id": "367b29a9",
   "metadata": {},
   "outputs": [],
   "source": [
    "# reset the index because it has been truncated in the concat() \n",
    "lab2.reset_index(drop=True, inplace=True)"
   ]
  },
  {
   "cell_type": "code",
   "execution_count": 23,
   "id": "0f37bee7",
   "metadata": {},
   "outputs": [
    {
     "data": {
      "text/html": [
       "<div>\n",
       "<style scoped>\n",
       "    .dataframe tbody tr th:only-of-type {\n",
       "        vertical-align: middle;\n",
       "    }\n",
       "\n",
       "    .dataframe tbody tr th {\n",
       "        vertical-align: top;\n",
       "    }\n",
       "\n",
       "    .dataframe thead th {\n",
       "        text-align: right;\n",
       "    }\n",
       "</style>\n",
       "<table border=\"1\" class=\"dataframe\">\n",
       "  <thead>\n",
       "    <tr style=\"text-align: right;\">\n",
       "      <th></th>\n",
       "      <th>customer</th>\n",
       "      <th>st</th>\n",
       "      <th>gender</th>\n",
       "      <th>education</th>\n",
       "      <th>customer lifetime value</th>\n",
       "      <th>income</th>\n",
       "      <th>monthly premium auto</th>\n",
       "      <th>number of open complaints</th>\n",
       "      <th>policy type</th>\n",
       "      <th>vehicle class</th>\n",
       "      <th>total claim amount</th>\n",
       "      <th>state</th>\n",
       "    </tr>\n",
       "  </thead>\n",
       "  <tbody>\n",
       "    <tr>\n",
       "      <th>12073</th>\n",
       "      <td>Y167826</td>\n",
       "      <td>NaN</td>\n",
       "      <td>M</td>\n",
       "      <td>College</td>\n",
       "      <td>2611.836866</td>\n",
       "      <td>0.0</td>\n",
       "      <td>77.0</td>\n",
       "      <td>0</td>\n",
       "      <td>Corporate Auto</td>\n",
       "      <td>Two-Door Car</td>\n",
       "      <td>369.6</td>\n",
       "      <td>California</td>\n",
       "    </tr>\n",
       "  </tbody>\n",
       "</table>\n",
       "</div>"
      ],
      "text/plain": [
       "      customer   st gender education customer lifetime value  income  \\\n",
       "12073  Y167826  NaN      M   College             2611.836866     0.0   \n",
       "\n",
       "       monthly premium auto number of open complaints     policy type  \\\n",
       "12073                  77.0                         0  Corporate Auto   \n",
       "\n",
       "      vehicle class  total claim amount       state  \n",
       "12073  Two-Door Car               369.6  California  "
      ]
     },
     "execution_count": 23,
     "metadata": {},
     "output_type": "execute_result"
    }
   ],
   "source": [
    "lab2.tail(1)"
   ]
  },
  {
   "cell_type": "markdown",
   "id": "50f9848e",
   "metadata": {},
   "source": [
    "### 5. Which columns are numerical?"
   ]
  },
  {
   "cell_type": "code",
   "execution_count": 24,
   "id": "c46dcf36",
   "metadata": {},
   "outputs": [
    {
     "data": {
      "text/plain": [
       "customer                      object\n",
       "st                            object\n",
       "gender                        object\n",
       "education                     object\n",
       "customer lifetime value       object\n",
       "income                       float64\n",
       "monthly premium auto         float64\n",
       "number of open complaints     object\n",
       "policy type                   object\n",
       "vehicle class                 object\n",
       "total claim amount           float64\n",
       "state                         object\n",
       "dtype: object"
      ]
     },
     "execution_count": 24,
     "metadata": {},
     "output_type": "execute_result"
    }
   ],
   "source": [
    "lab2.dtypes"
   ]
  },
  {
   "cell_type": "code",
   "execution_count": 25,
   "id": "3f856c44",
   "metadata": {},
   "outputs": [
    {
     "data": {
      "text/plain": [
       "Index(['income', 'monthly premium auto', 'total claim amount'], dtype='object')"
      ]
     },
     "execution_count": 25,
     "metadata": {},
     "output_type": "execute_result"
    }
   ],
   "source": [
    "numerical= lab2.select_dtypes([np.number]).columns\n",
    "numerical"
   ]
  },
  {
   "cell_type": "markdown",
   "id": "6f3f53d8",
   "metadata": {},
   "source": [
    "### 6. Which columns are categorical?"
   ]
  },
  {
   "cell_type": "code",
   "execution_count": 26,
   "id": "06dd777b",
   "metadata": {},
   "outputs": [
    {
     "data": {
      "text/plain": [
       "Index(['customer', 'st', 'gender', 'education', 'customer lifetime value',\n",
       "       'income', 'monthly premium auto', 'number of open complaints',\n",
       "       'policy type', 'vehicle class', 'total claim amount', 'state'],\n",
       "      dtype='object')"
      ]
     },
     "execution_count": 26,
     "metadata": {},
     "output_type": "execute_result"
    }
   ],
   "source": [
    "lab2.columns"
   ]
  },
  {
   "cell_type": "code",
   "execution_count": 27,
   "id": "5537d08c",
   "metadata": {},
   "outputs": [
    {
     "data": {
      "text/plain": [
       "Index(['customer', 'st', 'gender', 'education', 'customer lifetime value',\n",
       "       'number of open complaints', 'policy type', 'vehicle class', 'state'],\n",
       "      dtype='object')"
      ]
     },
     "execution_count": 27,
     "metadata": {},
     "output_type": "execute_result"
    }
   ],
   "source": [
    "categorical=lab2.select_dtypes(['object']).columns\n",
    "categorical"
   ]
  },
  {
   "cell_type": "markdown",
   "id": "4a20d2f2",
   "metadata": {},
   "source": [
    "### 7. Perform the data cleaning operations mentioned so far in class\n",
    "\n",
    "#### a. Delete the column education and the number of open complaints from the dataframe.\n"
   ]
  },
  {
   "cell_type": "code",
   "execution_count": 28,
   "id": "8d08518e",
   "metadata": {},
   "outputs": [
    {
     "data": {
      "text/plain": [
       "0                      Master\n",
       "1                    Bachelor\n",
       "2                    Bachelor\n",
       "3                    Bachelor\n",
       "4        High School or Below\n",
       "                 ...         \n",
       "12069                Bachelor\n",
       "12070                 College\n",
       "12071                Bachelor\n",
       "12072                 College\n",
       "12073                 College\n",
       "Name: education, Length: 12074, dtype: object"
      ]
     },
     "execution_count": 28,
     "metadata": {},
     "output_type": "execute_result"
    }
   ],
   "source": [
    "lab2.pop('education')"
   ]
  },
  {
   "cell_type": "code",
   "execution_count": 29,
   "id": "d29cb504",
   "metadata": {},
   "outputs": [
    {
     "data": {
      "text/plain": [
       "0        1/0/00\n",
       "1        1/0/00\n",
       "2        1/0/00\n",
       "3        1/0/00\n",
       "4        1/0/00\n",
       "          ...  \n",
       "12069         0\n",
       "12070         0\n",
       "12071         3\n",
       "12072         0\n",
       "12073         0\n",
       "Name: number of open complaints, Length: 12074, dtype: object"
      ]
     },
     "execution_count": 29,
     "metadata": {},
     "output_type": "execute_result"
    }
   ],
   "source": [
    "lab2.pop('number of open complaints')"
   ]
  },
  {
   "cell_type": "code",
   "execution_count": 30,
   "id": "037f7994",
   "metadata": {},
   "outputs": [
    {
     "data": {
      "text/html": [
       "<div>\n",
       "<style scoped>\n",
       "    .dataframe tbody tr th:only-of-type {\n",
       "        vertical-align: middle;\n",
       "    }\n",
       "\n",
       "    .dataframe tbody tr th {\n",
       "        vertical-align: top;\n",
       "    }\n",
       "\n",
       "    .dataframe thead th {\n",
       "        text-align: right;\n",
       "    }\n",
       "</style>\n",
       "<table border=\"1\" class=\"dataframe\">\n",
       "  <thead>\n",
       "    <tr style=\"text-align: right;\">\n",
       "      <th></th>\n",
       "      <th>customer</th>\n",
       "      <th>st</th>\n",
       "      <th>gender</th>\n",
       "      <th>customer lifetime value</th>\n",
       "      <th>income</th>\n",
       "      <th>monthly premium auto</th>\n",
       "      <th>policy type</th>\n",
       "      <th>vehicle class</th>\n",
       "      <th>total claim amount</th>\n",
       "      <th>state</th>\n",
       "    </tr>\n",
       "  </thead>\n",
       "  <tbody>\n",
       "    <tr>\n",
       "      <th>0</th>\n",
       "      <td>RB50392</td>\n",
       "      <td>Washington</td>\n",
       "      <td>NaN</td>\n",
       "      <td>NaN</td>\n",
       "      <td>0.0</td>\n",
       "      <td>1000.0</td>\n",
       "      <td>Personal Auto</td>\n",
       "      <td>Four-Door Car</td>\n",
       "      <td>2.704934</td>\n",
       "      <td>NaN</td>\n",
       "    </tr>\n",
       "    <tr>\n",
       "      <th>1</th>\n",
       "      <td>QZ44356</td>\n",
       "      <td>Arizona</td>\n",
       "      <td>F</td>\n",
       "      <td>697953.59%</td>\n",
       "      <td>0.0</td>\n",
       "      <td>94.0</td>\n",
       "      <td>Personal Auto</td>\n",
       "      <td>Four-Door Car</td>\n",
       "      <td>1131.464935</td>\n",
       "      <td>NaN</td>\n",
       "    </tr>\n",
       "    <tr>\n",
       "      <th>2</th>\n",
       "      <td>AI49188</td>\n",
       "      <td>Nevada</td>\n",
       "      <td>F</td>\n",
       "      <td>1288743.17%</td>\n",
       "      <td>48767.0</td>\n",
       "      <td>108.0</td>\n",
       "      <td>Personal Auto</td>\n",
       "      <td>Two-Door Car</td>\n",
       "      <td>566.472247</td>\n",
       "      <td>NaN</td>\n",
       "    </tr>\n",
       "    <tr>\n",
       "      <th>3</th>\n",
       "      <td>WW63253</td>\n",
       "      <td>California</td>\n",
       "      <td>M</td>\n",
       "      <td>764586.18%</td>\n",
       "      <td>0.0</td>\n",
       "      <td>106.0</td>\n",
       "      <td>Corporate Auto</td>\n",
       "      <td>SUV</td>\n",
       "      <td>529.881344</td>\n",
       "      <td>NaN</td>\n",
       "    </tr>\n",
       "    <tr>\n",
       "      <th>4</th>\n",
       "      <td>GA49547</td>\n",
       "      <td>Washington</td>\n",
       "      <td>M</td>\n",
       "      <td>536307.65%</td>\n",
       "      <td>36357.0</td>\n",
       "      <td>68.0</td>\n",
       "      <td>Personal Auto</td>\n",
       "      <td>Four-Door Car</td>\n",
       "      <td>17.269323</td>\n",
       "      <td>NaN</td>\n",
       "    </tr>\n",
       "  </tbody>\n",
       "</table>\n",
       "</div>"
      ],
      "text/plain": [
       "  customer          st gender customer lifetime value   income  \\\n",
       "0  RB50392  Washington    NaN                     NaN      0.0   \n",
       "1  QZ44356     Arizona      F              697953.59%      0.0   \n",
       "2  AI49188      Nevada      F             1288743.17%  48767.0   \n",
       "3  WW63253  California      M              764586.18%      0.0   \n",
       "4  GA49547  Washington      M              536307.65%  36357.0   \n",
       "\n",
       "   monthly premium auto     policy type  vehicle class  total claim amount  \\\n",
       "0                1000.0   Personal Auto  Four-Door Car            2.704934   \n",
       "1                  94.0   Personal Auto  Four-Door Car         1131.464935   \n",
       "2                 108.0   Personal Auto   Two-Door Car          566.472247   \n",
       "3                 106.0  Corporate Auto            SUV          529.881344   \n",
       "4                  68.0   Personal Auto  Four-Door Car           17.269323   \n",
       "\n",
       "  state  \n",
       "0   NaN  \n",
       "1   NaN  \n",
       "2   NaN  \n",
       "3   NaN  \n",
       "4   NaN  "
      ]
     },
     "execution_count": 30,
     "metadata": {},
     "output_type": "execute_result"
    }
   ],
   "source": [
    "lab2.head()"
   ]
  },
  {
   "cell_type": "markdown",
   "id": "e255564a",
   "metadata": {},
   "source": [
    "#### b. Correct the values in the column customer lifetime value. They are given as a percent, so multiply them by 100 and change dtype to numerical type."
   ]
  },
  {
   "cell_type": "code",
   "execution_count": 31,
   "id": "b1af59b1",
   "metadata": {},
   "outputs": [
    {
     "data": {
      "text/html": [
       "<div>\n",
       "<style scoped>\n",
       "    .dataframe tbody tr th:only-of-type {\n",
       "        vertical-align: middle;\n",
       "    }\n",
       "\n",
       "    .dataframe tbody tr th {\n",
       "        vertical-align: top;\n",
       "    }\n",
       "\n",
       "    .dataframe thead th {\n",
       "        text-align: right;\n",
       "    }\n",
       "</style>\n",
       "<table border=\"1\" class=\"dataframe\">\n",
       "  <thead>\n",
       "    <tr style=\"text-align: right;\">\n",
       "      <th></th>\n",
       "      <th>customer</th>\n",
       "      <th>st</th>\n",
       "      <th>gender</th>\n",
       "      <th>customer lifetime value</th>\n",
       "      <th>income</th>\n",
       "      <th>monthly premium auto</th>\n",
       "      <th>policy type</th>\n",
       "      <th>vehicle class</th>\n",
       "      <th>total claim amount</th>\n",
       "      <th>state</th>\n",
       "    </tr>\n",
       "  </thead>\n",
       "  <tbody>\n",
       "    <tr>\n",
       "      <th>12069</th>\n",
       "      <td>LA72316</td>\n",
       "      <td>NaN</td>\n",
       "      <td>M</td>\n",
       "      <td>23405.98798</td>\n",
       "      <td>71941.0</td>\n",
       "      <td>73.0</td>\n",
       "      <td>Personal Auto</td>\n",
       "      <td>Four-Door Car</td>\n",
       "      <td>198.234764</td>\n",
       "      <td>California</td>\n",
       "    </tr>\n",
       "    <tr>\n",
       "      <th>12070</th>\n",
       "      <td>PK87824</td>\n",
       "      <td>NaN</td>\n",
       "      <td>F</td>\n",
       "      <td>3096.511217</td>\n",
       "      <td>21604.0</td>\n",
       "      <td>79.0</td>\n",
       "      <td>Corporate Auto</td>\n",
       "      <td>Four-Door Car</td>\n",
       "      <td>379.200000</td>\n",
       "      <td>California</td>\n",
       "    </tr>\n",
       "    <tr>\n",
       "      <th>12071</th>\n",
       "      <td>TD14365</td>\n",
       "      <td>NaN</td>\n",
       "      <td>M</td>\n",
       "      <td>8163.890428</td>\n",
       "      <td>0.0</td>\n",
       "      <td>85.0</td>\n",
       "      <td>Corporate Auto</td>\n",
       "      <td>Four-Door Car</td>\n",
       "      <td>790.784983</td>\n",
       "      <td>California</td>\n",
       "    </tr>\n",
       "    <tr>\n",
       "      <th>12072</th>\n",
       "      <td>UP19263</td>\n",
       "      <td>NaN</td>\n",
       "      <td>M</td>\n",
       "      <td>7524.442436</td>\n",
       "      <td>21941.0</td>\n",
       "      <td>96.0</td>\n",
       "      <td>Personal Auto</td>\n",
       "      <td>Four-Door Car</td>\n",
       "      <td>691.200000</td>\n",
       "      <td>California</td>\n",
       "    </tr>\n",
       "    <tr>\n",
       "      <th>12073</th>\n",
       "      <td>Y167826</td>\n",
       "      <td>NaN</td>\n",
       "      <td>M</td>\n",
       "      <td>2611.836866</td>\n",
       "      <td>0.0</td>\n",
       "      <td>77.0</td>\n",
       "      <td>Corporate Auto</td>\n",
       "      <td>Two-Door Car</td>\n",
       "      <td>369.600000</td>\n",
       "      <td>California</td>\n",
       "    </tr>\n",
       "  </tbody>\n",
       "</table>\n",
       "</div>"
      ],
      "text/plain": [
       "      customer   st gender customer lifetime value   income  \\\n",
       "12069  LA72316  NaN      M             23405.98798  71941.0   \n",
       "12070  PK87824  NaN      F             3096.511217  21604.0   \n",
       "12071  TD14365  NaN      M             8163.890428      0.0   \n",
       "12072  UP19263  NaN      M             7524.442436  21941.0   \n",
       "12073  Y167826  NaN      M             2611.836866      0.0   \n",
       "\n",
       "       monthly premium auto     policy type  vehicle class  \\\n",
       "12069                  73.0   Personal Auto  Four-Door Car   \n",
       "12070                  79.0  Corporate Auto  Four-Door Car   \n",
       "12071                  85.0  Corporate Auto  Four-Door Car   \n",
       "12072                  96.0   Personal Auto  Four-Door Car   \n",
       "12073                  77.0  Corporate Auto   Two-Door Car   \n",
       "\n",
       "       total claim amount       state  \n",
       "12069          198.234764  California  \n",
       "12070          379.200000  California  \n",
       "12071          790.784983  California  \n",
       "12072          691.200000  California  \n",
       "12073          369.600000  California  "
      ]
     },
     "execution_count": 31,
     "metadata": {},
     "output_type": "execute_result"
    }
   ],
   "source": [
    "lab2.tail()"
   ]
  },
  {
   "cell_type": "code",
   "execution_count": 32,
   "id": "8a4f5e72",
   "metadata": {},
   "outputs": [],
   "source": [
    "lab2['customer lifetime value']=pd.to_numeric(lab2['customer lifetime value'],errors='coerce')"
   ]
  },
  {
   "cell_type": "code",
   "execution_count": 33,
   "id": "3c40095e",
   "metadata": {},
   "outputs": [
    {
     "name": "stdout",
     "output_type": "stream",
     "text": [
      "<class 'pandas.core.frame.DataFrame'>\n",
      "RangeIndex: 12074 entries, 0 to 12073\n",
      "Data columns (total 10 columns):\n",
      " #   Column                   Non-Null Count  Dtype  \n",
      "---  ------                   --------------  -----  \n",
      " 0   customer                 9137 non-null   object \n",
      " 1   st                       2067 non-null   object \n",
      " 2   gender                   9015 non-null   object \n",
      " 3   customer lifetime value  7070 non-null   float64\n",
      " 4   income                   9137 non-null   float64\n",
      " 5   monthly premium auto     9137 non-null   float64\n",
      " 6   policy type              9137 non-null   object \n",
      " 7   vehicle class            9137 non-null   object \n",
      " 8   total claim amount       9137 non-null   float64\n",
      " 9   state                    7070 non-null   object \n",
      "dtypes: float64(4), object(6)\n",
      "memory usage: 943.4+ KB\n"
     ]
    }
   ],
   "source": [
    "lab2.info()"
   ]
  },
  {
   "cell_type": "code",
   "execution_count": 34,
   "id": "3da610d1",
   "metadata": {},
   "outputs": [],
   "source": [
    "lab2['customer lifetime value']=(lab2['customer lifetime value']*100).round(2)"
   ]
  },
  {
   "cell_type": "code",
   "execution_count": 35,
   "id": "50c9d0bf",
   "metadata": {},
   "outputs": [
    {
     "data": {
      "text/html": [
       "<div>\n",
       "<style scoped>\n",
       "    .dataframe tbody tr th:only-of-type {\n",
       "        vertical-align: middle;\n",
       "    }\n",
       "\n",
       "    .dataframe tbody tr th {\n",
       "        vertical-align: top;\n",
       "    }\n",
       "\n",
       "    .dataframe thead th {\n",
       "        text-align: right;\n",
       "    }\n",
       "</style>\n",
       "<table border=\"1\" class=\"dataframe\">\n",
       "  <thead>\n",
       "    <tr style=\"text-align: right;\">\n",
       "      <th></th>\n",
       "      <th>customer</th>\n",
       "      <th>st</th>\n",
       "      <th>gender</th>\n",
       "      <th>customer lifetime value</th>\n",
       "      <th>income</th>\n",
       "      <th>monthly premium auto</th>\n",
       "      <th>policy type</th>\n",
       "      <th>vehicle class</th>\n",
       "      <th>total claim amount</th>\n",
       "      <th>state</th>\n",
       "    </tr>\n",
       "  </thead>\n",
       "  <tbody>\n",
       "    <tr>\n",
       "      <th>12069</th>\n",
       "      <td>LA72316</td>\n",
       "      <td>NaN</td>\n",
       "      <td>M</td>\n",
       "      <td>2340598.80</td>\n",
       "      <td>71941.0</td>\n",
       "      <td>73.0</td>\n",
       "      <td>Personal Auto</td>\n",
       "      <td>Four-Door Car</td>\n",
       "      <td>198.234764</td>\n",
       "      <td>California</td>\n",
       "    </tr>\n",
       "    <tr>\n",
       "      <th>12070</th>\n",
       "      <td>PK87824</td>\n",
       "      <td>NaN</td>\n",
       "      <td>F</td>\n",
       "      <td>309651.12</td>\n",
       "      <td>21604.0</td>\n",
       "      <td>79.0</td>\n",
       "      <td>Corporate Auto</td>\n",
       "      <td>Four-Door Car</td>\n",
       "      <td>379.200000</td>\n",
       "      <td>California</td>\n",
       "    </tr>\n",
       "    <tr>\n",
       "      <th>12071</th>\n",
       "      <td>TD14365</td>\n",
       "      <td>NaN</td>\n",
       "      <td>M</td>\n",
       "      <td>816389.04</td>\n",
       "      <td>0.0</td>\n",
       "      <td>85.0</td>\n",
       "      <td>Corporate Auto</td>\n",
       "      <td>Four-Door Car</td>\n",
       "      <td>790.784983</td>\n",
       "      <td>California</td>\n",
       "    </tr>\n",
       "    <tr>\n",
       "      <th>12072</th>\n",
       "      <td>UP19263</td>\n",
       "      <td>NaN</td>\n",
       "      <td>M</td>\n",
       "      <td>752444.24</td>\n",
       "      <td>21941.0</td>\n",
       "      <td>96.0</td>\n",
       "      <td>Personal Auto</td>\n",
       "      <td>Four-Door Car</td>\n",
       "      <td>691.200000</td>\n",
       "      <td>California</td>\n",
       "    </tr>\n",
       "    <tr>\n",
       "      <th>12073</th>\n",
       "      <td>Y167826</td>\n",
       "      <td>NaN</td>\n",
       "      <td>M</td>\n",
       "      <td>261183.69</td>\n",
       "      <td>0.0</td>\n",
       "      <td>77.0</td>\n",
       "      <td>Corporate Auto</td>\n",
       "      <td>Two-Door Car</td>\n",
       "      <td>369.600000</td>\n",
       "      <td>California</td>\n",
       "    </tr>\n",
       "  </tbody>\n",
       "</table>\n",
       "</div>"
      ],
      "text/plain": [
       "      customer   st gender  customer lifetime value   income  \\\n",
       "12069  LA72316  NaN      M               2340598.80  71941.0   \n",
       "12070  PK87824  NaN      F                309651.12  21604.0   \n",
       "12071  TD14365  NaN      M                816389.04      0.0   \n",
       "12072  UP19263  NaN      M                752444.24  21941.0   \n",
       "12073  Y167826  NaN      M                261183.69      0.0   \n",
       "\n",
       "       monthly premium auto     policy type  vehicle class  \\\n",
       "12069                  73.0   Personal Auto  Four-Door Car   \n",
       "12070                  79.0  Corporate Auto  Four-Door Car   \n",
       "12071                  85.0  Corporate Auto  Four-Door Car   \n",
       "12072                  96.0   Personal Auto  Four-Door Car   \n",
       "12073                  77.0  Corporate Auto   Two-Door Car   \n",
       "\n",
       "       total claim amount       state  \n",
       "12069          198.234764  California  \n",
       "12070          379.200000  California  \n",
       "12071          790.784983  California  \n",
       "12072          691.200000  California  \n",
       "12073          369.600000  California  "
      ]
     },
     "execution_count": 35,
     "metadata": {},
     "output_type": "execute_result"
    }
   ],
   "source": [
    "lab2.tail()"
   ]
  },
  {
   "cell_type": "markdown",
   "id": "71d542fe",
   "metadata": {},
   "source": [
    "#### c. Check for duplicate rows in the data and remove if any."
   ]
  },
  {
   "cell_type": "code",
   "execution_count": 36,
   "id": "85e7203f",
   "metadata": {},
   "outputs": [
    {
     "data": {
      "text/plain": [
       "(12074, 10)"
      ]
     },
     "execution_count": 36,
     "metadata": {},
     "output_type": "execute_result"
    }
   ],
   "source": [
    "lab2.shape"
   ]
  },
  {
   "cell_type": "code",
   "execution_count": 37,
   "id": "a3e9eaad",
   "metadata": {},
   "outputs": [
    {
     "name": "stdout",
     "output_type": "stream",
     "text": [
      "     customer          st gender  customer lifetime value   income  \\\n",
      "1072      NaN         NaN    NaN                      NaN      NaN   \n",
      "1073      NaN         NaN    NaN                      NaN      NaN   \n",
      "1074      NaN         NaN    NaN                      NaN      NaN   \n",
      "1075      NaN         NaN    NaN                      NaN      NaN   \n",
      "1076      NaN         NaN    NaN                      NaN      NaN   \n",
      "...       ...         ...    ...                      ...      ...   \n",
      "4006      NaN         NaN    NaN                      NaN      NaN   \n",
      "4007      NaN         NaN    NaN                      NaN      NaN   \n",
      "4008  GS98873     Arizona      F                      NaN  16061.0   \n",
      "4009  CW49887  California      F                      NaN  79487.0   \n",
      "4010  MY31220  California      F                      NaN  54230.0   \n",
      "\n",
      "      monthly premium auto    policy type  vehicle class  total claim amount  \\\n",
      "1072                   NaN            NaN            NaN                 NaN   \n",
      "1073                   NaN            NaN            NaN                 NaN   \n",
      "1074                   NaN            NaN            NaN                 NaN   \n",
      "1075                   NaN            NaN            NaN                 NaN   \n",
      "1076                   NaN            NaN            NaN                 NaN   \n",
      "...                    ...            ...            ...                 ...   \n",
      "4006                   NaN            NaN            NaN                 NaN   \n",
      "4007                   NaN            NaN            NaN                 NaN   \n",
      "4008                  88.0  Personal Auto  Four-Door Car               633.6   \n",
      "4009                 114.0   Special Auto            SUV               547.2   \n",
      "4010                 112.0  Personal Auto   Two-Door Car               537.6   \n",
      "\n",
      "     state  \n",
      "1072   NaN  \n",
      "1073   NaN  \n",
      "1074   NaN  \n",
      "1075   NaN  \n",
      "1076   NaN  \n",
      "...    ...  \n",
      "4006   NaN  \n",
      "4007   NaN  \n",
      "4008   NaN  \n",
      "4009   NaN  \n",
      "4010   NaN  \n",
      "\n",
      "[2939 rows x 10 columns]\n"
     ]
    }
   ],
   "source": [
    "lab2_dup = lab2[lab2.duplicated()]\n",
    "print(lab2_dup)"
   ]
  },
  {
   "cell_type": "code",
   "execution_count": 38,
   "id": "1ff5cbd2",
   "metadata": {},
   "outputs": [],
   "source": [
    "lab2_dup=lab2.drop_duplicates()"
   ]
  },
  {
   "cell_type": "code",
   "execution_count": 39,
   "id": "533e59cd",
   "metadata": {},
   "outputs": [
    {
     "data": {
      "text/plain": [
       "(9135, 10)"
      ]
     },
     "execution_count": 39,
     "metadata": {},
     "output_type": "execute_result"
    }
   ],
   "source": [
    "lab2_dup.shape"
   ]
  },
  {
   "cell_type": "markdown",
   "id": "6d3f37a8",
   "metadata": {},
   "source": [
    "#### d.Filter out the data for customers who have an income of 0 or less."
   ]
  },
  {
   "cell_type": "code",
   "execution_count": 40,
   "id": "85aa8d86",
   "metadata": {},
   "outputs": [
    {
     "data": {
      "text/html": [
       "<div>\n",
       "<style scoped>\n",
       "    .dataframe tbody tr th:only-of-type {\n",
       "        vertical-align: middle;\n",
       "    }\n",
       "\n",
       "    .dataframe tbody tr th {\n",
       "        vertical-align: top;\n",
       "    }\n",
       "\n",
       "    .dataframe thead th {\n",
       "        text-align: right;\n",
       "    }\n",
       "</style>\n",
       "<table border=\"1\" class=\"dataframe\">\n",
       "  <thead>\n",
       "    <tr style=\"text-align: right;\">\n",
       "      <th></th>\n",
       "      <th>customer</th>\n",
       "      <th>st</th>\n",
       "      <th>gender</th>\n",
       "      <th>customer lifetime value</th>\n",
       "      <th>income</th>\n",
       "      <th>monthly premium auto</th>\n",
       "      <th>policy type</th>\n",
       "      <th>vehicle class</th>\n",
       "      <th>total claim amount</th>\n",
       "      <th>state</th>\n",
       "    </tr>\n",
       "  </thead>\n",
       "  <tbody>\n",
       "    <tr>\n",
       "      <th>0</th>\n",
       "      <td>RB50392</td>\n",
       "      <td>Washington</td>\n",
       "      <td>NaN</td>\n",
       "      <td>NaN</td>\n",
       "      <td>0.0</td>\n",
       "      <td>1000.0</td>\n",
       "      <td>Personal Auto</td>\n",
       "      <td>Four-Door Car</td>\n",
       "      <td>2.704934</td>\n",
       "      <td>NaN</td>\n",
       "    </tr>\n",
       "    <tr>\n",
       "      <th>1</th>\n",
       "      <td>QZ44356</td>\n",
       "      <td>Arizona</td>\n",
       "      <td>F</td>\n",
       "      <td>NaN</td>\n",
       "      <td>0.0</td>\n",
       "      <td>94.0</td>\n",
       "      <td>Personal Auto</td>\n",
       "      <td>Four-Door Car</td>\n",
       "      <td>1131.464935</td>\n",
       "      <td>NaN</td>\n",
       "    </tr>\n",
       "    <tr>\n",
       "      <th>3</th>\n",
       "      <td>WW63253</td>\n",
       "      <td>California</td>\n",
       "      <td>M</td>\n",
       "      <td>NaN</td>\n",
       "      <td>0.0</td>\n",
       "      <td>106.0</td>\n",
       "      <td>Corporate Auto</td>\n",
       "      <td>SUV</td>\n",
       "      <td>529.881344</td>\n",
       "      <td>NaN</td>\n",
       "    </tr>\n",
       "    <tr>\n",
       "      <th>7</th>\n",
       "      <td>CF85061</td>\n",
       "      <td>Arizona</td>\n",
       "      <td>M</td>\n",
       "      <td>NaN</td>\n",
       "      <td>0.0</td>\n",
       "      <td>101.0</td>\n",
       "      <td>Corporate Auto</td>\n",
       "      <td>Four-Door Car</td>\n",
       "      <td>363.029680</td>\n",
       "      <td>NaN</td>\n",
       "    </tr>\n",
       "    <tr>\n",
       "      <th>10</th>\n",
       "      <td>SX51350</td>\n",
       "      <td>California</td>\n",
       "      <td>M</td>\n",
       "      <td>NaN</td>\n",
       "      <td>0.0</td>\n",
       "      <td>67.0</td>\n",
       "      <td>Personal Auto</td>\n",
       "      <td>Four-Door Car</td>\n",
       "      <td>482.400000</td>\n",
       "      <td>NaN</td>\n",
       "    </tr>\n",
       "    <tr>\n",
       "      <th>...</th>\n",
       "      <td>...</td>\n",
       "      <td>...</td>\n",
       "      <td>...</td>\n",
       "      <td>...</td>\n",
       "      <td>...</td>\n",
       "      <td>...</td>\n",
       "      <td>...</td>\n",
       "      <td>...</td>\n",
       "      <td>...</td>\n",
       "      <td>...</td>\n",
       "    </tr>\n",
       "    <tr>\n",
       "      <th>12063</th>\n",
       "      <td>WZ45103</td>\n",
       "      <td>NaN</td>\n",
       "      <td>F</td>\n",
       "      <td>567805.02</td>\n",
       "      <td>0.0</td>\n",
       "      <td>76.0</td>\n",
       "      <td>Personal Auto</td>\n",
       "      <td>Four-Door Car</td>\n",
       "      <td>364.800000</td>\n",
       "      <td>California</td>\n",
       "    </tr>\n",
       "    <tr>\n",
       "      <th>12065</th>\n",
       "      <td>RX91025</td>\n",
       "      <td>NaN</td>\n",
       "      <td>M</td>\n",
       "      <td>1987226.20</td>\n",
       "      <td>0.0</td>\n",
       "      <td>185.0</td>\n",
       "      <td>Personal Auto</td>\n",
       "      <td>SUV</td>\n",
       "      <td>1950.725547</td>\n",
       "      <td>California</td>\n",
       "    </tr>\n",
       "    <tr>\n",
       "      <th>12066</th>\n",
       "      <td>AC13887</td>\n",
       "      <td>NaN</td>\n",
       "      <td>M</td>\n",
       "      <td>462899.53</td>\n",
       "      <td>0.0</td>\n",
       "      <td>67.0</td>\n",
       "      <td>Corporate Auto</td>\n",
       "      <td>Two-Door Car</td>\n",
       "      <td>482.400000</td>\n",
       "      <td>California</td>\n",
       "    </tr>\n",
       "    <tr>\n",
       "      <th>12071</th>\n",
       "      <td>TD14365</td>\n",
       "      <td>NaN</td>\n",
       "      <td>M</td>\n",
       "      <td>816389.04</td>\n",
       "      <td>0.0</td>\n",
       "      <td>85.0</td>\n",
       "      <td>Corporate Auto</td>\n",
       "      <td>Four-Door Car</td>\n",
       "      <td>790.784983</td>\n",
       "      <td>California</td>\n",
       "    </tr>\n",
       "    <tr>\n",
       "      <th>12073</th>\n",
       "      <td>Y167826</td>\n",
       "      <td>NaN</td>\n",
       "      <td>M</td>\n",
       "      <td>261183.69</td>\n",
       "      <td>0.0</td>\n",
       "      <td>77.0</td>\n",
       "      <td>Corporate Auto</td>\n",
       "      <td>Two-Door Car</td>\n",
       "      <td>369.600000</td>\n",
       "      <td>California</td>\n",
       "    </tr>\n",
       "  </tbody>\n",
       "</table>\n",
       "<p>2294 rows × 10 columns</p>\n",
       "</div>"
      ],
      "text/plain": [
       "      customer          st gender  customer lifetime value  income  \\\n",
       "0      RB50392  Washington    NaN                      NaN     0.0   \n",
       "1      QZ44356     Arizona      F                      NaN     0.0   \n",
       "3      WW63253  California      M                      NaN     0.0   \n",
       "7      CF85061     Arizona      M                      NaN     0.0   \n",
       "10     SX51350  California      M                      NaN     0.0   \n",
       "...        ...         ...    ...                      ...     ...   \n",
       "12063  WZ45103         NaN      F                567805.02     0.0   \n",
       "12065  RX91025         NaN      M               1987226.20     0.0   \n",
       "12066  AC13887         NaN      M                462899.53     0.0   \n",
       "12071  TD14365         NaN      M                816389.04     0.0   \n",
       "12073  Y167826         NaN      M                261183.69     0.0   \n",
       "\n",
       "       monthly premium auto     policy type  vehicle class  \\\n",
       "0                    1000.0   Personal Auto  Four-Door Car   \n",
       "1                      94.0   Personal Auto  Four-Door Car   \n",
       "3                     106.0  Corporate Auto            SUV   \n",
       "7                     101.0  Corporate Auto  Four-Door Car   \n",
       "10                     67.0   Personal Auto  Four-Door Car   \n",
       "...                     ...             ...            ...   \n",
       "12063                  76.0   Personal Auto  Four-Door Car   \n",
       "12065                 185.0   Personal Auto            SUV   \n",
       "12066                  67.0  Corporate Auto   Two-Door Car   \n",
       "12071                  85.0  Corporate Auto  Four-Door Car   \n",
       "12073                  77.0  Corporate Auto   Two-Door Car   \n",
       "\n",
       "       total claim amount       state  \n",
       "0                2.704934         NaN  \n",
       "1             1131.464935         NaN  \n",
       "3              529.881344         NaN  \n",
       "7              363.029680         NaN  \n",
       "10             482.400000         NaN  \n",
       "...                   ...         ...  \n",
       "12063          364.800000  California  \n",
       "12065         1950.725547  California  \n",
       "12066          482.400000  California  \n",
       "12071          790.784983  California  \n",
       "12073          369.600000  California  \n",
       "\n",
       "[2294 rows x 10 columns]"
      ]
     },
     "execution_count": 40,
     "metadata": {},
     "output_type": "execute_result"
    }
   ],
   "source": [
    "lab2.query('income <=0')"
   ]
  },
  {
   "cell_type": "code",
   "execution_count": null,
   "id": "77b13ee4",
   "metadata": {},
   "outputs": [],
   "source": []
  }
 ],
 "metadata": {
  "kernelspec": {
   "display_name": "Python 3",
   "language": "python",
   "name": "python3"
  },
  "language_info": {
   "codemirror_mode": {
    "name": "ipython",
    "version": 3
   },
   "file_extension": ".py",
   "mimetype": "text/x-python",
   "name": "python",
   "nbconvert_exporter": "python",
   "pygments_lexer": "ipython3",
   "version": "3.8.8"
  }
 },
 "nbformat": 4,
 "nbformat_minor": 5
}
