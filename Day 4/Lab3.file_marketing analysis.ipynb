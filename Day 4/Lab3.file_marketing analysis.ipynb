{
 "cells": [
  {
   "cell_type": "code",
   "execution_count": 1,
   "id": "937b762e",
   "metadata": {},
   "outputs": [],
   "source": [
    "import numpy as np\n",
    "import pandas as pd"
   ]
  },
  {
   "cell_type": "code",
   "execution_count": 2,
   "id": "705b4d24",
   "metadata": {},
   "outputs": [],
   "source": [
    "lab3=pd.read_csv('/Users/macbook/Desktop/IRON  HÂCK/Day3_Pandas_Date format/marketing_customer_analysis.csv')"
   ]
  },
  {
   "cell_type": "markdown",
   "id": "3ece336f",
   "metadata": {},
   "source": [
    "### 1. Show the dataframe shape."
   ]
  },
  {
   "cell_type": "code",
   "execution_count": 3,
   "id": "a1bef3a5",
   "metadata": {},
   "outputs": [
    {
     "data": {
      "text/plain": [
       "(10910, 26)"
      ]
     },
     "execution_count": 3,
     "metadata": {},
     "output_type": "execute_result"
    }
   ],
   "source": [
    "lab3.shape"
   ]
  },
  {
   "cell_type": "markdown",
   "id": "abe6d52b",
   "metadata": {},
   "source": [
    "### 2. Standardize header names."
   ]
  },
  {
   "cell_type": "code",
   "execution_count": 4,
   "id": "2e6d1c7f",
   "metadata": {},
   "outputs": [
    {
     "data": {
      "text/html": [
       "<div>\n",
       "<style scoped>\n",
       "    .dataframe tbody tr th:only-of-type {\n",
       "        vertical-align: middle;\n",
       "    }\n",
       "\n",
       "    .dataframe tbody tr th {\n",
       "        vertical-align: top;\n",
       "    }\n",
       "\n",
       "    .dataframe thead th {\n",
       "        text-align: right;\n",
       "    }\n",
       "</style>\n",
       "<table border=\"1\" class=\"dataframe\">\n",
       "  <thead>\n",
       "    <tr style=\"text-align: right;\">\n",
       "      <th></th>\n",
       "      <th>Unnamed: 0</th>\n",
       "      <th>Customer</th>\n",
       "      <th>State</th>\n",
       "      <th>Customer Lifetime Value</th>\n",
       "      <th>Response</th>\n",
       "      <th>Coverage</th>\n",
       "      <th>Education</th>\n",
       "      <th>Effective To Date</th>\n",
       "      <th>EmploymentStatus</th>\n",
       "      <th>Gender</th>\n",
       "      <th>...</th>\n",
       "      <th>Number of Open Complaints</th>\n",
       "      <th>Number of Policies</th>\n",
       "      <th>Policy Type</th>\n",
       "      <th>Policy</th>\n",
       "      <th>Renew Offer Type</th>\n",
       "      <th>Sales Channel</th>\n",
       "      <th>Total Claim Amount</th>\n",
       "      <th>Vehicle Class</th>\n",
       "      <th>Vehicle Size</th>\n",
       "      <th>Vehicle Type</th>\n",
       "    </tr>\n",
       "  </thead>\n",
       "  <tbody>\n",
       "    <tr>\n",
       "      <th>0</th>\n",
       "      <td>0</td>\n",
       "      <td>DK49336</td>\n",
       "      <td>Arizona</td>\n",
       "      <td>4809.216960</td>\n",
       "      <td>No</td>\n",
       "      <td>Basic</td>\n",
       "      <td>College</td>\n",
       "      <td>2/18/11</td>\n",
       "      <td>Employed</td>\n",
       "      <td>M</td>\n",
       "      <td>...</td>\n",
       "      <td>0.0</td>\n",
       "      <td>9</td>\n",
       "      <td>Corporate Auto</td>\n",
       "      <td>Corporate L3</td>\n",
       "      <td>Offer3</td>\n",
       "      <td>Agent</td>\n",
       "      <td>292.800000</td>\n",
       "      <td>Four-Door Car</td>\n",
       "      <td>Medsize</td>\n",
       "      <td>NaN</td>\n",
       "    </tr>\n",
       "    <tr>\n",
       "      <th>1</th>\n",
       "      <td>1</td>\n",
       "      <td>KX64629</td>\n",
       "      <td>California</td>\n",
       "      <td>2228.525238</td>\n",
       "      <td>No</td>\n",
       "      <td>Basic</td>\n",
       "      <td>College</td>\n",
       "      <td>1/18/11</td>\n",
       "      <td>Unemployed</td>\n",
       "      <td>F</td>\n",
       "      <td>...</td>\n",
       "      <td>0.0</td>\n",
       "      <td>1</td>\n",
       "      <td>Personal Auto</td>\n",
       "      <td>Personal L3</td>\n",
       "      <td>Offer4</td>\n",
       "      <td>Call Center</td>\n",
       "      <td>744.924331</td>\n",
       "      <td>Four-Door Car</td>\n",
       "      <td>Medsize</td>\n",
       "      <td>NaN</td>\n",
       "    </tr>\n",
       "  </tbody>\n",
       "</table>\n",
       "<p>2 rows × 26 columns</p>\n",
       "</div>"
      ],
      "text/plain": [
       "   Unnamed: 0 Customer       State  Customer Lifetime Value Response Coverage  \\\n",
       "0           0  DK49336     Arizona              4809.216960       No    Basic   \n",
       "1           1  KX64629  California              2228.525238       No    Basic   \n",
       "\n",
       "  Education Effective To Date EmploymentStatus Gender  ...  \\\n",
       "0   College           2/18/11         Employed      M  ...   \n",
       "1   College           1/18/11       Unemployed      F  ...   \n",
       "\n",
       "   Number of Open Complaints Number of Policies     Policy Type        Policy  \\\n",
       "0                        0.0                  9  Corporate Auto  Corporate L3   \n",
       "1                        0.0                  1   Personal Auto   Personal L3   \n",
       "\n",
       "   Renew Offer Type  Sales Channel  Total Claim Amount  Vehicle Class  \\\n",
       "0            Offer3          Agent          292.800000  Four-Door Car   \n",
       "1            Offer4    Call Center          744.924331  Four-Door Car   \n",
       "\n",
       "  Vehicle Size Vehicle Type  \n",
       "0      Medsize          NaN  \n",
       "1      Medsize          NaN  \n",
       "\n",
       "[2 rows x 26 columns]"
      ]
     },
     "execution_count": 4,
     "metadata": {},
     "output_type": "execute_result"
    }
   ],
   "source": [
    "lab3.head(2)"
   ]
  },
  {
   "cell_type": "code",
   "execution_count": 5,
   "id": "21e3933d",
   "metadata": {},
   "outputs": [
    {
     "data": {
      "text/plain": [
       "Index(['Unnamed: 0', 'Customer', 'State', 'Customer Lifetime Value',\n",
       "       'Response', 'Coverage', 'Education', 'Effective To Date',\n",
       "       'EmploymentStatus', 'Gender', 'Income', 'Location Code',\n",
       "       'Marital Status', 'Monthly Premium Auto', 'Months Since Last Claim',\n",
       "       'Months Since Policy Inception', 'Number of Open Complaints',\n",
       "       'Number of Policies', 'Policy Type', 'Policy', 'Renew Offer Type',\n",
       "       'Sales Channel', 'Total Claim Amount', 'Vehicle Class', 'Vehicle Size',\n",
       "       'Vehicle Type'],\n",
       "      dtype='object')"
      ]
     },
     "execution_count": 5,
     "metadata": {},
     "output_type": "execute_result"
    }
   ],
   "source": [
    "lab3.columns"
   ]
  },
  {
   "cell_type": "code",
   "execution_count": 6,
   "id": "7eaa0adf",
   "metadata": {},
   "outputs": [],
   "source": [
    "cols=[]\n",
    "for i in range (len(lab3.columns)):\n",
    "    cols.append(lab3.columns[i].lower())"
   ]
  },
  {
   "cell_type": "code",
   "execution_count": 7,
   "id": "85ac038e",
   "metadata": {},
   "outputs": [],
   "source": [
    "lab3.columns=cols"
   ]
  },
  {
   "cell_type": "code",
   "execution_count": 8,
   "id": "5598276b",
   "metadata": {},
   "outputs": [
    {
     "data": {
      "text/plain": [
       "Index(['unnamed: 0', 'customer', 'state', 'customer lifetime value',\n",
       "       'response', 'coverage', 'education', 'effective to date',\n",
       "       'employmentstatus', 'gender', 'income', 'location code',\n",
       "       'marital status', 'monthly premium auto', 'months since last claim',\n",
       "       'months since policy inception', 'number of open complaints',\n",
       "       'number of policies', 'policy type', 'policy', 'renew offer type',\n",
       "       'sales channel', 'total claim amount', 'vehicle class', 'vehicle size',\n",
       "       'vehicle type'],\n",
       "      dtype='object')"
      ]
     },
     "execution_count": 8,
     "metadata": {},
     "output_type": "execute_result"
    }
   ],
   "source": [
    "lab3.columns"
   ]
  },
  {
   "cell_type": "markdown",
   "id": "ec1c9c7d",
   "metadata": {},
   "source": [
    "## 3.Which columns are numerical?\n"
   ]
  },
  {
   "cell_type": "code",
   "execution_count": 9,
   "id": "53eca133",
   "metadata": {},
   "outputs": [
    {
     "data": {
      "text/html": [
       "<div>\n",
       "<style scoped>\n",
       "    .dataframe tbody tr th:only-of-type {\n",
       "        vertical-align: middle;\n",
       "    }\n",
       "\n",
       "    .dataframe tbody tr th {\n",
       "        vertical-align: top;\n",
       "    }\n",
       "\n",
       "    .dataframe thead th {\n",
       "        text-align: right;\n",
       "    }\n",
       "</style>\n",
       "<table border=\"1\" class=\"dataframe\">\n",
       "  <thead>\n",
       "    <tr style=\"text-align: right;\">\n",
       "      <th></th>\n",
       "      <th>unnamed: 0</th>\n",
       "      <th>customer</th>\n",
       "      <th>state</th>\n",
       "      <th>customer lifetime value</th>\n",
       "      <th>response</th>\n",
       "      <th>coverage</th>\n",
       "      <th>education</th>\n",
       "      <th>effective to date</th>\n",
       "      <th>employmentstatus</th>\n",
       "      <th>gender</th>\n",
       "      <th>...</th>\n",
       "      <th>number of open complaints</th>\n",
       "      <th>number of policies</th>\n",
       "      <th>policy type</th>\n",
       "      <th>policy</th>\n",
       "      <th>renew offer type</th>\n",
       "      <th>sales channel</th>\n",
       "      <th>total claim amount</th>\n",
       "      <th>vehicle class</th>\n",
       "      <th>vehicle size</th>\n",
       "      <th>vehicle type</th>\n",
       "    </tr>\n",
       "  </thead>\n",
       "  <tbody>\n",
       "    <tr>\n",
       "      <th>0</th>\n",
       "      <td>0</td>\n",
       "      <td>DK49336</td>\n",
       "      <td>Arizona</td>\n",
       "      <td>4809.216960</td>\n",
       "      <td>No</td>\n",
       "      <td>Basic</td>\n",
       "      <td>College</td>\n",
       "      <td>2/18/11</td>\n",
       "      <td>Employed</td>\n",
       "      <td>M</td>\n",
       "      <td>...</td>\n",
       "      <td>0.0</td>\n",
       "      <td>9</td>\n",
       "      <td>Corporate Auto</td>\n",
       "      <td>Corporate L3</td>\n",
       "      <td>Offer3</td>\n",
       "      <td>Agent</td>\n",
       "      <td>292.800000</td>\n",
       "      <td>Four-Door Car</td>\n",
       "      <td>Medsize</td>\n",
       "      <td>NaN</td>\n",
       "    </tr>\n",
       "    <tr>\n",
       "      <th>1</th>\n",
       "      <td>1</td>\n",
       "      <td>KX64629</td>\n",
       "      <td>California</td>\n",
       "      <td>2228.525238</td>\n",
       "      <td>No</td>\n",
       "      <td>Basic</td>\n",
       "      <td>College</td>\n",
       "      <td>1/18/11</td>\n",
       "      <td>Unemployed</td>\n",
       "      <td>F</td>\n",
       "      <td>...</td>\n",
       "      <td>0.0</td>\n",
       "      <td>1</td>\n",
       "      <td>Personal Auto</td>\n",
       "      <td>Personal L3</td>\n",
       "      <td>Offer4</td>\n",
       "      <td>Call Center</td>\n",
       "      <td>744.924331</td>\n",
       "      <td>Four-Door Car</td>\n",
       "      <td>Medsize</td>\n",
       "      <td>NaN</td>\n",
       "    </tr>\n",
       "    <tr>\n",
       "      <th>2</th>\n",
       "      <td>2</td>\n",
       "      <td>LZ68649</td>\n",
       "      <td>Washington</td>\n",
       "      <td>14947.917300</td>\n",
       "      <td>No</td>\n",
       "      <td>Basic</td>\n",
       "      <td>Bachelor</td>\n",
       "      <td>2/10/11</td>\n",
       "      <td>Employed</td>\n",
       "      <td>M</td>\n",
       "      <td>...</td>\n",
       "      <td>0.0</td>\n",
       "      <td>2</td>\n",
       "      <td>Personal Auto</td>\n",
       "      <td>Personal L3</td>\n",
       "      <td>Offer3</td>\n",
       "      <td>Call Center</td>\n",
       "      <td>480.000000</td>\n",
       "      <td>SUV</td>\n",
       "      <td>Medsize</td>\n",
       "      <td>A</td>\n",
       "    </tr>\n",
       "    <tr>\n",
       "      <th>3</th>\n",
       "      <td>3</td>\n",
       "      <td>XL78013</td>\n",
       "      <td>Oregon</td>\n",
       "      <td>22332.439460</td>\n",
       "      <td>Yes</td>\n",
       "      <td>Extended</td>\n",
       "      <td>College</td>\n",
       "      <td>1/11/11</td>\n",
       "      <td>Employed</td>\n",
       "      <td>M</td>\n",
       "      <td>...</td>\n",
       "      <td>0.0</td>\n",
       "      <td>2</td>\n",
       "      <td>Corporate Auto</td>\n",
       "      <td>Corporate L3</td>\n",
       "      <td>Offer2</td>\n",
       "      <td>Branch</td>\n",
       "      <td>484.013411</td>\n",
       "      <td>Four-Door Car</td>\n",
       "      <td>Medsize</td>\n",
       "      <td>A</td>\n",
       "    </tr>\n",
       "    <tr>\n",
       "      <th>4</th>\n",
       "      <td>4</td>\n",
       "      <td>QA50777</td>\n",
       "      <td>Oregon</td>\n",
       "      <td>9025.067525</td>\n",
       "      <td>No</td>\n",
       "      <td>Premium</td>\n",
       "      <td>Bachelor</td>\n",
       "      <td>1/17/11</td>\n",
       "      <td>Medical Leave</td>\n",
       "      <td>F</td>\n",
       "      <td>...</td>\n",
       "      <td>NaN</td>\n",
       "      <td>7</td>\n",
       "      <td>Personal Auto</td>\n",
       "      <td>Personal L2</td>\n",
       "      <td>Offer1</td>\n",
       "      <td>Branch</td>\n",
       "      <td>707.925645</td>\n",
       "      <td>Four-Door Car</td>\n",
       "      <td>Medsize</td>\n",
       "      <td>NaN</td>\n",
       "    </tr>\n",
       "  </tbody>\n",
       "</table>\n",
       "<p>5 rows × 26 columns</p>\n",
       "</div>"
      ],
      "text/plain": [
       "   unnamed: 0 customer       state  customer lifetime value response  \\\n",
       "0           0  DK49336     Arizona              4809.216960       No   \n",
       "1           1  KX64629  California              2228.525238       No   \n",
       "2           2  LZ68649  Washington             14947.917300       No   \n",
       "3           3  XL78013      Oregon             22332.439460      Yes   \n",
       "4           4  QA50777      Oregon              9025.067525       No   \n",
       "\n",
       "   coverage education effective to date employmentstatus gender  ...  \\\n",
       "0     Basic   College           2/18/11         Employed      M  ...   \n",
       "1     Basic   College           1/18/11       Unemployed      F  ...   \n",
       "2     Basic  Bachelor           2/10/11         Employed      M  ...   \n",
       "3  Extended   College           1/11/11         Employed      M  ...   \n",
       "4   Premium  Bachelor           1/17/11    Medical Leave      F  ...   \n",
       "\n",
       "   number of open complaints number of policies     policy type        policy  \\\n",
       "0                        0.0                  9  Corporate Auto  Corporate L3   \n",
       "1                        0.0                  1   Personal Auto   Personal L3   \n",
       "2                        0.0                  2   Personal Auto   Personal L3   \n",
       "3                        0.0                  2  Corporate Auto  Corporate L3   \n",
       "4                        NaN                  7   Personal Auto   Personal L2   \n",
       "\n",
       "   renew offer type  sales channel  total claim amount  vehicle class  \\\n",
       "0            Offer3          Agent          292.800000  Four-Door Car   \n",
       "1            Offer4    Call Center          744.924331  Four-Door Car   \n",
       "2            Offer3    Call Center          480.000000            SUV   \n",
       "3            Offer2         Branch          484.013411  Four-Door Car   \n",
       "4            Offer1         Branch          707.925645  Four-Door Car   \n",
       "\n",
       "  vehicle size vehicle type  \n",
       "0      Medsize          NaN  \n",
       "1      Medsize          NaN  \n",
       "2      Medsize            A  \n",
       "3      Medsize            A  \n",
       "4      Medsize          NaN  \n",
       "\n",
       "[5 rows x 26 columns]"
      ]
     },
     "execution_count": 9,
     "metadata": {},
     "output_type": "execute_result"
    }
   ],
   "source": [
    "lab3.head()"
   ]
  },
  {
   "cell_type": "code",
   "execution_count": 10,
   "id": "d2af1d28",
   "metadata": {},
   "outputs": [
    {
     "data": {
      "text/plain": [
       "Index(['unnamed: 0', 'customer lifetime value', 'income',\n",
       "       'monthly premium auto', 'months since last claim',\n",
       "       'months since policy inception', 'number of open complaints',\n",
       "       'number of policies', 'total claim amount'],\n",
       "      dtype='object')"
      ]
     },
     "execution_count": 10,
     "metadata": {},
     "output_type": "execute_result"
    }
   ],
   "source": [
    "numerical=lab3.select_dtypes([np.number]).columns\n",
    "numerical"
   ]
  },
  {
   "cell_type": "markdown",
   "id": "c3f33e60",
   "metadata": {},
   "source": [
    "## 4. Which columns are categorical?"
   ]
  },
  {
   "cell_type": "code",
   "execution_count": 11,
   "id": "980dee3a",
   "metadata": {},
   "outputs": [
    {
     "data": {
      "text/plain": [
       "Index(['customer', 'state', 'response', 'coverage', 'education',\n",
       "       'effective to date', 'employmentstatus', 'gender', 'location code',\n",
       "       'marital status', 'policy type', 'policy', 'renew offer type',\n",
       "       'sales channel', 'vehicle class', 'vehicle size', 'vehicle type'],\n",
       "      dtype='object')"
      ]
     },
     "execution_count": 11,
     "metadata": {},
     "output_type": "execute_result"
    }
   ],
   "source": [
    "categorical=lab3.select_dtypes('object').columns\n",
    "categorical"
   ]
  },
  {
   "cell_type": "markdown",
   "id": "c5e8515b",
   "metadata": {},
   "source": [
    "## 5.Check and deal with NaN values.\n"
   ]
  },
  {
   "cell_type": "code",
   "execution_count": 12,
   "id": "772e82d4",
   "metadata": {},
   "outputs": [
    {
     "data": {
      "text/plain": [
       "9254"
      ]
     },
     "execution_count": 12,
     "metadata": {},
     "output_type": "execute_result"
    }
   ],
   "source": [
    "#how many nulls data we have in the file:\n",
    "lab3.isnull().sum().sum()\n"
   ]
  },
  {
   "cell_type": "code",
   "execution_count": 13,
   "id": "adbe2056",
   "metadata": {},
   "outputs": [
    {
     "data": {
      "text/plain": [
       "unnamed: 0                       False\n",
       "customer                         False\n",
       "state                             True\n",
       "customer lifetime value          False\n",
       "response                          True\n",
       "coverage                         False\n",
       "education                        False\n",
       "effective to date                False\n",
       "employmentstatus                 False\n",
       "gender                           False\n",
       "income                           False\n",
       "location code                    False\n",
       "marital status                   False\n",
       "monthly premium auto             False\n",
       "months since last claim           True\n",
       "months since policy inception    False\n",
       "number of open complaints         True\n",
       "number of policies               False\n",
       "policy type                      False\n",
       "policy                           False\n",
       "renew offer type                 False\n",
       "sales channel                    False\n",
       "total claim amount               False\n",
       "vehicle class                     True\n",
       "vehicle size                      True\n",
       "vehicle type                      True\n",
       "dtype: bool"
      ]
     },
     "execution_count": 13,
     "metadata": {},
     "output_type": "execute_result"
    }
   ],
   "source": [
    "#check which column contains Nan value\n",
    "lab3.isnull().any()"
   ]
  },
  {
   "cell_type": "code",
   "execution_count": 14,
   "id": "ea5e6c3c",
   "metadata": {},
   "outputs": [],
   "source": [
    "#delete a row if they have all NaN \n",
    "lab3=lab3.dropna(how='all')"
   ]
  },
  {
   "cell_type": "code",
   "execution_count": 15,
   "id": "835c534f",
   "metadata": {},
   "outputs": [],
   "source": [
    "lab3.reset_index(drop=True,inplace=True)"
   ]
  },
  {
   "cell_type": "code",
   "execution_count": 16,
   "id": "d7af4ea5",
   "metadata": {},
   "outputs": [
    {
     "name": "stdout",
     "output_type": "stream",
     "text": [
      "<class 'pandas.core.frame.DataFrame'>\n",
      "RangeIndex: 10910 entries, 0 to 10909\n",
      "Data columns (total 26 columns):\n",
      " #   Column                         Non-Null Count  Dtype  \n",
      "---  ------                         --------------  -----  \n",
      " 0   unnamed: 0                     10910 non-null  int64  \n",
      " 1   customer                       10910 non-null  object \n",
      " 2   state                          10279 non-null  object \n",
      " 3   customer lifetime value        10910 non-null  float64\n",
      " 4   response                       10279 non-null  object \n",
      " 5   coverage                       10910 non-null  object \n",
      " 6   education                      10910 non-null  object \n",
      " 7   effective to date              10910 non-null  object \n",
      " 8   employmentstatus               10910 non-null  object \n",
      " 9   gender                         10910 non-null  object \n",
      " 10  income                         10910 non-null  int64  \n",
      " 11  location code                  10910 non-null  object \n",
      " 12  marital status                 10910 non-null  object \n",
      " 13  monthly premium auto           10910 non-null  int64  \n",
      " 14  months since last claim        10277 non-null  float64\n",
      " 15  months since policy inception  10910 non-null  int64  \n",
      " 16  number of open complaints      10277 non-null  float64\n",
      " 17  number of policies             10910 non-null  int64  \n",
      " 18  policy type                    10910 non-null  object \n",
      " 19  policy                         10910 non-null  object \n",
      " 20  renew offer type               10910 non-null  object \n",
      " 21  sales channel                  10910 non-null  object \n",
      " 22  total claim amount             10910 non-null  float64\n",
      " 23  vehicle class                  10288 non-null  object \n",
      " 24  vehicle size                   10288 non-null  object \n",
      " 25  vehicle type                   5428 non-null   object \n",
      "dtypes: float64(4), int64(5), object(17)\n",
      "memory usage: 2.2+ MB\n"
     ]
    }
   ],
   "source": [
    "lab3.info()"
   ]
  },
  {
   "cell_type": "code",
   "execution_count": 17,
   "id": "93df8964",
   "metadata": {},
   "outputs": [],
   "source": [
    "lab3['vehicle class']= lab3['vehicle class'].fillna(\"Unknown\")"
   ]
  },
  {
   "cell_type": "code",
   "execution_count": 18,
   "id": "1bc3536c",
   "metadata": {},
   "outputs": [],
   "source": [
    "lab3['vehicle size']= lab3['vehicle size'].fillna(\"Unknown\")"
   ]
  },
  {
   "cell_type": "code",
   "execution_count": 19,
   "id": "7391ba33",
   "metadata": {},
   "outputs": [],
   "source": [
    "lab3['vehicle type']= lab3['vehicle type'].fillna(\"Unknown\")"
   ]
  },
  {
   "cell_type": "code",
   "execution_count": 20,
   "id": "09d59bd2",
   "metadata": {},
   "outputs": [],
   "source": [
    "med_16=lab3['number of open complaints'].median()"
   ]
  },
  {
   "cell_type": "code",
   "execution_count": 21,
   "id": "b502a066",
   "metadata": {},
   "outputs": [],
   "source": [
    "#fill Nan data in column (number of open complaints) with median number\n",
    "lab3['number of open complaints']=lab3['number of open complaints'].fillna(med_16)"
   ]
  },
  {
   "cell_type": "code",
   "execution_count": 22,
   "id": "1111af6d",
   "metadata": {},
   "outputs": [],
   "source": [
    "med_14=lab3['months since last claim'].median()"
   ]
  },
  {
   "cell_type": "code",
   "execution_count": 23,
   "id": "c3b516cd",
   "metadata": {},
   "outputs": [],
   "source": [
    "lab3['months since last claim']=lab3['months since last claim'].fillna(med_14)"
   ]
  },
  {
   "cell_type": "code",
   "execution_count": 24,
   "id": "a557e785",
   "metadata": {},
   "outputs": [],
   "source": [
    "lab3.fillna(\"Unknown\",inplace=True)"
   ]
  },
  {
   "cell_type": "code",
   "execution_count": 25,
   "id": "f1578216",
   "metadata": {},
   "outputs": [
    {
     "name": "stdout",
     "output_type": "stream",
     "text": [
      "<class 'pandas.core.frame.DataFrame'>\n",
      "RangeIndex: 10910 entries, 0 to 10909\n",
      "Data columns (total 26 columns):\n",
      " #   Column                         Non-Null Count  Dtype  \n",
      "---  ------                         --------------  -----  \n",
      " 0   unnamed: 0                     10910 non-null  int64  \n",
      " 1   customer                       10910 non-null  object \n",
      " 2   state                          10910 non-null  object \n",
      " 3   customer lifetime value        10910 non-null  float64\n",
      " 4   response                       10910 non-null  object \n",
      " 5   coverage                       10910 non-null  object \n",
      " 6   education                      10910 non-null  object \n",
      " 7   effective to date              10910 non-null  object \n",
      " 8   employmentstatus               10910 non-null  object \n",
      " 9   gender                         10910 non-null  object \n",
      " 10  income                         10910 non-null  int64  \n",
      " 11  location code                  10910 non-null  object \n",
      " 12  marital status                 10910 non-null  object \n",
      " 13  monthly premium auto           10910 non-null  int64  \n",
      " 14  months since last claim        10910 non-null  float64\n",
      " 15  months since policy inception  10910 non-null  int64  \n",
      " 16  number of open complaints      10910 non-null  float64\n",
      " 17  number of policies             10910 non-null  int64  \n",
      " 18  policy type                    10910 non-null  object \n",
      " 19  policy                         10910 non-null  object \n",
      " 20  renew offer type               10910 non-null  object \n",
      " 21  sales channel                  10910 non-null  object \n",
      " 22  total claim amount             10910 non-null  float64\n",
      " 23  vehicle class                  10910 non-null  object \n",
      " 24  vehicle size                   10910 non-null  object \n",
      " 25  vehicle type                   10910 non-null  object \n",
      "dtypes: float64(4), int64(5), object(17)\n",
      "memory usage: 2.2+ MB\n"
     ]
    }
   ],
   "source": [
    "lab3.info()"
   ]
  },
  {
   "cell_type": "markdown",
   "id": "f4381dc9",
   "metadata": {},
   "source": [
    "## 6. Datetime format - Extract the months from the dataset and store in a separate column. Then filter the data to show only the information for the first quarter , ie. January, February and March. Hint: If data from March does not exist, consider only January and February"
   ]
  },
  {
   "cell_type": "code",
   "execution_count": 26,
   "id": "cd8009bf",
   "metadata": {},
   "outputs": [],
   "source": [
    "import time\n",
    "from datetime import date"
   ]
  },
  {
   "cell_type": "code",
   "execution_count": 27,
   "id": "69b86144",
   "metadata": {},
   "outputs": [
    {
     "name": "stdout",
     "output_type": "stream",
     "text": [
      "<class 'pandas.core.frame.DataFrame'>\n",
      "RangeIndex: 10910 entries, 0 to 10909\n",
      "Data columns (total 26 columns):\n",
      " #   Column                         Non-Null Count  Dtype         \n",
      "---  ------                         --------------  -----         \n",
      " 0   unnamed: 0                     10910 non-null  int64         \n",
      " 1   customer                       10910 non-null  object        \n",
      " 2   state                          10910 non-null  object        \n",
      " 3   customer lifetime value        10910 non-null  float64       \n",
      " 4   response                       10910 non-null  object        \n",
      " 5   coverage                       10910 non-null  object        \n",
      " 6   education                      10910 non-null  object        \n",
      " 7   effective to date              10910 non-null  datetime64[ns]\n",
      " 8   employmentstatus               10910 non-null  object        \n",
      " 9   gender                         10910 non-null  object        \n",
      " 10  income                         10910 non-null  int64         \n",
      " 11  location code                  10910 non-null  object        \n",
      " 12  marital status                 10910 non-null  object        \n",
      " 13  monthly premium auto           10910 non-null  int64         \n",
      " 14  months since last claim        10910 non-null  float64       \n",
      " 15  months since policy inception  10910 non-null  int64         \n",
      " 16  number of open complaints      10910 non-null  float64       \n",
      " 17  number of policies             10910 non-null  int64         \n",
      " 18  policy type                    10910 non-null  object        \n",
      " 19  policy                         10910 non-null  object        \n",
      " 20  renew offer type               10910 non-null  object        \n",
      " 21  sales channel                  10910 non-null  object        \n",
      " 22  total claim amount             10910 non-null  float64       \n",
      " 23  vehicle class                  10910 non-null  object        \n",
      " 24  vehicle size                   10910 non-null  object        \n",
      " 25  vehicle type                   10910 non-null  object        \n",
      "dtypes: datetime64[ns](1), float64(4), int64(5), object(16)\n",
      "memory usage: 2.2+ MB\n"
     ]
    }
   ],
   "source": [
    "lab3['effective to date']=pd.to_datetime(lab3['effective to date'],errors='coerce')\n",
    "lab3.info()"
   ]
  },
  {
   "cell_type": "code",
   "execution_count": 28,
   "id": "659af220",
   "metadata": {},
   "outputs": [],
   "source": [
    "lab3['month']=lab3['effective to date'].dt.strftime('%B')"
   ]
  },
  {
   "cell_type": "code",
   "execution_count": 29,
   "id": "f99db5bb",
   "metadata": {},
   "outputs": [],
   "source": [
    "lab3['year']=lab3['effective to date'].dt.strftime('%Y')"
   ]
  },
  {
   "cell_type": "code",
   "execution_count": 30,
   "id": "d9c348c1",
   "metadata": {},
   "outputs": [
    {
     "data": {
      "text/plain": [
       "array(['2011'], dtype=object)"
      ]
     },
     "execution_count": 30,
     "metadata": {},
     "output_type": "execute_result"
    }
   ],
   "source": [
    "lab3['year'].unique()"
   ]
  },
  {
   "cell_type": "code",
   "execution_count": 31,
   "id": "64dea013",
   "metadata": {},
   "outputs": [
    {
     "data": {
      "text/plain": [
       "array(['February', 'January'], dtype=object)"
      ]
     },
     "execution_count": 31,
     "metadata": {},
     "output_type": "execute_result"
    }
   ],
   "source": [
    "lab3['month'].unique()"
   ]
  },
  {
   "cell_type": "code",
   "execution_count": 32,
   "id": "88bc0d8c",
   "metadata": {},
   "outputs": [],
   "source": [
    "lab3_Q1=lab3[lab3['effective to date'].dt.to_period('Q') == '2011Q1']"
   ]
  },
  {
   "cell_type": "code",
   "execution_count": 33,
   "id": "b48386bd",
   "metadata": {},
   "outputs": [
    {
     "data": {
      "text/html": [
       "<div>\n",
       "<style scoped>\n",
       "    .dataframe tbody tr th:only-of-type {\n",
       "        vertical-align: middle;\n",
       "    }\n",
       "\n",
       "    .dataframe tbody tr th {\n",
       "        vertical-align: top;\n",
       "    }\n",
       "\n",
       "    .dataframe thead th {\n",
       "        text-align: right;\n",
       "    }\n",
       "</style>\n",
       "<table border=\"1\" class=\"dataframe\">\n",
       "  <thead>\n",
       "    <tr style=\"text-align: right;\">\n",
       "      <th></th>\n",
       "      <th>unnamed: 0</th>\n",
       "      <th>customer</th>\n",
       "      <th>state</th>\n",
       "      <th>customer lifetime value</th>\n",
       "      <th>response</th>\n",
       "      <th>coverage</th>\n",
       "      <th>education</th>\n",
       "      <th>effective to date</th>\n",
       "      <th>employmentstatus</th>\n",
       "      <th>gender</th>\n",
       "      <th>...</th>\n",
       "      <th>policy type</th>\n",
       "      <th>policy</th>\n",
       "      <th>renew offer type</th>\n",
       "      <th>sales channel</th>\n",
       "      <th>total claim amount</th>\n",
       "      <th>vehicle class</th>\n",
       "      <th>vehicle size</th>\n",
       "      <th>vehicle type</th>\n",
       "      <th>month</th>\n",
       "      <th>year</th>\n",
       "    </tr>\n",
       "  </thead>\n",
       "  <tbody>\n",
       "    <tr>\n",
       "      <th>5455</th>\n",
       "      <td>5455</td>\n",
       "      <td>UA94723</td>\n",
       "      <td>Oregon</td>\n",
       "      <td>4428.031583</td>\n",
       "      <td>Yes</td>\n",
       "      <td>Basic</td>\n",
       "      <td>High School or Below</td>\n",
       "      <td>2011-01-29</td>\n",
       "      <td>Employed</td>\n",
       "      <td>F</td>\n",
       "      <td>...</td>\n",
       "      <td>Personal Auto</td>\n",
       "      <td>Personal L3</td>\n",
       "      <td>Offer1</td>\n",
       "      <td>Agent</td>\n",
       "      <td>303.872752</td>\n",
       "      <td>SUV</td>\n",
       "      <td>Medsize</td>\n",
       "      <td>Unknown</td>\n",
       "      <td>January</td>\n",
       "      <td>2011</td>\n",
       "    </tr>\n",
       "    <tr>\n",
       "      <th>6146</th>\n",
       "      <td>6146</td>\n",
       "      <td>PJ73790</td>\n",
       "      <td>Oregon</td>\n",
       "      <td>3939.006370</td>\n",
       "      <td>Yes</td>\n",
       "      <td>Extended</td>\n",
       "      <td>Bachelor</td>\n",
       "      <td>2011-01-28</td>\n",
       "      <td>Employed</td>\n",
       "      <td>F</td>\n",
       "      <td>...</td>\n",
       "      <td>Special Auto</td>\n",
       "      <td>Special L1</td>\n",
       "      <td>Offer2</td>\n",
       "      <td>Agent</td>\n",
       "      <td>882.871945</td>\n",
       "      <td>Four-Door Car</td>\n",
       "      <td>Small</td>\n",
       "      <td>A</td>\n",
       "      <td>January</td>\n",
       "      <td>2011</td>\n",
       "    </tr>\n",
       "    <tr>\n",
       "      <th>6163</th>\n",
       "      <td>6163</td>\n",
       "      <td>DO95670</td>\n",
       "      <td>Arizona</td>\n",
       "      <td>5073.282126</td>\n",
       "      <td>Yes</td>\n",
       "      <td>Extended</td>\n",
       "      <td>Doctor</td>\n",
       "      <td>2011-01-30</td>\n",
       "      <td>Employed</td>\n",
       "      <td>M</td>\n",
       "      <td>...</td>\n",
       "      <td>Personal Auto</td>\n",
       "      <td>Personal L3</td>\n",
       "      <td>Offer2</td>\n",
       "      <td>Branch</td>\n",
       "      <td>600.000000</td>\n",
       "      <td>SUV</td>\n",
       "      <td>Medsize</td>\n",
       "      <td>Unknown</td>\n",
       "      <td>January</td>\n",
       "      <td>2011</td>\n",
       "    </tr>\n",
       "    <tr>\n",
       "      <th>6162</th>\n",
       "      <td>6162</td>\n",
       "      <td>MI42935</td>\n",
       "      <td>California</td>\n",
       "      <td>5654.593045</td>\n",
       "      <td>No</td>\n",
       "      <td>Extended</td>\n",
       "      <td>Bachelor</td>\n",
       "      <td>2011-01-04</td>\n",
       "      <td>Unemployed</td>\n",
       "      <td>F</td>\n",
       "      <td>...</td>\n",
       "      <td>Personal Auto</td>\n",
       "      <td>Personal L2</td>\n",
       "      <td>Offer3</td>\n",
       "      <td>Call Center</td>\n",
       "      <td>597.600000</td>\n",
       "      <td>Four-Door Car</td>\n",
       "      <td>Medsize</td>\n",
       "      <td>A</td>\n",
       "      <td>January</td>\n",
       "      <td>2011</td>\n",
       "    </tr>\n",
       "    <tr>\n",
       "      <th>6161</th>\n",
       "      <td>6161</td>\n",
       "      <td>JM67025</td>\n",
       "      <td>Nevada</td>\n",
       "      <td>5230.092742</td>\n",
       "      <td>No</td>\n",
       "      <td>Basic</td>\n",
       "      <td>High School or Below</td>\n",
       "      <td>2011-01-02</td>\n",
       "      <td>Employed</td>\n",
       "      <td>M</td>\n",
       "      <td>...</td>\n",
       "      <td>Personal Auto</td>\n",
       "      <td>Personal L2</td>\n",
       "      <td>Offer1</td>\n",
       "      <td>Call Center</td>\n",
       "      <td>202.961374</td>\n",
       "      <td>Four-Door Car</td>\n",
       "      <td>Medsize</td>\n",
       "      <td>A</td>\n",
       "      <td>January</td>\n",
       "      <td>2011</td>\n",
       "    </tr>\n",
       "    <tr>\n",
       "      <th>...</th>\n",
       "      <td>...</td>\n",
       "      <td>...</td>\n",
       "      <td>...</td>\n",
       "      <td>...</td>\n",
       "      <td>...</td>\n",
       "      <td>...</td>\n",
       "      <td>...</td>\n",
       "      <td>...</td>\n",
       "      <td>...</td>\n",
       "      <td>...</td>\n",
       "      <td>...</td>\n",
       "      <td>...</td>\n",
       "      <td>...</td>\n",
       "      <td>...</td>\n",
       "      <td>...</td>\n",
       "      <td>...</td>\n",
       "      <td>...</td>\n",
       "      <td>...</td>\n",
       "      <td>...</td>\n",
       "      <td>...</td>\n",
       "      <td>...</td>\n",
       "    </tr>\n",
       "    <tr>\n",
       "      <th>2322</th>\n",
       "      <td>2322</td>\n",
       "      <td>UF13251</td>\n",
       "      <td>Oregon</td>\n",
       "      <td>8510.758196</td>\n",
       "      <td>No</td>\n",
       "      <td>Basic</td>\n",
       "      <td>High School or Below</td>\n",
       "      <td>2011-02-26</td>\n",
       "      <td>Employed</td>\n",
       "      <td>M</td>\n",
       "      <td>...</td>\n",
       "      <td>Personal Auto</td>\n",
       "      <td>Personal L2</td>\n",
       "      <td>Offer2</td>\n",
       "      <td>Web</td>\n",
       "      <td>638.098653</td>\n",
       "      <td>SUV</td>\n",
       "      <td>Medsize</td>\n",
       "      <td>A</td>\n",
       "      <td>February</td>\n",
       "      <td>2011</td>\n",
       "    </tr>\n",
       "    <tr>\n",
       "      <th>6552</th>\n",
       "      <td>6552</td>\n",
       "      <td>AX10148</td>\n",
       "      <td>California</td>\n",
       "      <td>2409.368488</td>\n",
       "      <td>No</td>\n",
       "      <td>Basic</td>\n",
       "      <td>Bachelor</td>\n",
       "      <td>2011-02-01</td>\n",
       "      <td>Unemployed</td>\n",
       "      <td>F</td>\n",
       "      <td>...</td>\n",
       "      <td>Personal Auto</td>\n",
       "      <td>Personal L2</td>\n",
       "      <td>Offer4</td>\n",
       "      <td>Web</td>\n",
       "      <td>316.800000</td>\n",
       "      <td>Unknown</td>\n",
       "      <td>Unknown</td>\n",
       "      <td>Unknown</td>\n",
       "      <td>February</td>\n",
       "      <td>2011</td>\n",
       "    </tr>\n",
       "    <tr>\n",
       "      <th>6551</th>\n",
       "      <td>6551</td>\n",
       "      <td>PS78418</td>\n",
       "      <td>Oregon</td>\n",
       "      <td>5773.900390</td>\n",
       "      <td>No</td>\n",
       "      <td>Basic</td>\n",
       "      <td>Bachelor</td>\n",
       "      <td>2011-02-25</td>\n",
       "      <td>Employed</td>\n",
       "      <td>M</td>\n",
       "      <td>...</td>\n",
       "      <td>Personal Auto</td>\n",
       "      <td>Personal L2</td>\n",
       "      <td>Offer1</td>\n",
       "      <td>Branch</td>\n",
       "      <td>234.997994</td>\n",
       "      <td>Two-Door Car</td>\n",
       "      <td>Medsize</td>\n",
       "      <td>A</td>\n",
       "      <td>February</td>\n",
       "      <td>2011</td>\n",
       "    </tr>\n",
       "    <tr>\n",
       "      <th>2323</th>\n",
       "      <td>2323</td>\n",
       "      <td>IE82679</td>\n",
       "      <td>California</td>\n",
       "      <td>2453.570794</td>\n",
       "      <td>Yes</td>\n",
       "      <td>Basic</td>\n",
       "      <td>Bachelor</td>\n",
       "      <td>2011-02-09</td>\n",
       "      <td>Medical Leave</td>\n",
       "      <td>M</td>\n",
       "      <td>...</td>\n",
       "      <td>Personal Auto</td>\n",
       "      <td>Personal L2</td>\n",
       "      <td>Offer1</td>\n",
       "      <td>Agent</td>\n",
       "      <td>331.200000</td>\n",
       "      <td>Four-Door Car</td>\n",
       "      <td>Medsize</td>\n",
       "      <td>A</td>\n",
       "      <td>February</td>\n",
       "      <td>2011</td>\n",
       "    </tr>\n",
       "    <tr>\n",
       "      <th>0</th>\n",
       "      <td>0</td>\n",
       "      <td>DK49336</td>\n",
       "      <td>Arizona</td>\n",
       "      <td>4809.216960</td>\n",
       "      <td>No</td>\n",
       "      <td>Basic</td>\n",
       "      <td>College</td>\n",
       "      <td>2011-02-18</td>\n",
       "      <td>Employed</td>\n",
       "      <td>M</td>\n",
       "      <td>...</td>\n",
       "      <td>Corporate Auto</td>\n",
       "      <td>Corporate L3</td>\n",
       "      <td>Offer3</td>\n",
       "      <td>Agent</td>\n",
       "      <td>292.800000</td>\n",
       "      <td>Four-Door Car</td>\n",
       "      <td>Medsize</td>\n",
       "      <td>Unknown</td>\n",
       "      <td>February</td>\n",
       "      <td>2011</td>\n",
       "    </tr>\n",
       "  </tbody>\n",
       "</table>\n",
       "<p>10910 rows × 28 columns</p>\n",
       "</div>"
      ],
      "text/plain": [
       "      unnamed: 0 customer       state  customer lifetime value response  \\\n",
       "5455        5455  UA94723      Oregon              4428.031583      Yes   \n",
       "6146        6146  PJ73790      Oregon              3939.006370      Yes   \n",
       "6163        6163  DO95670     Arizona              5073.282126      Yes   \n",
       "6162        6162  MI42935  California              5654.593045       No   \n",
       "6161        6161  JM67025      Nevada              5230.092742       No   \n",
       "...          ...      ...         ...                      ...      ...   \n",
       "2322        2322  UF13251      Oregon              8510.758196       No   \n",
       "6552        6552  AX10148  California              2409.368488       No   \n",
       "6551        6551  PS78418      Oregon              5773.900390       No   \n",
       "2323        2323  IE82679  California              2453.570794      Yes   \n",
       "0              0  DK49336     Arizona              4809.216960       No   \n",
       "\n",
       "      coverage             education effective to date employmentstatus  \\\n",
       "5455     Basic  High School or Below        2011-01-29         Employed   \n",
       "6146  Extended              Bachelor        2011-01-28         Employed   \n",
       "6163  Extended                Doctor        2011-01-30         Employed   \n",
       "6162  Extended              Bachelor        2011-01-04       Unemployed   \n",
       "6161     Basic  High School or Below        2011-01-02         Employed   \n",
       "...        ...                   ...               ...              ...   \n",
       "2322     Basic  High School or Below        2011-02-26         Employed   \n",
       "6552     Basic              Bachelor        2011-02-01       Unemployed   \n",
       "6551     Basic              Bachelor        2011-02-25         Employed   \n",
       "2323     Basic              Bachelor        2011-02-09    Medical Leave   \n",
       "0        Basic               College        2011-02-18         Employed   \n",
       "\n",
       "     gender  ...     policy type        policy renew offer type  \\\n",
       "5455      F  ...   Personal Auto   Personal L3           Offer1   \n",
       "6146      F  ...    Special Auto    Special L1           Offer2   \n",
       "6163      M  ...   Personal Auto   Personal L3           Offer2   \n",
       "6162      F  ...   Personal Auto   Personal L2           Offer3   \n",
       "6161      M  ...   Personal Auto   Personal L2           Offer1   \n",
       "...     ...  ...             ...           ...              ...   \n",
       "2322      M  ...   Personal Auto   Personal L2           Offer2   \n",
       "6552      F  ...   Personal Auto   Personal L2           Offer4   \n",
       "6551      M  ...   Personal Auto   Personal L2           Offer1   \n",
       "2323      M  ...   Personal Auto   Personal L2           Offer1   \n",
       "0         M  ...  Corporate Auto  Corporate L3           Offer3   \n",
       "\n",
       "      sales channel  total claim amount  vehicle class  vehicle size  \\\n",
       "5455          Agent          303.872752            SUV       Medsize   \n",
       "6146          Agent          882.871945  Four-Door Car         Small   \n",
       "6163         Branch          600.000000            SUV       Medsize   \n",
       "6162    Call Center          597.600000  Four-Door Car       Medsize   \n",
       "6161    Call Center          202.961374  Four-Door Car       Medsize   \n",
       "...             ...                 ...            ...           ...   \n",
       "2322            Web          638.098653            SUV       Medsize   \n",
       "6552            Web          316.800000        Unknown       Unknown   \n",
       "6551         Branch          234.997994   Two-Door Car       Medsize   \n",
       "2323          Agent          331.200000  Four-Door Car       Medsize   \n",
       "0             Agent          292.800000  Four-Door Car       Medsize   \n",
       "\n",
       "      vehicle type     month  year  \n",
       "5455       Unknown   January  2011  \n",
       "6146             A   January  2011  \n",
       "6163       Unknown   January  2011  \n",
       "6162             A   January  2011  \n",
       "6161             A   January  2011  \n",
       "...            ...       ...   ...  \n",
       "2322             A  February  2011  \n",
       "6552       Unknown  February  2011  \n",
       "6551             A  February  2011  \n",
       "2323             A  February  2011  \n",
       "0          Unknown  February  2011  \n",
       "\n",
       "[10910 rows x 28 columns]"
      ]
     },
     "execution_count": 33,
     "metadata": {},
     "output_type": "execute_result"
    }
   ],
   "source": [
    "lab3_Q1.sort_values(by='month',ascending=False)"
   ]
  },
  {
   "cell_type": "markdown",
   "id": "9aed3d43",
   "metadata": {},
   "source": [
    "## 7.BONUS: Put all the previously mentioned data transformations into a function.\n"
   ]
  },
  {
   "cell_type": "code",
   "execution_count": 34,
   "id": "e1cba838",
   "metadata": {
    "scrolled": true
   },
   "outputs": [
    {
     "data": {
      "text/html": [
       "<div>\n",
       "<style scoped>\n",
       "    .dataframe tbody tr th:only-of-type {\n",
       "        vertical-align: middle;\n",
       "    }\n",
       "\n",
       "    .dataframe tbody tr th {\n",
       "        vertical-align: top;\n",
       "    }\n",
       "\n",
       "    .dataframe thead th {\n",
       "        text-align: right;\n",
       "    }\n",
       "</style>\n",
       "<table border=\"1\" class=\"dataframe\">\n",
       "  <thead>\n",
       "    <tr style=\"text-align: right;\">\n",
       "      <th></th>\n",
       "      <th>unnamed: 0</th>\n",
       "      <th>customer</th>\n",
       "      <th>state</th>\n",
       "      <th>customer lifetime value</th>\n",
       "      <th>response</th>\n",
       "      <th>coverage</th>\n",
       "      <th>education</th>\n",
       "      <th>effective to date</th>\n",
       "      <th>employmentstatus</th>\n",
       "      <th>gender</th>\n",
       "      <th>...</th>\n",
       "      <th>policy type</th>\n",
       "      <th>policy</th>\n",
       "      <th>renew offer type</th>\n",
       "      <th>sales channel</th>\n",
       "      <th>total claim amount</th>\n",
       "      <th>vehicle class</th>\n",
       "      <th>vehicle size</th>\n",
       "      <th>vehicle type</th>\n",
       "      <th>month</th>\n",
       "      <th>year</th>\n",
       "    </tr>\n",
       "  </thead>\n",
       "  <tbody>\n",
       "    <tr>\n",
       "      <th>5455</th>\n",
       "      <td>5455</td>\n",
       "      <td>UA94723</td>\n",
       "      <td>Oregon</td>\n",
       "      <td>4428.031583</td>\n",
       "      <td>Yes</td>\n",
       "      <td>Basic</td>\n",
       "      <td>High School or Below</td>\n",
       "      <td>2011-01-29</td>\n",
       "      <td>Employed</td>\n",
       "      <td>F</td>\n",
       "      <td>...</td>\n",
       "      <td>Personal Auto</td>\n",
       "      <td>Personal L3</td>\n",
       "      <td>Offer1</td>\n",
       "      <td>Agent</td>\n",
       "      <td>303.872752</td>\n",
       "      <td>SUV</td>\n",
       "      <td>Medsize</td>\n",
       "      <td>Unknown</td>\n",
       "      <td>January</td>\n",
       "      <td>2011</td>\n",
       "    </tr>\n",
       "    <tr>\n",
       "      <th>6146</th>\n",
       "      <td>6146</td>\n",
       "      <td>PJ73790</td>\n",
       "      <td>Oregon</td>\n",
       "      <td>3939.006370</td>\n",
       "      <td>Yes</td>\n",
       "      <td>Extended</td>\n",
       "      <td>Bachelor</td>\n",
       "      <td>2011-01-28</td>\n",
       "      <td>Employed</td>\n",
       "      <td>F</td>\n",
       "      <td>...</td>\n",
       "      <td>Special Auto</td>\n",
       "      <td>Special L1</td>\n",
       "      <td>Offer2</td>\n",
       "      <td>Agent</td>\n",
       "      <td>882.871945</td>\n",
       "      <td>Four-Door Car</td>\n",
       "      <td>Small</td>\n",
       "      <td>A</td>\n",
       "      <td>January</td>\n",
       "      <td>2011</td>\n",
       "    </tr>\n",
       "    <tr>\n",
       "      <th>6163</th>\n",
       "      <td>6163</td>\n",
       "      <td>DO95670</td>\n",
       "      <td>Arizona</td>\n",
       "      <td>5073.282126</td>\n",
       "      <td>Yes</td>\n",
       "      <td>Extended</td>\n",
       "      <td>Doctor</td>\n",
       "      <td>2011-01-30</td>\n",
       "      <td>Employed</td>\n",
       "      <td>M</td>\n",
       "      <td>...</td>\n",
       "      <td>Personal Auto</td>\n",
       "      <td>Personal L3</td>\n",
       "      <td>Offer2</td>\n",
       "      <td>Branch</td>\n",
       "      <td>600.000000</td>\n",
       "      <td>SUV</td>\n",
       "      <td>Medsize</td>\n",
       "      <td>Unknown</td>\n",
       "      <td>January</td>\n",
       "      <td>2011</td>\n",
       "    </tr>\n",
       "    <tr>\n",
       "      <th>6162</th>\n",
       "      <td>6162</td>\n",
       "      <td>MI42935</td>\n",
       "      <td>California</td>\n",
       "      <td>5654.593045</td>\n",
       "      <td>No</td>\n",
       "      <td>Extended</td>\n",
       "      <td>Bachelor</td>\n",
       "      <td>2011-01-04</td>\n",
       "      <td>Unemployed</td>\n",
       "      <td>F</td>\n",
       "      <td>...</td>\n",
       "      <td>Personal Auto</td>\n",
       "      <td>Personal L2</td>\n",
       "      <td>Offer3</td>\n",
       "      <td>Call Center</td>\n",
       "      <td>597.600000</td>\n",
       "      <td>Four-Door Car</td>\n",
       "      <td>Medsize</td>\n",
       "      <td>A</td>\n",
       "      <td>January</td>\n",
       "      <td>2011</td>\n",
       "    </tr>\n",
       "    <tr>\n",
       "      <th>6161</th>\n",
       "      <td>6161</td>\n",
       "      <td>JM67025</td>\n",
       "      <td>Nevada</td>\n",
       "      <td>5230.092742</td>\n",
       "      <td>No</td>\n",
       "      <td>Basic</td>\n",
       "      <td>High School or Below</td>\n",
       "      <td>2011-01-02</td>\n",
       "      <td>Employed</td>\n",
       "      <td>M</td>\n",
       "      <td>...</td>\n",
       "      <td>Personal Auto</td>\n",
       "      <td>Personal L2</td>\n",
       "      <td>Offer1</td>\n",
       "      <td>Call Center</td>\n",
       "      <td>202.961374</td>\n",
       "      <td>Four-Door Car</td>\n",
       "      <td>Medsize</td>\n",
       "      <td>A</td>\n",
       "      <td>January</td>\n",
       "      <td>2011</td>\n",
       "    </tr>\n",
       "    <tr>\n",
       "      <th>...</th>\n",
       "      <td>...</td>\n",
       "      <td>...</td>\n",
       "      <td>...</td>\n",
       "      <td>...</td>\n",
       "      <td>...</td>\n",
       "      <td>...</td>\n",
       "      <td>...</td>\n",
       "      <td>...</td>\n",
       "      <td>...</td>\n",
       "      <td>...</td>\n",
       "      <td>...</td>\n",
       "      <td>...</td>\n",
       "      <td>...</td>\n",
       "      <td>...</td>\n",
       "      <td>...</td>\n",
       "      <td>...</td>\n",
       "      <td>...</td>\n",
       "      <td>...</td>\n",
       "      <td>...</td>\n",
       "      <td>...</td>\n",
       "      <td>...</td>\n",
       "    </tr>\n",
       "    <tr>\n",
       "      <th>2322</th>\n",
       "      <td>2322</td>\n",
       "      <td>UF13251</td>\n",
       "      <td>Oregon</td>\n",
       "      <td>8510.758196</td>\n",
       "      <td>No</td>\n",
       "      <td>Basic</td>\n",
       "      <td>High School or Below</td>\n",
       "      <td>2011-02-26</td>\n",
       "      <td>Employed</td>\n",
       "      <td>M</td>\n",
       "      <td>...</td>\n",
       "      <td>Personal Auto</td>\n",
       "      <td>Personal L2</td>\n",
       "      <td>Offer2</td>\n",
       "      <td>Web</td>\n",
       "      <td>638.098653</td>\n",
       "      <td>SUV</td>\n",
       "      <td>Medsize</td>\n",
       "      <td>A</td>\n",
       "      <td>February</td>\n",
       "      <td>2011</td>\n",
       "    </tr>\n",
       "    <tr>\n",
       "      <th>6552</th>\n",
       "      <td>6552</td>\n",
       "      <td>AX10148</td>\n",
       "      <td>California</td>\n",
       "      <td>2409.368488</td>\n",
       "      <td>No</td>\n",
       "      <td>Basic</td>\n",
       "      <td>Bachelor</td>\n",
       "      <td>2011-02-01</td>\n",
       "      <td>Unemployed</td>\n",
       "      <td>F</td>\n",
       "      <td>...</td>\n",
       "      <td>Personal Auto</td>\n",
       "      <td>Personal L2</td>\n",
       "      <td>Offer4</td>\n",
       "      <td>Web</td>\n",
       "      <td>316.800000</td>\n",
       "      <td>Unknown</td>\n",
       "      <td>Unknown</td>\n",
       "      <td>Unknown</td>\n",
       "      <td>February</td>\n",
       "      <td>2011</td>\n",
       "    </tr>\n",
       "    <tr>\n",
       "      <th>6551</th>\n",
       "      <td>6551</td>\n",
       "      <td>PS78418</td>\n",
       "      <td>Oregon</td>\n",
       "      <td>5773.900390</td>\n",
       "      <td>No</td>\n",
       "      <td>Basic</td>\n",
       "      <td>Bachelor</td>\n",
       "      <td>2011-02-25</td>\n",
       "      <td>Employed</td>\n",
       "      <td>M</td>\n",
       "      <td>...</td>\n",
       "      <td>Personal Auto</td>\n",
       "      <td>Personal L2</td>\n",
       "      <td>Offer1</td>\n",
       "      <td>Branch</td>\n",
       "      <td>234.997994</td>\n",
       "      <td>Two-Door Car</td>\n",
       "      <td>Medsize</td>\n",
       "      <td>A</td>\n",
       "      <td>February</td>\n",
       "      <td>2011</td>\n",
       "    </tr>\n",
       "    <tr>\n",
       "      <th>2323</th>\n",
       "      <td>2323</td>\n",
       "      <td>IE82679</td>\n",
       "      <td>California</td>\n",
       "      <td>2453.570794</td>\n",
       "      <td>Yes</td>\n",
       "      <td>Basic</td>\n",
       "      <td>Bachelor</td>\n",
       "      <td>2011-02-09</td>\n",
       "      <td>Medical Leave</td>\n",
       "      <td>M</td>\n",
       "      <td>...</td>\n",
       "      <td>Personal Auto</td>\n",
       "      <td>Personal L2</td>\n",
       "      <td>Offer1</td>\n",
       "      <td>Agent</td>\n",
       "      <td>331.200000</td>\n",
       "      <td>Four-Door Car</td>\n",
       "      <td>Medsize</td>\n",
       "      <td>A</td>\n",
       "      <td>February</td>\n",
       "      <td>2011</td>\n",
       "    </tr>\n",
       "    <tr>\n",
       "      <th>0</th>\n",
       "      <td>0</td>\n",
       "      <td>DK49336</td>\n",
       "      <td>Arizona</td>\n",
       "      <td>4809.216960</td>\n",
       "      <td>No</td>\n",
       "      <td>Basic</td>\n",
       "      <td>College</td>\n",
       "      <td>2011-02-18</td>\n",
       "      <td>Employed</td>\n",
       "      <td>M</td>\n",
       "      <td>...</td>\n",
       "      <td>Corporate Auto</td>\n",
       "      <td>Corporate L3</td>\n",
       "      <td>Offer3</td>\n",
       "      <td>Agent</td>\n",
       "      <td>292.800000</td>\n",
       "      <td>Four-Door Car</td>\n",
       "      <td>Medsize</td>\n",
       "      <td>Unknown</td>\n",
       "      <td>February</td>\n",
       "      <td>2011</td>\n",
       "    </tr>\n",
       "  </tbody>\n",
       "</table>\n",
       "<p>10910 rows × 28 columns</p>\n",
       "</div>"
      ],
      "text/plain": [
       "      unnamed: 0 customer       state  customer lifetime value response  \\\n",
       "5455        5455  UA94723      Oregon              4428.031583      Yes   \n",
       "6146        6146  PJ73790      Oregon              3939.006370      Yes   \n",
       "6163        6163  DO95670     Arizona              5073.282126      Yes   \n",
       "6162        6162  MI42935  California              5654.593045       No   \n",
       "6161        6161  JM67025      Nevada              5230.092742       No   \n",
       "...          ...      ...         ...                      ...      ...   \n",
       "2322        2322  UF13251      Oregon              8510.758196       No   \n",
       "6552        6552  AX10148  California              2409.368488       No   \n",
       "6551        6551  PS78418      Oregon              5773.900390       No   \n",
       "2323        2323  IE82679  California              2453.570794      Yes   \n",
       "0              0  DK49336     Arizona              4809.216960       No   \n",
       "\n",
       "      coverage             education effective to date employmentstatus  \\\n",
       "5455     Basic  High School or Below        2011-01-29         Employed   \n",
       "6146  Extended              Bachelor        2011-01-28         Employed   \n",
       "6163  Extended                Doctor        2011-01-30         Employed   \n",
       "6162  Extended              Bachelor        2011-01-04       Unemployed   \n",
       "6161     Basic  High School or Below        2011-01-02         Employed   \n",
       "...        ...                   ...               ...              ...   \n",
       "2322     Basic  High School or Below        2011-02-26         Employed   \n",
       "6552     Basic              Bachelor        2011-02-01       Unemployed   \n",
       "6551     Basic              Bachelor        2011-02-25         Employed   \n",
       "2323     Basic              Bachelor        2011-02-09    Medical Leave   \n",
       "0        Basic               College        2011-02-18         Employed   \n",
       "\n",
       "     gender  ...     policy type        policy renew offer type  \\\n",
       "5455      F  ...   Personal Auto   Personal L3           Offer1   \n",
       "6146      F  ...    Special Auto    Special L1           Offer2   \n",
       "6163      M  ...   Personal Auto   Personal L3           Offer2   \n",
       "6162      F  ...   Personal Auto   Personal L2           Offer3   \n",
       "6161      M  ...   Personal Auto   Personal L2           Offer1   \n",
       "...     ...  ...             ...           ...              ...   \n",
       "2322      M  ...   Personal Auto   Personal L2           Offer2   \n",
       "6552      F  ...   Personal Auto   Personal L2           Offer4   \n",
       "6551      M  ...   Personal Auto   Personal L2           Offer1   \n",
       "2323      M  ...   Personal Auto   Personal L2           Offer1   \n",
       "0         M  ...  Corporate Auto  Corporate L3           Offer3   \n",
       "\n",
       "      sales channel  total claim amount  vehicle class  vehicle size  \\\n",
       "5455          Agent          303.872752            SUV       Medsize   \n",
       "6146          Agent          882.871945  Four-Door Car         Small   \n",
       "6163         Branch          600.000000            SUV       Medsize   \n",
       "6162    Call Center          597.600000  Four-Door Car       Medsize   \n",
       "6161    Call Center          202.961374  Four-Door Car       Medsize   \n",
       "...             ...                 ...            ...           ...   \n",
       "2322            Web          638.098653            SUV       Medsize   \n",
       "6552            Web          316.800000        Unknown       Unknown   \n",
       "6551         Branch          234.997994   Two-Door Car       Medsize   \n",
       "2323          Agent          331.200000  Four-Door Car       Medsize   \n",
       "0             Agent          292.800000  Four-Door Car       Medsize   \n",
       "\n",
       "      vehicle type     month  year  \n",
       "5455       Unknown   January  2011  \n",
       "6146             A   January  2011  \n",
       "6163       Unknown   January  2011  \n",
       "6162             A   January  2011  \n",
       "6161             A   January  2011  \n",
       "...            ...       ...   ...  \n",
       "2322             A  February  2011  \n",
       "6552       Unknown  February  2011  \n",
       "6551             A  February  2011  \n",
       "2323             A  February  2011  \n",
       "0          Unknown  February  2011  \n",
       "\n",
       "[10910 rows x 28 columns]"
      ]
     },
     "execution_count": 34,
     "metadata": {},
     "output_type": "execute_result"
    }
   ],
   "source": [
    "def firstQuarterData(lab3):\n",
    "    ## Trabsformation number 1: standardize column headers\n",
    "    cols=[]\n",
    "    for i in range (len(lab3.columns)):\n",
    "        cols.append(lab3.columns[i].lower())\n",
    "    lab3.columns = cols\n",
    "    \n",
    "    ## Transformation number 2: deal with NanN values\n",
    "    \n",
    "    # Scenario 1: delete a row if they have all NaN \n",
    "    lab3=lab3.dropna(how='all')\n",
    "    lab3.reset_index(drop=True,inplace=True)\n",
    "    \n",
    "    #Scenario 2: Fill in vehicle class unknown values\n",
    "    lab3['vehicle class']= lab3['vehicle class'].fillna(\"Unknown\")\n",
    "    \n",
    "    #Scenario 3: Fill in vhicle size unknown values\n",
    "    lab3['vehicle size']= lab3['vehicle size'].fillna(\"Unknown\")\n",
    "    \n",
    "    #Scenario 4: Fill in vehicle type unknwon values\n",
    "    lab3['vehicle type']= lab3['vehicle type'].fillna(\"Unknown\")\n",
    "    \n",
    "    #Scnario 5: Fill in NaN opn complaints with median number\n",
    "    med_16=lab3['number of open complaints'].median()\n",
    "    lab3['number of open complaints']=lab3['number of open complaints'].fillna(med_16)\n",
    "    \n",
    "    #Scenario 6: Fill in NaN months since last claim with median value\n",
    "    med_14=lab3['months since last claim'].median()\n",
    "    lab3['months since last claim']=lab3['months since last claim'].fillna(med_14)\n",
    "    \n",
    "    #Scnario 7: Fill all of columns with NaN data with Unknown\n",
    "    lab3.fillna(\"Unknown\",inplace=True)\n",
    "    \n",
    "    \n",
    "    ## Transformation number 3: Extract only data for the first quarter\n",
    "    import time\n",
    "    from datetime import date\n",
    "    \n",
    "    lab3['effective to date']=pd.to_datetime(lab3['effective to date'],errors='coerce')\n",
    "    lab3['month']=lab3['effective to date'].dt.strftime('%B')\n",
    "    lab3['year']=lab3['effective to date'].dt.strftime('%Y')\n",
    "    \n",
    "    lab3_Q1 = lab3[lab3['effective to date'].dt.to_period('Q') == '2011Q1']\n",
    "    lab3_Q1 = lab3_Q1.sort_values(by='month', ascending=False)\n",
    "    \n",
    "    return lab3_Q1\n",
    "\n",
    "bun=pd.read_csv('/Users/macbook/Desktop/IRON  HÂCK/Day3_Pandas_Date format/marketing_customer_analysis.csv')\n",
    "\n",
    "output = firstQuarterData(bun)\n",
    "output"
   ]
  },
  {
   "cell_type": "markdown",
   "id": "cec015ba",
   "metadata": {},
   "source": [
    "# <font color=darkred>DAY 4: Customer Analysis Round 3"
   ]
  },
  {
   "cell_type": "markdown",
   "id": "b461f30e",
   "metadata": {},
   "source": [
    "## 1. Show DataFrame info"
   ]
  },
  {
   "cell_type": "code",
   "execution_count": 46,
   "id": "b5262ef0",
   "metadata": {},
   "outputs": [],
   "source": [
    "import seaborn as sns\n",
    "import matplotlib.pyplot as plt\n",
    "%matplotlib inline"
   ]
  },
  {
   "cell_type": "code",
   "execution_count": 36,
   "id": "e1c5e159",
   "metadata": {},
   "outputs": [
    {
     "name": "stdout",
     "output_type": "stream",
     "text": [
      "<class 'pandas.core.frame.DataFrame'>\n",
      "RangeIndex: 10910 entries, 0 to 10909\n",
      "Data columns (total 28 columns):\n",
      " #   Column                         Non-Null Count  Dtype         \n",
      "---  ------                         --------------  -----         \n",
      " 0   unnamed: 0                     10910 non-null  int64         \n",
      " 1   customer                       10910 non-null  object        \n",
      " 2   state                          10910 non-null  object        \n",
      " 3   customer lifetime value        10910 non-null  float64       \n",
      " 4   response                       10910 non-null  object        \n",
      " 5   coverage                       10910 non-null  object        \n",
      " 6   education                      10910 non-null  object        \n",
      " 7   effective to date              10910 non-null  datetime64[ns]\n",
      " 8   employmentstatus               10910 non-null  object        \n",
      " 9   gender                         10910 non-null  object        \n",
      " 10  income                         10910 non-null  int64         \n",
      " 11  location code                  10910 non-null  object        \n",
      " 12  marital status                 10910 non-null  object        \n",
      " 13  monthly premium auto           10910 non-null  int64         \n",
      " 14  months since last claim        10910 non-null  float64       \n",
      " 15  months since policy inception  10910 non-null  int64         \n",
      " 16  number of open complaints      10910 non-null  float64       \n",
      " 17  number of policies             10910 non-null  int64         \n",
      " 18  policy type                    10910 non-null  object        \n",
      " 19  policy                         10910 non-null  object        \n",
      " 20  renew offer type               10910 non-null  object        \n",
      " 21  sales channel                  10910 non-null  object        \n",
      " 22  total claim amount             10910 non-null  float64       \n",
      " 23  vehicle class                  10910 non-null  object        \n",
      " 24  vehicle size                   10910 non-null  object        \n",
      " 25  vehicle type                   10910 non-null  object        \n",
      " 26  month                          10910 non-null  object        \n",
      " 27  year                           10910 non-null  object        \n",
      "dtypes: datetime64[ns](1), float64(4), int64(5), object(18)\n",
      "memory usage: 2.3+ MB\n"
     ]
    }
   ],
   "source": [
    "lab3.info()"
   ]
  },
  {
   "cell_type": "markdown",
   "id": "de24ae3b",
   "metadata": {},
   "source": [
    "## 2. Describe DataFrame."
   ]
  },
  {
   "cell_type": "code",
   "execution_count": 37,
   "id": "0a7560cf",
   "metadata": {},
   "outputs": [
    {
     "data": {
      "text/html": [
       "<div>\n",
       "<style scoped>\n",
       "    .dataframe tbody tr th:only-of-type {\n",
       "        vertical-align: middle;\n",
       "    }\n",
       "\n",
       "    .dataframe tbody tr th {\n",
       "        vertical-align: top;\n",
       "    }\n",
       "\n",
       "    .dataframe thead th {\n",
       "        text-align: right;\n",
       "    }\n",
       "</style>\n",
       "<table border=\"1\" class=\"dataframe\">\n",
       "  <thead>\n",
       "    <tr style=\"text-align: right;\">\n",
       "      <th></th>\n",
       "      <th>unnamed: 0</th>\n",
       "      <th>customer lifetime value</th>\n",
       "      <th>income</th>\n",
       "      <th>monthly premium auto</th>\n",
       "      <th>months since last claim</th>\n",
       "      <th>months since policy inception</th>\n",
       "      <th>number of open complaints</th>\n",
       "      <th>number of policies</th>\n",
       "      <th>total claim amount</th>\n",
       "    </tr>\n",
       "  </thead>\n",
       "  <tbody>\n",
       "    <tr>\n",
       "      <th>count</th>\n",
       "      <td>10910.000000</td>\n",
       "      <td>10910.000000</td>\n",
       "      <td>10910.000000</td>\n",
       "      <td>10910.000000</td>\n",
       "      <td>10910.000000</td>\n",
       "      <td>10910.000000</td>\n",
       "      <td>10910.000000</td>\n",
       "      <td>10910.000000</td>\n",
       "      <td>10910.000000</td>\n",
       "    </tr>\n",
       "    <tr>\n",
       "      <th>mean</th>\n",
       "      <td>5454.500000</td>\n",
       "      <td>8018.241094</td>\n",
       "      <td>37536.284785</td>\n",
       "      <td>93.196059</td>\n",
       "      <td>15.082401</td>\n",
       "      <td>48.091934</td>\n",
       "      <td>0.361962</td>\n",
       "      <td>2.979193</td>\n",
       "      <td>434.888330</td>\n",
       "    </tr>\n",
       "    <tr>\n",
       "      <th>std</th>\n",
       "      <td>3149.590053</td>\n",
       "      <td>6885.081434</td>\n",
       "      <td>30359.195670</td>\n",
       "      <td>34.442532</td>\n",
       "      <td>9.787208</td>\n",
       "      <td>27.940675</td>\n",
       "      <td>0.890134</td>\n",
       "      <td>2.399359</td>\n",
       "      <td>292.180556</td>\n",
       "    </tr>\n",
       "    <tr>\n",
       "      <th>min</th>\n",
       "      <td>0.000000</td>\n",
       "      <td>1898.007675</td>\n",
       "      <td>0.000000</td>\n",
       "      <td>61.000000</td>\n",
       "      <td>0.000000</td>\n",
       "      <td>0.000000</td>\n",
       "      <td>0.000000</td>\n",
       "      <td>1.000000</td>\n",
       "      <td>0.099007</td>\n",
       "    </tr>\n",
       "    <tr>\n",
       "      <th>25%</th>\n",
       "      <td>2727.250000</td>\n",
       "      <td>4014.453113</td>\n",
       "      <td>0.000000</td>\n",
       "      <td>68.000000</td>\n",
       "      <td>7.000000</td>\n",
       "      <td>24.000000</td>\n",
       "      <td>0.000000</td>\n",
       "      <td>1.000000</td>\n",
       "      <td>271.082527</td>\n",
       "    </tr>\n",
       "    <tr>\n",
       "      <th>50%</th>\n",
       "      <td>5454.500000</td>\n",
       "      <td>5771.147235</td>\n",
       "      <td>33813.500000</td>\n",
       "      <td>83.000000</td>\n",
       "      <td>14.000000</td>\n",
       "      <td>48.000000</td>\n",
       "      <td>0.000000</td>\n",
       "      <td>2.000000</td>\n",
       "      <td>382.564630</td>\n",
       "    </tr>\n",
       "    <tr>\n",
       "      <th>75%</th>\n",
       "      <td>8181.750000</td>\n",
       "      <td>8992.779137</td>\n",
       "      <td>62250.750000</td>\n",
       "      <td>109.000000</td>\n",
       "      <td>23.000000</td>\n",
       "      <td>71.000000</td>\n",
       "      <td>0.000000</td>\n",
       "      <td>4.000000</td>\n",
       "      <td>547.200000</td>\n",
       "    </tr>\n",
       "    <tr>\n",
       "      <th>max</th>\n",
       "      <td>10909.000000</td>\n",
       "      <td>83325.381190</td>\n",
       "      <td>99981.000000</td>\n",
       "      <td>298.000000</td>\n",
       "      <td>35.000000</td>\n",
       "      <td>99.000000</td>\n",
       "      <td>5.000000</td>\n",
       "      <td>9.000000</td>\n",
       "      <td>2893.239678</td>\n",
       "    </tr>\n",
       "  </tbody>\n",
       "</table>\n",
       "</div>"
      ],
      "text/plain": [
       "         unnamed: 0  customer lifetime value        income  \\\n",
       "count  10910.000000             10910.000000  10910.000000   \n",
       "mean    5454.500000              8018.241094  37536.284785   \n",
       "std     3149.590053              6885.081434  30359.195670   \n",
       "min        0.000000              1898.007675      0.000000   \n",
       "25%     2727.250000              4014.453113      0.000000   \n",
       "50%     5454.500000              5771.147235  33813.500000   \n",
       "75%     8181.750000              8992.779137  62250.750000   \n",
       "max    10909.000000             83325.381190  99981.000000   \n",
       "\n",
       "       monthly premium auto  months since last claim  \\\n",
       "count          10910.000000             10910.000000   \n",
       "mean              93.196059                15.082401   \n",
       "std               34.442532                 9.787208   \n",
       "min               61.000000                 0.000000   \n",
       "25%               68.000000                 7.000000   \n",
       "50%               83.000000                14.000000   \n",
       "75%              109.000000                23.000000   \n",
       "max              298.000000                35.000000   \n",
       "\n",
       "       months since policy inception  number of open complaints  \\\n",
       "count                   10910.000000               10910.000000   \n",
       "mean                       48.091934                   0.361962   \n",
       "std                        27.940675                   0.890134   \n",
       "min                         0.000000                   0.000000   \n",
       "25%                        24.000000                   0.000000   \n",
       "50%                        48.000000                   0.000000   \n",
       "75%                        71.000000                   0.000000   \n",
       "max                        99.000000                   5.000000   \n",
       "\n",
       "       number of policies  total claim amount  \n",
       "count        10910.000000        10910.000000  \n",
       "mean             2.979193          434.888330  \n",
       "std              2.399359          292.180556  \n",
       "min              1.000000            0.099007  \n",
       "25%              1.000000          271.082527  \n",
       "50%              2.000000          382.564630  \n",
       "75%              4.000000          547.200000  \n",
       "max              9.000000         2893.239678  "
      ]
     },
     "execution_count": 37,
     "metadata": {},
     "output_type": "execute_result"
    }
   ],
   "source": [
    "lab3.describe()"
   ]
  },
  {
   "cell_type": "code",
   "execution_count": 38,
   "id": "be05ed8d",
   "metadata": {},
   "outputs": [
    {
     "data": {
      "text/plain": [
       "array(['Agent', 'Call Center', 'Branch', 'Web'], dtype=object)"
      ]
     },
     "execution_count": 38,
     "metadata": {},
     "output_type": "execute_result"
    }
   ],
   "source": [
    "lab3['sales channel'].unique()"
   ]
  },
  {
   "cell_type": "markdown",
   "id": "74f5f227",
   "metadata": {},
   "source": [
    "## 3. Show a plot of the total number of responses (for each response type - \"Yes\"/\"No\")."
   ]
  },
  {
   "cell_type": "code",
   "execution_count": 39,
   "id": "b5bed1ad",
   "metadata": {},
   "outputs": [
    {
     "data": {
      "text/plain": [
       "<AxesSubplot:>"
      ]
     },
     "execution_count": 39,
     "metadata": {},
     "output_type": "execute_result"
    },
    {
     "data": {
      "image/png": "[encoded data removed]",
      "text/plain": [
       "<Figure size 720x432 with 1 Axes>"
      ]
     },
     "metadata": {
      "needs_background": "light"
     },
     "output_type": "display_data"
    }
   ],
   "source": [
    "lab3['response'].value_counts().plot(kind='bar',color='blue',figsize = (10, 6))"
   ]
  },
  {
   "cell_type": "markdown",
   "id": "2ae9bfde",
   "metadata": {},
   "source": [
    "## 4.Show a plot of the rate of the response types by each Sales Channel."
   ]
  },
  {
   "cell_type": "code",
   "execution_count": 40,
   "id": "b12fe310",
   "metadata": {},
   "outputs": [
    {
     "data": {
      "text/plain": [
       "<AxesSubplot:xlabel='response', ylabel='response'>"
      ]
     },
     "execution_count": 40,
     "metadata": {},
     "output_type": "execute_result"
    },
    {
     "data": {
      "image/png": "[encoded data removed]",
      "text/plain": [
       "<Figure size 720x432 with 1 Axes>"
      ]
     },
     "metadata": {
      "needs_background": "light"
     },
     "output_type": "display_data"
    }
   ],
   "source": [
    "lab3.groupby('response')['sales channel'].value_counts().unstack().plot.bar(ylabel='response',figsize = (10, 6))\n"
   ]
  },
  {
   "cell_type": "markdown",
   "id": "ff8729ac",
   "metadata": {},
   "source": [
    "## 5. Show a plot of the distribution of the Total Claim Amount, broken down by response type. Try a boxplot and distribution plot, for each response type. For the distribution plot, try to plot both kinds of responses in one chart (seaborn's histplot, using the 'hue' parameter is very convenient here)."
   ]
  },
  {
   "cell_type": "code",
   "execution_count": 41,
   "id": "4edfca52",
   "metadata": {},
   "outputs": [
    {
     "data": {
      "text/plain": [
       "<AxesSubplot:xlabel='response', ylabel='total claim amount'>"
      ]
     },
     "execution_count": 41,
     "metadata": {},
     "output_type": "execute_result"
    },
    {
     "data": {
      "image/png": "[encoded data removed]",
      "text/plain": [
       "<Figure size 432x288 with 1 Axes>"
      ]
     },
     "metadata": {
      "needs_background": "light"
     },
     "output_type": "display_data"
    }
   ],
   "source": [
    "sns.boxplot(y='total claim amount',x='response',data=lab3)"
   ]
  },
  {
   "cell_type": "code",
   "execution_count": 42,
   "id": "9522adf2",
   "metadata": {},
   "outputs": [
    {
     "data": {
      "text/plain": [
       "<seaborn.axisgrid.FacetGrid at 0x7fa658ac1430>"
      ]
     },
     "execution_count": 42,
     "metadata": {},
     "output_type": "execute_result"
    },
    {
     "data": {
      "image/png": "[encoded data removed]",
      "text/plain": [
       "<Figure size 442.375x360 with 1 Axes>"
      ]
     },
     "metadata": {
      "needs_background": "light"
     },
     "output_type": "display_data"
    }
   ],
   "source": [
    "sns.displot(lab3, x=\"total claim amount\", hue=\"response\")"
   ]
  },
  {
   "cell_type": "markdown",
   "id": "70a878a6",
   "metadata": {},
   "source": [
    "## 6.Create similar plots like in the task before, but for Income.\n"
   ]
  },
  {
   "cell_type": "code",
   "execution_count": 43,
   "id": "2b4a289b",
   "metadata": {},
   "outputs": [
    {
     "data": {
      "text/plain": [
       "<AxesSubplot:xlabel='response', ylabel='income'>"
      ]
     },
     "execution_count": 43,
     "metadata": {},
     "output_type": "execute_result"
    },
    {
     "data": {
      "image/png": "[encoded data removed]",
      "text/plain": [
       "<Figure size 432x288 with 1 Axes>"
      ]
     },
     "metadata": {
      "needs_background": "light"
     },
     "output_type": "display_data"
    }
   ],
   "source": [
    "sns.boxplot(y='income',x='response',data=lab3)"
   ]
  },
  {
   "cell_type": "code",
   "execution_count": 44,
   "id": "e0d58175",
   "metadata": {},
   "outputs": [
    {
     "data": {
      "text/plain": [
       "<seaborn.axisgrid.FacetGrid at 0x7fa658a65f70>"
      ]
     },
     "execution_count": 44,
     "metadata": {},
     "output_type": "execute_result"
    },
    {
     "data": {
      "image/png": "[encoded data removed]",
      "text/plain": [
       "<Figure size 442.375x360 with 1 Axes>"
      ]
     },
     "metadata": {
      "needs_background": "light"
     },
     "output_type": "display_data"
    }
   ],
   "source": [
    "sns.displot(lab3, x=\"income\", hue=\"response\")"
   ]
  },
  {
   "cell_type": "markdown",
   "id": "6a03275b",
   "metadata": {},
   "source": [
    "## 7. Create a scatterplot between Total Claim Amount and Income. Play around with the settings of the scatterplot (markersize, alpha level, ...) and in doing so try to identify more features within the data just visually. You can also try different seaborn plots. Check for example this link which explains how to avoid overplotting."
   ]
  },
  {
   "cell_type": "code",
   "execution_count": 52,
   "id": "82d0cc3a",
   "metadata": {},
   "outputs": [
    {
     "data": {
      "text/plain": [
       "<matplotlib.collections.PathCollection at 0x7fa659ca20d0>"
      ]
     },
     "execution_count": 52,
     "metadata": {},
     "output_type": "execute_result"
    },
    {
     "data": {
      "image/png": "[encoded data removed]",
      "text/plain": [
       "<Figure size 432x288 with 1 Axes>"
      ]
     },
     "metadata": {
      "needs_background": "light"
     },
     "output_type": "display_data"
    }
   ],
   "source": [
    "plt.scatter(data=lab3, x='income',y='total claim amount', color='blue',marker='+',alpha=0.9)"
   ]
  }
 ],
 "metadata": {
  "kernelspec": {
   "display_name": "Python 3",
   "language": "python",
   "name": "python3"
  },
  "language_info": {
   "codemirror_mode": {
    "name": "ipython",
    "version": 3
   },
   "file_extension": ".py",
   "mimetype": "text/x-python",
   "name": "python",
   "nbconvert_exporter": "python",
   "pygments_lexer": "ipython3",
   "version": "3.8.8"
  }
 },
 "nbformat": 4,
 "nbformat_minor": 5
}
