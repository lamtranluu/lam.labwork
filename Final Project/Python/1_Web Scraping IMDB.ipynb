{
 "cells": [
  {
   "cell_type": "markdown",
   "id": "aded6e49",
   "metadata": {},
   "source": [
    "- Create a function to collect information: title, date, rating, review contents from IMDB reviews,\n",
    "- Because each movies took 45mins to finish, so in order to make sure there is no incident during my process, I decided to run 1 by 1 movie, "
   ]
  },
  {
   "cell_type": "code",
   "execution_count": 7,
   "id": "bf72d6bf",
   "metadata": {},
   "outputs": [],
   "source": [
    "import pandas as pd \n",
    "# Import Selenium and its sub libraries\n",
    "import selenium \n",
    "from selenium import webdriver\n",
    "# Import BS4\n",
    "import requests #needed to load the page for BS4\n",
    "from bs4 import BeautifulSoup\n",
    "from selenium.webdriver.chrome.service import Service\n",
    "from webdriver_manager.chrome import ChromeDriverManager\n",
    "from selenium.webdriver.common.by import By\n",
    "pd.set_option('display.max_colwidth', None)\n",
    "from tqdm import tqdm"
   ]
  },
  {
   "cell_type": "code",
   "execution_count": 8,
   "id": "8e4f81c9",
   "metadata": {},
   "outputs": [
    {
     "name": "stderr",
     "output_type": "stream",
     "text": [
      "\n",
      "\n",
      "====== WebDriver manager ======\n",
      "Current google-chrome version is 99.0.4844\n",
      "Get LATEST chromedriver version for 99.0.4844 google-chrome\n",
      "Trying to download new driver from https://chromedriver.storage.googleapis.com/99.0.4844.51/chromedriver_mac64.zip\n",
      "Driver has been saved in cache [/Users/macbook/.wdm/drivers/chromedriver/mac64/99.0.4844.51]\n",
      "/var/folders/qh/rmh6hskn1sd8bwtjbl1fdjl40000gq/T/ipykernel_26079/953187634.py:11: DeprecationWarning: find_element_by_* commands are deprecated. Please use find_element() instead\n",
      "  load_more = driver1.find_element_by_id('load-more-trigger')\n"
     ]
    }
   ],
   "source": [
    "s=Service(ChromeDriverManager().install())\n",
    "driver1 = webdriver.Chrome(service=s)\n",
    "driver1.get(\"https://www.imdb.com/title/tt4154664/reviews?ref_=tt_ov_rt\")\n",
    "driver1.implicitly_wait(1)\n",
    "page = 1 #Set initial variable for while loop\n",
    "#We want at least 1000 review, so get 40 at a safe number\n",
    "while page<41:  \n",
    "    driver1.implicitly_wait(2)\n",
    "    try:\n",
    "        #find the load more button on the webpage\n",
    "        load_more = driver1.find_element_by_id('load-more-trigger')\n",
    "        #click on that button\n",
    "        load_more.click()\n",
    "        page+=1 #move on to next loadmore button\n",
    "    except:\n",
    "        #If couldnt find any button to click, stop\n",
    "        break"
   ]
  },
  {
   "cell_type": "code",
   "execution_count": 9,
   "id": "cb6060b8",
   "metadata": {},
   "outputs": [
    {
     "data": {
      "text/plain": [
       "1023"
      ]
     },
     "execution_count": 9,
     "metadata": {},
     "output_type": "execute_result"
    }
   ],
   "source": [
    "len_movie=len(driver1.find_elements(by=By.CLASS_NAME, value='lister-item-content'))\n",
    "len_movie"
   ]
  },
  {
   "cell_type": "code",
   "execution_count": 10,
   "id": "85d573e2",
   "metadata": {},
   "outputs": [],
   "source": [
    "def data(driver1):\n",
    "    title=[]\n",
    "    date=[]\n",
    "    content=[]\n",
    "    rate=[]\n",
    "    block = driver1.find_elements(by=By.CLASS_NAME, value='lister-item-content')\n",
    "    for i in tqdm(range(len(block))):\n",
    "        title.append(driver1.find_elements(by=By.CLASS_NAME, value='title')[i].text)\n",
    "        date.append(driver1.find_elements(by=By.CLASS_NAME, value='review-date')[i].text)\n",
    "        content.append(block[i].find_element(by=By.CLASS_NAME, value='content').get_attribute(\"textContent\").strip())\n",
    "        a=block[i].find_elements(by=By.CLASS_NAME, value='ipl-ratings-bar')\n",
    "        if bool(a) == True:\n",
    "            rate.append(a[0].find_element(by=By.TAG_NAME, value='span').text)\n",
    "        else:\n",
    "            rate.append('nan') \n",
    "    infinity= pd.DataFrame({\"review_title\":title,\"date\":date,'content':content,'rating':rate})\n",
    "    return infinity"
   ]
  },
  {
   "cell_type": "code",
   "execution_count": null,
   "id": "e5fc25df",
   "metadata": {},
   "outputs": [],
   "source": []
  },
  {
   "cell_type": "code",
   "execution_count": 12,
   "id": "c21424e5",
   "metadata": {},
   "outputs": [
    {
     "name": "stderr",
     "output_type": "stream",
     "text": [
      "100%|███████████████████████████████████████| 1023/1023 [19:20<00:00,  1.13s/it]\n"
     ]
    }
   ],
   "source": [
    "captial=data(driver1)"
   ]
  },
  {
   "cell_type": "code",
   "execution_count": 14,
   "id": "5ed30819",
   "metadata": {
    "scrolled": true
   },
   "outputs": [
    {
     "name": "stdout",
     "output_type": "stream",
     "text": [
      "<class 'pandas.core.frame.DataFrame'>\n",
      "RangeIndex: 1023 entries, 0 to 1022\n",
      "Data columns (total 4 columns):\n",
      " #   Column        Non-Null Count  Dtype \n",
      "---  ------        --------------  ----- \n",
      " 0   review_title  1023 non-null   object\n",
      " 1   date          1023 non-null   object\n",
      " 2   content       1023 non-null   object\n",
      " 3   rating        1023 non-null   object\n",
      "dtypes: object(4)\n",
      "memory usage: 32.1+ KB\n"
     ]
    }
   ],
   "source": [
    "captial.info()"
   ]
  },
  {
   "cell_type": "code",
   "execution_count": 16,
   "id": "f32e9c3e",
   "metadata": {},
   "outputs": [],
   "source": [
    "captial = captial.assign(movie='Captain: Marvel') #assign name movie"
   ]
  },
  {
   "cell_type": "code",
   "execution_count": 17,
   "id": "01e30137",
   "metadata": {},
   "outputs": [
    {
     "data": {
      "text/html": [
       "<div>\n",
       "<style scoped>\n",
       "    .dataframe tbody tr th:only-of-type {\n",
       "        vertical-align: middle;\n",
       "    }\n",
       "\n",
       "    .dataframe tbody tr th {\n",
       "        vertical-align: top;\n",
       "    }\n",
       "\n",
       "    .dataframe thead th {\n",
       "        text-align: right;\n",
       "    }\n",
       "</style>\n",
       "<table border=\"1\" class=\"dataframe\">\n",
       "  <thead>\n",
       "    <tr style=\"text-align: right;\">\n",
       "      <th></th>\n",
       "      <th>review_title</th>\n",
       "      <th>date</th>\n",
       "      <th>content</th>\n",
       "      <th>rating</th>\n",
       "      <th>movie</th>\n",
       "    </tr>\n",
       "  </thead>\n",
       "  <tbody>\n",
       "    <tr>\n",
       "      <th>0</th>\n",
       "      <td>Not bad, but too generic</td>\n",
       "      <td>24 February 2020</td>\n",
       "      <td>CAPTAIN MARVEL is the latest Marvel comics offering and the follow-up to AVENGERS: INFINITY WAR; inevitably it's a big step down from the success of that movie. This one goes down a much more predictable route, and it suffers hugely from having a main character who simply isn't very interesting; like Superman, her immortality and strength make her rather boring to see on screen. The film also suffers from having an unimposing villain, a crucial climactic scene openly copying RAIDERS OF THE LOST ARK, and generic action. On the plus side: there's a nice supporting turn from a funny and de-aged Samuel L. Jackson; the material on Earth is gently amusing, riffing on the buddy-buddy genre; there's a solid and major plot twist halfway through that really works; and Brie Larson is a decent actress. But they really need to think of something more involved next time instead of this generic amnesic hero stuff.</td>\n",
       "      <td>6/10</td>\n",
       "      <td>Captain: Marvel</td>\n",
       "    </tr>\n",
       "    <tr>\n",
       "      <th>1</th>\n",
       "      <td>it's fine</td>\n",
       "      <td>13 March 2019</td>\n",
       "      <td>Vers (Brie Larson) is a powered member of the Kree Empire mentored by Commander Yon-Rogg (Jude Law). The Kree is under attack from the shapeshifting Skrulls. During a battle, Vers is captured where the Skrulls try to extract her memories. She had lost her memories six years earlier. With flashes of recovered memories, she escapes and crashes onto a Los Angeles Blockbuster. Nick Fury (Samuel L. Jackson) and new agent Phil Coulson (Clark Gregg) arrive to investigate. It's 1995 before Fury executed the Avengers Initiative. Vers searches for Dr. Wendy Lawson (Annette Bening) who is the key to her past.It's a prequel. It's an origin story. It's an exposition movie. It's a connective tissue movie. It's a female empowerment story. It's a Marvel movie. It's trying to be a lot of stuff. Despite that, it's fairly uncomplicated. It runs well without hitting any major potholes. It introduces a new hero. It gives her a very specific identity. It still has a few issues. First, Brie Larson is doing a specific character but the role is lacking in range. Essentially, she starts off with amnesia and that's not always great for character work. It's almost as bad as being brainwashed and comes off as robotic. There is one moment of great possibility when Carol is across the table with Maria for the first time in a while. That could have been a really powerful moment of female friendship. Akira Akbar is acting her butt off but Brie is restricted to her memory blanks. Her memories could have flooded back as she emotionally breaks down. They could have hugged and yes why not even shed a tear. Her character needs a different gear. The role is stuck in the robotic amnesia Jason Bourne mode. Bourne could have been a solid choice but that's not this movie either. She's wise-cracking right from the start but that's the limit of her emotional range.Second is her memory flashbacks. Instead of showing those memories early, the movie should have kept them from the audience. It becomes repetitive and we are forced to wait for Carol to catch up. The movie needs to keep the audience at the same level as Carol in her discovery. It should only reveal each memory as it comes up in the plot. Her meeting with Maria should be the point where most of her flashbacks occur like when her extended memory of the inciting incident is triggered. The movie needs to rearrange a few things.The other characters are solid. Fury is great. His humor really works. The music is mostly popular 90's female alternative voices. It's not unexpected but the climax starts with No Doubt's Just A Girl which is awkward for hitting it on its tippy tip nose. It's a weird song to fight to. It could have also added a few more male singers. It's deliberately doing something which seems unnecessary and the music taste is too similar. Why not NIN or a rapper to change the tone? I hope that Carol will be a deeper character in the future. She could face a more personal challenge with an older Monica. This film is filling out a lot of story blanks whether we like it or not, and preparing for the upcoming Avengers movie. It's fine. The Marvel universe continues.</td>\n",
       "      <td>7/10</td>\n",
       "      <td>Captain: Marvel</td>\n",
       "    </tr>\n",
       "    <tr>\n",
       "      <th>2</th>\n",
       "      <td>Not bad, not great either</td>\n",
       "      <td>8 March 2019</td>\n",
       "      <td>\"Captain Marvel\" is a new 2019 film that runs for minimally over 2 hours and was written and directed by Anna Boden and Ryan Fleck. These two have really worked together for a long time, also on some quality projects, so here they get their shot at the world's biggest superhero franchise as of course this one we got here is the most recent entry into the Marvel universe. And the title could no make it any more obvious. The lead actress is Oscar winner Brie Larsen and most of all with Oscar nominees Bening, Jackson and Law we have a fairly decent supporting cast, although Jackson is probably lead too. This film plays in the mid-1990s and takes place before Jackson summons his Avengers team. They are all not there yet, so also not a force in this movie, but Agent Coulson is and there is one scene in particular when we find out how close he and Fury are, namely when Coulson lets his buddy and the target get away and trusts him completely in making the right decision. This is the story of a female hero who knows virtually nothing about her past, but has some very impressive super powers that she fails to keep under control, however. So the entire movie is basically a journey into the woman's past, how she she finds out where she originates from and what links her with Bening's character, one that has great significance, more than you'd think compared to the limited screen time she has. Of course, Stan Lee gets also his moment here as we see him in a train when Larson's character chases a bad guy with a reference to a movie that Lee actually appeared in in the mid-1990s. And very early on, there is also another really nice tribute to Lee that I liked a lot, at the very beginning in fact. Apart from that, the comedy does not happen too rarely either here and there were more than just a few funny moments. My personal favorite was perhaps when Fury gets scanned and we hear someting like earthling, not a potential danger and finally his reaction. I must say I like Samuel L. Jackson quite a bit, so it was nice to have him featured so prominently in here. Or his character I shall say.There are some memorable moments involving his character and that refers for example to the moment he realizes that his boss there is in disguise and not who he seems he is when they enter the elevator. And apart from this reference about everybody calling him by his last name, the Havana reference is also used later on in another key scene that was actually pretty heartfelt and showed how he had a connection with the one stating said reference. You would not have expected this early on. Not at all. There is a major plot twist in this film involving Larsen's character and where she belongs. I must say I did not see it coming and it was pretty surprising, but it did feel real somehow and I always like to be surprised in movies, so I am all for it. Of course, there are also again many spectacular scenes and special effects, some of which involve Larsen's powers obviously. But there's more, like a cat (actually not a cat) with a very particular set of skills and seeing Fury interact with this cat was simply hilarious. The one thing I did not like too much were the refugee references. It's not the first time Marvel makes use of these and it did feel like a fairly clumsy attempt here too in somewhat making a connection to what is going on in the real world now treating these reptile men a bit like refugees in the sense of nomads who don't have a home. But I guess it can't be a perfect film. Apart from that, the character I liked the least was the Black best friend and her role was really not very realistic, also that she is able to be on par with these physically way superior aliens, even if she is a trained pilot. I wish she would have been out the picture. Or will be if there is a sequel.One minor thing I did not like that much was how they put together two words on several occasions turning it into one. Marvel is the best example and there were a handful others, maybe five or so and that was a bit ridiculous honestly. You will know what I mean when you hear these examples. Of course, it has nothing on the last Avengers movie, but it does not need to in order to be a success. I certainly think it is worth checking out. May also be a good idea to rewatch this one and keep an eye out for references and indicators who the good guys are and who the bad guys are. One example that comes to my mind is for example the scene I mentioned earlier with Lee when she steps into the train, the reptile man treats the old woman kindly while Larsen's character treats her pretty roughly. But there's certainly more than these and with that I do not just mean the blinking in the eye or the fact that the reptile creatures do not hurt Larsen's character one bit when capturing her. Or the young reptile playing around with her. Overall, the film and also the epilogue make me curious about the next Avengers film. I hope it wiill at least be almost as good as the previous, which would be a big achievement already. As for this one here, it is not a must-see, but still a good watch for everybody who likes superhero films like myself. I give it a thumbs-up.</td>\n",
       "      <td>6/10</td>\n",
       "      <td>Captain: Marvel</td>\n",
       "    </tr>\n",
       "    <tr>\n",
       "      <th>3</th>\n",
       "      <td>Not quiet Marvellous</td>\n",
       "      <td>13 March 2019</td>\n",
       "      <td>I have said it before and I will say it again. The Marvel Cinematic Universe are on a higher plane compared to other superhero franchises. They can knock it out of the park, shot after shot.I went to this movie knowing almost nothing about Captain Marvel apart from there was originally another DC character with the same name who became Shazam.The film takes a little while to get going as it wants to set up the character of Vers/Carol Danvers (Brie Larson.) Vers is a warrior recruited by the Kree. They are fighting the evil Skrulls who take over planets by infiltrating them. They are shapeshifters led by Talos (Ben Mendelsohn.)After trying to get away from the Skrulls, Vers ends up in LA of 1995 where she meets a young two eyed Shield operative Nick Fury accompanied with Agent Coulson who is new to Shield.Vers though has some memories of being on earth but her memories are filled with fuzzy. Vers thinks she might had been an ace test pilot on Earth. The key is Dr Wendy Lawson (Annette Bening) who might provide more information.However it is a race against time as Skrulls are also looking for Dr Lawson and something she created.Once a de-aged Nick Fury turns up, the film hits gear. It also has a few twists in the story and the humour emerges. Marvel films always do well when they add some fun.It does stick too close to the Marvel formula, the directors Anna Boden &amp; Ryan Fleck never put their own stamp in Captain Marvel. The hand of producer Kevin Feige is all over it.</td>\n",
       "      <td>6/10</td>\n",
       "      <td>Captain: Marvel</td>\n",
       "    </tr>\n",
       "    <tr>\n",
       "      <th>4</th>\n",
       "      <td>Entertaining Adventure</td>\n",
       "      <td>2 June 2019</td>\n",
       "      <td>\"Captain Marvel\" is another entertaining superhero adventure. Maybe the most important is not the top-notch special effects but the humor and chemistry of the cute Brie Larson and the veteran Samuel L. Jackson. The screenplay could be improved with a better development of Carol Danvers and the alien war, but anyway it is worthwhile watching. My vote is seven.Title (Brazil): \"Capitã Marvel\" (\"Captain Marvel\")\\n                \\n                    21 out of 59 found this helpful.\\n                        \\n                            Was this review helpful?  Sign in to vote.\\n                        \\n                        \\n                    Permalink</td>\n",
       "      <td>7/10</td>\n",
       "      <td>Captain: Marvel</td>\n",
       "    </tr>\n",
       "    <tr>\n",
       "      <th>...</th>\n",
       "      <td>...</td>\n",
       "      <td>...</td>\n",
       "      <td>...</td>\n",
       "      <td>...</td>\n",
       "      <td>...</td>\n",
       "    </tr>\n",
       "    <tr>\n",
       "      <th>1018</th>\n",
       "      <td>A bit of fun from a forgettable movie</td>\n",
       "      <td>10 March 2019</td>\n",
       "      <td>The movie tries to be emotional, but fails miserably.\\nCarol Danvers is annoying, simply put, she's overpowered, arrogant and childish. Her character screams rebellion. No character development. Her failures are implicitly blamed on men mocking her because she's a an ambitious, arrogant *girl*.\\nThe action scenes sucked because there was no real stakes.\\nThe movie was feminist, which is best shown in the scenes with the black woman and her daughter, not to mention this was co-directed by a woman with a female lead that can obliterate any one. The 'highlight' is when the daughter begs her mother to go on a suicide mission and leave her because that is a great example. Notice the genius scientist is a woman.\\nThe things you will remember are the Flerken cat and the Skrull leader Talos. Talos was the best character along with Fury and Coulson who got next to no screen time.\\nCarol's mansplaining spiritual leader who got some excellent points to make had suddenly become evil after Carol discovered the Kree's are actually the oppressors. And when he challenged her to hand-to-hand combat, she blasted him into oblivion in her arrogant manner.\\nThe critics on Disney's payroll (read all the critics you ever heard of) gave it a pass, the masses are gonna praise it as they did WW but people who know a good movie when they see one and know a mass-appealing flick with an agenda will give it what it deserves.</td>\n",
       "      <td>nan</td>\n",
       "      <td>Captain: Marvel</td>\n",
       "    </tr>\n",
       "    <tr>\n",
       "      <th>1019</th>\n",
       "      <td>Your average superhero movie</td>\n",
       "      <td>8 March 2019</td>\n",
       "      <td>Its not as intense as Infinity War, it's not as bad as the Incredible Hulk, but it's as good as the First Avenger. It has a solid decent plot. But LOTS of plot holes. Decent villain. Brie was not as good as gal in Wonder Woman but was good.\\n                \\n                    1 out of 4 found this helpful.\\n                        \\n                            Was this review helpful?  Sign in to vote.\\n                        \\n                        \\n                    Permalink</td>\n",
       "      <td>6/10</td>\n",
       "      <td>Captain: Marvel</td>\n",
       "    </tr>\n",
       "    <tr>\n",
       "      <th>1020</th>\n",
       "      <td>Captain entry was good to see as Marvel movies fab</td>\n",
       "      <td>16 March 2019</td>\n",
       "      <td>You will like this movie only if you are hard fan of sci if movies or marvel series movies. This movie introduces a new character in marvel series and hopefully in future it will come back with other combinations.Apart from sci fi VFX, some of comic moments gives good edge. Overall enojoyable except first 30 min are too boring and type casted with other marvel movies.\\n                \\n                    9 out of 23 found this helpful.\\n                        \\n                            Was this review helpful?  Sign in to vote.\\n                        \\n                        \\n                    Permalink</td>\n",
       "      <td>9/10</td>\n",
       "      <td>Captain: Marvel</td>\n",
       "    </tr>\n",
       "    <tr>\n",
       "      <th>1021</th>\n",
       "      <td>Reshoot with Emily Blunt please</td>\n",
       "      <td>14 March 2019</td>\n",
       "      <td>If you've seen the trailers, you've seen the movie: super strong female alien ends up on earth and kick some asses.\\nThis is basically a crossover between captain america if he was an alien. Or thor if he joined the army.\\nNever liked Brie Larson and it's even worse now. Do yourself a favor and go watch a movie with Emily Blunt if you want to see a blond who can kick ass AND act!\\n                \\n                    59 out of 103 found this helpful.\\n                        \\n                            Was this review helpful?  Sign in to vote.\\n                        \\n                        \\n                    Permalink</td>\n",
       "      <td>2/10</td>\n",
       "      <td>Captain: Marvel</td>\n",
       "    </tr>\n",
       "    <tr>\n",
       "      <th>1022</th>\n",
       "      <td>BORING!!!!</td>\n",
       "      <td>9 March 2019</td>\n",
       "      <td>I will never understand why you cast Brie Larson in such a large roll like this. I liked her in other movies but such a miscast to play a superhero.\\nAs for the movie :The plot is your avg MCU movie so nothing to really speak on that. But the writing and pace are put this near the bottom of the MCU.The character:\\nI know Captain Marvel is a straight rip -off of Superman making her power level just way to high. Normally i wouldn't care and just forget about this movie but Cap Marvel has like 8 movies where she is in and basically a middle finger to all the character development that we have gotten from all the past MCU movies since basically all the characters combine to not equal her.Again this isn't a man or women thing it's just a bad casting mixed with a Superhero NO ONE asked for or needed there is a comic book ver of what happens in the up coming movies without the character. It's sad that all logic tells us it's not about making a good movie(s) and more about Women are equal bla bla bla.</td>\n",
       "      <td>nan</td>\n",
       "      <td>Captain: Marvel</td>\n",
       "    </tr>\n",
       "  </tbody>\n",
       "</table>\n",
       "<p>1023 rows × 5 columns</p>\n",
       "</div>"
      ],
      "text/plain": [
       "                                            review_title              date  \\\n",
       "0                               Not bad, but too generic  24 February 2020   \n",
       "1                                              it's fine     13 March 2019   \n",
       "2                              Not bad, not great either      8 March 2019   \n",
       "3                                   Not quiet Marvellous     13 March 2019   \n",
       "4                                 Entertaining Adventure       2 June 2019   \n",
       "...                                                  ...               ...   \n",
       "1018               A bit of fun from a forgettable movie     10 March 2019   \n",
       "1019                        Your average superhero movie      8 March 2019   \n",
       "1020  Captain entry was good to see as Marvel movies fab     16 March 2019   \n",
       "1021                     Reshoot with Emily Blunt please     14 March 2019   \n",
       "1022                                          BORING!!!!      9 March 2019   \n",
       "\n",
       "                                                                                                                                                                                                                                                                                                                                                                                                                                                                                                                                                                                                                                                                                                                                                                                                                                                                                                                                                                                                                                                                                                                                                                                                                                                                                                                                                                                                                                                                                                                                                                                                                                                                                                                                                                                                                                                                                                                                                                                                                                                                                                                                                                                                                                                                                                                                                                                                                                                                                                                                                                                                                                                                                                                                                                                                                                                                                                                                                                                                                                                                                                                                                                                                                                                                                                                                                                                                                                                                                                                                                                                                                                                                                                                                                                                                                                                                                                                                                                                                                                                                                                                                                                                                                                                                                                                                                                                                                                                                                                                                                                                                                                                                                                                                                                                                                                                                                                                                                                                                                                                                                                                                                                                                                                                                                                                                                                                                     content  \\\n",
       "0                                                                                                                                                                                                                                                                                                                                                                                                                                                                                                                                                                                                                                                                                                                                                                                                                                                                                                                                                                                                                                                                                                                                                                                                                                                                                                                                                                                                                                                                                                                                                                                                                                                                                                                                                                                                                                                                                                                                                                                                                                                                                                                                                                                                                                                                                                                                                                                                                                                                                                                                                                                                                                                                                                                                                                                                                                                                                                                                                                                                                                                                                                                                                                                                                                                                                                                                                                                                                                                                                                                                                                                                                                                                                                                                                                                                                                                                                                                                                                                                                                                                                                                                                                                                                                                                                                                                                                                                                                                           CAPTAIN MARVEL is the latest Marvel comics offering and the follow-up to AVENGERS: INFINITY WAR; inevitably it's a big step down from the success of that movie. This one goes down a much more predictable route, and it suffers hugely from having a main character who simply isn't very interesting; like Superman, her immortality and strength make her rather boring to see on screen. The film also suffers from having an unimposing villain, a crucial climactic scene openly copying RAIDERS OF THE LOST ARK, and generic action. On the plus side: there's a nice supporting turn from a funny and de-aged Samuel L. Jackson; the material on Earth is gently amusing, riffing on the buddy-buddy genre; there's a solid and major plot twist halfway through that really works; and Brie Larson is a decent actress. But they really need to think of something more involved next time instead of this generic amnesic hero stuff.   \n",
       "1                                                                                                                                                                                                                                                                                                                                                                                                                                                                                                                                                                                                                                                                                                                                                                                                                                                                                                                                                                                                                                                                                                                                                                                                                                                                                                                                                                                                                                                                                                                                                                                                                                                                                                                                                                                                                                                                                                                                                                                                                                                                                                                                      Vers (Brie Larson) is a powered member of the Kree Empire mentored by Commander Yon-Rogg (Jude Law). The Kree is under attack from the shapeshifting Skrulls. During a battle, Vers is captured where the Skrulls try to extract her memories. She had lost her memories six years earlier. With flashes of recovered memories, she escapes and crashes onto a Los Angeles Blockbuster. Nick Fury (Samuel L. Jackson) and new agent Phil Coulson (Clark Gregg) arrive to investigate. It's 1995 before Fury executed the Avengers Initiative. Vers searches for Dr. Wendy Lawson (Annette Bening) who is the key to her past.It's a prequel. It's an origin story. It's an exposition movie. It's a connective tissue movie. It's a female empowerment story. It's a Marvel movie. It's trying to be a lot of stuff. Despite that, it's fairly uncomplicated. It runs well without hitting any major potholes. It introduces a new hero. It gives her a very specific identity. It still has a few issues. First, Brie Larson is doing a specific character but the role is lacking in range. Essentially, she starts off with amnesia and that's not always great for character work. It's almost as bad as being brainwashed and comes off as robotic. There is one moment of great possibility when Carol is across the table with Maria for the first time in a while. That could have been a really powerful moment of female friendship. Akira Akbar is acting her butt off but Brie is restricted to her memory blanks. Her memories could have flooded back as she emotionally breaks down. They could have hugged and yes why not even shed a tear. Her character needs a different gear. The role is stuck in the robotic amnesia Jason Bourne mode. Bourne could have been a solid choice but that's not this movie either. She's wise-cracking right from the start but that's the limit of her emotional range.Second is her memory flashbacks. Instead of showing those memories early, the movie should have kept them from the audience. It becomes repetitive and we are forced to wait for Carol to catch up. The movie needs to keep the audience at the same level as Carol in her discovery. It should only reveal each memory as it comes up in the plot. Her meeting with Maria should be the point where most of her flashbacks occur like when her extended memory of the inciting incident is triggered. The movie needs to rearrange a few things.The other characters are solid. Fury is great. His humor really works. The music is mostly popular 90's female alternative voices. It's not unexpected but the climax starts with No Doubt's Just A Girl which is awkward for hitting it on its tippy tip nose. It's a weird song to fight to. It could have also added a few more male singers. It's deliberately doing something which seems unnecessary and the music taste is too similar. Why not NIN or a rapper to change the tone? I hope that Carol will be a deeper character in the future. She could face a more personal challenge with an older Monica. This film is filling out a lot of story blanks whether we like it or not, and preparing for the upcoming Avengers movie. It's fine. The Marvel universe continues.   \n",
       "2     \"Captain Marvel\" is a new 2019 film that runs for minimally over 2 hours and was written and directed by Anna Boden and Ryan Fleck. These two have really worked together for a long time, also on some quality projects, so here they get their shot at the world's biggest superhero franchise as of course this one we got here is the most recent entry into the Marvel universe. And the title could no make it any more obvious. The lead actress is Oscar winner Brie Larsen and most of all with Oscar nominees Bening, Jackson and Law we have a fairly decent supporting cast, although Jackson is probably lead too. This film plays in the mid-1990s and takes place before Jackson summons his Avengers team. They are all not there yet, so also not a force in this movie, but Agent Coulson is and there is one scene in particular when we find out how close he and Fury are, namely when Coulson lets his buddy and the target get away and trusts him completely in making the right decision. This is the story of a female hero who knows virtually nothing about her past, but has some very impressive super powers that she fails to keep under control, however. So the entire movie is basically a journey into the woman's past, how she she finds out where she originates from and what links her with Bening's character, one that has great significance, more than you'd think compared to the limited screen time she has. Of course, Stan Lee gets also his moment here as we see him in a train when Larson's character chases a bad guy with a reference to a movie that Lee actually appeared in in the mid-1990s. And very early on, there is also another really nice tribute to Lee that I liked a lot, at the very beginning in fact. Apart from that, the comedy does not happen too rarely either here and there were more than just a few funny moments. My personal favorite was perhaps when Fury gets scanned and we hear someting like earthling, not a potential danger and finally his reaction. I must say I like Samuel L. Jackson quite a bit, so it was nice to have him featured so prominently in here. Or his character I shall say.There are some memorable moments involving his character and that refers for example to the moment he realizes that his boss there is in disguise and not who he seems he is when they enter the elevator. And apart from this reference about everybody calling him by his last name, the Havana reference is also used later on in another key scene that was actually pretty heartfelt and showed how he had a connection with the one stating said reference. You would not have expected this early on. Not at all. There is a major plot twist in this film involving Larsen's character and where she belongs. I must say I did not see it coming and it was pretty surprising, but it did feel real somehow and I always like to be surprised in movies, so I am all for it. Of course, there are also again many spectacular scenes and special effects, some of which involve Larsen's powers obviously. But there's more, like a cat (actually not a cat) with a very particular set of skills and seeing Fury interact with this cat was simply hilarious. The one thing I did not like too much were the refugee references. It's not the first time Marvel makes use of these and it did feel like a fairly clumsy attempt here too in somewhat making a connection to what is going on in the real world now treating these reptile men a bit like refugees in the sense of nomads who don't have a home. But I guess it can't be a perfect film. Apart from that, the character I liked the least was the Black best friend and her role was really not very realistic, also that she is able to be on par with these physically way superior aliens, even if she is a trained pilot. I wish she would have been out the picture. Or will be if there is a sequel.One minor thing I did not like that much was how they put together two words on several occasions turning it into one. Marvel is the best example and there were a handful others, maybe five or so and that was a bit ridiculous honestly. You will know what I mean when you hear these examples. Of course, it has nothing on the last Avengers movie, but it does not need to in order to be a success. I certainly think it is worth checking out. May also be a good idea to rewatch this one and keep an eye out for references and indicators who the good guys are and who the bad guys are. One example that comes to my mind is for example the scene I mentioned earlier with Lee when she steps into the train, the reptile man treats the old woman kindly while Larsen's character treats her pretty roughly. But there's certainly more than these and with that I do not just mean the blinking in the eye or the fact that the reptile creatures do not hurt Larsen's character one bit when capturing her. Or the young reptile playing around with her. Overall, the film and also the epilogue make me curious about the next Avengers film. I hope it wiill at least be almost as good as the previous, which would be a big achievement already. As for this one here, it is not a must-see, but still a good watch for everybody who likes superhero films like myself. I give it a thumbs-up.   \n",
       "3                                                                                                                                                                                                                                                                                                                                                                                                                                                                                                                                                                                                                                                                                                                                                                                                                                                                                                                                                                                                                                                                                                                                                                                                                                                                                                                                                                                                                                                                                                                                                                                                                                                                                                                                                                                                                                                                                                                                                                                                                                                                                                                                                                                                                                                                                                                                                                                                                                                                                                                                                                                                                                                                                                                                                                                                                                                                                                                                                                                                                                                                                                                                                                                                                                                                                                                                                                                                                                                                                                                                                                                                                                                                                                                                                                                                                                                         I have said it before and I will say it again. The Marvel Cinematic Universe are on a higher plane compared to other superhero franchises. They can knock it out of the park, shot after shot.I went to this movie knowing almost nothing about Captain Marvel apart from there was originally another DC character with the same name who became Shazam.The film takes a little while to get going as it wants to set up the character of Vers/Carol Danvers (Brie Larson.) Vers is a warrior recruited by the Kree. They are fighting the evil Skrulls who take over planets by infiltrating them. They are shapeshifters led by Talos (Ben Mendelsohn.)After trying to get away from the Skrulls, Vers ends up in LA of 1995 where she meets a young two eyed Shield operative Nick Fury accompanied with Agent Coulson who is new to Shield.Vers though has some memories of being on earth but her memories are filled with fuzzy. Vers thinks she might had been an ace test pilot on Earth. The key is Dr Wendy Lawson (Annette Bening) who might provide more information.However it is a race against time as Skrulls are also looking for Dr Lawson and something she created.Once a de-aged Nick Fury turns up, the film hits gear. It also has a few twists in the story and the humour emerges. Marvel films always do well when they add some fun.It does stick too close to the Marvel formula, the directors Anna Boden & Ryan Fleck never put their own stamp in Captain Marvel. The hand of producer Kevin Feige is all over it.   \n",
       "4                                                                                                                                                                                                                                                                                                                                                                                                                                                                                                                                                                                                                                                                                                                                                                                                                                                                                                                                                                                                                                                                                                                                                                                                                                                                                                                                                                                                                                                                                                                                                                                                                                                                                                                                                                                                                                                                                                                                                                                                                                                                                                                                                                                                                                                                                                                                                                                                                                                                                                                                                                                                                                                                                                                                                                                                                                                                                                                                                                                                                                                                                                                                                                                                                                                                                                                                                                                                                                                                                                                                                                                                                                                                                                                                                                                                                                                                                                                                                                                                                                                                                                                                                                                                                                                                                                                                                                                                                                                                                                                                                                                                                                                                                                                   \"Captain Marvel\" is another entertaining superhero adventure. Maybe the most important is not the top-notch special effects but the humor and chemistry of the cute Brie Larson and the veteran Samuel L. Jackson. The screenplay could be improved with a better development of Carol Danvers and the alien war, but anyway it is worthwhile watching. My vote is seven.Title (Brazil): \"Capitã Marvel\" (\"Captain Marvel\")\\n                \\n                    21 out of 59 found this helpful.\\n                        \\n                            Was this review helpful?  Sign in to vote.\\n                        \\n                        \\n                    Permalink   \n",
       "...                                                                                                                                                                                                                                                                                                                                                                                                                                                                                                                                                                                                                                                                                                                                                                                                                                                                                                                                                                                                                                                                                                                                                                                                                                                                                                                                                                                                                                                                                                                                                                                                                                                                                                                                                                                                                                                                                                                                                                                                                                                                                                                                                                                                                                                                                                                                                                                                                                                                                                                                                                                                                                                                                                                                                                                                                                                                                                                                                                                                                                                                                                                                                                                                                                                                                                                                                                                                                                                                                                                                                                                                                                                                                                                                                                                                                                                                                                                                                                                                                                                                                                                                                                                                                                                                                                                                                                                                                                                                                                                                                                                                                                                                                                                                                                                                                                                                                                                                                                                                                                                                                                                                                                                                                                                                                                                                                                                                      ...   \n",
       "1018                                                                                                                                                                                                                                                                                                                                                                                                                                                                                                                                                                                                                                                                                                                                                                                                                                                                                                                                                                                                                                                                                                                                                                                                                                                                                                                                                                                                                                                                                                                                                                                                                                                                                                                                                                                                                                                                                                                                                                                                                                                                                                                                                                                                                                                                                                                                                                                                                                                                                                                                                                                                                                                                                                                                                                                                                                                                                                                                                                                                                                                                                                                                                                                                                                                                                                                                                                                                                                                                                                                                                                                                                                                                                                                                                                                                                                                                                                                              The movie tries to be emotional, but fails miserably.\\nCarol Danvers is annoying, simply put, she's overpowered, arrogant and childish. Her character screams rebellion. No character development. Her failures are implicitly blamed on men mocking her because she's a an ambitious, arrogant *girl*.\\nThe action scenes sucked because there was no real stakes.\\nThe movie was feminist, which is best shown in the scenes with the black woman and her daughter, not to mention this was co-directed by a woman with a female lead that can obliterate any one. The 'highlight' is when the daughter begs her mother to go on a suicide mission and leave her because that is a great example. Notice the genius scientist is a woman.\\nThe things you will remember are the Flerken cat and the Skrull leader Talos. Talos was the best character along with Fury and Coulson who got next to no screen time.\\nCarol's mansplaining spiritual leader who got some excellent points to make had suddenly become evil after Carol discovered the Kree's are actually the oppressors. And when he challenged her to hand-to-hand combat, she blasted him into oblivion in her arrogant manner.\\nThe critics on Disney's payroll (read all the critics you ever heard of) gave it a pass, the masses are gonna praise it as they did WW but people who know a good movie when they see one and know a mass-appealing flick with an agenda will give it what it deserves.   \n",
       "1019                                                                                                                                                                                                                                                                                                                                                                                                                                                                                                                                                                                                                                                                                                                                                                                                                                                                                                                                                                                                                                                                                                                                                                                                                                                                                                                                                                                                                                                                                                                                                                                                                                                                                                                                                                                                                                                                                                                                                                                                                                                                                                                                                                                                                                                                                                                                                                                                                                                                                                                                                                                                                                                                                                                                                                                                                                                                                                                                                                                                                                                                                                                                                                                                                                                                                                                                                                                                                                                                                                                                                                                                                                                                                                                                                                                                                                                                                                                                                                                                                                                                                                                                                                                                                                                                                                                                                                                                                                                                                                                                                                                                                                                                                                                                                                                                                                                                                             Its not as intense as Infinity War, it's not as bad as the Incredible Hulk, but it's as good as the First Avenger. It has a solid decent plot. But LOTS of plot holes. Decent villain. Brie was not as good as gal in Wonder Woman but was good.\\n                \\n                    1 out of 4 found this helpful.\\n                        \\n                            Was this review helpful?  Sign in to vote.\\n                        \\n                        \\n                    Permalink   \n",
       "1020                                                                                                                                                                                                                                                                                                                                                                                                                                                                                                                                                                                                                                                                                                                                                                                                                                                                                                                                                                                                                                                                                                                                                                                                                                                                                                                                                                                                                                                                                                                                                                                                                                                                                                                                                                                                                                                                                                                                                                                                                                                                                                                                                                                                                                                                                                                                                                                                                                                                                                                                                                                                                                                                                                                                                                                                                                                                                                                                                                                                                                                                                                                                                                                                                                                                                                                                                                                                                                                                                                                                                                                                                                                                                                                                                                                                                                                                                                                                                                                                                                                                                                                                                                                                                                                                                                                                                                                                                                                                                                                                                                                                                                                                                                                                                          You will like this movie only if you are hard fan of sci if movies or marvel series movies. This movie introduces a new character in marvel series and hopefully in future it will come back with other combinations.Apart from sci fi VFX, some of comic moments gives good edge. Overall enojoyable except first 30 min are too boring and type casted with other marvel movies.\\n                \\n                    9 out of 23 found this helpful.\\n                        \\n                            Was this review helpful?  Sign in to vote.\\n                        \\n                        \\n                    Permalink   \n",
       "1021                                                                                                                                                                                                                                                                                                                                                                                                                                                                                                                                                                                                                                                                                                                                                                                                                                                                                                                                                                                                                                                                                                                                                                                                                                                                                                                                                                                                                                                                                                                                                                                                                                                                                                                                                                                                                                                                                                                                                                                                                                                                                                                                                                                                                                                                                                                                                                                                                                                                                                                                                                                                                                                                                                                                                                                                                                                                                                                                                                                                                                                                                                                                                                                                                                                                                                                                                                                                                                                                                                                                                                                                                                                                                                                                                                                                                                                                                                                                                                                                                                                                                                                                                                                                                                                                                                                                                                                                                                                                                                                                                                                                                                                                                                                                            If you've seen the trailers, you've seen the movie: super strong female alien ends up on earth and kick some asses.\\nThis is basically a crossover between captain america if he was an alien. Or thor if he joined the army.\\nNever liked Brie Larson and it's even worse now. Do yourself a favor and go watch a movie with Emily Blunt if you want to see a blond who can kick ass AND act!\\n                \\n                    59 out of 103 found this helpful.\\n                        \\n                            Was this review helpful?  Sign in to vote.\\n                        \\n                        \\n                    Permalink   \n",
       "1022                                                                                                                                                                                                                                                                                                                                                                                                                                                                                                                                                                                                                                                                                                                                                                                                                                                                                                                                                                                                                                                                                                                                                                                                                                                                                                                                                                                                                                                                                                                                                                                                                                                                                                                                                                                                                                                                                                                                                                                                                                                                                                                                                                                                                                                                                                                                                                                                                                                                                                                                                                                                                                                                                                                                                                                                                                                                                                                                                                                                                                                                                                                                                                                                                                                                                                                                                                                                                                                                                                                                                                                                                                                                                                                                                                                                                                                                                                                                                                                                                                                                                                                                                                                                                                                                                                                                                        I will never understand why you cast Brie Larson in such a large roll like this. I liked her in other movies but such a miscast to play a superhero.\\nAs for the movie :The plot is your avg MCU movie so nothing to really speak on that. But the writing and pace are put this near the bottom of the MCU.The character:\\nI know Captain Marvel is a straight rip -off of Superman making her power level just way to high. Normally i wouldn't care and just forget about this movie but Cap Marvel has like 8 movies where she is in and basically a middle finger to all the character development that we have gotten from all the past MCU movies since basically all the characters combine to not equal her.Again this isn't a man or women thing it's just a bad casting mixed with a Superhero NO ONE asked for or needed there is a comic book ver of what happens in the up coming movies without the character. It's sad that all logic tells us it's not about making a good movie(s) and more about Women are equal bla bla bla.   \n",
       "\n",
       "     rating            movie  \n",
       "0      6/10  Captain: Marvel  \n",
       "1      7/10  Captain: Marvel  \n",
       "2      6/10  Captain: Marvel  \n",
       "3      6/10  Captain: Marvel  \n",
       "4      7/10  Captain: Marvel  \n",
       "...     ...              ...  \n",
       "1018    nan  Captain: Marvel  \n",
       "1019   6/10  Captain: Marvel  \n",
       "1020   9/10  Captain: Marvel  \n",
       "1021   2/10  Captain: Marvel  \n",
       "1022    nan  Captain: Marvel  \n",
       "\n",
       "[1023 rows x 5 columns]"
      ]
     },
     "execution_count": 17,
     "metadata": {},
     "output_type": "execute_result"
    }
   ],
   "source": [
    "captial"
   ]
  },
  {
   "cell_type": "code",
   "execution_count": 18,
   "id": "3a0a3478",
   "metadata": {},
   "outputs": [],
   "source": [
    "captial.to_csv('/Users/macbook/Documents/Iron Hack_Lab/Final P/Captain:Marvel.csv')"
   ]
  },
  {
   "cell_type": "markdown",
   "id": "d7c19d66",
   "metadata": {},
   "source": [
    "## Concat Marvel Movies"
   ]
  },
  {
   "cell_type": "code",
   "execution_count": 19,
   "id": "bcf4b590",
   "metadata": {},
   "outputs": [],
   "source": [
    "endgame=pd.read_csv('/Users/macbook/Documents/Iron Hack_Lab/Final P/Marvel/endgame.csv')"
   ]
  },
  {
   "cell_type": "code",
   "execution_count": 20,
   "id": "b5999366",
   "metadata": {},
   "outputs": [],
   "source": [
    "infinity=pd.read_csv('/Users/macbook/Documents/Iron Hack_Lab/Final P/Marvel/infinity.csv')"
   ]
  },
  {
   "cell_type": "code",
   "execution_count": 21,
   "id": "357a0b04",
   "metadata": {},
   "outputs": [],
   "source": [
    "nowayhome=pd.read_csv('/Users/macbook/Documents/Iron Hack_Lab/Final P/Marvel/spider_nowayhome.csv')"
   ]
  },
  {
   "cell_type": "code",
   "execution_count": 22,
   "id": "afa032ed",
   "metadata": {},
   "outputs": [],
   "source": [
    "avenger=pd.read_csv('/Users/macbook/Documents/Iron Hack_Lab/Final P/Marvel/MarvelTheAvengers.csv')"
   ]
  },
  {
   "cell_type": "code",
   "execution_count": 23,
   "id": "388c64b8",
   "metadata": {},
   "outputs": [],
   "source": [
    "ultron=pd.read_csv('/Users/macbook/Documents/Iron Hack_Lab/Final P/Marvel/Age of Ultron.csv')"
   ]
  },
  {
   "cell_type": "code",
   "execution_count": 24,
   "id": "ad5b91ce",
   "metadata": {},
   "outputs": [],
   "source": [
    "panther=pd.read_csv('/Users/macbook/Documents/Iron Hack_Lab/Final P/Marvel/Black Panther.csv')"
   ]
  },
  {
   "cell_type": "code",
   "execution_count": 25,
   "id": "c59350af",
   "metadata": {},
   "outputs": [],
   "source": [
    "ironman=pd.read_csv('/Users/macbook/Documents/Iron Hack_Lab/Final P/Marvel/Iron_Man.csv')"
   ]
  },
  {
   "cell_type": "code",
   "execution_count": 26,
   "id": "c4a8a685",
   "metadata": {},
   "outputs": [],
   "source": [
    "american=pd.read_csv('/Users/macbook/Documents/Iron Hack_Lab/Final P/Marvel/Captain American.csv')"
   ]
  },
  {
   "cell_type": "code",
   "execution_count": 27,
   "id": "73dc057b",
   "metadata": {},
   "outputs": [],
   "source": [
    "farfromhome=pd.read_csv('/Users/macbook/Documents/Iron Hack_Lab/Final P/Marvel/Spider_Farfromhome.csv')"
   ]
  },
  {
   "cell_type": "code",
   "execution_count": 31,
   "id": "1fca9355",
   "metadata": {},
   "outputs": [],
   "source": [
    "captain_marvel=pd.read_csv('/Users/macbook/Documents/Iron Hack_Lab/Final P/Captain:Marvel.csv')"
   ]
  },
  {
   "cell_type": "code",
   "execution_count": 32,
   "id": "1afc3b48",
   "metadata": {},
   "outputs": [],
   "source": [
    "frames=[endgame,infinity,nowayhome,avenger,ultron,panther,ironman,american,farfromhome,captain_marvel]"
   ]
  },
  {
   "cell_type": "code",
   "execution_count": 33,
   "id": "66899c28",
   "metadata": {},
   "outputs": [],
   "source": [
    "marvel=pd.concat(frames)"
   ]
  },
  {
   "cell_type": "code",
   "execution_count": 34,
   "id": "d038f6e0",
   "metadata": {},
   "outputs": [],
   "source": [
    "marvel=marvel.reset_index(drop=True)\n"
   ]
  },
  {
   "cell_type": "code",
   "execution_count": 35,
   "id": "89ea8eb1",
   "metadata": {},
   "outputs": [
    {
     "name": "stdout",
     "output_type": "stream",
     "text": [
      "<class 'pandas.core.frame.DataFrame'>\n",
      "RangeIndex: 10243 entries, 0 to 10242\n",
      "Data columns (total 6 columns):\n",
      " #   Column        Non-Null Count  Dtype \n",
      "---  ------        --------------  ----- \n",
      " 0   Unnamed: 0    10243 non-null  int64 \n",
      " 1   review_title  10243 non-null  object\n",
      " 2   date          10243 non-null  object\n",
      " 3   content       10243 non-null  object\n",
      " 4   rating        9887 non-null   object\n",
      " 5   movie         10243 non-null  object\n",
      "dtypes: int64(1), object(5)\n",
      "memory usage: 480.3+ KB\n"
     ]
    }
   ],
   "source": [
    "marvel.info()"
   ]
  },
  {
   "cell_type": "code",
   "execution_count": 36,
   "id": "c3699930",
   "metadata": {},
   "outputs": [],
   "source": [
    "marvel.to_csv('/Users/macbook/Documents/Iron Hack_Lab/Final P/Marvel/marvel.csv')"
   ]
  },
  {
   "cell_type": "markdown",
   "id": "105ccdfa",
   "metadata": {},
   "source": [
    "## Concat DC movies "
   ]
  },
  {
   "cell_type": "code",
   "execution_count": 256,
   "id": "0a324f83",
   "metadata": {},
   "outputs": [],
   "source": [
    "aquaman=pd.read_csv('/Users/macbook/Documents/Iron Hack_Lab/Final P/Dc/Aquaman.csv')"
   ]
  },
  {
   "cell_type": "code",
   "execution_count": 257,
   "id": "fa4ac398",
   "metadata": {},
   "outputs": [],
   "source": [
    "batman1989=pd.read_csv('/Users/macbook/Documents/Iron Hack_Lab/Final P/Dc/Batman1989.csv')"
   ]
  },
  {
   "cell_type": "code",
   "execution_count": 258,
   "id": "36fb3fd3",
   "metadata": {},
   "outputs": [],
   "source": [
    "justice=pd.read_csv('/Users/macbook/Documents/Iron Hack_Lab/Final P/Dc/BatmanVSuperman_DawnOfJustice.csv')"
   ]
  },
  {
   "cell_type": "code",
   "execution_count": 259,
   "id": "f010ac6e",
   "metadata": {},
   "outputs": [],
   "source": [
    "joker=pd.read_csv('/Users/macbook/Documents/Iron Hack_Lab/Final P/Dc/Joker.csv')"
   ]
  },
  {
   "cell_type": "code",
   "execution_count": 260,
   "id": "d54dc8f7",
   "metadata": {},
   "outputs": [],
   "source": [
    "justice_league=pd.read_csv('/Users/macbook/Documents/Iron Hack_Lab/Final P/Dc/JusticeLeague.csv')"
   ]
  },
  {
   "cell_type": "code",
   "execution_count": 261,
   "id": "b492a524",
   "metadata": {},
   "outputs": [],
   "source": [
    "manofsteel=pd.read_csv('/Users/macbook/Documents/Iron Hack_Lab/Final P/Dc/ManOfSteel.csv')"
   ]
  },
  {
   "cell_type": "code",
   "execution_count": 262,
   "id": "d1e94738",
   "metadata": {},
   "outputs": [],
   "source": [
    "sucidesquad=pd.read_csv('/Users/macbook/Documents/Iron Hack_Lab/Final P/Dc/SuicideSquad.csv')"
   ]
  },
  {
   "cell_type": "code",
   "execution_count": 263,
   "id": "9498393e",
   "metadata": {},
   "outputs": [],
   "source": [
    "darknight=pd.read_csv('/Users/macbook/Documents/Iron Hack_Lab/Final P/Dc/TheDarkKnight.csv')"
   ]
  },
  {
   "cell_type": "code",
   "execution_count": 264,
   "id": "d92c1b95",
   "metadata": {},
   "outputs": [],
   "source": [
    "darknightrise=pd.read_csv('/Users/macbook/Documents/Iron Hack_Lab/Final P/Dc/TheDarkKnightRises.csv')"
   ]
  },
  {
   "cell_type": "code",
   "execution_count": 265,
   "id": "bdb8279c",
   "metadata": {},
   "outputs": [],
   "source": [
    "wonderwoman=pd.read_csv('/Users/macbook/Documents/Iron Hack_Lab/Final P/Dc/WonderWoman.csv')"
   ]
  },
  {
   "cell_type": "code",
   "execution_count": 268,
   "id": "5ead40a4",
   "metadata": {},
   "outputs": [],
   "source": [
    "DC=pd.concat([aquaman,batman1989,justice,joker,justice_league,manofsteel,sucidesquad,darknight,darknightrise,wonderwoman])"
   ]
  },
  {
   "cell_type": "code",
   "execution_count": 269,
   "id": "3686303e",
   "metadata": {},
   "outputs": [],
   "source": [
    "DC=DC.reset_index(drop=True)"
   ]
  },
  {
   "cell_type": "code",
   "execution_count": 270,
   "id": "be987cff",
   "metadata": {},
   "outputs": [
    {
     "name": "stdout",
     "output_type": "stream",
     "text": [
      "<class 'pandas.core.frame.DataFrame'>\n",
      "RangeIndex: 10202 entries, 0 to 10201\n",
      "Data columns (total 6 columns):\n",
      " #   Column        Non-Null Count  Dtype \n",
      "---  ------        --------------  ----- \n",
      " 0   Unnamed: 0    10202 non-null  int64 \n",
      " 1   review_title  10202 non-null  object\n",
      " 2   date          10202 non-null  object\n",
      " 3   content       10202 non-null  object\n",
      " 4   rating        9694 non-null   object\n",
      " 5   movie_title   10202 non-null  object\n",
      "dtypes: int64(1), object(5)\n",
      "memory usage: 478.3+ KB\n"
     ]
    }
   ],
   "source": [
    "DC.info()"
   ]
  },
  {
   "cell_type": "code",
   "execution_count": 274,
   "id": "1b222deb",
   "metadata": {},
   "outputs": [],
   "source": [
    "DC.to_csv('/Users/macbook/Documents/Iron Hack_Lab/Final P/DC/DC.csv')"
   ]
  },
  {
   "cell_type": "code",
   "execution_count": null,
   "id": "82b20ee4",
   "metadata": {},
   "outputs": [],
   "source": []
  }
 ],
 "metadata": {
  "kernelspec": {
   "display_name": "Python 3 (ipykernel)",
   "language": "python",
   "name": "python3"
  },
  "language_info": {
   "codemirror_mode": {
    "name": "ipython",
    "version": 3
   },
   "file_extension": ".py",
   "mimetype": "text/x-python",
   "name": "python",
   "nbconvert_exporter": "python",
   "pygments_lexer": "ipython3",
   "version": "3.10.2"
  },
  "toc": {
   "base_numbering": 1,
   "nav_menu": {},
   "number_sections": true,
   "sideBar": true,
   "skip_h1_title": false,
   "title_cell": "Table of Contents",
   "title_sidebar": "Contents",
   "toc_cell": false,
   "toc_position": {},
   "toc_section_display": true,
   "toc_window_display": false
  },
  "varInspector": {
   "cols": {
    "lenName": 16,
    "lenType": 16,
    "lenVar": 40
   },
   "kernels_config": {
    "python": {
     "delete_cmd_postfix": "",
     "delete_cmd_prefix": "del ",
     "library": "var_list.py",
     "varRefreshCmd": "print(var_dic_list())"
    },
    "r": {
     "delete_cmd_postfix": ") ",
     "delete_cmd_prefix": "rm(",
     "library": "var_list.r",
     "varRefreshCmd": "cat(var_dic_list()) "
    }
   },
   "types_to_exclude": [
    "module",
    "function",
    "builtin_function_or_method",
    "instance",
    "_Feature"
   ],
   "window_display": false
  }
 },
 "nbformat": 4,
 "nbformat_minor": 5
}
