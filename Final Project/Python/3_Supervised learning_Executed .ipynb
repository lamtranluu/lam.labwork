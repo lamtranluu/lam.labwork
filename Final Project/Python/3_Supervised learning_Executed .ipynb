{
 "cells": [
  {
   "cell_type": "markdown",
   "id": "f79b629a",
   "metadata": {},
   "source": [
    "- Regarding the result of the first notebook, we decided to apply supervised learning method in a similar data set ( IMDB 50000 movies reviews with label: negative & positive)\n",
    "- So i will train and evaluate the result of my model on that data set, before applying the prediction in DC & Marvel data set."
   ]
  },
  {
   "cell_type": "code",
   "execution_count": 1,
   "id": "1e7c0313",
   "metadata": {},
   "outputs": [],
   "source": [
    "# import all tools \n",
    "import pandas as pd\n",
    "import numpy as np\n",
    "import re\n",
    "import matplotlib.pyplot as plt\n",
    "%matplotlib inline\n",
    "import seaborn as sns\n",
    "from sklearn import metrics\n",
    "#nltk\n",
    "import nltk\n",
    "from nltk.stem import WordNetLemmatizer\n",
    "from nltk.tokenize import word_tokenize\n",
    "from nltk.corpus import stopwords\n",
    "from bs4 import BeautifulSoup\n",
    "pd.set_option('display.max_colwidth', None)\n",
    "# import from sklearn\n",
    "from sklearn.preprocessing import LabelEncoder\n",
    "from sklearn.feature_extraction.text import CountVectorizer, TfidfVectorizer\n",
    "from sklearn.linear_model import SGDClassifier, LogisticRegression"
   ]
  },
  {
   "cell_type": "markdown",
   "id": "43d74c71",
   "metadata": {},
   "source": [
    "# Read IMDB file"
   ]
  },
  {
   "cell_type": "code",
   "execution_count": 2,
   "id": "96b4d7eb",
   "metadata": {},
   "outputs": [],
   "source": [
    "imdb_reviews = pd.read_csv('/Users/macbook/Documents/Iron Hack_Lab/IMDB Dataset.csv')"
   ]
  },
  {
   "cell_type": "code",
   "execution_count": 3,
   "id": "2a4feacc",
   "metadata": {},
   "outputs": [
    {
     "name": "stdout",
     "output_type": "stream",
     "text": [
      "<class 'pandas.core.frame.DataFrame'>\n",
      "RangeIndex: 50000 entries, 0 to 49999\n",
      "Data columns (total 2 columns):\n",
      " #   Column     Non-Null Count  Dtype \n",
      "---  ------     --------------  ----- \n",
      " 0   review     50000 non-null  object\n",
      " 1   sentiment  50000 non-null  object\n",
      "dtypes: object(2)\n",
      "memory usage: 781.4+ KB\n"
     ]
    }
   ],
   "source": [
    "imdb_reviews.info()"
   ]
  },
  {
   "cell_type": "code",
   "execution_count": 4,
   "id": "75290ff1",
   "metadata": {},
   "outputs": [
    {
     "data": {
      "text/html": [
       "<div>\n",
       "<style scoped>\n",
       "    .dataframe tbody tr th:only-of-type {\n",
       "        vertical-align: middle;\n",
       "    }\n",
       "\n",
       "    .dataframe tbody tr th {\n",
       "        vertical-align: top;\n",
       "    }\n",
       "\n",
       "    .dataframe thead th {\n",
       "        text-align: right;\n",
       "    }\n",
       "</style>\n",
       "<table border=\"1\" class=\"dataframe\">\n",
       "  <thead>\n",
       "    <tr style=\"text-align: right;\">\n",
       "      <th></th>\n",
       "      <th>review</th>\n",
       "      <th>sentiment</th>\n",
       "    </tr>\n",
       "  </thead>\n",
       "  <tbody>\n",
       "    <tr>\n",
       "      <th>0</th>\n",
       "      <td>One of the other reviewers has mentioned that after watching just 1 Oz episode you'll be hooked. They are right, as this is exactly what happened with me.&lt;br /&gt;&lt;br /&gt;The first thing that struck me about Oz was its brutality and unflinching scenes of violence, which set in right from the word GO. Trust me, this is not a show for the faint hearted or timid. This show pulls no punches with regards to drugs, sex or violence. Its is hardcore, in the classic use of the word.&lt;br /&gt;&lt;br /&gt;It is called OZ as that is the nickname given to the Oswald Maximum Security State Penitentary. It focuses mainly on Emerald City, an experimental section of the prison where all the cells have glass fronts and face inwards, so privacy is not high on the agenda. Em City is home to many..Aryans, Muslims, gangstas, Latinos, Christians, Italians, Irish and more....so scuffles, death stares, dodgy dealings and shady agreements are never far away.&lt;br /&gt;&lt;br /&gt;I would say the main appeal of the show is due to the fact that it goes where other shows wouldn't dare. Forget pretty pictures painted for mainstream audiences, forget charm, forget romance...OZ doesn't mess around. The first episode I ever saw struck me as so nasty it was surreal, I couldn't say I was ready for it, but as I watched more, I developed a taste for Oz, and got accustomed to the high levels of graphic violence. Not just violence, but injustice (crooked guards who'll be sold out for a nickel, inmates who'll kill on order and get away with it, well mannered, middle class inmates being turned into prison bitches due to their lack of street skills or prison experience) Watching Oz, you may become comfortable with what is uncomfortable viewing....thats if you can get in touch with your darker side.</td>\n",
       "      <td>positive</td>\n",
       "    </tr>\n",
       "  </tbody>\n",
       "</table>\n",
       "</div>"
      ],
      "text/plain": [
       "                                                                                                                                                                                                                                                                                                                                                                                                                                                                                                                                                                                                                                                                                                                                                                                                                                                                                                                                                                                                                                                                                                                                                                                                                                                                                                                                                                                                                                                                                                                                                                                                                                                                                                                                                                                                                              review  \\\n",
       "0  One of the other reviewers has mentioned that after watching just 1 Oz episode you'll be hooked. They are right, as this is exactly what happened with me.<br /><br />The first thing that struck me about Oz was its brutality and unflinching scenes of violence, which set in right from the word GO. Trust me, this is not a show for the faint hearted or timid. This show pulls no punches with regards to drugs, sex or violence. Its is hardcore, in the classic use of the word.<br /><br />It is called OZ as that is the nickname given to the Oswald Maximum Security State Penitentary. It focuses mainly on Emerald City, an experimental section of the prison where all the cells have glass fronts and face inwards, so privacy is not high on the agenda. Em City is home to many..Aryans, Muslims, gangstas, Latinos, Christians, Italians, Irish and more....so scuffles, death stares, dodgy dealings and shady agreements are never far away.<br /><br />I would say the main appeal of the show is due to the fact that it goes where other shows wouldn't dare. Forget pretty pictures painted for mainstream audiences, forget charm, forget romance...OZ doesn't mess around. The first episode I ever saw struck me as so nasty it was surreal, I couldn't say I was ready for it, but as I watched more, I developed a taste for Oz, and got accustomed to the high levels of graphic violence. Not just violence, but injustice (crooked guards who'll be sold out for a nickel, inmates who'll kill on order and get away with it, well mannered, middle class inmates being turned into prison bitches due to their lack of street skills or prison experience) Watching Oz, you may become comfortable with what is uncomfortable viewing....thats if you can get in touch with your darker side.   \n",
       "\n",
       "  sentiment  \n",
       "0  positive  "
      ]
     },
     "execution_count": 4,
     "metadata": {},
     "output_type": "execute_result"
    }
   ],
   "source": [
    "imdb_reviews.head(1)"
   ]
  },
  {
   "cell_type": "code",
   "execution_count": 5,
   "id": "2463a937",
   "metadata": {},
   "outputs": [
    {
     "data": {
      "text/plain": [
       "review       0\n",
       "sentiment    0\n",
       "dtype: int64"
      ]
     },
     "execution_count": 5,
     "metadata": {},
     "output_type": "execute_result"
    }
   ],
   "source": [
    "# Check nulls value in data set\n",
    "imdb_reviews.isna().sum()"
   ]
  },
  {
   "cell_type": "code",
   "execution_count": 6,
   "id": "6de28be4",
   "metadata": {},
   "outputs": [
    {
     "data": {
      "text/plain": [
       "positive    25000\n",
       "negative    25000\n",
       "Name: sentiment, dtype: int64"
      ]
     },
     "execution_count": 6,
     "metadata": {},
     "output_type": "execute_result"
    }
   ],
   "source": [
    "# Check the distribution of positive and negative sentiments\n",
    "imdb_reviews['sentiment'].value_counts()"
   ]
  },
  {
   "cell_type": "markdown",
   "id": "73943c8c",
   "metadata": {},
   "source": [
    "# Preprocessing data"
   ]
  },
  {
   "cell_type": "code",
   "execution_count": 7,
   "id": "88744b7c",
   "metadata": {},
   "outputs": [
    {
     "data": {
      "text/html": [
       "<div>\n",
       "<style scoped>\n",
       "    .dataframe tbody tr th:only-of-type {\n",
       "        vertical-align: middle;\n",
       "    }\n",
       "\n",
       "    .dataframe tbody tr th {\n",
       "        vertical-align: top;\n",
       "    }\n",
       "\n",
       "    .dataframe thead th {\n",
       "        text-align: right;\n",
       "    }\n",
       "</style>\n",
       "<table border=\"1\" class=\"dataframe\">\n",
       "  <thead>\n",
       "    <tr style=\"text-align: right;\">\n",
       "      <th></th>\n",
       "      <th>review</th>\n",
       "      <th>sentiment</th>\n",
       "    </tr>\n",
       "  </thead>\n",
       "  <tbody>\n",
       "    <tr>\n",
       "      <th>0</th>\n",
       "      <td>One of the other reviewers has mentioned that after watching just 1 Oz episode you'll be hooked. They are right, as this is exactly what happened with me.&lt;br /&gt;&lt;br /&gt;The first thing that struck me about Oz was its brutality and unflinching scenes of violence, which set in right from the word GO. Trust me, this is not a show for the faint hearted or timid. This show pulls no punches with regards to drugs, sex or violence. Its is hardcore, in the classic use of the word.&lt;br /&gt;&lt;br /&gt;It is called OZ as that is the nickname given to the Oswald Maximum Security State Penitentary. It focuses mainly on Emerald City, an experimental section of the prison where all the cells have glass fronts and face inwards, so privacy is not high on the agenda. Em City is home to many..Aryans, Muslims, gangstas, Latinos, Christians, Italians, Irish and more....so scuffles, death stares, dodgy dealings and shady agreements are never far away.&lt;br /&gt;&lt;br /&gt;I would say the main appeal of the show is due to the fact that it goes where other shows wouldn't dare. Forget pretty pictures painted for mainstream audiences, forget charm, forget romance...OZ doesn't mess around. The first episode I ever saw struck me as so nasty it was surreal, I couldn't say I was ready for it, but as I watched more, I developed a taste for Oz, and got accustomed to the high levels of graphic violence. Not just violence, but injustice (crooked guards who'll be sold out for a nickel, inmates who'll kill on order and get away with it, well mannered, middle class inmates being turned into prison bitches due to their lack of street skills or prison experience) Watching Oz, you may become comfortable with what is uncomfortable viewing....thats if you can get in touch with your darker side.</td>\n",
       "      <td>1</td>\n",
       "    </tr>\n",
       "  </tbody>\n",
       "</table>\n",
       "</div>"
      ],
      "text/plain": [
       "                                                                                                                                                                                                                                                                                                                                                                                                                                                                                                                                                                                                                                                                                                                                                                                                                                                                                                                                                                                                                                                                                                                                                                                                                                                                                                                                                                                                                                                                                                                                                                                                                                                                                                                                                                                                                              review  \\\n",
       "0  One of the other reviewers has mentioned that after watching just 1 Oz episode you'll be hooked. They are right, as this is exactly what happened with me.<br /><br />The first thing that struck me about Oz was its brutality and unflinching scenes of violence, which set in right from the word GO. Trust me, this is not a show for the faint hearted or timid. This show pulls no punches with regards to drugs, sex or violence. Its is hardcore, in the classic use of the word.<br /><br />It is called OZ as that is the nickname given to the Oswald Maximum Security State Penitentary. It focuses mainly on Emerald City, an experimental section of the prison where all the cells have glass fronts and face inwards, so privacy is not high on the agenda. Em City is home to many..Aryans, Muslims, gangstas, Latinos, Christians, Italians, Irish and more....so scuffles, death stares, dodgy dealings and shady agreements are never far away.<br /><br />I would say the main appeal of the show is due to the fact that it goes where other shows wouldn't dare. Forget pretty pictures painted for mainstream audiences, forget charm, forget romance...OZ doesn't mess around. The first episode I ever saw struck me as so nasty it was surreal, I couldn't say I was ready for it, but as I watched more, I developed a taste for Oz, and got accustomed to the high levels of graphic violence. Not just violence, but injustice (crooked guards who'll be sold out for a nickel, inmates who'll kill on order and get away with it, well mannered, middle class inmates being turned into prison bitches due to their lack of street skills or prison experience) Watching Oz, you may become comfortable with what is uncomfortable viewing....thats if you can get in touch with your darker side.   \n",
       "\n",
       "   sentiment  \n",
       "0          1  "
      ]
     },
     "execution_count": 7,
     "metadata": {},
     "output_type": "execute_result"
    }
   ],
   "source": [
    "# Encode sentiment column\n",
    "encoder = LabelEncoder()\n",
    "imdb_reviews[\"sentiment\"] = encoder.fit_transform(imdb_reviews[\"sentiment\"])\n",
    "imdb_reviews.head(1)"
   ]
  },
  {
   "cell_type": "code",
   "execution_count": 8,
   "id": "03a1abb0",
   "metadata": {},
   "outputs": [],
   "source": [
    "# Create the training and test datasets \n",
    "reviews = imdb_reviews['review']\n",
    "sentiment = imdb_reviews['sentiment']\n",
    "training_reviews = reviews[:40000]\n",
    "training_sentiment = sentiment[:40000]\n",
    "test_reviews = reviews[40000:]\n",
    "test_sentiment = sentiment[40000:]"
   ]
  },
  {
   "cell_type": "code",
   "execution_count": 9,
   "id": "db1ceb16",
   "metadata": {},
   "outputs": [
    {
     "data": {
      "text/plain": [
       "0    20007\n",
       "1    19993\n",
       "Name: sentiment, dtype: int64"
      ]
     },
     "execution_count": 9,
     "metadata": {},
     "output_type": "execute_result"
    }
   ],
   "source": [
    "# Making sure we have a representative share of positives and negatives in the training dataset\n",
    "training_sentiment.value_counts()"
   ]
  },
  {
   "cell_type": "code",
   "execution_count": 10,
   "id": "3c172ee0",
   "metadata": {},
   "outputs": [],
   "source": [
    "# Define stopwords\n",
    "stop_words=stopwords.words('english')"
   ]
  },
  {
   "cell_type": "code",
   "execution_count": 11,
   "id": "5274d62f",
   "metadata": {},
   "outputs": [],
   "source": [
    "# Define function to clean reviews\n",
    "def cleaning(data):\n",
    "    #1. Tokenize\n",
    "    text_tokens = word_tokenize(data.replace('’', \"\").lower())\n",
    "    #2. Remove Puncs\n",
    "    tokens_without_punc = [w for w in text_tokens if w.isalpha()]\n",
    "    #3. Removing Stopwords\n",
    "    tokens_without_sw = [t for t in tokens_without_punc if t not in stop_words]\n",
    "    #4. lemma\n",
    "    text_cleaned = [WordNetLemmatizer().lemmatize(t) for t in tokens_without_sw]   \n",
    "    #joining\n",
    "    return \" \".join(text_cleaned)"
   ]
  },
  {
   "cell_type": "code",
   "execution_count": 12,
   "id": "a860ab4f",
   "metadata": {},
   "outputs": [],
   "source": [
    "# Removing html\n",
    "training_reviews = training_reviews.apply(lambda x:BeautifulSoup(x,\"html.parser\").get_text())\n",
    "test_reviews = test_reviews.apply(lambda x:BeautifulSoup(x,\"html.parser\").get_text())\n",
    "\n",
    "# Clean data\n",
    "training_reviews_cleaned = training_reviews.apply(cleaning)\n",
    "test_reviews_cleaned = test_reviews.apply(cleaning)"
   ]
  },
  {
   "cell_type": "code",
   "execution_count": 13,
   "id": "2e53ea32",
   "metadata": {},
   "outputs": [
    {
     "data": {
      "text/plain": [
       "\"One of the other reviewers has mentioned that after watching just 1 Oz episode you'll be hooked. They are right, as this is exactly what happened with me.The first thing that struck me about Oz was its brutality and unflinching scenes of violence, which set in right from the word GO. Trust me, this is not a show for the faint hearted or timid. This show pulls no punches with regards to drugs, sex or violence. Its is hardcore, in the classic use of the word.It is called OZ as that is the nickname given to the Oswald Maximum Security State Penitentary. It focuses mainly on Emerald City, an experimental section of the prison where all the cells have glass fronts and face inwards, so privacy is not high on the agenda. Em City is home to many..Aryans, Muslims, gangstas, Latinos, Christians, Italians, Irish and more....so scuffles, death stares, dodgy dealings and shady agreements are never far away.I would say the main appeal of the show is due to the fact that it goes where other shows wouldn't dare. Forget pretty pictures painted for mainstream audiences, forget charm, forget romance...OZ doesn't mess around. The first episode I ever saw struck me as so nasty it was surreal, I couldn't say I was ready for it, but as I watched more, I developed a taste for Oz, and got accustomed to the high levels of graphic violence. Not just violence, but injustice (crooked guards who'll be sold out for a nickel, inmates who'll kill on order and get away with it, well mannered, middle class inmates being turned into prison bitches due to their lack of street skills or prison experience) Watching Oz, you may become comfortable with what is uncomfortable viewing....thats if you can get in touch with your darker side.\""
      ]
     },
     "execution_count": 13,
     "metadata": {},
     "output_type": "execute_result"
    }
   ],
   "source": [
    "#review text before & after cleaning \n",
    "training_reviews[0]"
   ]
  },
  {
   "cell_type": "code",
   "execution_count": 14,
   "id": "01e9d35b",
   "metadata": {},
   "outputs": [
    {
     "data": {
      "text/plain": [
       "'one reviewer mentioned watching oz episode hooked right exactly happened first thing struck oz brutality unflinching scene violence set right word go trust show faint hearted timid show pull punch regard drug sex violence hardcore classic use called oz nickname given oswald maximum security state penitentary focus mainly emerald city experimental section prison cell glass front face inwards privacy high agenda em city home many aryan muslim gangsta latino christian italian irish scuffle death stare dodgy dealing shady agreement never far would say main appeal show due fact go show would dare forget pretty picture painted mainstream audience forget charm forget romance oz mess around first episode ever saw struck nasty surreal could say ready watched developed taste oz got accustomed high level graphic violence violence injustice crooked guard sold nickel inmate kill order get away well mannered middle class inmate turned prison bitch due lack street skill prison experience watching oz may become comfortable uncomfortable viewing thats get touch darker side'"
      ]
     },
     "execution_count": 14,
     "metadata": {},
     "output_type": "execute_result"
    }
   ],
   "source": [
    "training_reviews_cleaned[0]"
   ]
  },
  {
   "cell_type": "markdown",
   "id": "0fa7e08f",
   "metadata": {},
   "source": [
    "# Feature Selection: Using BOW and TFIDF"
   ]
  },
  {
   "cell_type": "code",
   "execution_count": 16,
   "id": "da669e6d",
   "metadata": {},
   "outputs": [],
   "source": [
    "# build TFIDF features on train reviews\n",
    "tv = TfidfVectorizer(use_idf=True, min_df=0.0, max_df=1.0, ngram_range=(1,3),sublinear_tf=True)\n",
    "tv_train_features = tv.fit_transform(training_reviews_cleaned)"
   ]
  },
  {
   "cell_type": "code",
   "execution_count": 15,
   "id": "6c0309a9",
   "metadata": {},
   "outputs": [],
   "source": [
    "# build BOW features on train reviews\n",
    "cv = CountVectorizer(binary=False, min_df=0.0, max_df=1.0, ngram_range=(1,3))\n",
    "cv_train_features = cv.fit_transform(training_reviews_cleaned)"
   ]
  },
  {
   "cell_type": "code",
   "execution_count": 17,
   "id": "f430d073",
   "metadata": {},
   "outputs": [],
   "source": [
    "# Create features for test reviews\n",
    "cv_test_features = cv.transform(test_reviews_cleaned)\n",
    "tv_test_features = tv.transform(test_reviews_cleaned)"
   ]
  },
  {
   "cell_type": "code",
   "execution_count": 18,
   "id": "435182e4",
   "metadata": {},
   "outputs": [
    {
     "name": "stdout",
     "output_type": "stream",
     "text": [
      "The shape of cv_train is  (40000, 6529513)\n",
      "The shape of tv_train is  (40000, 6529513)\n",
      "The shape of cv_test is  (10000, 6529513)\n",
      "The shape of tv_test is  (10000, 6529513)\n"
     ]
    }
   ],
   "source": [
    "# Observe shape of the feature matrices\n",
    "print(\"The shape of cv_train is \", cv_train_features.shape)\n",
    "print(\"The shape of tv_train is \", tv_train_features.shape)\n",
    "print(\"The shape of cv_test is \", cv_test_features.shape)\n",
    "print(\"The shape of tv_test is \", tv_test_features.shape)"
   ]
  },
  {
   "cell_type": "markdown",
   "id": "7af03175",
   "metadata": {},
   "source": [
    "# Model"
   ]
  },
  {
   "cell_type": "markdown",
   "id": "9625fc44",
   "metadata": {},
   "source": [
    "## LogisticRegression Model on BOW features"
   ]
  },
  {
   "cell_type": "code",
   "execution_count": 19,
   "id": "e96e7fae",
   "metadata": {},
   "outputs": [],
   "source": [
    "lr = LogisticRegression(penalty='l2', max_iter=100, C=1)"
   ]
  },
  {
   "cell_type": "code",
   "execution_count": 20,
   "id": "00e4749f",
   "metadata": {},
   "outputs": [
    {
     "name": "stderr",
     "output_type": "stream",
     "text": [
      "/Users/macbook/opt/anaconda3/envs/nlp/lib/python3.10/site-packages/sklearn/linear_model/_logistic.py:814: ConvergenceWarning: lbfgs failed to converge (status=1):\n",
      "STOP: TOTAL NO. of ITERATIONS REACHED LIMIT.\n",
      "\n",
      "Increase the number of iterations (max_iter) or scale the data as shown in:\n",
      "    https://scikit-learn.org/stable/modules/preprocessing.html\n",
      "Please also refer to the documentation for alternative solver options:\n",
      "    https://scikit-learn.org/stable/modules/linear_model.html#logistic-regression\n",
      "  n_iter_i = _check_optimize_result(\n"
     ]
    }
   ],
   "source": [
    "# Logistic Regression model on BOW features\n",
    "lr.fit(cv_train_features,training_sentiment)\n",
    "\n",
    "# predict value using model\n",
    "predictions = lr.predict(cv_test_features) \n",
    "\n",
    "# predict probabilities using model\n",
    "predictions_prob = lr.predict_proba(cv_test_features) "
   ]
  },
  {
   "cell_type": "code",
   "execution_count": 21,
   "id": "86637e69",
   "metadata": {},
   "outputs": [
    {
     "data": {
      "text/plain": [
       "array([[9.99992616e-01, 7.38398457e-06],\n",
       "       [9.99847075e-01, 1.52925044e-04],\n",
       "       [5.76800013e-01, 4.23199987e-01],\n",
       "       ...,\n",
       "       [4.69319263e-01, 5.30680737e-01],\n",
       "       [6.07506774e-01, 3.92493226e-01],\n",
       "       [9.90584638e-01, 9.41536157e-03]])"
      ]
     },
     "execution_count": 21,
     "metadata": {},
     "output_type": "execute_result"
    }
   ],
   "source": [
    "predictions_prob"
   ]
  },
  {
   "cell_type": "code",
   "execution_count": 22,
   "id": "869a9898",
   "metadata": {},
   "outputs": [
    {
     "data": {
      "text/plain": [
       "array([0, 0, 0, ..., 1, 0, 0])"
      ]
     },
     "execution_count": 22,
     "metadata": {},
     "output_type": "execute_result"
    }
   ],
   "source": [
    "predictions"
   ]
  },
  {
   "cell_type": "code",
   "execution_count": 23,
   "id": "0ca7dcbf",
   "metadata": {},
   "outputs": [
    {
     "name": "stdout",
     "output_type": "stream",
     "text": [
      "Accuracy score: 90.0 %\n"
     ]
    }
   ],
   "source": [
    "# Predictions score\n",
    "score = lr.score(cv_test_features,test_sentiment)\n",
    "print(\"Accuracy score:\",np.round(score,2)*100,\"%\")"
   ]
  },
  {
   "cell_type": "code",
   "execution_count": 24,
   "id": "f46533d0",
   "metadata": {},
   "outputs": [
    {
     "name": "stdout",
     "output_type": "stream",
     "text": [
      "Classification report\n",
      "\n",
      "              precision    recall  f1-score   support\n",
      "\n",
      "           0       0.90      0.89      0.90      4993\n",
      "           1       0.89      0.90      0.90      5007\n",
      "\n",
      "    accuracy                           0.90     10000\n",
      "   macro avg       0.90      0.90      0.90     10000\n",
      "weighted avg       0.90      0.90      0.90     10000\n",
      "\n"
     ]
    }
   ],
   "source": [
    "from sklearn.metrics import classification_report\n",
    "print(\"Classification report\\n\")\n",
    "print(classification_report(test_sentiment, predictions))"
   ]
  },
  {
   "cell_type": "code",
   "execution_count": 25,
   "id": "7ada1345",
   "metadata": {},
   "outputs": [
    {
     "name": "stdout",
     "output_type": "stream",
     "text": [
      "Confusion matrix:\n"
     ]
    },
    {
     "data": {
      "text/plain": [
       "Text(0.5, 1.0, 'Accuracy Score: 90.0%')"
      ]
     },
     "execution_count": 25,
     "metadata": {},
     "output_type": "execute_result"
    },
    {
     "data": {
      "image/png": "[encoded data removed]",
      "text/plain": [
       "<Figure size 360x360 with 2 Axes>"
      ]
     },
     "metadata": {
      "needs_background": "light"
     },
     "output_type": "display_data"
    }
   ],
   "source": [
    "#confusion metric\n",
    "cm = metrics.confusion_matrix(test_sentiment, predictions)\n",
    "plt.figure(figsize=(5,5))\n",
    "sns.heatmap(cm, annot=True, fmt=\".3f\", linewidths=.5, square = True)\n",
    "plt.ylabel('Actual label')\n",
    "plt.xlabel('Predicted label')\n",
    "print(\"Confusion matrix:\")\n",
    "all_sample_title = 'Accuracy Score: {0}%'.format(np.round(score,2)*100)\n",
    "plt.title(all_sample_title, size = 12)\n"
   ]
  },
  {
   "cell_type": "markdown",
   "id": "428014d4",
   "metadata": {},
   "source": [
    "## LogisticRegression Model on TFIDF features"
   ]
  },
  {
   "cell_type": "code",
   "execution_count": 58,
   "id": "8442e7a1",
   "metadata": {},
   "outputs": [],
   "source": [
    "lr_tf = LogisticRegression(penalty='l2', max_iter=100, C=1)\n",
    "# Logistic Regression model on BOW features\n",
    "lr_tf.fit(tv_train_features,training_sentiment)\n",
    "\n",
    "# predict value using model\n",
    "predictions_tf = lr_tf.predict(tv_test_features) \n",
    "\n",
    "# predict probabilities using model\n",
    "predictions_prob_tf = lr_tf.predict_proba(tv_test_features) "
   ]
  },
  {
   "cell_type": "code",
   "execution_count": 59,
   "id": "7eb66aa3",
   "metadata": {},
   "outputs": [
    {
     "name": "stdout",
     "output_type": "stream",
     "text": [
      "Accuracy score: 90.0 %\n"
     ]
    }
   ],
   "source": [
    "score_tf = lr_tf.score(tv_test_features,test_sentiment)\n",
    "print(\"Accuracy score:\",np.round(score,2)*100,\"%\")"
   ]
  },
  {
   "cell_type": "code",
   "execution_count": 60,
   "id": "a1815f8b",
   "metadata": {},
   "outputs": [
    {
     "name": "stdout",
     "output_type": "stream",
     "text": [
      "Confusion matrix:\n"
     ]
    },
    {
     "data": {
      "text/plain": [
       "Text(0.5, 1.0, 'Accuracy Score: 90.0%')"
      ]
     },
     "execution_count": 60,
     "metadata": {},
     "output_type": "execute_result"
    },
    {
     "data": {
      "image/png": "[encoded data removed]",
      "text/plain": [
       "<Figure size 360x360 with 2 Axes>"
      ]
     },
     "metadata": {
      "needs_background": "light"
     },
     "output_type": "display_data"
    }
   ],
   "source": [
    "#confusion metric\n",
    "cm = metrics.confusion_matrix(test_sentiment, predictions_tf)\n",
    "plt.figure(figsize=(5,5))\n",
    "sns.heatmap(cm, annot=True, fmt=\".3f\", linewidths=.5, square = True)\n",
    "plt.ylabel('Actual label')\n",
    "plt.xlabel('Predicted label')\n",
    "print(\"Confusion matrix:\")\n",
    "all_sample_title = 'Accuracy Score: {0}%'.format(np.round(score,2)*100)\n",
    "plt.title(all_sample_title, size = 12)\n"
   ]
  },
  {
   "cell_type": "markdown",
   "id": "5550d5de",
   "metadata": {},
   "source": [
    "- Both 2 models give us same accuracy around 90% to classify negative & positive results \n",
    "- Therefore, i decide to use logistic regression with BOW features for DC & Marvel data set"
   ]
  },
  {
   "cell_type": "markdown",
   "id": "5199a379",
   "metadata": {},
   "source": [
    "# Apply the model into data set to classify negative & positive"
   ]
  },
  {
   "cell_type": "code",
   "execution_count": 26,
   "id": "d342e631",
   "metadata": {},
   "outputs": [],
   "source": [
    "# Apply prediction to new dataset\n",
    "# Import datasets\n",
    "DC=pd.read_csv('/Users/macbook/Documents/Iron Hack_Lab/Final P/Dc/DC.csv')\n",
    "Marvel=pd.read_csv('/Users/macbook/Documents/Iron Hack_Lab/Final P/Marvel/marvel.csv')"
   ]
  },
  {
   "cell_type": "markdown",
   "id": "023afdc3",
   "metadata": {},
   "source": [
    "## Data cleaning, create BOW features"
   ]
  },
  {
   "cell_type": "code",
   "execution_count": 28,
   "id": "41075434",
   "metadata": {},
   "outputs": [],
   "source": [
    "DC.drop(['Unnamed: 0.1','Unnamed: 0'],axis =1, inplace = True)"
   ]
  },
  {
   "cell_type": "code",
   "execution_count": 29,
   "id": "4363a988",
   "metadata": {},
   "outputs": [],
   "source": [
    "Marvel.drop(['Unnamed: 0.1','Unnamed: 0'],axis =1, inplace = True)"
   ]
  },
  {
   "cell_type": "code",
   "execution_count": 30,
   "id": "11ef6d0a",
   "metadata": {},
   "outputs": [],
   "source": [
    "#change data type of date\n",
    "DC['date']=pd.to_datetime(DC['date'],errors='coerce')\n",
    "Marvel['date']=pd.to_datetime(Marvel['date'], errors='coerce')"
   ]
  },
  {
   "cell_type": "code",
   "execution_count": 31,
   "id": "c1a5c13c",
   "metadata": {},
   "outputs": [],
   "source": [
    "def remove(data):\n",
    "    data1 = data.replace('Was this review helpful','')\n",
    "    data2 = data1.replace('Sign in to vote','')\n",
    "    data3 = data2.replace('Permalink','')\n",
    "    data4 = data3.replace('\\n','')\n",
    "    data5 = re.sub('\\d* out of \\d* found this helpful', '', data4)\n",
    "    return data5\n"
   ]
  },
  {
   "cell_type": "code",
   "execution_count": 32,
   "id": "c51afff1",
   "metadata": {},
   "outputs": [],
   "source": [
    "# Clean the reviews DC\n",
    "DC['content_cleaned'] = DC['content'].apply(lambda x:remove(x))\n",
    "DC['content_cleaned']=DC['content_cleaned'].apply(cleaning)"
   ]
  },
  {
   "cell_type": "code",
   "execution_count": 33,
   "id": "bc4b5107",
   "metadata": {},
   "outputs": [],
   "source": [
    "# Clean the reviews Marvel\n",
    "Marvel['content_cleaned'] = Marvel['content'].apply(lambda x:remove(x))\n",
    "Marvel['content_cleaned']=Marvel['content_cleaned'].apply(cleaning)"
   ]
  },
  {
   "cell_type": "markdown",
   "id": "94887655",
   "metadata": {},
   "source": [
    "## Preprocessing: "
   ]
  },
  {
   "cell_type": "code",
   "execution_count": 34,
   "id": "d19e6fd3",
   "metadata": {},
   "outputs": [],
   "source": [
    "# Transform the DC reviews into Count Vectorizer feature matrix \n",
    "cv_DC_features = cv.transform(DC['content_cleaned'])"
   ]
  },
  {
   "cell_type": "code",
   "execution_count": 69,
   "id": "8e937a1a",
   "metadata": {},
   "outputs": [],
   "source": [
    "cv_MV_features = cv.transform(Marvel['content_cleaned'])"
   ]
  },
  {
   "cell_type": "markdown",
   "id": "e381dc15",
   "metadata": {},
   "source": [
    "# Classify negative, positive, neutral for DC movie"
   ]
  },
  {
   "cell_type": "code",
   "execution_count": 35,
   "id": "b8994eee",
   "metadata": {},
   "outputs": [],
   "source": [
    "# Predict sentiment for DC\n",
    "DC_predictions = lr.predict(cv_DC_features)"
   ]
  },
  {
   "cell_type": "code",
   "execution_count": 40,
   "id": "acb6c38c",
   "metadata": {},
   "outputs": [
    {
     "data": {
      "text/plain": [
       "(10202,)"
      ]
     },
     "execution_count": 40,
     "metadata": {},
     "output_type": "execute_result"
    }
   ],
   "source": [
    "DC_predictions.shape"
   ]
  },
  {
   "cell_type": "code",
   "execution_count": 37,
   "id": "fb4f5014",
   "metadata": {},
   "outputs": [
    {
     "data": {
      "text/plain": [
       "(10202, 6)"
      ]
     },
     "execution_count": 37,
     "metadata": {},
     "output_type": "execute_result"
    }
   ],
   "source": [
    "DC.shape"
   ]
  },
  {
   "cell_type": "code",
   "execution_count": 38,
   "id": "d340b0d2",
   "metadata": {},
   "outputs": [],
   "source": [
    "DC['sentiment_biclass'] = DC_predictions"
   ]
  },
  {
   "cell_type": "code",
   "execution_count": 42,
   "id": "523ac364",
   "metadata": {},
   "outputs": [],
   "source": [
    "# Identify sentiment probabilities for DC\n",
    "DC_predictions_prob = lr.predict_proba(cv_DC_features)"
   ]
  },
  {
   "cell_type": "code",
   "execution_count": 44,
   "id": "b28a360f",
   "metadata": {},
   "outputs": [],
   "source": [
    "DC['positive_prob'] = DC_predictions_prob[:,1]"
   ]
  },
  {
   "cell_type": "code",
   "execution_count": 49,
   "id": "ddcf28b0",
   "metadata": {},
   "outputs": [],
   "source": [
    "def assign_sentiment_triclass(positive_prob):\n",
    "    sentiment_triclass = []\n",
    "    if positive_prob >=0.7:\n",
    "        sentiment_triclass = 'Positive'\n",
    "    elif positive_prob <= 0.4:\n",
    "        sentiment_triclass = 'Negative'\n",
    "    else: sentiment_triclass = 'Neutral'\n",
    "    return sentiment_triclass"
   ]
  },
  {
   "cell_type": "code",
   "execution_count": 50,
   "id": "af7872fb",
   "metadata": {},
   "outputs": [],
   "source": [
    "DC['sentiment_triclass'] = DC['positive_prob'].apply(lambda x:assign_sentiment_triclass(x))"
   ]
  },
  {
   "cell_type": "code",
   "execution_count": 51,
   "id": "ed609174",
   "metadata": {
    "collapsed": true
   },
   "outputs": [
    {
     "data": {
      "text/html": [
       "<div>\n",
       "<style scoped>\n",
       "    .dataframe tbody tr th:only-of-type {\n",
       "        vertical-align: middle;\n",
       "    }\n",
       "\n",
       "    .dataframe tbody tr th {\n",
       "        vertical-align: top;\n",
       "    }\n",
       "\n",
       "    .dataframe thead th {\n",
       "        text-align: right;\n",
       "    }\n",
       "</style>\n",
       "<table border=\"1\" class=\"dataframe\">\n",
       "  <thead>\n",
       "    <tr style=\"text-align: right;\">\n",
       "      <th></th>\n",
       "      <th>review_title</th>\n",
       "      <th>date</th>\n",
       "      <th>content</th>\n",
       "      <th>rating</th>\n",
       "      <th>movie_title</th>\n",
       "      <th>content_cleaned</th>\n",
       "      <th>sentiment_biclass</th>\n",
       "      <th>positive_prob</th>\n",
       "      <th>sentiment_triclass</th>\n",
       "    </tr>\n",
       "  </thead>\n",
       "  <tbody>\n",
       "    <tr>\n",
       "      <th>0</th>\n",
       "      <td>Lying there Under, under the sea</td>\n",
       "      <td>2019-04-21</td>\n",
       "      <td>Aquaman of DC comics finally gets his top billing in a film as the nicely put together Jason Momoa plays the title role in this science fiction epic. Already a\\nsequel is in the works, in fact this film ends on an uncertain note setting up the\\nstory line for the sequel.Lighthouse keeper Temura Morrison finds a woman with a trident on his beach\\nand takes her in. Nicole Kidman is the woman and she's the queen of the under\\nsea kingdom of Atlantis and she's running away from all that. The two fall in\\nlove and have a kid who grows up to be Jason Momoa.But before that some Atlantian warriors show up and try to kidnap Kidman.\\nThey're all killed, but Kidman decides to go back lest more come and harm her\\nson.One would have to be blind not to miss the parallels between the story of the\\nSword And The Stone and Aquaman. Momoa's earth name is Arthur Curry for\\nthat matter. Now all grown up and quite fit and cut he's summoned to Atlantis to claim the crown. But first he has to find a magical trident stuck in a rock\\nsomewhere in the sea. Can it get plainer than that.Aquaman also has a surface enemy in the son of a pirate whose father he killed\\nwhen they were capturing a submarine.I did like the computer graphic special effects.used and loved the fantasy sea\\nworld that was created.I can hardly wait for the sequel.</td>\n",
       "      <td>7/10</td>\n",
       "      <td>Aquaman</td>\n",
       "      <td>aquaman dc comic finally get top billing film nicely put together jason momoa play title role science fiction epic already asequel work fact film end uncertain note setting thestory line keeper temura morrison find woman trident beachand take nicole kidman woman queen undersea kingdom atlantis running away two fall inlove kid grows jason atlantian warrior show try kidnap killed kidman decides go back lest come harm would blind miss parallel story thesword stone aquaman momoa earth name arthur curry forthat matter grown quite fit cut summoned atlantis claim crown first find magical trident stuck rocksomewhere sea get plainer also surface enemy son pirate whose father killedwhen capturing like computer graphic special loved fantasy seaworld hardly wait sequel</td>\n",
       "      <td>1</td>\n",
       "      <td>0.829744</td>\n",
       "      <td>Positive</td>\n",
       "    </tr>\n",
       "    <tr>\n",
       "      <th>1</th>\n",
       "      <td>Indifferent</td>\n",
       "      <td>2020-01-12</td>\n",
       "      <td>AQUAMAN is the latest superhero blockbuster from DC Comics and a surprisingly lacklustre affair. It's not particularly awful, it's just that I felt indifferent towards it, particularly with a hackneyed storyline that goes through all of the motions without ever offering much in the way of originality or innovation. Jason Momoa is a likeable presence as the big bear-like hero of the piece, but the undersea kingdom material feels more than a little silly and it doesn't help that established stars like Willem Dafoe, Patrick Wilson and Dolph Lundgren all look ridiculous in their costumes. An inflated running time and juvenile script had me feeling like this was a NEMO sequel at times, and it all ends in a climax that just goes for CGI effect after CGI effect, ad nauseum. Try harder, guys...</td>\n",
       "      <td>5/10</td>\n",
       "      <td>Aquaman</td>\n",
       "      <td>aquaman latest superhero blockbuster dc comic surprisingly lacklustre affair particularly awful felt indifferent towards particularly hackneyed storyline go motion without ever offering much way originality innovation jason momoa likeable presence big hero piece undersea kingdom material feel little silly help established star like willem dafoe patrick wilson dolph lundgren look ridiculous costume inflated running time juvenile script feeling like nemo sequel time end climax go cgi effect cgi effect ad nauseum try harder guy</td>\n",
       "      <td>0</td>\n",
       "      <td>0.000655</td>\n",
       "      <td>Negative</td>\n",
       "    </tr>\n",
       "    <tr>\n",
       "      <th>2</th>\n",
       "      <td>CGI extravaganza</td>\n",
       "      <td>2019-03-08</td>\n",
       "      <td>In 1985, lighthouse keeper Tom Curry rescues a woman from the stormy sea. She's Atlanna (Nicole Kidman), The Queen of Atlantis. They have a son together named Arthur. In order to keep him safe, she leaves them for Atlantis where she is forced to marry another. Her advisor Vulko (Willem Dafoe) is tasked to train Arthur. In the present, Arthur is Aquaman (Jason Momoa), a Justice League hero. In rescuing a Russian sub, he leaves a pirate to his death giving his son David Kane reason to seek revenge as Black Manta. Mera (Amber Heard) informs Arthur about an impending invasion by Atlantian forces led by Orm (Patrick Wilson). Orm is Arthur's younger half-brother. Atlanna has been executed to the creatures of the Trench. As the eldest son of Atlanna, Arthur has more claim to the throne.Director James Wan delivers a CGI extravaganza. The level of difficulty is high and he mostly clears it. I would have liked more space for some of the scenes to breathe. The movie is like a freight train without brakes. I need more moments in first gear to admire the sceneries and enjoy the humor. The pee joke is funny. The movie needs some calmer scenes to build good chemistry and do character work. I love the crazy war-crabs but it's sensory overload. The first speed bump occurs when Aquaman challenges Orm to a fight in the Thunderdome. It would have been more reasonable for Mera to bring Arthur to her father only to be ambushed by a double-crossing Orm. It would serve the same purpose without doing a big coliseum gladiator fight. It would also make Orm more underhanded evil. As for the creatures from The Trench, I would have preferred diplomacy instead of another fight. I expected a smarter twist where the monsters turn out to be intelligent. This is a good rebound from the lows of the DCEU although I hope the franchise can do more character work and less CGI fights. There is too much of a good thing.</td>\n",
       "      <td>7/10</td>\n",
       "      <td>Aquaman</td>\n",
       "      <td>lighthouse keeper tom curry rescue woman stormy sea atlanna nicole kidman queen atlantis son together named arthur order keep safe leaf atlantis forced marry another advisor vulko willem dafoe tasked train arthur present arthur aquaman jason momoa justice league hero rescuing russian sub leaf pirate death giving son david kane reason seek revenge black manta mera amber heard informs arthur impending invasion atlantian force led orm patrick wilson orm arthur younger atlanna executed creature trench eldest son atlanna arthur claim james wan delivers cgi extravaganza level difficulty high mostly clear would liked space scene breathe movie like freight train without brake need moment first gear admire scenery enjoy humor pee joke funny movie need calmer scene build good chemistry character work love crazy sensory overload first speed bump occurs aquaman challenge orm fight thunderdome would reasonable mera bring arthur father ambushed orm would serve purpose without big coliseum gladiator fight would also make orm underhanded evil creature trench would preferred diplomacy instead another fight expected smarter twist monster turn intelligent good rebound low dceu although hope franchise character work le cgi fight much good thing</td>\n",
       "      <td>1</td>\n",
       "      <td>0.764537</td>\n",
       "      <td>Positive</td>\n",
       "    </tr>\n",
       "    <tr>\n",
       "      <th>3</th>\n",
       "      <td>Jason Momoa</td>\n",
       "      <td>2019-02-08</td>\n",
       "      <td>He was, in my case, the basic motif for see the film. I am too old for super heroes of American pop culture and the only desire about DC films is to convince me. In this case, the result is satisfactory. Because ...Jason Momoa. Sure, CGI, old cliches, the trident and the wise guide, the beautiful girl and the terrible enemy. But, except the effort of Momoa to sustain in honorable way his character, nothing new. Sure, it is a simple, dynamic, cool film for fans and young public. And it works. But the too familiar \"it could be better\" remains present at the end. Not exactly as accusation, but as a form of nostalgia about old fashion fantasy - action films. Sure, it is heroic and propose a high noble, powerful hero. But something is missing. What ? Maybe, in essence, the answer has no significance.\\n                \\n                    4 out of 9 found this helpful.\\n                        \\n                            Was this review helpful?  Sign in to vote.\\n                        \\n                        \\n                    Permalink</td>\n",
       "      <td>NaN</td>\n",
       "      <td>Aquaman</td>\n",
       "      <td>case basic motif see film old super hero american pop culture desire dc film convince case result satisfactory jason momoa sure cgi old cliche trident wise guide beautiful girl terrible enemy except effort momoa sustain honorable way character nothing new sure simple dynamic cool film fan young public work familiar could better remains present end exactly accusation form nostalgia old fashion fantasy action film sure heroic propose high noble powerful hero something missing maybe essence answer significance</td>\n",
       "      <td>0</td>\n",
       "      <td>0.071179</td>\n",
       "      <td>Negative</td>\n",
       "    </tr>\n",
       "    <tr>\n",
       "      <th>4</th>\n",
       "      <td>My Father Was The Keeper Of The Eddystone Light</td>\n",
       "      <td>2020-11-28</td>\n",
       "      <td>More than half a century ago, I was a Marvel comics fan during the Silver Age. One of the reasons I enjoyed them was the fact that amidst the planet-eating villains, there were superheroes with some human problems. Stan Lee may not have been the great writer he had once hoped to be, but he infused his characters with issues that at least symbolically attacked reality. Thus, the Fantastic Four dealt with family issues, the Hulk with anger management, and Peter Parker had all the problems of a teenager except acne.The DC extended universe, to give it its formal name, under the influence of Zack Snyder, seems to have concentrated on angst. While this has its uses, anger in its various forms does not lead to good solutions; for an audience of teenagers, this might work, but these comic-book movies appeal to alte kokkes like me, too. Thus the recent success of SHAZAM: some jokes, some nice symbolism, some reference to things that showed up in the comics when I was a kid.I did not see AQUAMAN in a theater. I had grown tired of the standard DC movie, but waited until it showed up on my TV. I regret this mildly. It is visually opulent, with the underseas segments beautifully decorated, lit and shot. clearly they would have shown well on a big screen. However, for much of it it consisted of men and women in costumes that would baffle a Halloween parade, slamming each other against hard surfaces and reacting less than I would stubbing a toe. If you cut me, do I not bleed? Yes I do. Not these fellows. Others may cheer these events, but for me, risk and reward must be balanced.Well, I've seen it now, and it's certainly watchable, if you like to watch these things, with the sort of cast that only sackloads of money can buy. But I won't be looking at it again.</td>\n",
       "      <td>5/10</td>\n",
       "      <td>Aquaman</td>\n",
       "      <td>half century ago marvel comic fan silver age one reason enjoyed fact amidst villain superheroes human problem stan lee may great writer hoped infused character issue least symbolically attacked reality thus fantastic four dealt family issue hulk anger management peter parker problem teenager except dc extended universe give formal name influence zack snyder seems concentrated angst us anger various form lead good solution audience teenager might work movie appeal alte kokkes like thus recent success shazam joke nice symbolism reference thing showed comic see aquaman theater grown tired standard dc movie waited showed tv regret mildly visually opulent underseas segment beautifully decorated lit shot clearly would shown well big screen however much consisted men woman costume would baffle halloween parade slamming hard surface reacting le would stubbing toe cut bleed yes fellow others may cheer event risk reward must seen certainly watchable like watch thing sort cast sackloads money buy wo looking</td>\n",
       "      <td>0</td>\n",
       "      <td>0.472603</td>\n",
       "      <td>Neutral</td>\n",
       "    </tr>\n",
       "    <tr>\n",
       "      <th>5</th>\n",
       "      <td>King Arthur</td>\n",
       "      <td>2019-01-25</td>\n",
       "      <td>DC have learned to make their films bold, brash and colourful. Audiences do not want dark, moody superheroes. It might work on the Dark Knight but we want Superman to be well super.Aquaman is enjoyable enough nonsense. It has similarities with Black Panther as well as elements of Thor and King Arthur. It injects fun as long as you do not take it all seriously.The movie begins with a lighthouse keeper, Tom Curry rescuing Princess Atlanna (Nicole Kidman) from the underwater realm of Atlantis.Two worlds collide, they fall in love and have a baby boy. Arthur Curry (Jason Momoa) lives with his father in a small fishing coast. His mother was snatched back to Atlantis when he was a child.Vulko (Willem Dafoe) came from the watery world to mentor and teach Arthur about his heritage and combat skills. Aquaman uses his powers to save people in the land world.Mera (Amber Heard) tells that Arthur that he must fulfil his right to be the heir to one of the underwater kingdoms of Atlantis, even though he is a half breed. His half brother Orm (Patrick Wilson) is dangerous and plans to destroy the land world.Orm is in cahoots with Black Manta (Yahya Abdul-Mateen II) who launches a submarine attack on Atlantis, giving Orm an excuse to go to war. Black Manta also has his own reasons to kill Aquaman.However Aquaman in order to be the rightful king, must find a legendary trident once forged by Poseidon. His sword in the stone.Jason Momoa is a limited actor. He is here for his muscles and some light hearted quips. Amber Heard is suitably sexy, Dolph Lundgren has a lot of screen time. Patrick Wilson is not a delicious villain in the mould of Loki.There are a lot of action scenes, some of it is well realised. James Wan has done a good job in pulling off this film. It is overlong but at least it did not end up in a watery grave.</td>\n",
       "      <td>6/10</td>\n",
       "      <td>Aquaman</td>\n",
       "      <td>dc learned make film bold brash colourful audience want dark moody superheroes might work dark knight want superman well enjoyable enough nonsense similarity black panther well element thor king arthur injects fun long take movie begin lighthouse keeper tom curry rescuing princess atlanna nicole kidman underwater realm world collide fall love baby boy arthur curry jason momoa life father small fishing coast mother snatched back atlantis willem dafoe came watery world mentor teach arthur heritage combat skill aquaman us power save people land amber heard tell arthur must fulfil right heir one underwater kingdom atlantis even though half breed half brother orm patrick wilson dangerous plan destroy land cahoot black manta yahya ii launch submarine attack atlantis giving orm excuse go war black manta also reason kill aquaman order rightful king must find legendary trident forged poseidon sword momoa limited actor muscle light hearted quip amber heard suitably sexy dolph lundgren lot screen time patrick wilson delicious villain mould lot action scene well realised james wan done good job pulling film overlong least end watery grave</td>\n",
       "      <td>1</td>\n",
       "      <td>0.994751</td>\n",
       "      <td>Positive</td>\n",
       "    </tr>\n",
       "  </tbody>\n",
       "</table>\n",
       "</div>"
      ],
      "text/plain": [
       "                                      review_title       date  \\\n",
       "0                 Lying there Under, under the sea 2019-04-21   \n",
       "1                                      Indifferent 2020-01-12   \n",
       "2                                 CGI extravaganza 2019-03-08   \n",
       "3                                      Jason Momoa 2019-02-08   \n",
       "4  My Father Was The Keeper Of The Eddystone Light 2020-11-28   \n",
       "5                                      King Arthur 2019-01-25   \n",
       "\n",
       "                                                                                                                                                                                                                                                                                                                                                                                                                                                                                                                                                                                                                                                                                                                                                                                                                                                                                                                                                                                                                                                                                                                                                                                                                                                                                                                                                                                                                                                                                                                                                                                                                                                                                                                                                                                                                                                                                                                                                                                   content  \\\n",
       "0                                                                                                                                                                                                                                                                                                                                                                                                                                                                                                                                                                                                        Aquaman of DC comics finally gets his top billing in a film as the nicely put together Jason Momoa plays the title role in this science fiction epic. Already a\\nsequel is in the works, in fact this film ends on an uncertain note setting up the\\nstory line for the sequel.Lighthouse keeper Temura Morrison finds a woman with a trident on his beach\\nand takes her in. Nicole Kidman is the woman and she's the queen of the under\\nsea kingdom of Atlantis and she's running away from all that. The two fall in\\nlove and have a kid who grows up to be Jason Momoa.But before that some Atlantian warriors show up and try to kidnap Kidman.\\nThey're all killed, but Kidman decides to go back lest more come and harm her\\nson.One would have to be blind not to miss the parallels between the story of the\\nSword And The Stone and Aquaman. Momoa's earth name is Arthur Curry for\\nthat matter. Now all grown up and quite fit and cut he's summoned to Atlantis to claim the crown. But first he has to find a magical trident stuck in a rock\\nsomewhere in the sea. Can it get plainer than that.Aquaman also has a surface enemy in the son of a pirate whose father he killed\\nwhen they were capturing a submarine.I did like the computer graphic special effects.used and loved the fantasy sea\\nworld that was created.I can hardly wait for the sequel.   \n",
       "1                                                                                                                                                                                                                                                                                                                                                                                                                                                                                                                                                                                                                                                                                                                                                                                                                                                                                                                                                                                                                                                                                                                                                            AQUAMAN is the latest superhero blockbuster from DC Comics and a surprisingly lacklustre affair. It's not particularly awful, it's just that I felt indifferent towards it, particularly with a hackneyed storyline that goes through all of the motions without ever offering much in the way of originality or innovation. Jason Momoa is a likeable presence as the big bear-like hero of the piece, but the undersea kingdom material feels more than a little silly and it doesn't help that established stars like Willem Dafoe, Patrick Wilson and Dolph Lundgren all look ridiculous in their costumes. An inflated running time and juvenile script had me feeling like this was a NEMO sequel at times, and it all ends in a climax that just goes for CGI effect after CGI effect, ad nauseum. Try harder, guys...   \n",
       "2  In 1985, lighthouse keeper Tom Curry rescues a woman from the stormy sea. She's Atlanna (Nicole Kidman), The Queen of Atlantis. They have a son together named Arthur. In order to keep him safe, she leaves them for Atlantis where she is forced to marry another. Her advisor Vulko (Willem Dafoe) is tasked to train Arthur. In the present, Arthur is Aquaman (Jason Momoa), a Justice League hero. In rescuing a Russian sub, he leaves a pirate to his death giving his son David Kane reason to seek revenge as Black Manta. Mera (Amber Heard) informs Arthur about an impending invasion by Atlantian forces led by Orm (Patrick Wilson). Orm is Arthur's younger half-brother. Atlanna has been executed to the creatures of the Trench. As the eldest son of Atlanna, Arthur has more claim to the throne.Director James Wan delivers a CGI extravaganza. The level of difficulty is high and he mostly clears it. I would have liked more space for some of the scenes to breathe. The movie is like a freight train without brakes. I need more moments in first gear to admire the sceneries and enjoy the humor. The pee joke is funny. The movie needs some calmer scenes to build good chemistry and do character work. I love the crazy war-crabs but it's sensory overload. The first speed bump occurs when Aquaman challenges Orm to a fight in the Thunderdome. It would have been more reasonable for Mera to bring Arthur to her father only to be ambushed by a double-crossing Orm. It would serve the same purpose without doing a big coliseum gladiator fight. It would also make Orm more underhanded evil. As for the creatures from The Trench, I would have preferred diplomacy instead of another fight. I expected a smarter twist where the monsters turn out to be intelligent. This is a good rebound from the lows of the DCEU although I hope the franchise can do more character work and less CGI fights. There is too much of a good thing.   \n",
       "3                                                                                                                                                                                                                                                                                                                                                                                                                                                                                                                                                                                                                                                                                                                                                                                                                                                                                        He was, in my case, the basic motif for see the film. I am too old for super heroes of American pop culture and the only desire about DC films is to convince me. In this case, the result is satisfactory. Because ...Jason Momoa. Sure, CGI, old cliches, the trident and the wise guide, the beautiful girl and the terrible enemy. But, except the effort of Momoa to sustain in honorable way his character, nothing new. Sure, it is a simple, dynamic, cool film for fans and young public. And it works. But the too familiar \"it could be better\" remains present at the end. Not exactly as accusation, but as a form of nostalgia about old fashion fantasy - action films. Sure, it is heroic and propose a high noble, powerful hero. But something is missing. What ? Maybe, in essence, the answer has no significance.\\n                \\n                    4 out of 9 found this helpful.\\n                        \\n                            Was this review helpful?  Sign in to vote.\\n                        \\n                        \\n                    Permalink   \n",
       "4                                                                                                                                         More than half a century ago, I was a Marvel comics fan during the Silver Age. One of the reasons I enjoyed them was the fact that amidst the planet-eating villains, there were superheroes with some human problems. Stan Lee may not have been the great writer he had once hoped to be, but he infused his characters with issues that at least symbolically attacked reality. Thus, the Fantastic Four dealt with family issues, the Hulk with anger management, and Peter Parker had all the problems of a teenager except acne.The DC extended universe, to give it its formal name, under the influence of Zack Snyder, seems to have concentrated on angst. While this has its uses, anger in its various forms does not lead to good solutions; for an audience of teenagers, this might work, but these comic-book movies appeal to alte kokkes like me, too. Thus the recent success of SHAZAM: some jokes, some nice symbolism, some reference to things that showed up in the comics when I was a kid.I did not see AQUAMAN in a theater. I had grown tired of the standard DC movie, but waited until it showed up on my TV. I regret this mildly. It is visually opulent, with the underseas segments beautifully decorated, lit and shot. clearly they would have shown well on a big screen. However, for much of it it consisted of men and women in costumes that would baffle a Halloween parade, slamming each other against hard surfaces and reacting less than I would stubbing a toe. If you cut me, do I not bleed? Yes I do. Not these fellows. Others may cheer these events, but for me, risk and reward must be balanced.Well, I've seen it now, and it's certainly watchable, if you like to watch these things, with the sort of cast that only sackloads of money can buy. But I won't be looking at it again.   \n",
       "5                                                                               DC have learned to make their films bold, brash and colourful. Audiences do not want dark, moody superheroes. It might work on the Dark Knight but we want Superman to be well super.Aquaman is enjoyable enough nonsense. It has similarities with Black Panther as well as elements of Thor and King Arthur. It injects fun as long as you do not take it all seriously.The movie begins with a lighthouse keeper, Tom Curry rescuing Princess Atlanna (Nicole Kidman) from the underwater realm of Atlantis.Two worlds collide, they fall in love and have a baby boy. Arthur Curry (Jason Momoa) lives with his father in a small fishing coast. His mother was snatched back to Atlantis when he was a child.Vulko (Willem Dafoe) came from the watery world to mentor and teach Arthur about his heritage and combat skills. Aquaman uses his powers to save people in the land world.Mera (Amber Heard) tells that Arthur that he must fulfil his right to be the heir to one of the underwater kingdoms of Atlantis, even though he is a half breed. His half brother Orm (Patrick Wilson) is dangerous and plans to destroy the land world.Orm is in cahoots with Black Manta (Yahya Abdul-Mateen II) who launches a submarine attack on Atlantis, giving Orm an excuse to go to war. Black Manta also has his own reasons to kill Aquaman.However Aquaman in order to be the rightful king, must find a legendary trident once forged by Poseidon. His sword in the stone.Jason Momoa is a limited actor. He is here for his muscles and some light hearted quips. Amber Heard is suitably sexy, Dolph Lundgren has a lot of screen time. Patrick Wilson is not a delicious villain in the mould of Loki.There are a lot of action scenes, some of it is well realised. James Wan has done a good job in pulling off this film. It is overlong but at least it did not end up in a watery grave.   \n",
       "\n",
       "  rating movie_title  \\\n",
       "0   7/10     Aquaman   \n",
       "1   5/10     Aquaman   \n",
       "2   7/10     Aquaman   \n",
       "3    NaN     Aquaman   \n",
       "4   5/10     Aquaman   \n",
       "5   6/10     Aquaman   \n",
       "\n",
       "                                                                                                                                                                                                                                                                                                                                                                                                                                                                                                                                                                                                                                                                                                                                                                                                                                                                                                                                                                                                                                                                                                                                                                                                                                                                                content_cleaned  \\\n",
       "0                                                                                                                                                                                                                                                                                                                                                                                                                                                                                               aquaman dc comic finally get top billing film nicely put together jason momoa play title role science fiction epic already asequel work fact film end uncertain note setting thestory line keeper temura morrison find woman trident beachand take nicole kidman woman queen undersea kingdom atlantis running away two fall inlove kid grows jason atlantian warrior show try kidnap killed kidman decides go back lest come harm would blind miss parallel story thesword stone aquaman momoa earth name arthur curry forthat matter grown quite fit cut summoned atlantis claim crown first find magical trident stuck rocksomewhere sea get plainer also surface enemy son pirate whose father killedwhen capturing like computer graphic special loved fantasy seaworld hardly wait sequel   \n",
       "1                                                                                                                                                                                                                                                                                                                                                                                                                                                                                                                                                                                                                                                                                                                                            aquaman latest superhero blockbuster dc comic surprisingly lacklustre affair particularly awful felt indifferent towards particularly hackneyed storyline go motion without ever offering much way originality innovation jason momoa likeable presence big hero piece undersea kingdom material feel little silly help established star like willem dafoe patrick wilson dolph lundgren look ridiculous costume inflated running time juvenile script feeling like nemo sequel time end climax go cgi effect cgi effect ad nauseum try harder guy   \n",
       "2  lighthouse keeper tom curry rescue woman stormy sea atlanna nicole kidman queen atlantis son together named arthur order keep safe leaf atlantis forced marry another advisor vulko willem dafoe tasked train arthur present arthur aquaman jason momoa justice league hero rescuing russian sub leaf pirate death giving son david kane reason seek revenge black manta mera amber heard informs arthur impending invasion atlantian force led orm patrick wilson orm arthur younger atlanna executed creature trench eldest son atlanna arthur claim james wan delivers cgi extravaganza level difficulty high mostly clear would liked space scene breathe movie like freight train without brake need moment first gear admire scenery enjoy humor pee joke funny movie need calmer scene build good chemistry character work love crazy sensory overload first speed bump occurs aquaman challenge orm fight thunderdome would reasonable mera bring arthur father ambushed orm would serve purpose without big coliseum gladiator fight would also make orm underhanded evil creature trench would preferred diplomacy instead another fight expected smarter twist monster turn intelligent good rebound low dceu although hope franchise character work le cgi fight much good thing   \n",
       "3                                                                                                                                                                                                                                                                                                                                                                                                                                                                                                                                                                                                                                                                                                                                                              case basic motif see film old super hero american pop culture desire dc film convince case result satisfactory jason momoa sure cgi old cliche trident wise guide beautiful girl terrible enemy except effort momoa sustain honorable way character nothing new sure simple dynamic cool film fan young public work familiar could better remains present end exactly accusation form nostalgia old fashion fantasy action film sure heroic propose high noble powerful hero something missing maybe essence answer significance   \n",
       "4                                                                                                                                                                                                                                           half century ago marvel comic fan silver age one reason enjoyed fact amidst villain superheroes human problem stan lee may great writer hoped infused character issue least symbolically attacked reality thus fantastic four dealt family issue hulk anger management peter parker problem teenager except dc extended universe give formal name influence zack snyder seems concentrated angst us anger various form lead good solution audience teenager might work movie appeal alte kokkes like thus recent success shazam joke nice symbolism reference thing showed comic see aquaman theater grown tired standard dc movie waited showed tv regret mildly visually opulent underseas segment beautifully decorated lit shot clearly would shown well big screen however much consisted men woman costume would baffle halloween parade slamming hard surface reacting le would stubbing toe cut bleed yes fellow others may cheer event risk reward must seen certainly watchable like watch thing sort cast sackloads money buy wo looking   \n",
       "5                                                                                                      dc learned make film bold brash colourful audience want dark moody superheroes might work dark knight want superman well enjoyable enough nonsense similarity black panther well element thor king arthur injects fun long take movie begin lighthouse keeper tom curry rescuing princess atlanna nicole kidman underwater realm world collide fall love baby boy arthur curry jason momoa life father small fishing coast mother snatched back atlantis willem dafoe came watery world mentor teach arthur heritage combat skill aquaman us power save people land amber heard tell arthur must fulfil right heir one underwater kingdom atlantis even though half breed half brother orm patrick wilson dangerous plan destroy land cahoot black manta yahya ii launch submarine attack atlantis giving orm excuse go war black manta also reason kill aquaman order rightful king must find legendary trident forged poseidon sword momoa limited actor muscle light hearted quip amber heard suitably sexy dolph lundgren lot screen time patrick wilson delicious villain mould lot action scene well realised james wan done good job pulling film overlong least end watery grave   \n",
       "\n",
       "   sentiment_biclass  positive_prob sentiment_triclass  \n",
       "0                  1       0.829744           Positive  \n",
       "1                  0       0.000655           Negative  \n",
       "2                  1       0.764537           Positive  \n",
       "3                  0       0.071179           Negative  \n",
       "4                  0       0.472603            Neutral  \n",
       "5                  1       0.994751           Positive  "
      ]
     },
     "execution_count": 51,
     "metadata": {},
     "output_type": "execute_result"
    }
   ],
   "source": [
    "DC.head(6)"
   ]
  },
  {
   "cell_type": "code",
   "execution_count": 52,
   "id": "8443a242",
   "metadata": {},
   "outputs": [],
   "source": [
    "#extract number of the rating\n",
    "DC['rate']=DC['rating'].str[:2]"
   ]
  },
  {
   "cell_type": "code",
   "execution_count": 53,
   "id": "57a5733a",
   "metadata": {},
   "outputs": [],
   "source": [
    "DC['rate']=DC['rate'].str.replace('/','')"
   ]
  },
  {
   "cell_type": "code",
   "execution_count": 54,
   "id": "7968001a",
   "metadata": {},
   "outputs": [],
   "source": [
    "DC['rate']= DC['rate'].apply(pd.to_numeric) "
   ]
  },
  {
   "cell_type": "code",
   "execution_count": null,
   "id": "ad57e590",
   "metadata": {},
   "outputs": [],
   "source": [
    "#DC.dropna(inplace=True)\n",
    "#DC.reset_index(drop=True,inplace=True)"
   ]
  },
  {
   "cell_type": "code",
   "execution_count": 57,
   "id": "00812575",
   "metadata": {},
   "outputs": [
    {
     "data": {
      "image/png": "[encoded data removed]",
      "text/plain": [
       "<Figure size 720x432 with 1 Axes>"
      ]
     },
     "metadata": {
      "needs_background": "light"
     },
     "output_type": "display_data"
    }
   ],
   "source": [
    "# visualize the porpotion of each sentiment against rate\n",
    "cross_tab_prop = pd.crosstab(index=DC['rate'],\n",
    "                             columns=DC['sentiment_triclass'],\n",
    "                             normalize=\"index\")\n",
    "cross_tab_prop\n",
    "cross_tab_prop.plot(kind='bar', \n",
    "                    stacked=True, \n",
    "                    colormap='tab10', \n",
    "                    figsize=(10, 6))\n",
    "\n",
    "plt.legend(loc=\"upper left\", ncol=2)\n",
    "plt.xlabel(\"Rate\")\n",
    "plt.ylabel(\"Proportion\")\n",
    "plt.show()"
   ]
  },
  {
   "cell_type": "markdown",
   "id": "ece0defb",
   "metadata": {},
   "source": [
    "- The stacked barchart present quite well the propotion between sentiment results against rate.\n",
    "- There are more negative comments in rate between 1 to 5 and more positive comments in rate (7-10)"
   ]
  },
  {
   "cell_type": "code",
   "execution_count": 61,
   "id": "c69654fe",
   "metadata": {
    "collapsed": true
   },
   "outputs": [
    {
     "data": {
      "text/html": [
       "<div>\n",
       "<style scoped>\n",
       "    .dataframe tbody tr th:only-of-type {\n",
       "        vertical-align: middle;\n",
       "    }\n",
       "\n",
       "    .dataframe tbody tr th {\n",
       "        vertical-align: top;\n",
       "    }\n",
       "\n",
       "    .dataframe thead th {\n",
       "        text-align: right;\n",
       "    }\n",
       "</style>\n",
       "<table border=\"1\" class=\"dataframe\">\n",
       "  <thead>\n",
       "    <tr style=\"text-align: right;\">\n",
       "      <th></th>\n",
       "      <th>review_title</th>\n",
       "      <th>date</th>\n",
       "      <th>content</th>\n",
       "      <th>rating</th>\n",
       "      <th>movie_title</th>\n",
       "      <th>content_cleaned</th>\n",
       "      <th>sentiment_biclass</th>\n",
       "      <th>positive_prob</th>\n",
       "      <th>sentiment_triclass</th>\n",
       "      <th>rate</th>\n",
       "    </tr>\n",
       "  </thead>\n",
       "  <tbody>\n",
       "    <tr>\n",
       "      <th>0</th>\n",
       "      <td>Lying there Under, under the sea</td>\n",
       "      <td>2019-04-21</td>\n",
       "      <td>Aquaman of DC comics finally gets his top billing in a film as the nicely put together Jason Momoa plays the title role in this science fiction epic. Already a\\nsequel is in the works, in fact this film ends on an uncertain note setting up the\\nstory line for the sequel.Lighthouse keeper Temura Morrison finds a woman with a trident on his beach\\nand takes her in. Nicole Kidman is the woman and she's the queen of the under\\nsea kingdom of Atlantis and she's running away from all that. The two fall in\\nlove and have a kid who grows up to be Jason Momoa.But before that some Atlantian warriors show up and try to kidnap Kidman.\\nThey're all killed, but Kidman decides to go back lest more come and harm her\\nson.One would have to be blind not to miss the parallels between the story of the\\nSword And The Stone and Aquaman. Momoa's earth name is Arthur Curry for\\nthat matter. Now all grown up and quite fit and cut he's summoned to Atlantis to claim the crown. But first he has to find a magical trident stuck in a rock\\nsomewhere in the sea. Can it get plainer than that.Aquaman also has a surface enemy in the son of a pirate whose father he killed\\nwhen they were capturing a submarine.I did like the computer graphic special effects.used and loved the fantasy sea\\nworld that was created.I can hardly wait for the sequel.</td>\n",
       "      <td>7/10</td>\n",
       "      <td>Aquaman</td>\n",
       "      <td>aquaman dc comic finally get top billing film nicely put together jason momoa play title role science fiction epic already asequel work fact film end uncertain note setting thestory line keeper temura morrison find woman trident beachand take nicole kidman woman queen undersea kingdom atlantis running away two fall inlove kid grows jason atlantian warrior show try kidnap killed kidman decides go back lest come harm would blind miss parallel story thesword stone aquaman momoa earth name arthur curry forthat matter grown quite fit cut summoned atlantis claim crown first find magical trident stuck rocksomewhere sea get plainer also surface enemy son pirate whose father killedwhen capturing like computer graphic special loved fantasy seaworld hardly wait sequel</td>\n",
       "      <td>1</td>\n",
       "      <td>0.829744</td>\n",
       "      <td>Positive</td>\n",
       "      <td>7.0</td>\n",
       "    </tr>\n",
       "    <tr>\n",
       "      <th>1</th>\n",
       "      <td>Indifferent</td>\n",
       "      <td>2020-01-12</td>\n",
       "      <td>AQUAMAN is the latest superhero blockbuster from DC Comics and a surprisingly lacklustre affair. It's not particularly awful, it's just that I felt indifferent towards it, particularly with a hackneyed storyline that goes through all of the motions without ever offering much in the way of originality or innovation. Jason Momoa is a likeable presence as the big bear-like hero of the piece, but the undersea kingdom material feels more than a little silly and it doesn't help that established stars like Willem Dafoe, Patrick Wilson and Dolph Lundgren all look ridiculous in their costumes. An inflated running time and juvenile script had me feeling like this was a NEMO sequel at times, and it all ends in a climax that just goes for CGI effect after CGI effect, ad nauseum. Try harder, guys...</td>\n",
       "      <td>5/10</td>\n",
       "      <td>Aquaman</td>\n",
       "      <td>aquaman latest superhero blockbuster dc comic surprisingly lacklustre affair particularly awful felt indifferent towards particularly hackneyed storyline go motion without ever offering much way originality innovation jason momoa likeable presence big hero piece undersea kingdom material feel little silly help established star like willem dafoe patrick wilson dolph lundgren look ridiculous costume inflated running time juvenile script feeling like nemo sequel time end climax go cgi effect cgi effect ad nauseum try harder guy</td>\n",
       "      <td>0</td>\n",
       "      <td>0.000655</td>\n",
       "      <td>Negative</td>\n",
       "      <td>5.0</td>\n",
       "    </tr>\n",
       "    <tr>\n",
       "      <th>2</th>\n",
       "      <td>CGI extravaganza</td>\n",
       "      <td>2019-03-08</td>\n",
       "      <td>In 1985, lighthouse keeper Tom Curry rescues a woman from the stormy sea. She's Atlanna (Nicole Kidman), The Queen of Atlantis. They have a son together named Arthur. In order to keep him safe, she leaves them for Atlantis where she is forced to marry another. Her advisor Vulko (Willem Dafoe) is tasked to train Arthur. In the present, Arthur is Aquaman (Jason Momoa), a Justice League hero. In rescuing a Russian sub, he leaves a pirate to his death giving his son David Kane reason to seek revenge as Black Manta. Mera (Amber Heard) informs Arthur about an impending invasion by Atlantian forces led by Orm (Patrick Wilson). Orm is Arthur's younger half-brother. Atlanna has been executed to the creatures of the Trench. As the eldest son of Atlanna, Arthur has more claim to the throne.Director James Wan delivers a CGI extravaganza. The level of difficulty is high and he mostly clears it. I would have liked more space for some of the scenes to breathe. The movie is like a freight train without brakes. I need more moments in first gear to admire the sceneries and enjoy the humor. The pee joke is funny. The movie needs some calmer scenes to build good chemistry and do character work. I love the crazy war-crabs but it's sensory overload. The first speed bump occurs when Aquaman challenges Orm to a fight in the Thunderdome. It would have been more reasonable for Mera to bring Arthur to her father only to be ambushed by a double-crossing Orm. It would serve the same purpose without doing a big coliseum gladiator fight. It would also make Orm more underhanded evil. As for the creatures from The Trench, I would have preferred diplomacy instead of another fight. I expected a smarter twist where the monsters turn out to be intelligent. This is a good rebound from the lows of the DCEU although I hope the franchise can do more character work and less CGI fights. There is too much of a good thing.</td>\n",
       "      <td>7/10</td>\n",
       "      <td>Aquaman</td>\n",
       "      <td>lighthouse keeper tom curry rescue woman stormy sea atlanna nicole kidman queen atlantis son together named arthur order keep safe leaf atlantis forced marry another advisor vulko willem dafoe tasked train arthur present arthur aquaman jason momoa justice league hero rescuing russian sub leaf pirate death giving son david kane reason seek revenge black manta mera amber heard informs arthur impending invasion atlantian force led orm patrick wilson orm arthur younger atlanna executed creature trench eldest son atlanna arthur claim james wan delivers cgi extravaganza level difficulty high mostly clear would liked space scene breathe movie like freight train without brake need moment first gear admire scenery enjoy humor pee joke funny movie need calmer scene build good chemistry character work love crazy sensory overload first speed bump occurs aquaman challenge orm fight thunderdome would reasonable mera bring arthur father ambushed orm would serve purpose without big coliseum gladiator fight would also make orm underhanded evil creature trench would preferred diplomacy instead another fight expected smarter twist monster turn intelligent good rebound low dceu although hope franchise character work le cgi fight much good thing</td>\n",
       "      <td>1</td>\n",
       "      <td>0.764537</td>\n",
       "      <td>Positive</td>\n",
       "      <td>7.0</td>\n",
       "    </tr>\n",
       "    <tr>\n",
       "      <th>3</th>\n",
       "      <td>Jason Momoa</td>\n",
       "      <td>2019-02-08</td>\n",
       "      <td>He was, in my case, the basic motif for see the film. I am too old for super heroes of American pop culture and the only desire about DC films is to convince me. In this case, the result is satisfactory. Because ...Jason Momoa. Sure, CGI, old cliches, the trident and the wise guide, the beautiful girl and the terrible enemy. But, except the effort of Momoa to sustain in honorable way his character, nothing new. Sure, it is a simple, dynamic, cool film for fans and young public. And it works. But the too familiar \"it could be better\" remains present at the end. Not exactly as accusation, but as a form of nostalgia about old fashion fantasy - action films. Sure, it is heroic and propose a high noble, powerful hero. But something is missing. What ? Maybe, in essence, the answer has no significance.\\n                \\n                    4 out of 9 found this helpful.\\n                        \\n                            Was this review helpful?  Sign in to vote.\\n                        \\n                        \\n                    Permalink</td>\n",
       "      <td>NaN</td>\n",
       "      <td>Aquaman</td>\n",
       "      <td>case basic motif see film old super hero american pop culture desire dc film convince case result satisfactory jason momoa sure cgi old cliche trident wise guide beautiful girl terrible enemy except effort momoa sustain honorable way character nothing new sure simple dynamic cool film fan young public work familiar could better remains present end exactly accusation form nostalgia old fashion fantasy action film sure heroic propose high noble powerful hero something missing maybe essence answer significance</td>\n",
       "      <td>0</td>\n",
       "      <td>0.071179</td>\n",
       "      <td>Negative</td>\n",
       "      <td>NaN</td>\n",
       "    </tr>\n",
       "    <tr>\n",
       "      <th>4</th>\n",
       "      <td>My Father Was The Keeper Of The Eddystone Light</td>\n",
       "      <td>2020-11-28</td>\n",
       "      <td>More than half a century ago, I was a Marvel comics fan during the Silver Age. One of the reasons I enjoyed them was the fact that amidst the planet-eating villains, there were superheroes with some human problems. Stan Lee may not have been the great writer he had once hoped to be, but he infused his characters with issues that at least symbolically attacked reality. Thus, the Fantastic Four dealt with family issues, the Hulk with anger management, and Peter Parker had all the problems of a teenager except acne.The DC extended universe, to give it its formal name, under the influence of Zack Snyder, seems to have concentrated on angst. While this has its uses, anger in its various forms does not lead to good solutions; for an audience of teenagers, this might work, but these comic-book movies appeal to alte kokkes like me, too. Thus the recent success of SHAZAM: some jokes, some nice symbolism, some reference to things that showed up in the comics when I was a kid.I did not see AQUAMAN in a theater. I had grown tired of the standard DC movie, but waited until it showed up on my TV. I regret this mildly. It is visually opulent, with the underseas segments beautifully decorated, lit and shot. clearly they would have shown well on a big screen. However, for much of it it consisted of men and women in costumes that would baffle a Halloween parade, slamming each other against hard surfaces and reacting less than I would stubbing a toe. If you cut me, do I not bleed? Yes I do. Not these fellows. Others may cheer these events, but for me, risk and reward must be balanced.Well, I've seen it now, and it's certainly watchable, if you like to watch these things, with the sort of cast that only sackloads of money can buy. But I won't be looking at it again.</td>\n",
       "      <td>5/10</td>\n",
       "      <td>Aquaman</td>\n",
       "      <td>half century ago marvel comic fan silver age one reason enjoyed fact amidst villain superheroes human problem stan lee may great writer hoped infused character issue least symbolically attacked reality thus fantastic four dealt family issue hulk anger management peter parker problem teenager except dc extended universe give formal name influence zack snyder seems concentrated angst us anger various form lead good solution audience teenager might work movie appeal alte kokkes like thus recent success shazam joke nice symbolism reference thing showed comic see aquaman theater grown tired standard dc movie waited showed tv regret mildly visually opulent underseas segment beautifully decorated lit shot clearly would shown well big screen however much consisted men woman costume would baffle halloween parade slamming hard surface reacting le would stubbing toe cut bleed yes fellow others may cheer event risk reward must seen certainly watchable like watch thing sort cast sackloads money buy wo looking</td>\n",
       "      <td>0</td>\n",
       "      <td>0.472603</td>\n",
       "      <td>Neutral</td>\n",
       "      <td>5.0</td>\n",
       "    </tr>\n",
       "  </tbody>\n",
       "</table>\n",
       "</div>"
      ],
      "text/plain": [
       "                                      review_title       date  \\\n",
       "0                 Lying there Under, under the sea 2019-04-21   \n",
       "1                                      Indifferent 2020-01-12   \n",
       "2                                 CGI extravaganza 2019-03-08   \n",
       "3                                      Jason Momoa 2019-02-08   \n",
       "4  My Father Was The Keeper Of The Eddystone Light 2020-11-28   \n",
       "\n",
       "                                                                                                                                                                                                                                                                                                                                                                                                                                                                                                                                                                                                                                                                                                                                                                                                                                                                                                                                                                                                                                                                                                                                                                                                                                                                                                                                                                                                                                                                                                                                                                                                                                                                                                                                                                                                                                                                                                                                                                                   content  \\\n",
       "0                                                                                                                                                                                                                                                                                                                                                                                                                                                                                                                                                                                                        Aquaman of DC comics finally gets his top billing in a film as the nicely put together Jason Momoa plays the title role in this science fiction epic. Already a\\nsequel is in the works, in fact this film ends on an uncertain note setting up the\\nstory line for the sequel.Lighthouse keeper Temura Morrison finds a woman with a trident on his beach\\nand takes her in. Nicole Kidman is the woman and she's the queen of the under\\nsea kingdom of Atlantis and she's running away from all that. The two fall in\\nlove and have a kid who grows up to be Jason Momoa.But before that some Atlantian warriors show up and try to kidnap Kidman.\\nThey're all killed, but Kidman decides to go back lest more come and harm her\\nson.One would have to be blind not to miss the parallels between the story of the\\nSword And The Stone and Aquaman. Momoa's earth name is Arthur Curry for\\nthat matter. Now all grown up and quite fit and cut he's summoned to Atlantis to claim the crown. But first he has to find a magical trident stuck in a rock\\nsomewhere in the sea. Can it get plainer than that.Aquaman also has a surface enemy in the son of a pirate whose father he killed\\nwhen they were capturing a submarine.I did like the computer graphic special effects.used and loved the fantasy sea\\nworld that was created.I can hardly wait for the sequel.   \n",
       "1                                                                                                                                                                                                                                                                                                                                                                                                                                                                                                                                                                                                                                                                                                                                                                                                                                                                                                                                                                                                                                                                                                                                                            AQUAMAN is the latest superhero blockbuster from DC Comics and a surprisingly lacklustre affair. It's not particularly awful, it's just that I felt indifferent towards it, particularly with a hackneyed storyline that goes through all of the motions without ever offering much in the way of originality or innovation. Jason Momoa is a likeable presence as the big bear-like hero of the piece, but the undersea kingdom material feels more than a little silly and it doesn't help that established stars like Willem Dafoe, Patrick Wilson and Dolph Lundgren all look ridiculous in their costumes. An inflated running time and juvenile script had me feeling like this was a NEMO sequel at times, and it all ends in a climax that just goes for CGI effect after CGI effect, ad nauseum. Try harder, guys...   \n",
       "2  In 1985, lighthouse keeper Tom Curry rescues a woman from the stormy sea. She's Atlanna (Nicole Kidman), The Queen of Atlantis. They have a son together named Arthur. In order to keep him safe, she leaves them for Atlantis where she is forced to marry another. Her advisor Vulko (Willem Dafoe) is tasked to train Arthur. In the present, Arthur is Aquaman (Jason Momoa), a Justice League hero. In rescuing a Russian sub, he leaves a pirate to his death giving his son David Kane reason to seek revenge as Black Manta. Mera (Amber Heard) informs Arthur about an impending invasion by Atlantian forces led by Orm (Patrick Wilson). Orm is Arthur's younger half-brother. Atlanna has been executed to the creatures of the Trench. As the eldest son of Atlanna, Arthur has more claim to the throne.Director James Wan delivers a CGI extravaganza. The level of difficulty is high and he mostly clears it. I would have liked more space for some of the scenes to breathe. The movie is like a freight train without brakes. I need more moments in first gear to admire the sceneries and enjoy the humor. The pee joke is funny. The movie needs some calmer scenes to build good chemistry and do character work. I love the crazy war-crabs but it's sensory overload. The first speed bump occurs when Aquaman challenges Orm to a fight in the Thunderdome. It would have been more reasonable for Mera to bring Arthur to her father only to be ambushed by a double-crossing Orm. It would serve the same purpose without doing a big coliseum gladiator fight. It would also make Orm more underhanded evil. As for the creatures from The Trench, I would have preferred diplomacy instead of another fight. I expected a smarter twist where the monsters turn out to be intelligent. This is a good rebound from the lows of the DCEU although I hope the franchise can do more character work and less CGI fights. There is too much of a good thing.   \n",
       "3                                                                                                                                                                                                                                                                                                                                                                                                                                                                                                                                                                                                                                                                                                                                                                                                                                                                                        He was, in my case, the basic motif for see the film. I am too old for super heroes of American pop culture and the only desire about DC films is to convince me. In this case, the result is satisfactory. Because ...Jason Momoa. Sure, CGI, old cliches, the trident and the wise guide, the beautiful girl and the terrible enemy. But, except the effort of Momoa to sustain in honorable way his character, nothing new. Sure, it is a simple, dynamic, cool film for fans and young public. And it works. But the too familiar \"it could be better\" remains present at the end. Not exactly as accusation, but as a form of nostalgia about old fashion fantasy - action films. Sure, it is heroic and propose a high noble, powerful hero. But something is missing. What ? Maybe, in essence, the answer has no significance.\\n                \\n                    4 out of 9 found this helpful.\\n                        \\n                            Was this review helpful?  Sign in to vote.\\n                        \\n                        \\n                    Permalink   \n",
       "4                                                                                                                                         More than half a century ago, I was a Marvel comics fan during the Silver Age. One of the reasons I enjoyed them was the fact that amidst the planet-eating villains, there were superheroes with some human problems. Stan Lee may not have been the great writer he had once hoped to be, but he infused his characters with issues that at least symbolically attacked reality. Thus, the Fantastic Four dealt with family issues, the Hulk with anger management, and Peter Parker had all the problems of a teenager except acne.The DC extended universe, to give it its formal name, under the influence of Zack Snyder, seems to have concentrated on angst. While this has its uses, anger in its various forms does not lead to good solutions; for an audience of teenagers, this might work, but these comic-book movies appeal to alte kokkes like me, too. Thus the recent success of SHAZAM: some jokes, some nice symbolism, some reference to things that showed up in the comics when I was a kid.I did not see AQUAMAN in a theater. I had grown tired of the standard DC movie, but waited until it showed up on my TV. I regret this mildly. It is visually opulent, with the underseas segments beautifully decorated, lit and shot. clearly they would have shown well on a big screen. However, for much of it it consisted of men and women in costumes that would baffle a Halloween parade, slamming each other against hard surfaces and reacting less than I would stubbing a toe. If you cut me, do I not bleed? Yes I do. Not these fellows. Others may cheer these events, but for me, risk and reward must be balanced.Well, I've seen it now, and it's certainly watchable, if you like to watch these things, with the sort of cast that only sackloads of money can buy. But I won't be looking at it again.   \n",
       "\n",
       "  rating movie_title  \\\n",
       "0   7/10     Aquaman   \n",
       "1   5/10     Aquaman   \n",
       "2   7/10     Aquaman   \n",
       "3    NaN     Aquaman   \n",
       "4   5/10     Aquaman   \n",
       "\n",
       "                                                                                                                                                                                                                                                                                                                                                                                                                                                                                                                                                                                                                                                                                                                                                                                                                                                                                                                                                                                                                                                                                                                                                                                                                                                                                content_cleaned  \\\n",
       "0                                                                                                                                                                                                                                                                                                                                                                                                                                                                                               aquaman dc comic finally get top billing film nicely put together jason momoa play title role science fiction epic already asequel work fact film end uncertain note setting thestory line keeper temura morrison find woman trident beachand take nicole kidman woman queen undersea kingdom atlantis running away two fall inlove kid grows jason atlantian warrior show try kidnap killed kidman decides go back lest come harm would blind miss parallel story thesword stone aquaman momoa earth name arthur curry forthat matter grown quite fit cut summoned atlantis claim crown first find magical trident stuck rocksomewhere sea get plainer also surface enemy son pirate whose father killedwhen capturing like computer graphic special loved fantasy seaworld hardly wait sequel   \n",
       "1                                                                                                                                                                                                                                                                                                                                                                                                                                                                                                                                                                                                                                                                                                                                            aquaman latest superhero blockbuster dc comic surprisingly lacklustre affair particularly awful felt indifferent towards particularly hackneyed storyline go motion without ever offering much way originality innovation jason momoa likeable presence big hero piece undersea kingdom material feel little silly help established star like willem dafoe patrick wilson dolph lundgren look ridiculous costume inflated running time juvenile script feeling like nemo sequel time end climax go cgi effect cgi effect ad nauseum try harder guy   \n",
       "2  lighthouse keeper tom curry rescue woman stormy sea atlanna nicole kidman queen atlantis son together named arthur order keep safe leaf atlantis forced marry another advisor vulko willem dafoe tasked train arthur present arthur aquaman jason momoa justice league hero rescuing russian sub leaf pirate death giving son david kane reason seek revenge black manta mera amber heard informs arthur impending invasion atlantian force led orm patrick wilson orm arthur younger atlanna executed creature trench eldest son atlanna arthur claim james wan delivers cgi extravaganza level difficulty high mostly clear would liked space scene breathe movie like freight train without brake need moment first gear admire scenery enjoy humor pee joke funny movie need calmer scene build good chemistry character work love crazy sensory overload first speed bump occurs aquaman challenge orm fight thunderdome would reasonable mera bring arthur father ambushed orm would serve purpose without big coliseum gladiator fight would also make orm underhanded evil creature trench would preferred diplomacy instead another fight expected smarter twist monster turn intelligent good rebound low dceu although hope franchise character work le cgi fight much good thing   \n",
       "3                                                                                                                                                                                                                                                                                                                                                                                                                                                                                                                                                                                                                                                                                                                                                              case basic motif see film old super hero american pop culture desire dc film convince case result satisfactory jason momoa sure cgi old cliche trident wise guide beautiful girl terrible enemy except effort momoa sustain honorable way character nothing new sure simple dynamic cool film fan young public work familiar could better remains present end exactly accusation form nostalgia old fashion fantasy action film sure heroic propose high noble powerful hero something missing maybe essence answer significance   \n",
       "4                                                                                                                                                                                                                                           half century ago marvel comic fan silver age one reason enjoyed fact amidst villain superheroes human problem stan lee may great writer hoped infused character issue least symbolically attacked reality thus fantastic four dealt family issue hulk anger management peter parker problem teenager except dc extended universe give formal name influence zack snyder seems concentrated angst us anger various form lead good solution audience teenager might work movie appeal alte kokkes like thus recent success shazam joke nice symbolism reference thing showed comic see aquaman theater grown tired standard dc movie waited showed tv regret mildly visually opulent underseas segment beautifully decorated lit shot clearly would shown well big screen however much consisted men woman costume would baffle halloween parade slamming hard surface reacting le would stubbing toe cut bleed yes fellow others may cheer event risk reward must seen certainly watchable like watch thing sort cast sackloads money buy wo looking   \n",
       "\n",
       "   sentiment_biclass  positive_prob sentiment_triclass  rate  \n",
       "0                  1       0.829744           Positive   7.0  \n",
       "1                  0       0.000655           Negative   5.0  \n",
       "2                  1       0.764537           Positive   7.0  \n",
       "3                  0       0.071179           Negative   NaN  \n",
       "4                  0       0.472603            Neutral   5.0  "
      ]
     },
     "execution_count": 61,
     "metadata": {},
     "output_type": "execute_result"
    }
   ],
   "source": [
    "DC.head()"
   ]
  },
  {
   "cell_type": "code",
   "execution_count": null,
   "id": "13d61acf",
   "metadata": {},
   "outputs": [],
   "source": [
    "# drop unnecessary columns and export file\n",
    "DC.drop(['sentiment_biclass', 'positive_prob','rating'], axis = 1, inplace = True) \n"
   ]
  },
  {
   "cell_type": "code",
   "execution_count": 66,
   "id": "29b9befe",
   "metadata": {},
   "outputs": [],
   "source": [
    "DC.rename(columns={'sentiment_triclass': 'sentiments'},inplace=True, errors='raise')"
   ]
  },
  {
   "cell_type": "code",
   "execution_count": 68,
   "id": "cc87cc26",
   "metadata": {},
   "outputs": [],
   "source": [
    "DC.to_csv('/Users/macbook/Documents/Iron Hack_Lab/Final P/Dc/DC_sentiment.csv')"
   ]
  },
  {
   "cell_type": "markdown",
   "id": "dce88b00",
   "metadata": {},
   "source": [
    "# Classify negative, positive comments for Marvel movie:"
   ]
  },
  {
   "cell_type": "code",
   "execution_count": 70,
   "id": "efd8e4db",
   "metadata": {},
   "outputs": [],
   "source": [
    "Marvel_predictions = lr.predict(cv_MV_features)"
   ]
  },
  {
   "cell_type": "code",
   "execution_count": 71,
   "id": "3d9dd486",
   "metadata": {},
   "outputs": [],
   "source": [
    "Marvel['sentiment_biclass'] = Marvel_predictions"
   ]
  },
  {
   "cell_type": "code",
   "execution_count": 72,
   "id": "98741081",
   "metadata": {},
   "outputs": [],
   "source": [
    "# Identify sentiment probabilities for DC\n",
    "MV_predictions_prob = lr.predict_proba(cv_MV_features)"
   ]
  },
  {
   "cell_type": "code",
   "execution_count": 73,
   "id": "98a63d98",
   "metadata": {},
   "outputs": [],
   "source": [
    "Marvel['positive_prob'] = MV_predictions_prob[:,1]"
   ]
  },
  {
   "cell_type": "code",
   "execution_count": 74,
   "id": "f4b23054",
   "metadata": {},
   "outputs": [],
   "source": [
    "Marvel['sentiments'] = Marvel['positive_prob'].apply(lambda x:assign_sentiment_triclass(x))"
   ]
  },
  {
   "cell_type": "code",
   "execution_count": 76,
   "id": "8e288ab9",
   "metadata": {},
   "outputs": [],
   "source": [
    "Marvel['rate']=Marvel['rating'].str[:2]\n",
    "Marvel['rate']=Marvel['rate'].str.replace('/','')\n",
    "Marvel['rate']=Marvel['rate'].apply(pd.to_numeric) "
   ]
  },
  {
   "cell_type": "code",
   "execution_count": 77,
   "id": "40fc5e97",
   "metadata": {},
   "outputs": [
    {
     "data": {
      "image/png": "[encoded data removed]",
      "text/plain": [
       "<Figure size 720x432 with 1 Axes>"
      ]
     },
     "metadata": {
      "needs_background": "light"
     },
     "output_type": "display_data"
    }
   ],
   "source": [
    "# visualize the porpotion of each sentiment against rate\n",
    "cross_tab_prop = pd.crosstab(index=Marvel['rate'],\n",
    "                             columns=Marvel['sentiments'],\n",
    "                             normalize=\"index\")\n",
    "cross_tab_prop\n",
    "cross_tab_prop.plot(kind='bar', \n",
    "                    stacked=True, \n",
    "                    colormap='tab10', \n",
    "                    figsize=(10, 6))\n",
    "\n",
    "plt.legend(loc=\"upper left\", ncol=2)\n",
    "plt.xlabel(\"Rate\")\n",
    "plt.ylabel(\"Proportion\")\n",
    "plt.show()"
   ]
  },
  {
   "cell_type": "code",
   "execution_count": 79,
   "id": "ac9b2145",
   "metadata": {},
   "outputs": [],
   "source": [
    "Marvel.drop(['sentiment_biclass', 'positive_prob','rating'], axis = 1, inplace = True) "
   ]
  },
  {
   "cell_type": "code",
   "execution_count": 80,
   "id": "36df6352",
   "metadata": {},
   "outputs": [],
   "source": [
    "Marvel.to_csv('/Users/macbook/Documents/Iron Hack_Lab/Final P/Marvel/Marvel_sentiment.csv')"
   ]
  },
  {
   "cell_type": "code",
   "execution_count": null,
   "id": "d49f9ec7",
   "metadata": {},
   "outputs": [],
   "source": []
  }
 ],
 "metadata": {
  "kernelspec": {
   "display_name": "Python 3 (ipykernel)",
   "language": "python",
   "name": "python3"
  },
  "language_info": {
   "codemirror_mode": {
    "name": "ipython",
    "version": 3
   },
   "file_extension": ".py",
   "mimetype": "text/x-python",
   "name": "python",
   "nbconvert_exporter": "python",
   "pygments_lexer": "ipython3",
   "version": "3.10.2"
  },
  "toc": {
   "base_numbering": 1,
   "nav_menu": {},
   "number_sections": true,
   "sideBar": true,
   "skip_h1_title": false,
   "title_cell": "Table of Contents",
   "title_sidebar": "Contents",
   "toc_cell": false,
   "toc_position": {
    "height": "calc(100% - 180px)",
    "left": "10px",
    "top": "150px",
    "width": "177.778px"
   },
   "toc_section_display": true,
   "toc_window_display": true
  },
  "varInspector": {
   "cols": {
    "lenName": 16,
    "lenType": 16,
    "lenVar": 40
   },
   "kernels_config": {
    "python": {
     "delete_cmd_postfix": "",
     "delete_cmd_prefix": "del ",
     "library": "var_list.py",
     "varRefreshCmd": "print(var_dic_list())"
    },
    "r": {
     "delete_cmd_postfix": ") ",
     "delete_cmd_prefix": "rm(",
     "library": "var_list.r",
     "varRefreshCmd": "cat(var_dic_list()) "
    }
   },
   "types_to_exclude": [
    "module",
    "function",
    "builtin_function_or_method",
    "instance",
    "_Feature"
   ],
   "window_display": false
  }
 },
 "nbformat": 4,
 "nbformat_minor": 5
}
