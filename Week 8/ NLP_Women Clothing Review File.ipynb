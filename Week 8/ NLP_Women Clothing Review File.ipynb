{
 "cells": [
  {
   "cell_type": "code",
   "execution_count": 1,
   "id": "0e78dffc",
   "metadata": {},
   "outputs": [],
   "source": [
    "import nltk\n",
    "import pandas as pd #for data handling\n",
    "from textblob import TextBlob #for sentiment analysis\n",
    "import matplotlib.pyplot as plt\n",
    "from nltk.tokenize import word_tokenize\n",
    "from nltk.corpus import stopwords\n",
    "stop_words=stopwords.words('english')"
   ]
  },
  {
   "cell_type": "markdown",
   "id": "424a75bf",
   "metadata": {},
   "source": [
    "### Read data with pandas"
   ]
  },
  {
   "cell_type": "code",
   "execution_count": 2,
   "id": "4f88ad05",
   "metadata": {},
   "outputs": [],
   "source": [
    "df=pd.read_csv('/Users/macbook/Documents/Iron Hack_Lab/Week 8_NLP/Womens Clothing E-Commerce Reviews.csv')"
   ]
  },
  {
   "cell_type": "code",
   "execution_count": 3,
   "id": "f7217530",
   "metadata": {},
   "outputs": [],
   "source": [
    "#selected only useful columns for the process:\n",
    "df=df[['Title','Review Text','Rating','Division Name','Department Name']]"
   ]
  },
  {
   "cell_type": "markdown",
   "id": "1291e75d",
   "metadata": {},
   "source": [
    "### Filter data set with relevant subset of data"
   ]
  },
  {
   "cell_type": "code",
   "execution_count": 4,
   "id": "e66d54ec",
   "metadata": {},
   "outputs": [
    {
     "data": {
      "text/html": [
       "<div>\n",
       "<style scoped>\n",
       "    .dataframe tbody tr th:only-of-type {\n",
       "        vertical-align: middle;\n",
       "    }\n",
       "\n",
       "    .dataframe tbody tr th {\n",
       "        vertical-align: top;\n",
       "    }\n",
       "\n",
       "    .dataframe thead th {\n",
       "        text-align: right;\n",
       "    }\n",
       "</style>\n",
       "<table border=\"1\" class=\"dataframe\">\n",
       "  <thead>\n",
       "    <tr style=\"text-align: right;\">\n",
       "      <th></th>\n",
       "      <th>Title</th>\n",
       "      <th>Review Text</th>\n",
       "      <th>Rating</th>\n",
       "      <th>Division Name</th>\n",
       "      <th>Department Name</th>\n",
       "    </tr>\n",
       "  </thead>\n",
       "  <tbody>\n",
       "    <tr>\n",
       "      <th>0</th>\n",
       "      <td>NaN</td>\n",
       "      <td>Absolutely wonderful - silky and sexy and comf...</td>\n",
       "      <td>4</td>\n",
       "      <td>Initmates</td>\n",
       "      <td>Intimate</td>\n",
       "    </tr>\n",
       "    <tr>\n",
       "      <th>1</th>\n",
       "      <td>NaN</td>\n",
       "      <td>Love this dress!  it's sooo pretty.  i happene...</td>\n",
       "      <td>5</td>\n",
       "      <td>General</td>\n",
       "      <td>Dresses</td>\n",
       "    </tr>\n",
       "    <tr>\n",
       "      <th>2</th>\n",
       "      <td>Some major design flaws</td>\n",
       "      <td>I had such high hopes for this dress and reall...</td>\n",
       "      <td>3</td>\n",
       "      <td>General</td>\n",
       "      <td>Dresses</td>\n",
       "    </tr>\n",
       "    <tr>\n",
       "      <th>3</th>\n",
       "      <td>My favorite buy!</td>\n",
       "      <td>I love, love, love this jumpsuit. it's fun, fl...</td>\n",
       "      <td>5</td>\n",
       "      <td>General Petite</td>\n",
       "      <td>Bottoms</td>\n",
       "    </tr>\n",
       "    <tr>\n",
       "      <th>4</th>\n",
       "      <td>Flattering shirt</td>\n",
       "      <td>This shirt is very flattering to all due to th...</td>\n",
       "      <td>5</td>\n",
       "      <td>General</td>\n",
       "      <td>Tops</td>\n",
       "    </tr>\n",
       "    <tr>\n",
       "      <th>5</th>\n",
       "      <td>Not for the very petite</td>\n",
       "      <td>I love tracy reese dresses, but this one is no...</td>\n",
       "      <td>2</td>\n",
       "      <td>General</td>\n",
       "      <td>Dresses</td>\n",
       "    </tr>\n",
       "    <tr>\n",
       "      <th>6</th>\n",
       "      <td>Cagrcoal shimmer fun</td>\n",
       "      <td>I aded this in my basket at hte last mintue to...</td>\n",
       "      <td>5</td>\n",
       "      <td>General Petite</td>\n",
       "      <td>Tops</td>\n",
       "    </tr>\n",
       "    <tr>\n",
       "      <th>7</th>\n",
       "      <td>Shimmer, surprisingly goes with lots</td>\n",
       "      <td>I ordered this in carbon for store pick up, an...</td>\n",
       "      <td>4</td>\n",
       "      <td>General Petite</td>\n",
       "      <td>Tops</td>\n",
       "    </tr>\n",
       "    <tr>\n",
       "      <th>8</th>\n",
       "      <td>Flattering</td>\n",
       "      <td>I love this dress. i usually get an xs but it ...</td>\n",
       "      <td>5</td>\n",
       "      <td>General</td>\n",
       "      <td>Dresses</td>\n",
       "    </tr>\n",
       "  </tbody>\n",
       "</table>\n",
       "</div>"
      ],
      "text/plain": [
       "                                  Title  \\\n",
       "0                                   NaN   \n",
       "1                                   NaN   \n",
       "2               Some major design flaws   \n",
       "3                      My favorite buy!   \n",
       "4                      Flattering shirt   \n",
       "5               Not for the very petite   \n",
       "6                  Cagrcoal shimmer fun   \n",
       "7  Shimmer, surprisingly goes with lots   \n",
       "8                            Flattering   \n",
       "\n",
       "                                         Review Text  Rating   Division Name  \\\n",
       "0  Absolutely wonderful - silky and sexy and comf...       4       Initmates   \n",
       "1  Love this dress!  it's sooo pretty.  i happene...       5         General   \n",
       "2  I had such high hopes for this dress and reall...       3         General   \n",
       "3  I love, love, love this jumpsuit. it's fun, fl...       5  General Petite   \n",
       "4  This shirt is very flattering to all due to th...       5         General   \n",
       "5  I love tracy reese dresses, but this one is no...       2         General   \n",
       "6  I aded this in my basket at hte last mintue to...       5  General Petite   \n",
       "7  I ordered this in carbon for store pick up, an...       4  General Petite   \n",
       "8  I love this dress. i usually get an xs but it ...       5         General   \n",
       "\n",
       "  Department Name  \n",
       "0        Intimate  \n",
       "1         Dresses  \n",
       "2         Dresses  \n",
       "3         Bottoms  \n",
       "4            Tops  \n",
       "5         Dresses  \n",
       "6            Tops  \n",
       "7            Tops  \n",
       "8         Dresses  "
      ]
     },
     "execution_count": 4,
     "metadata": {},
     "output_type": "execute_result"
    }
   ],
   "source": [
    "df.head(9)"
   ]
  },
  {
   "cell_type": "markdown",
   "id": "7f84f487",
   "metadata": {},
   "source": [
    "### Standardize column name- lower case "
   ]
  },
  {
   "cell_type": "code",
   "execution_count": 5,
   "id": "5e77fe89",
   "metadata": {},
   "outputs": [],
   "source": [
    "#standardize column name\n",
    "df.columns= df.columns.str.lower()"
   ]
  },
  {
   "cell_type": "code",
   "execution_count": 6,
   "id": "e501792c",
   "metadata": {},
   "outputs": [
    {
     "data": {
      "text/html": [
       "<div>\n",
       "<style scoped>\n",
       "    .dataframe tbody tr th:only-of-type {\n",
       "        vertical-align: middle;\n",
       "    }\n",
       "\n",
       "    .dataframe tbody tr th {\n",
       "        vertical-align: top;\n",
       "    }\n",
       "\n",
       "    .dataframe thead th {\n",
       "        text-align: right;\n",
       "    }\n",
       "</style>\n",
       "<table border=\"1\" class=\"dataframe\">\n",
       "  <thead>\n",
       "    <tr style=\"text-align: right;\">\n",
       "      <th></th>\n",
       "      <th>title</th>\n",
       "      <th>review text</th>\n",
       "      <th>rating</th>\n",
       "      <th>division name</th>\n",
       "      <th>department name</th>\n",
       "    </tr>\n",
       "  </thead>\n",
       "  <tbody>\n",
       "    <tr>\n",
       "      <th>0</th>\n",
       "      <td>NaN</td>\n",
       "      <td>Absolutely wonderful - silky and sexy and comf...</td>\n",
       "      <td>4</td>\n",
       "      <td>Initmates</td>\n",
       "      <td>Intimate</td>\n",
       "    </tr>\n",
       "  </tbody>\n",
       "</table>\n",
       "</div>"
      ],
      "text/plain": [
       "  title                                        review text  rating  \\\n",
       "0   NaN  Absolutely wonderful - silky and sexy and comf...       4   \n",
       "\n",
       "  division name department name  \n",
       "0     Initmates        Intimate  "
      ]
     },
     "execution_count": 6,
     "metadata": {},
     "output_type": "execute_result"
    }
   ],
   "source": [
    "df.head(1)"
   ]
  },
  {
   "cell_type": "markdown",
   "id": "c525592b",
   "metadata": {},
   "source": [
    "### EDA"
   ]
  },
  {
   "cell_type": "code",
   "execution_count": 7,
   "id": "eacc545e",
   "metadata": {},
   "outputs": [
    {
     "name": "stdout",
     "output_type": "stream",
     "text": [
      "<class 'pandas.core.frame.DataFrame'>\n",
      "RangeIndex: 23486 entries, 0 to 23485\n",
      "Data columns (total 5 columns):\n",
      " #   Column           Non-Null Count  Dtype \n",
      "---  ------           --------------  ----- \n",
      " 0   title            19676 non-null  object\n",
      " 1   review text      22641 non-null  object\n",
      " 2   rating           23486 non-null  int64 \n",
      " 3   division name    23472 non-null  object\n",
      " 4   department name  23472 non-null  object\n",
      "dtypes: int64(1), object(4)\n",
      "memory usage: 917.5+ KB\n"
     ]
    }
   ],
   "source": [
    "df.info()"
   ]
  },
  {
   "cell_type": "markdown",
   "id": "1d710fc3",
   "metadata": {},
   "source": [
    "- drop null data in Title and Review text\n",
    "- Reset data frame index\n",
    "- fill null data = Undefined in column Title"
   ]
  },
  {
   "cell_type": "code",
   "execution_count": 10,
   "id": "b065ab63",
   "metadata": {},
   "outputs": [],
   "source": [
    "df['title'] = df['title'].fillna('undefined')"
   ]
  },
  {
   "cell_type": "code",
   "execution_count": 11,
   "id": "71ca5dad",
   "metadata": {},
   "outputs": [
    {
     "name": "stdout",
     "output_type": "stream",
     "text": [
      "<class 'pandas.core.frame.DataFrame'>\n",
      "RangeIndex: 23486 entries, 0 to 23485\n",
      "Data columns (total 5 columns):\n",
      " #   Column           Non-Null Count  Dtype \n",
      "---  ------           --------------  ----- \n",
      " 0   title            23486 non-null  object\n",
      " 1   review text      22641 non-null  object\n",
      " 2   rating           23486 non-null  int64 \n",
      " 3   division name    23472 non-null  object\n",
      " 4   department name  23472 non-null  object\n",
      "dtypes: int64(1), object(4)\n",
      "memory usage: 917.5+ KB\n"
     ]
    }
   ],
   "source": [
    "df.info()"
   ]
  },
  {
   "cell_type": "markdown",
   "id": "f5604b07",
   "metadata": {},
   "source": [
    "- visualize data with histogram"
   ]
  },
  {
   "cell_type": "code",
   "execution_count": 12,
   "id": "e32ac9d1",
   "metadata": {},
   "outputs": [
    {
     "data": {
      "text/plain": [
       "<AxesSubplot:>"
      ]
     },
     "execution_count": 12,
     "metadata": {},
     "output_type": "execute_result"
    },
    {
     "data": {
      "image/png": "[encoded data removed]",
      "text/plain": [
       "<Figure size 432x288 with 1 Axes>"
      ]
     },
     "metadata": {
      "needs_background": "light"
     },
     "output_type": "display_data"
    }
   ],
   "source": [
    "df['rating'].hist()"
   ]
  },
  {
   "cell_type": "code",
   "execution_count": 13,
   "id": "eb956d35",
   "metadata": {},
   "outputs": [
    {
     "data": {
      "text/plain": [
       "<AxesSubplot:>"
      ]
     },
     "execution_count": 13,
     "metadata": {},
     "output_type": "execute_result"
    },
    {
     "data": {
      "image/png": "[encoded data removed]",
      "text/plain": [
       "<Figure size 432x288 with 1 Axes>"
      ]
     },
     "metadata": {
      "needs_background": "light"
     },
     "output_type": "display_data"
    }
   ],
   "source": [
    "df['department name'].hist()"
   ]
  },
  {
   "cell_type": "markdown",
   "id": "63771e32",
   "metadata": {},
   "source": [
    "### Group & present data by division name, department name, sort by mean value"
   ]
  },
  {
   "cell_type": "code",
   "execution_count": 14,
   "id": "44a6d634",
   "metadata": {},
   "outputs": [
    {
     "data": {
      "text/plain": [
       "division name   department name\n",
       "General Petite  Trend              3.782609\n",
       "General         Trend              3.822917\n",
       "General Petite  Dresses            4.133256\n",
       "General         Tops               4.148749\n",
       "                Dresses            4.163003\n",
       "General Petite  Tops               4.216469\n",
       "General         Jackets            4.240310\n",
       "General Petite  Intimate           4.240343\n",
       "General         Bottoms            4.268686\n",
       "Initmates       Intimate           4.286285\n",
       "General Petite  Jackets            4.304910\n",
       "                Bottoms            4.329356\n",
       "Name: rating, dtype: float64"
      ]
     },
     "execution_count": 14,
     "metadata": {},
     "output_type": "execute_result"
    }
   ],
   "source": [
    "# groupby division, department based on average rating\n",
    "df_groupby=df.groupby(['division name', 'department name'])['rating'].mean().sort_values(ascending=True)\n",
    "df_groupby"
   ]
  },
  {
   "cell_type": "code",
   "execution_count": 15,
   "id": "8bb22d25",
   "metadata": {},
   "outputs": [
    {
     "data": {
      "image/png": "[encoded data removed]",
      "text/plain": [
       "<Figure size 360x360 with 1 Axes>"
      ]
     },
     "metadata": {
      "needs_background": "light"
     },
     "output_type": "display_data"
    }
   ],
   "source": [
    "barchart = df_groupby.plot(kind='barh', figsize=(5, 5), color='#86bf91', zorder=0, width=0.85)"
   ]
  },
  {
   "cell_type": "code",
   "execution_count": 16,
   "id": "54b48c49",
   "metadata": {},
   "outputs": [],
   "source": [
    "#expand the with of each row\n",
    "pd.set_option('display.max_colwidth', None)"
   ]
  },
  {
   "cell_type": "markdown",
   "id": "78ce0c50",
   "metadata": {},
   "source": [
    "### Check review score from random review text rows"
   ]
  },
  {
   "cell_type": "code",
   "execution_count": 19,
   "id": "00537159",
   "metadata": {},
   "outputs": [
    {
     "data": {
      "text/html": [
       "<div>\n",
       "<style scoped>\n",
       "    .dataframe tbody tr th:only-of-type {\n",
       "        vertical-align: middle;\n",
       "    }\n",
       "\n",
       "    .dataframe tbody tr th {\n",
       "        vertical-align: top;\n",
       "    }\n",
       "\n",
       "    .dataframe thead th {\n",
       "        text-align: right;\n",
       "    }\n",
       "</style>\n",
       "<table border=\"1\" class=\"dataframe\">\n",
       "  <thead>\n",
       "    <tr style=\"text-align: right;\">\n",
       "      <th></th>\n",
       "      <th>review text</th>\n",
       "    </tr>\n",
       "  </thead>\n",
       "  <tbody>\n",
       "    <tr>\n",
       "      <th>2</th>\n",
       "      <td>I had such high hopes for this dress and really wanted it to work for me. i initially ordered the petite small (my usual size) but i found this to be outrageously small. so small in fact that i could not zip it up! i reordered it in petite medium, which was just ok. overall, the top half was comfortable and fit nicely, but the bottom half had a very tight under layer and several somewhat cheap (net) over layers. imo, a major design flaw was the net over layer sewn directly into the zipper - it c</td>\n",
       "    </tr>\n",
       "    <tr>\n",
       "      <th>3</th>\n",
       "      <td>I love, love, love this jumpsuit. it's fun, flirty, and fabulous! every time i wear it, i get nothing but great compliments!</td>\n",
       "    </tr>\n",
       "    <tr>\n",
       "      <th>5</th>\n",
       "      <td>I love tracy reese dresses, but this one is not for the very petite. i am just under 5 feet tall and usually wear a 0p in this brand. this dress was very pretty out of the package but its a lot of dress. the skirt is long and very full so it overwhelmed my small frame. not a stranger to alterations, shortening and narrowing the skirt would take away from the embellishment of the garment. i love the color and the idea of the style but it just did not work on me. i returned this dress.</td>\n",
       "    </tr>\n",
       "  </tbody>\n",
       "</table>\n",
       "</div>"
      ],
      "text/plain": [
       "                                                                                                                                                                                                                                                                                                                                                                                                                                                                                                            review text\n",
       "2  I had such high hopes for this dress and really wanted it to work for me. i initially ordered the petite small (my usual size) but i found this to be outrageously small. so small in fact that i could not zip it up! i reordered it in petite medium, which was just ok. overall, the top half was comfortable and fit nicely, but the bottom half had a very tight under layer and several somewhat cheap (net) over layers. imo, a major design flaw was the net over layer sewn directly into the zipper - it c\n",
       "3                                                                                                                                                                                                                                                                                                                                                                                          I love, love, love this jumpsuit. it's fun, flirty, and fabulous! every time i wear it, i get nothing but great compliments!\n",
       "5              I love tracy reese dresses, but this one is not for the very petite. i am just under 5 feet tall and usually wear a 0p in this brand. this dress was very pretty out of the package but its a lot of dress. the skirt is long and very full so it overwhelmed my small frame. not a stranger to alterations, shortening and narrowing the skirt would take away from the embellishment of the garment. i love the color and the idea of the style but it just did not work on me. i returned this dress."
      ]
     },
     "execution_count": 19,
     "metadata": {},
     "output_type": "execute_result"
    }
   ],
   "source": [
    "x1=df.loc[[2,3,5],['review text']]\n",
    "x1"
   ]
  },
  {
   "cell_type": "code",
   "execution_count": 20,
   "id": "b3ae8f70",
   "metadata": {},
   "outputs": [
    {
     "data": {
      "text/plain": [
       "Sentiment(polarity=0.07367494824016563, subjectivity=0.35629399585921323)"
      ]
     },
     "execution_count": 20,
     "metadata": {},
     "output_type": "execute_result"
    }
   ],
   "source": [
    "testmonial1= TextBlob('I had such high hopes for this dress and really wanted it to work for me. i initially ordered the petite small (my usual size) but i found this to be outrageously small. so small in fact that i could not zip it up! i reordered it in petite medium, which was just ok. overall, the top half was comfortable and fit nicely, but the bottom half had a very tight under layer and several somewhat cheap (net) over layers. imo, a major design flaw was the net over layer sewn directly into the zipper - it c')\n",
    "testmonial1.sentiment"
   ]
  },
  {
   "cell_type": "code",
   "execution_count": 21,
   "id": "173ea0d1",
   "metadata": {},
   "outputs": [
    {
     "data": {
      "text/plain": [
       "Sentiment(polarity=0.5499999999999999, subjectivity=0.625)"
      ]
     },
     "execution_count": 21,
     "metadata": {},
     "output_type": "execute_result"
    }
   ],
   "source": [
    "testmonial= TextBlob('I love, love, love this jumpsuit. its fun, flirty, and fabulous! every time i wear it, i get nothing but great compliments!')\n",
    "testmonial.sentiment"
   ]
  },
  {
   "cell_type": "code",
   "execution_count": 22,
   "id": "066d479a",
   "metadata": {},
   "outputs": [
    {
     "data": {
      "text/plain": [
       "Sentiment(polarity=0.17874999999999996, subjectivity=0.533125)"
      ]
     },
     "execution_count": 22,
     "metadata": {},
     "output_type": "execute_result"
    }
   ],
   "source": [
    "testmonial= TextBlob('I love tracy reese dresses, but this one is not for the very petite. i am just under 5 feet tall and usually wear a 0p in this brand. this dress was very pretty out of the package but its a lot of dress. the skirt is long and very full so it overwhelmed my small frame. not a stranger to alterations, shortening and narrowing the skirt would take away from the embellishment of the garment. i love the color and the idea of the style but it just did not work on me. i returned this dress.')\n",
    "testmonial.sentiment"
   ]
  },
  {
   "cell_type": "markdown",
   "id": "5d486c25",
   "metadata": {},
   "source": [
    "### Break out text into sentences"
   ]
  },
  {
   "cell_type": "code",
   "execution_count": 23,
   "id": "42bc0dce",
   "metadata": {},
   "outputs": [
    {
     "data": {
      "text/plain": [
       "[Sentence(\"I love tracy reese dresses, but this one is not for the very petite.\"),\n",
       " Sentence(\"i am just under 5 feet tall and usually wear a 0p in this brand.\"),\n",
       " Sentence(\"this dress was very pretty out of the package but its a lot of dress.\"),\n",
       " Sentence(\"the skirt is long and very full so it overwhelmed my small frame.\"),\n",
       " Sentence(\"not a stranger to alterations, shortening and narrowing the skirt would take away from the embellishment of the garment.\"),\n",
       " Sentence(\"i love the color and the idea of the style but it just did not work on me.\"),\n",
       " Sentence(\"i returned this dress.\")]"
      ]
     },
     "execution_count": 23,
     "metadata": {},
     "output_type": "execute_result"
    }
   ],
   "source": [
    "TextBlob(df['review text'].loc[5]).sentences"
   ]
  },
  {
   "cell_type": "markdown",
   "id": "64d3409c",
   "metadata": {},
   "source": [
    "### Drop null data in review title"
   ]
  },
  {
   "cell_type": "code",
   "execution_count": 24,
   "id": "c61060df",
   "metadata": {},
   "outputs": [],
   "source": [
    "df.dropna(subset=['review text'],inplace=True)"
   ]
  },
  {
   "cell_type": "code",
   "execution_count": 28,
   "id": "659041eb",
   "metadata": {},
   "outputs": [],
   "source": [
    "cloth=df.reset_index(drop=True)"
   ]
  },
  {
   "cell_type": "code",
   "execution_count": 29,
   "id": "535aa25d",
   "metadata": {},
   "outputs": [
    {
     "name": "stdout",
     "output_type": "stream",
     "text": [
      "<class 'pandas.core.frame.DataFrame'>\n",
      "RangeIndex: 22641 entries, 0 to 22640\n",
      "Data columns (total 5 columns):\n",
      " #   Column           Non-Null Count  Dtype \n",
      "---  ------           --------------  ----- \n",
      " 0   title            22641 non-null  object\n",
      " 1   review text      22641 non-null  object\n",
      " 2   rating           22641 non-null  int64 \n",
      " 3   division name    22628 non-null  object\n",
      " 4   department name  22628 non-null  object\n",
      "dtypes: int64(1), object(4)\n",
      "memory usage: 884.5+ KB\n"
     ]
    }
   ],
   "source": [
    "cloth.info()"
   ]
  },
  {
   "cell_type": "markdown",
   "id": "b95dcf4c",
   "metadata": {},
   "source": [
    "### Apply lambda to calculate the sentiment polarity"
   ]
  },
  {
   "cell_type": "code",
   "execution_count": 30,
   "id": "032216c6",
   "metadata": {},
   "outputs": [],
   "source": [
    "def sentiment(text):\n",
    "    try:\n",
    "        return TextBlob(text).sentiment\n",
    "    except:\n",
    "        return None"
   ]
  },
  {
   "cell_type": "code",
   "execution_count": 31,
   "id": "87c11f70",
   "metadata": {},
   "outputs": [],
   "source": [
    "cloth['polarity']=cloth['review text'].apply(sentiment).apply(lambda x:x[0])"
   ]
  },
  {
   "cell_type": "markdown",
   "id": "8d67ba92",
   "metadata": {},
   "source": [
    "### Group & Present data by division name, depaartment name, sort by min value"
   ]
  },
  {
   "cell_type": "code",
   "execution_count": 35,
   "id": "476cafb4",
   "metadata": {},
   "outputs": [
    {
     "data": {
      "text/plain": [
       "division name   department name\n",
       "General         Tops              -0.975000\n",
       "                Dresses           -0.916667\n",
       "                Jackets           -0.750000\n",
       "General Petite  Tops              -0.700000\n",
       "                Intimate          -0.575000\n",
       "                Jackets           -0.562500\n",
       "General         Bottoms           -0.533333\n",
       "General Petite  Dresses           -0.400000\n",
       "Initmates       Intimate          -0.392333\n",
       "General         Trend             -0.270833\n",
       "General Petite  Bottoms           -0.257778\n",
       "                Trend             -0.083333\n",
       "Name: polarity, dtype: float64"
      ]
     },
     "execution_count": 35,
     "metadata": {},
     "output_type": "execute_result"
    }
   ],
   "source": [
    "cloth_min=cloth.groupby(['division name', 'department name'])['polarity'].min().sort_values(ascending=True)\n",
    "cloth_min"
   ]
  },
  {
   "cell_type": "code",
   "execution_count": 37,
   "id": "bd3e9811",
   "metadata": {},
   "outputs": [
    {
     "data": {
      "text/plain": [
       "<AxesSubplot:ylabel='division name,department name'>"
      ]
     },
     "execution_count": 37,
     "metadata": {},
     "output_type": "execute_result"
    },
    {
     "data": {
      "image/png": "[encoded data removed]",
      "text/plain": [
       "<Figure size 360x360 with 1 Axes>"
      ]
     },
     "metadata": {
      "needs_background": "light"
     },
     "output_type": "display_data"
    }
   ],
   "source": [
    "cloth_min.plot(kind='barh', figsize=(5, 5), color='#86bf91', zorder=0, width=0.55)"
   ]
  },
  {
   "cell_type": "markdown",
   "id": "30541e16",
   "metadata": {},
   "source": [
    "### Group & Present data by division name, depaartment name, sort by avg value"
   ]
  },
  {
   "cell_type": "code",
   "execution_count": 42,
   "id": "68cf6720",
   "metadata": {},
   "outputs": [
    {
     "data": {
      "text/plain": [
       "division name   department name\n",
       "General Petite  Trend              0.195925\n",
       "General         Trend              0.203986\n",
       "                Jackets            0.237141\n",
       "General Petite  Intimate           0.239517\n",
       "                Jackets            0.241773\n",
       "General         Bottoms            0.245849\n",
       "                Tops               0.247025\n",
       "General Petite  Dresses            0.248380\n",
       "General         Dresses            0.251091\n",
       "General Petite  Tops               0.256835\n",
       "Initmates       Intimate           0.256979\n",
       "General Petite  Bottoms            0.259258\n",
       "Name: polarity, dtype: float64"
      ]
     },
     "execution_count": 42,
     "metadata": {},
     "output_type": "execute_result"
    }
   ],
   "source": [
    "cloth_avg=cloth.groupby(['division name','department name'])['polarity'].mean().sort_values(ascending=True)\n",
    "cloth_avg"
   ]
  },
  {
   "cell_type": "code",
   "execution_count": 39,
   "id": "544eb24a",
   "metadata": {},
   "outputs": [
    {
     "data": {
      "text/plain": [
       "<AxesSubplot:ylabel='division name,department name'>"
      ]
     },
     "execution_count": 39,
     "metadata": {},
     "output_type": "execute_result"
    },
    {
     "data": {
      "image/png": "[encoded data removed]",
      "text/plain": [
       "<Figure size 360x360 with 1 Axes>"
      ]
     },
     "metadata": {
      "needs_background": "light"
     },
     "output_type": "display_data"
    }
   ],
   "source": [
    "cloth_avg.plot(kind='barh', figsize=(5, 5), color='#86bf91', zorder=0, width=0.55)"
   ]
  },
  {
   "cell_type": "code",
   "execution_count": null,
   "id": "e53e0699",
   "metadata": {},
   "outputs": [],
   "source": []
  },
  {
   "cell_type": "code",
   "execution_count": null,
   "id": "a899de44",
   "metadata": {},
   "outputs": [],
   "source": []
  }
 ],
 "metadata": {
  "kernelspec": {
   "display_name": "Python 3 (ipykernel)",
   "language": "python",
   "name": "python3"
  },
  "language_info": {
   "codemirror_mode": {
    "name": "ipython",
    "version": 3
   },
   "file_extension": ".py",
   "mimetype": "text/x-python",
   "name": "python",
   "nbconvert_exporter": "python",
   "pygments_lexer": "ipython3",
   "version": "3.10.2"
  },
  "toc": {
   "base_numbering": 1,
   "nav_menu": {},
   "number_sections": true,
   "sideBar": true,
   "skip_h1_title": false,
   "title_cell": "Table of Contents",
   "title_sidebar": "Contents",
   "toc_cell": false,
   "toc_position": {},
   "toc_section_display": true,
   "toc_window_display": false
  },
  "varInspector": {
   "cols": {
    "lenName": 16,
    "lenType": 16,
    "lenVar": 40
   },
   "kernels_config": {
    "python": {
     "delete_cmd_postfix": "",
     "delete_cmd_prefix": "del ",
     "library": "var_list.py",
     "varRefreshCmd": "print(var_dic_list())"
    },
    "r": {
     "delete_cmd_postfix": ") ",
     "delete_cmd_prefix": "rm(",
     "library": "var_list.r",
     "varRefreshCmd": "cat(var_dic_list()) "
    }
   },
   "types_to_exclude": [
    "module",
    "function",
    "builtin_function_or_method",
    "instance",
    "_Feature"
   ],
   "window_display": false
  }
 },
 "nbformat": 4,
 "nbformat_minor": 5
}
