{
 "cells": [
  {
   "cell_type": "code",
   "execution_count": 1,
   "id": "4f5980c5",
   "metadata": {},
   "outputs": [],
   "source": [
    "#import BeautifulSoup\n",
    "import requests\n",
    "from bs4 import BeautifulSoup\n",
    "#import pandas & numpy\n",
    "import pandas as pd\n",
    "import numpy as np"
   ]
  },
  {
   "cell_type": "markdown",
   "id": "365d88f2",
   "metadata": {},
   "source": [
    "# Import website"
   ]
  },
  {
   "cell_type": "code",
   "execution_count": 2,
   "id": "43563381",
   "metadata": {},
   "outputs": [],
   "source": [
    "url=\"https://www.billboard.com/charts/hot-100/\""
   ]
  },
  {
   "cell_type": "code",
   "execution_count": 3,
   "id": "090f1ea5",
   "metadata": {},
   "outputs": [],
   "source": [
    "page = requests.get(url)"
   ]
  },
  {
   "cell_type": "code",
   "execution_count": 4,
   "id": "9b589997",
   "metadata": {},
   "outputs": [
    {
     "data": {
      "text/plain": [
       "<Response [200]>"
      ]
     },
     "execution_count": 4,
     "metadata": {},
     "output_type": "execute_result"
    }
   ],
   "source": [
    "page"
   ]
  },
  {
   "cell_type": "code",
   "execution_count": 5,
   "id": "a7f4d631",
   "metadata": {},
   "outputs": [],
   "source": [
    "soup = BeautifulSoup(page.content,'html.parser')"
   ]
  },
  {
   "cell_type": "markdown",
   "id": "113876ae",
   "metadata": {},
   "source": [
    "# Get the title of the 100 Billboard"
   ]
  },
  {
   "cell_type": "code",
   "execution_count": 6,
   "id": "4d149c5e",
   "metadata": {},
   "outputs": [
    {
     "data": {
      "text/plain": [
       "\"We Don't Talk About Bruno\""
      ]
     },
     "execution_count": 6,
     "metadata": {},
     "output_type": "execute_result"
    }
   ],
   "source": [
    "soup.select('li.o-chart-results-list__item h3.c-title ')[0].get_text(strip=True)"
   ]
  },
  {
   "cell_type": "markdown",
   "id": "28330116",
   "metadata": {},
   "source": [
    "# Get the artist of the 100 Billboard song"
   ]
  },
  {
   "cell_type": "code",
   "execution_count": 7,
   "id": "53d2873f",
   "metadata": {},
   "outputs": [
    {
     "data": {
      "text/plain": [
       "'Carolina Gaitan, Mauro Castillo, Adassa, Rhenzy Feliz, Diane Guerrero, Stephanie Beatriz & Encanto Cast'"
      ]
     },
     "execution_count": 7,
     "metadata": {},
     "output_type": "execute_result"
    }
   ],
   "source": [
    "soup.select('li.o-chart-results-list__item span.c-label.a-no-trucate')[0].get_text(strip=True)"
   ]
  },
  {
   "cell_type": "markdown",
   "id": "2f7847fa",
   "metadata": {},
   "source": [
    "# Insert results into a list"
   ]
  },
  {
   "cell_type": "code",
   "execution_count": 8,
   "id": "8250aa2a",
   "metadata": {},
   "outputs": [
    {
     "data": {
      "text/plain": [
       "100"
      ]
     },
     "execution_count": 8,
     "metadata": {},
     "output_type": "execute_result"
    }
   ],
   "source": [
    "len_song= len(soup.select('li.o-chart-results-list__item h3.c-title '))\n",
    "len_song"
   ]
  },
  {
   "cell_type": "code",
   "execution_count": 9,
   "id": "55a041c9",
   "metadata": {},
   "outputs": [],
   "source": [
    "song=[]\n",
    "artist=[]"
   ]
  },
  {
   "cell_type": "code",
   "execution_count": 10,
   "id": "7055496f",
   "metadata": {},
   "outputs": [],
   "source": [
    "for i in range (len_song):\n",
    "    song.append(soup.select('li.o-chart-results-list__item h3.c-title ')[i].get_text(strip=True))\n",
    "    artist.append(soup.select('li.o-chart-results-list__item span.c-label.a-no-trucate')[i].get_text(strip=True))\n",
    "    "
   ]
  },
  {
   "cell_type": "code",
   "execution_count": 11,
   "id": "f345a3f1",
   "metadata": {},
   "outputs": [
    {
     "data": {
      "text/plain": [
       "100"
      ]
     },
     "execution_count": 11,
     "metadata": {},
     "output_type": "execute_result"
    }
   ],
   "source": [
    "len(song)"
   ]
  },
  {
   "cell_type": "code",
   "execution_count": 12,
   "id": "14a767d2",
   "metadata": {},
   "outputs": [
    {
     "data": {
      "text/plain": [
       "100"
      ]
     },
     "execution_count": 12,
     "metadata": {},
     "output_type": "execute_result"
    }
   ],
   "source": [
    "len(artist)"
   ]
  },
  {
   "cell_type": "markdown",
   "id": "79ffb4cf",
   "metadata": {},
   "source": [
    "# Concat into data frame"
   ]
  },
  {
   "cell_type": "code",
   "execution_count": 13,
   "id": "98c4893b",
   "metadata": {},
   "outputs": [
    {
     "data": {
      "text/plain": [
       "list"
      ]
     },
     "execution_count": 13,
     "metadata": {},
     "output_type": "execute_result"
    }
   ],
   "source": [
    "type(song)"
   ]
  },
  {
   "cell_type": "code",
   "execution_count": 14,
   "id": "0232b74a",
   "metadata": {},
   "outputs": [
    {
     "data": {
      "text/plain": [
       "[\"We Don't Talk About Bruno\",\n",
       " 'Heat Waves',\n",
       " 'abcdefu',\n",
       " 'Easy On Me',\n",
       " 'Super Gremlin',\n",
       " 'Stay',\n",
       " 'Ghost',\n",
       " 'Shivers',\n",
       " 'Bad Habits',\n",
       " 'Cold Heart (PNAU Remix)',\n",
       " 'Thats What I Want',\n",
       " 'Need To Know',\n",
       " 'Surface Pressure',\n",
       " 'Pushin P',\n",
       " 'Industry Baby',\n",
       " 'Levitating',\n",
       " 'MAMIII',\n",
       " 'Nail Tech',\n",
       " 'Save Your Tears',\n",
       " 'Enemy',\n",
       " 'Big Energy',\n",
       " 'One Right Now',\n",
       " 'Hrs And Hrs',\n",
       " 'Woman',\n",
       " \"'Til You Can't\",\n",
       " 'The Family Madrigal',\n",
       " 'Good 4 U',\n",
       " 'I Hate U',\n",
       " 'Light Switch',\n",
       " 'Sand In My Boots',\n",
       " 'Buy Dirt',\n",
       " 'Knife Talk',\n",
       " 'You Right',\n",
       " 'Love Nwantiti (Ah Ah Ah)',\n",
       " 'Fancy Like',\n",
       " 'One Mississippi',\n",
       " 'Meet Me At Our Spot',\n",
       " 'What Else Can I Do?',\n",
       " 'Fingers Crossed',\n",
       " 'Smokin Out The Window',\n",
       " 'Essence',\n",
       " 'Ahhh Ha',\n",
       " 'Still D.R.E.',\n",
       " 'Do We Have A Problem?',\n",
       " 'Oh My God',\n",
       " 'Dos Oruguitas',\n",
       " 'You Should Probably Leave',\n",
       " 'Sacrifice',\n",
       " \"Doin' This\",\n",
       " 'Better Days',\n",
       " 'To Be Loved By You',\n",
       " 'Beers On Me',\n",
       " 'AA',\n",
       " 'City Of Gods',\n",
       " 'Never Say Never',\n",
       " '23',\n",
       " 'Half Of My Hometown',\n",
       " 'Heart On Fire',\n",
       " 'Broadway Girls',\n",
       " 'Waiting On A Miracle',\n",
       " 'Banking On Me',\n",
       " \"She's All I Wanna Be\",\n",
       " 'Me Or Sum',\n",
       " 'The Joker And The Queen',\n",
       " 'Boyfriend',\n",
       " 'Rumors',\n",
       " 'Pressure',\n",
       " 'Numb Little Bug',\n",
       " 'High',\n",
       " 'Peru',\n",
       " 'Who Want Smoke??',\n",
       " 'Bussin',\n",
       " 'Worst Day',\n",
       " 'Beautiful Lies',\n",
       " 'P Power',\n",
       " 'Circles Around This Town',\n",
       " 'All Of You',\n",
       " 'Cigarettes',\n",
       " 'If I Was A Cowboy',\n",
       " 'I Love You So',\n",
       " 'Scorpio',\n",
       " 'Do It To It',\n",
       " 'By Your Side',\n",
       " 'Freedom Was A Highway',\n",
       " 'The Motto',\n",
       " \"Don't Play That\",\n",
       " 'Never Wanted To Be That Girl',\n",
       " 'Flower Shops',\n",
       " 'Good Morning Gorgeous',\n",
       " \"When I'm Gone\",\n",
       " 'Poppin',\n",
       " 'Come Back As A Country Boy',\n",
       " 'Iffy',\n",
       " 'Home Sweet',\n",
       " 'Pray',\n",
       " 'Closer',\n",
       " 'Cold December',\n",
       " 'Get Into It (Yuh)',\n",
       " \"All Too Well (Taylor's Version)\",\n",
       " 'Give Heaven Some Hell']"
      ]
     },
     "execution_count": 14,
     "metadata": {},
     "output_type": "execute_result"
    }
   ],
   "source": [
    "song"
   ]
  },
  {
   "cell_type": "code",
   "execution_count": 15,
   "id": "a50676cc",
   "metadata": {},
   "outputs": [],
   "source": [
    "list_song= pd.DataFrame({'Songs':song, 'Artist':artist})"
   ]
  },
  {
   "cell_type": "code",
   "execution_count": 16,
   "id": "3c21acc4",
   "metadata": {},
   "outputs": [],
   "source": [
    "list_song['rank']= np.arange(len(song))+1"
   ]
  },
  {
   "cell_type": "code",
   "execution_count": 17,
   "id": "4f0f36ca",
   "metadata": {},
   "outputs": [
    {
     "data": {
      "text/html": [
       "<div>\n",
       "<style scoped>\n",
       "    .dataframe tbody tr th:only-of-type {\n",
       "        vertical-align: middle;\n",
       "    }\n",
       "\n",
       "    .dataframe tbody tr th {\n",
       "        vertical-align: top;\n",
       "    }\n",
       "\n",
       "    .dataframe thead th {\n",
       "        text-align: right;\n",
       "    }\n",
       "</style>\n",
       "<table border=\"1\" class=\"dataframe\">\n",
       "  <thead>\n",
       "    <tr style=\"text-align: right;\">\n",
       "      <th></th>\n",
       "      <th>Songs</th>\n",
       "      <th>Artist</th>\n",
       "      <th>rank</th>\n",
       "    </tr>\n",
       "  </thead>\n",
       "  <tbody>\n",
       "    <tr>\n",
       "      <th>0</th>\n",
       "      <td>We Don't Talk About Bruno</td>\n",
       "      <td>Carolina Gaitan, Mauro Castillo, Adassa, Rhenz...</td>\n",
       "      <td>1</td>\n",
       "    </tr>\n",
       "    <tr>\n",
       "      <th>1</th>\n",
       "      <td>Heat Waves</td>\n",
       "      <td>Glass Animals</td>\n",
       "      <td>2</td>\n",
       "    </tr>\n",
       "    <tr>\n",
       "      <th>2</th>\n",
       "      <td>abcdefu</td>\n",
       "      <td>GAYLE</td>\n",
       "      <td>3</td>\n",
       "    </tr>\n",
       "    <tr>\n",
       "      <th>3</th>\n",
       "      <td>Easy On Me</td>\n",
       "      <td>Adele</td>\n",
       "      <td>4</td>\n",
       "    </tr>\n",
       "    <tr>\n",
       "      <th>4</th>\n",
       "      <td>Super Gremlin</td>\n",
       "      <td>Kodak Black</td>\n",
       "      <td>5</td>\n",
       "    </tr>\n",
       "    <tr>\n",
       "      <th>...</th>\n",
       "      <td>...</td>\n",
       "      <td>...</td>\n",
       "      <td>...</td>\n",
       "    </tr>\n",
       "    <tr>\n",
       "      <th>95</th>\n",
       "      <td>Closer</td>\n",
       "      <td>Saweetie Featuring H.E.R.</td>\n",
       "      <td>96</td>\n",
       "    </tr>\n",
       "    <tr>\n",
       "      <th>96</th>\n",
       "      <td>Cold December</td>\n",
       "      <td>Rod Wave</td>\n",
       "      <td>97</td>\n",
       "    </tr>\n",
       "    <tr>\n",
       "      <th>97</th>\n",
       "      <td>Get Into It (Yuh)</td>\n",
       "      <td>Doja Cat</td>\n",
       "      <td>98</td>\n",
       "    </tr>\n",
       "    <tr>\n",
       "      <th>98</th>\n",
       "      <td>All Too Well (Taylor's Version)</td>\n",
       "      <td>Taylor Swift</td>\n",
       "      <td>99</td>\n",
       "    </tr>\n",
       "    <tr>\n",
       "      <th>99</th>\n",
       "      <td>Give Heaven Some Hell</td>\n",
       "      <td>HARDY</td>\n",
       "      <td>100</td>\n",
       "    </tr>\n",
       "  </tbody>\n",
       "</table>\n",
       "<p>100 rows × 3 columns</p>\n",
       "</div>"
      ],
      "text/plain": [
       "                              Songs  \\\n",
       "0         We Don't Talk About Bruno   \n",
       "1                        Heat Waves   \n",
       "2                           abcdefu   \n",
       "3                        Easy On Me   \n",
       "4                     Super Gremlin   \n",
       "..                              ...   \n",
       "95                           Closer   \n",
       "96                    Cold December   \n",
       "97                Get Into It (Yuh)   \n",
       "98  All Too Well (Taylor's Version)   \n",
       "99            Give Heaven Some Hell   \n",
       "\n",
       "                                               Artist  rank  \n",
       "0   Carolina Gaitan, Mauro Castillo, Adassa, Rhenz...     1  \n",
       "1                                       Glass Animals     2  \n",
       "2                                               GAYLE     3  \n",
       "3                                               Adele     4  \n",
       "4                                         Kodak Black     5  \n",
       "..                                                ...   ...  \n",
       "95                          Saweetie Featuring H.E.R.    96  \n",
       "96                                           Rod Wave    97  \n",
       "97                                           Doja Cat    98  \n",
       "98                                       Taylor Swift    99  \n",
       "99                                              HARDY   100  \n",
       "\n",
       "[100 rows x 3 columns]"
      ]
     },
     "execution_count": 17,
     "metadata": {},
     "output_type": "execute_result"
    }
   ],
   "source": [
    "list_song"
   ]
  },
  {
   "cell_type": "code",
   "execution_count": null,
   "id": "764576ae",
   "metadata": {},
   "outputs": [],
   "source": []
  }
 ],
 "metadata": {
  "kernelspec": {
   "display_name": "Python 3",
   "language": "python",
   "name": "python3"
  },
  "language_info": {
   "codemirror_mode": {
    "name": "ipython",
    "version": 3
   },
   "file_extension": ".py",
   "mimetype": "text/x-python",
   "name": "python",
   "nbconvert_exporter": "python",
   "pygments_lexer": "ipython3",
   "version": "3.8.8"
  },
  "toc": {
   "base_numbering": 1,
   "nav_menu": {},
   "number_sections": true,
   "sideBar": true,
   "skip_h1_title": false,
   "title_cell": "Table of Contents",
   "title_sidebar": "Contents",
   "toc_cell": false,
   "toc_position": {},
   "toc_section_display": true,
   "toc_window_display": false
  },
  "varInspector": {
   "cols": {
    "lenName": 16,
    "lenType": 16,
    "lenVar": 40
   },
   "kernels_config": {
    "python": {
     "delete_cmd_postfix": "",
     "delete_cmd_prefix": "del ",
     "library": "var_list.py",
     "varRefreshCmd": "print(var_dic_list())"
    },
    "r": {
     "delete_cmd_postfix": ") ",
     "delete_cmd_prefix": "rm(",
     "library": "var_list.r",
     "varRefreshCmd": "cat(var_dic_list()) "
    }
   },
   "types_to_exclude": [
    "module",
    "function",
    "builtin_function_or_method",
    "instance",
    "_Feature"
   ],
   "window_display": false
  }
 },
 "nbformat": 4,
 "nbformat_minor": 5
}
