{
 "cells": [
  {
   "cell_type": "code",
   "execution_count": 9,
   "id": "c1250880",
   "metadata": {},
   "outputs": [],
   "source": [
    "#import all tools\n",
    "from fuzzywuzzy import fuzz\n",
    "from fuzzywuzzy import process\n",
    "import numpy as np\n",
    "import pandas as pd\n",
    "from IPython.display import IFrame\n",
    "from IPython.core.display import display"
   ]
  },
  {
   "cell_type": "code",
   "execution_count": 10,
   "id": "a2be69c1",
   "metadata": {},
   "outputs": [],
   "source": [
    "#function to give the artist's name:\n",
    "def give_artist(song, list_song):\n",
    "    b=list_song[(list_song['Songs']== song)]\n",
    "    artist=b['Artist'].item()\n",
    "    return artist  "
   ]
  },
  {
   "cell_type": "code",
   "execution_count": 11,
   "id": "d812b852",
   "metadata": {},
   "outputs": [],
   "source": [
    "#function to give a random song from top 100 Billboard\n",
    "def give_random(playlist):\n",
    "    rows = np.random.choice(playlist.index.values, 1)\n",
    "    random= playlist.loc[rows]\n",
    "    random_song=random['Songs'].item()\n",
    "    return random_song  "
   ]
  },
  {
   "cell_type": "code",
   "execution_count": 12,
   "id": "f52fe921",
   "metadata": {},
   "outputs": [],
   "source": [
    "#function to give song's id:\n",
    "def song_id(playlist,name):\n",
    "    b=playlist[(playlist['Songs']== name)]\n",
    "    id_song=b['id'].item()\n",
    "    return id_song\n",
    "    "
   ]
  },
  {
   "cell_type": "code",
   "execution_count": 13,
   "id": "881f4b71",
   "metadata": {},
   "outputs": [],
   "source": [
    "#function to give a random song with same cluster from Spotify:\n",
    "def give_random_spotify(song,playlist):\n",
    "    find_cluster=playlist[playlist['Songs'].str.lower()== song.lower()]\n",
    "    no_cluster=find_cluster['cluster_no'].item()\n",
    "    random_song_df=playlist[playlist.cluster_no==no_cluster].sample(1)\n",
    "    name = random_song_df['Songs'].item()\n",
    "    return name"
   ]
  },
  {
   "cell_type": "code",
   "execution_count": 14,
   "id": "ff369df0",
   "metadata": {},
   "outputs": [],
   "source": [
    "def give_recommendation_spotify (song,playlist):\n",
    "    if process.extractOne(song, playlist['Songs'])[1] > 90:\n",
    "        print(\"But, we think you will like this song from Spotify!\")\n",
    "        random=give_random_spotify(song,playlist)\n",
    "        print(random)\n",
    "        display(IFrame(src=f\"https://open.spotify.com/embed/track/{song_id(playlist,random)}\",\n",
    "                        width=\"320\",\n",
    "                        height=\"80\",\n",
    "                        frameborder=\"0\",\n",
    "                        allowtransparency=\"true\",\n",
    "                        allow=\"encrypted-media\",))\n",
    "    return "
   ]
  },
  {
   "cell_type": "markdown",
   "id": "704a2281",
   "metadata": {},
   "source": [
    "# Main function:"
   ]
  },
  {
   "cell_type": "code",
   "execution_count": 26,
   "id": "061f244a",
   "metadata": {},
   "outputs": [],
   "source": [
    "def mainFunc():\n",
    "    top100=pd.read_csv('/Users/macbook/Documents/Music/top100.csv')\n",
    "    cluster_playlist=pd.read_csv('/Users/macbook/Documents/Music/cluster_playlist.csv')\n",
    "    \n",
    "    try_again = \"yes\"\n",
    "    while try_again == \"yes\":\n",
    "        user = input('Which song is in your mood, now ?:  ').lower()\n",
    "        while user == \"\" or user == \" \":\n",
    "            print('Opps! Seems it was a blank! Please do it again')\n",
    "            user = input('Which song is in your mood, now ?: ')\n",
    "        Str1 = user\n",
    "        Str2 = top100['Songs']\n",
    "        y=process.extract(Str1, Str2)\n",
    "        x=process.extractOne(Str1, Str2)\n",
    "        if x[1] == 100:\n",
    "            print('Yah! A hot song in top 100 Billboard')\n",
    "            print('Maybe, your mood also are up for this song:',give_random(top100))  \n",
    "                  \n",
    "        elif y[0][1]>40 and y[0][1]<100:\n",
    "            print('Do you mean this song:')\n",
    "            print(y[0][0],'by Artist:', give_artist(y[0][0], top100))\n",
    "            \n",
    "            define_song=input('yes / no: ')\n",
    "            if define_song == 'yes':\n",
    "                print('Yah! A hot song in top 100 Billboard')\n",
    "                print('Maybe, your mood also are up for this song:')\n",
    "                print(give_random(top100))\n",
    "            else:\n",
    "                print('Opps!, it seems not in top 100 Billboard at the moment.')\n",
    "                \n",
    "                #give reccommendation through each playlists\n",
    "                give_recommendation_spotify (Str1, cluster_playlist)\n",
    "\n",
    "        else:\n",
    "            print('Opps!, it seems not a hot song at the moment.')\n",
    "            \n",
    "            give_recommendation_spotify (Str1, cluster_playlist)\n",
    "        \n",
    "\n",
    "        try_again = input(\"Go on for further music vibe? yes or no? \")\n",
    "        \n",
    "        if try_again == \"no\":\n",
    "            print(\"Thank you for using the song recommender! See you soon!\")\n",
    "        else:\n",
    "            continue"
   ]
  },
  {
   "cell_type": "code",
   "execution_count": 27,
   "id": "13ad9041",
   "metadata": {},
   "outputs": [
    {
     "name": "stdout",
     "output_type": "stream",
     "text": [
      "Which song is in your mood, now ?:  laid\n",
      "Do you mean this song:\n",
      "Super Gremlin by Artist: Kodak Black\n",
      "yes / no: no\n",
      "Opps!, it seems not in top 100 Billboard at the moment.\n",
      "But, we think you will like this song from Spotify!\n",
      "Can't Stop Loving You\n"
     ]
    },
    {
     "data": {
      "text/html": [
       "\n",
       "        <iframe\n",
       "            width=\"320\"\n",
       "            height=\"80\"\n",
       "            src=\"https://open.spotify.com/embed/track/6VHTM8wPmXUYeDSucBNhrA?frameborder=0&allowtransparency=true&allow=encrypted-media\"\n",
       "            frameborder=\"0\"\n",
       "            allowfullscreen\n",
       "        ></iframe>\n",
       "        "
      ],
      "text/plain": [
       "<IPython.lib.display.IFrame at 0x7fdb946183d0>"
      ]
     },
     "metadata": {},
     "output_type": "display_data"
    },
    {
     "name": "stdout",
     "output_type": "stream",
     "text": [
      "Go on for further music vibe? yes or no? yes\n",
      "Which song is in your mood, now ?:  dancing queen\n",
      "Do you mean this song:\n",
      "The Joker And The Queen by Artist: Ed Sheeran Featuring Taylor Swift\n",
      "yes / no: no\n",
      "Opps!, it seems not in top 100 Billboard at the moment.\n",
      "But, we think you will like this song from Spotify!\n",
      "I Want Let The Sun Go Down On Me\n"
     ]
    },
    {
     "data": {
      "text/html": [
       "\n",
       "        <iframe\n",
       "            width=\"320\"\n",
       "            height=\"80\"\n",
       "            src=\"https://open.spotify.com/embed/track/5ymJJWUqKzoayNsgrwFVRZ?frameborder=0&allowtransparency=true&allow=encrypted-media\"\n",
       "            frameborder=\"0\"\n",
       "            allowfullscreen\n",
       "        ></iframe>\n",
       "        "
      ],
      "text/plain": [
       "<IPython.lib.display.IFrame at 0x7fdb94618b20>"
      ]
     },
     "metadata": {},
     "output_type": "display_data"
    },
    {
     "name": "stdout",
     "output_type": "stream",
     "text": [
      "Go on for further music vibe? yes or no? yes\n",
      "Which song is in your mood, now ?:  Dancing queen\n",
      "Do you mean this song:\n",
      "The Joker And The Queen by Artist: Ed Sheeran Featuring Taylor Swift\n",
      "yes / no: no\n",
      "Opps!, it seems not in top 100 Billboard at the moment.\n",
      "But, we think you will like this song from Spotify!\n",
      "Focus\n"
     ]
    },
    {
     "data": {
      "text/html": [
       "\n",
       "        <iframe\n",
       "            width=\"320\"\n",
       "            height=\"80\"\n",
       "            src=\"https://open.spotify.com/embed/track/1cdzfFjEbUbgTm5nv3FgXR?frameborder=0&allowtransparency=true&allow=encrypted-media\"\n",
       "            frameborder=\"0\"\n",
       "            allowfullscreen\n",
       "        ></iframe>\n",
       "        "
      ],
      "text/plain": [
       "<IPython.lib.display.IFrame at 0x7fdb94618b20>"
      ]
     },
     "metadata": {},
     "output_type": "display_data"
    },
    {
     "name": "stdout",
     "output_type": "stream",
     "text": [
      "Go on for further music vibe? yes or no? yes\n",
      "Which song is in your mood, now ?:  Babe\n",
      "Do you mean this song:\n",
      "Industry Baby by Artist: Lil Nas X & Jack Harlow\n",
      "yes / no: no\n",
      "Opps!, it seems not in top 100 Billboard at the moment.\n",
      "But, we think you will like this song from Spotify!\n",
      "I Can’t Help It (If I’m Still In Love With You) - Remastered 2015\n"
     ]
    },
    {
     "data": {
      "text/html": [
       "\n",
       "        <iframe\n",
       "            width=\"320\"\n",
       "            height=\"80\"\n",
       "            src=\"https://open.spotify.com/embed/track/0UM2aSrVu6YYQisV7J8uLa?frameborder=0&allowtransparency=true&allow=encrypted-media\"\n",
       "            frameborder=\"0\"\n",
       "            allowfullscreen\n",
       "        ></iframe>\n",
       "        "
      ],
      "text/plain": [
       "<IPython.lib.display.IFrame at 0x7fdb94c95d90>"
      ]
     },
     "metadata": {},
     "output_type": "display_data"
    },
    {
     "name": "stdout",
     "output_type": "stream",
     "text": [
      "Go on for further music vibe? yes or no? no\n",
      "Thank you for using the song recommender! See you soon!\n"
     ]
    }
   ],
   "source": [
    "mainFunc()"
   ]
  },
  {
   "cell_type": "code",
   "execution_count": null,
   "id": "080829b3",
   "metadata": {},
   "outputs": [],
   "source": []
  },
  {
   "cell_type": "code",
   "execution_count": null,
   "id": "2f1c0a52",
   "metadata": {},
   "outputs": [],
   "source": []
  },
  {
   "cell_type": "code",
   "execution_count": null,
   "id": "b49e2794",
   "metadata": {},
   "outputs": [],
   "source": []
  },
  {
   "cell_type": "code",
   "execution_count": null,
   "id": "5aa2683b",
   "metadata": {},
   "outputs": [],
   "source": []
  }
 ],
 "metadata": {
  "kernelspec": {
   "display_name": "Python 3",
   "language": "python",
   "name": "python3"
  },
  "language_info": {
   "codemirror_mode": {
    "name": "ipython",
    "version": 3
   },
   "file_extension": ".py",
   "mimetype": "text/x-python",
   "name": "python",
   "nbconvert_exporter": "python",
   "pygments_lexer": "ipython3",
   "version": "3.8.8"
  },
  "toc": {
   "base_numbering": 1,
   "nav_menu": {},
   "number_sections": true,
   "sideBar": true,
   "skip_h1_title": false,
   "title_cell": "Table of Contents",
   "title_sidebar": "Contents",
   "toc_cell": false,
   "toc_position": {},
   "toc_section_display": true,
   "toc_window_display": false
  },
  "varInspector": {
   "cols": {
    "lenName": 16,
    "lenType": 16,
    "lenVar": 40
   },
   "kernels_config": {
    "python": {
     "delete_cmd_postfix": "",
     "delete_cmd_prefix": "del ",
     "library": "var_list.py",
     "varRefreshCmd": "print(var_dic_list())"
    },
    "r": {
     "delete_cmd_postfix": ") ",
     "delete_cmd_prefix": "rm(",
     "library": "var_list.r",
     "varRefreshCmd": "cat(var_dic_list()) "
    }
   },
   "types_to_exclude": [
    "module",
    "function",
    "builtin_function_or_method",
    "instance",
    "_Feature"
   ],
   "window_display": false
  }
 },
 "nbformat": 4,
 "nbformat_minor": 5
}
