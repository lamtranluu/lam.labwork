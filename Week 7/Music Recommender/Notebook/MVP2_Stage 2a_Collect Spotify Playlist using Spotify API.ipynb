{
 "cells": [
  {
   "cell_type": "code",
   "execution_count": 1,
   "id": "0d253dc3",
   "metadata": {},
   "outputs": [
    {
     "name": "stdout",
     "output_type": "stream",
     "text": [
      "client_id?········\n",
      "client_secret?········\n"
     ]
    }
   ],
   "source": [
    "#import all tools\n",
    "import pandas as pd\n",
    "import spotipy # install if needed\n",
    "from spotipy.oauth2 import SpotifyClientCredentials\n",
    "import getpass\n",
    "client_id = str(getpass.getpass('client_id?'))\n",
    "client_secret = str(getpass.getpass('client_secret?'))"
   ]
  },
  {
   "cell_type": "code",
   "execution_count": 2,
   "id": "2b10ea02",
   "metadata": {},
   "outputs": [],
   "source": [
    "client_credentials_manager = SpotifyClientCredentials(client_id, client_secret)\n",
    "sp = spotipy.Spotify(client_credentials_manager = client_credentials_manager)"
   ]
  },
  {
   "cell_type": "markdown",
   "id": "ddc5aa43",
   "metadata": {},
   "source": [
    "# Main function to get tracks info:"
   ]
  },
  {
   "cell_type": "code",
   "execution_count": 3,
   "id": "9b4a6fe9",
   "metadata": {},
   "outputs": [],
   "source": [
    "def get_tracks(user_id,playlist_id):\n",
    "    results = sp.user_playlist_tracks(user_id,playlist_id)\n",
    "    tracks = results['items']\n",
    "    while results['next']:\n",
    "        results = sp.next(results)\n",
    "        tracks.extend(results['items'])\n",
    "    return tracks"
   ]
  },
  {
   "cell_type": "code",
   "execution_count": 21,
   "id": "aec342af",
   "metadata": {},
   "outputs": [],
   "source": [
    "def get_tracks_info(playlist):\n",
    "    track_name=[]\n",
    "    track_artist=[]\n",
    "    track_id=[]\n",
    "    track_ex_url=[]\n",
    "    audio_feats = []\n",
    "    list1=pd.DataFrame()\n",
    "    for item in playlist:\n",
    "        track_id.append(item['track']['id'])\n",
    "        track_name.append(item['track']['name'])\n",
    "        track_artist.append(item['track']['artists'][0]['name'])\n",
    "        track_ex_url.append(item['track']['external_urls']['spotify'])\n",
    "    for x in range(len(playlist)):\n",
    "        audio_feats.extend(sp.audio_features(tracks=playlist[x]['track']['id']))\n",
    "    list1=pd.DataFrame({'Songs':track_name, 'Artist':track_artist,'id':track_id,'external_url':track_ex_url})\n",
    "    audio_feat_df=pd.DataFrame(audio_feats)\n",
    "    playlist_df= list1.merge(audio_feat_df,on='id',how='left')\n",
    "    return playlist_df"
   ]
  },
  {
   "cell_type": "markdown",
   "id": "1cb670c7",
   "metadata": {},
   "source": [
    "# Playlist 1_Rock:"
   ]
  },
  {
   "cell_type": "code",
   "execution_count": 5,
   "id": "27100bfe",
   "metadata": {},
   "outputs": [],
   "source": [
    "playlist1=get_tracks('Justin Dupoint','4uzWNRv3Yw2aGWiexQLFch')"
   ]
  },
  {
   "cell_type": "code",
   "execution_count": 43,
   "id": "bf01d68f",
   "metadata": {
    "scrolled": true
   },
   "outputs": [],
   "source": [
    "pl1=get_tracks_info(playlist1)"
   ]
  },
  {
   "cell_type": "code",
   "execution_count": 19,
   "id": "26cb2244",
   "metadata": {},
   "outputs": [],
   "source": [
    "df.to_csv('/Users/macbook/Documents/rock.csv')"
   ]
  },
  {
   "cell_type": "markdown",
   "id": "9587b0b7",
   "metadata": {},
   "source": [
    "# Playlist 2_Pop:"
   ]
  },
  {
   "cell_type": "code",
   "execution_count": 17,
   "id": "b5c4023d",
   "metadata": {},
   "outputs": [],
   "source": [
    "playlist2=get_tracks('Jasmine Smith','7FswJvBTlmlxDeHJ6cm7bJ')"
   ]
  },
  {
   "cell_type": "code",
   "execution_count": 22,
   "id": "b0615465",
   "metadata": {},
   "outputs": [],
   "source": [
    "pl2=get_tracks_info(playlist2)"
   ]
  },
  {
   "cell_type": "code",
   "execution_count": 23,
   "id": "c40db7e4",
   "metadata": {},
   "outputs": [],
   "source": [
    "pl2.to_csv('/Users/macbook/Documents/pop.csv')"
   ]
  },
  {
   "cell_type": "markdown",
   "id": "4dcf8231",
   "metadata": {},
   "source": [
    "# Playlist 3 _Rap:"
   ]
  },
  {
   "cell_type": "code",
   "execution_count": 24,
   "id": "47403ab5",
   "metadata": {},
   "outputs": [],
   "source": [
    "playlist3=get_tracks('jameswalton24','3xERoB0hSNN8vQ9djc9AhB')"
   ]
  },
  {
   "cell_type": "code",
   "execution_count": 25,
   "id": "6cb68e1c",
   "metadata": {},
   "outputs": [],
   "source": [
    "pl3=get_tracks_info(playlist3)"
   ]
  },
  {
   "cell_type": "code",
   "execution_count": 27,
   "id": "dcb0b90d",
   "metadata": {},
   "outputs": [],
   "source": [
    "pl3.to_csv('/Users/macbook/Documents/rap.csv')"
   ]
  },
  {
   "cell_type": "markdown",
   "id": "fc84b2a7",
   "metadata": {},
   "source": [
    "# Playlist 4 _The best Oldies:"
   ]
  },
  {
   "cell_type": "code",
   "execution_count": 28,
   "id": "38f8b1e6",
   "metadata": {},
   "outputs": [],
   "source": [
    "playlist4=get_tracks('Marcel','6OAF6gkxAe4lqHdSLmGpdd')"
   ]
  },
  {
   "cell_type": "code",
   "execution_count": 29,
   "id": "3e47b7fc",
   "metadata": {},
   "outputs": [],
   "source": [
    "pl4=get_tracks_info(playlist4)"
   ]
  },
  {
   "cell_type": "code",
   "execution_count": 30,
   "id": "61cc6d8b",
   "metadata": {},
   "outputs": [],
   "source": [
    "pl4.to_csv('/Users/macbook/Documents/best_oldies.csv')"
   ]
  },
  {
   "cell_type": "markdown",
   "id": "c061e9ae",
   "metadata": {},
   "source": [
    "# Playlist 5 _Country:"
   ]
  },
  {
   "cell_type": "code",
   "execution_count": 36,
   "id": "cbccbd7b",
   "metadata": {},
   "outputs": [],
   "source": [
    "playlist5=get_tracks('WJR33','2Tm9xZ9SuqPWOfBex47No7')"
   ]
  },
  {
   "cell_type": "code",
   "execution_count": 37,
   "id": "5030ed0a",
   "metadata": {},
   "outputs": [],
   "source": [
    "pl5=get_tracks_info(playlist5)"
   ]
  },
  {
   "cell_type": "code",
   "execution_count": 38,
   "id": "53e62c5e",
   "metadata": {},
   "outputs": [],
   "source": [
    "pl5.to_csv('/Users/macbook/Documents/country.csv')"
   ]
  },
  {
   "cell_type": "markdown",
   "id": "93ac78a0",
   "metadata": {},
   "source": [
    "# Playlist 6 _Hiphop:"
   ]
  },
  {
   "cell_type": "code",
   "execution_count": 39,
   "id": "4e1d59ff",
   "metadata": {},
   "outputs": [],
   "source": [
    "playlist6=get_tracks('bigbubbajake','0ppKLqk6Jy0hNpoLQY5NvQ')"
   ]
  },
  {
   "cell_type": "code",
   "execution_count": 40,
   "id": "caf80242",
   "metadata": {},
   "outputs": [],
   "source": [
    "pl6=get_tracks_info(playlist5)"
   ]
  },
  {
   "cell_type": "code",
   "execution_count": 41,
   "id": "4e2bc5aa",
   "metadata": {},
   "outputs": [],
   "source": [
    "pl6.to_csv('/Users/macbook/Documents/hiphop.csv')"
   ]
  },
  {
   "cell_type": "markdown",
   "id": "67ef5194",
   "metadata": {},
   "source": [
    "# Create an ultimate playlist for all playlists:"
   ]
  },
  {
   "cell_type": "code",
   "execution_count": 72,
   "id": "ffa3e8dc",
   "metadata": {},
   "outputs": [],
   "source": [
    "frames=[pl1,pl2,pl3,pl4,pl5,pl6]\n",
    "spotify_playlist=pd.concat(frames,ignore_index=True)"
   ]
  },
  {
   "cell_type": "code",
   "execution_count": 73,
   "id": "96148f11",
   "metadata": {},
   "outputs": [],
   "source": [
    "#drop all duplicates value & reset index\n",
    "spotify_playlist = spotify_playlist.drop_duplicates()\n",
    "df=spotify_playlist.reset_index(drop=True)"
   ]
  },
  {
   "cell_type": "code",
   "execution_count": 78,
   "id": "f3a73a19",
   "metadata": {},
   "outputs": [
    {
     "data": {
      "text/html": [
       "<div>\n",
       "<style scoped>\n",
       "    .dataframe tbody tr th:only-of-type {\n",
       "        vertical-align: middle;\n",
       "    }\n",
       "\n",
       "    .dataframe tbody tr th {\n",
       "        vertical-align: top;\n",
       "    }\n",
       "\n",
       "    .dataframe thead th {\n",
       "        text-align: right;\n",
       "    }\n",
       "</style>\n",
       "<table border=\"1\" class=\"dataframe\">\n",
       "  <thead>\n",
       "    <tr style=\"text-align: right;\">\n",
       "      <th></th>\n",
       "      <th>Songs</th>\n",
       "      <th>Artist</th>\n",
       "      <th>id</th>\n",
       "      <th>external_url</th>\n",
       "      <th>danceability</th>\n",
       "      <th>energy</th>\n",
       "      <th>key</th>\n",
       "      <th>loudness</th>\n",
       "      <th>mode</th>\n",
       "      <th>speechiness</th>\n",
       "      <th>...</th>\n",
       "      <th>instrumentalness</th>\n",
       "      <th>liveness</th>\n",
       "      <th>valence</th>\n",
       "      <th>tempo</th>\n",
       "      <th>type</th>\n",
       "      <th>uri</th>\n",
       "      <th>track_href</th>\n",
       "      <th>analysis_url</th>\n",
       "      <th>duration_ms</th>\n",
       "      <th>time_signature</th>\n",
       "    </tr>\n",
       "  </thead>\n",
       "  <tbody>\n",
       "    <tr>\n",
       "      <th>0</th>\n",
       "      <td>Put Your Lights On (feat. Everlast)</td>\n",
       "      <td>Santana</td>\n",
       "      <td>3uRaD26t3RkJ8n549udQ83</td>\n",
       "      <td>https://open.spotify.com/track/3uRaD26t3RkJ8n5...</td>\n",
       "      <td>0.606</td>\n",
       "      <td>0.834</td>\n",
       "      <td>7</td>\n",
       "      <td>-6.101</td>\n",
       "      <td>1</td>\n",
       "      <td>0.0369</td>\n",
       "      <td>...</td>\n",
       "      <td>0.0244</td>\n",
       "      <td>0.133</td>\n",
       "      <td>0.459</td>\n",
       "      <td>143.681</td>\n",
       "      <td>audio_features</td>\n",
       "      <td>spotify:track:3uRaD26t3RkJ8n549udQ83</td>\n",
       "      <td>https://api.spotify.com/v1/tracks/3uRaD26t3RkJ...</td>\n",
       "      <td>https://api.spotify.com/v1/audio-analysis/3uRa...</td>\n",
       "      <td>287493</td>\n",
       "      <td>4</td>\n",
       "    </tr>\n",
       "    <tr>\n",
       "      <th>1</th>\n",
       "      <td>Sex &amp; Candy</td>\n",
       "      <td>Marcy Playground</td>\n",
       "      <td>5mkGfmJGFZpwK9nA5amOhv</td>\n",
       "      <td>https://open.spotify.com/track/5mkGfmJGFZpwK9n...</td>\n",
       "      <td>0.670</td>\n",
       "      <td>0.558</td>\n",
       "      <td>2</td>\n",
       "      <td>-9.159</td>\n",
       "      <td>1</td>\n",
       "      <td>0.0251</td>\n",
       "      <td>...</td>\n",
       "      <td>0.0000</td>\n",
       "      <td>0.106</td>\n",
       "      <td>0.630</td>\n",
       "      <td>80.511</td>\n",
       "      <td>audio_features</td>\n",
       "      <td>spotify:track:5mkGfmJGFZpwK9nA5amOhv</td>\n",
       "      <td>https://api.spotify.com/v1/tracks/5mkGfmJGFZpw...</td>\n",
       "      <td>https://api.spotify.com/v1/audio-analysis/5mkG...</td>\n",
       "      <td>173493</td>\n",
       "      <td>4</td>\n",
       "    </tr>\n",
       "  </tbody>\n",
       "</table>\n",
       "<p>2 rows × 21 columns</p>\n",
       "</div>"
      ],
      "text/plain": [
       "                                 Songs            Artist  \\\n",
       "0  Put Your Lights On (feat. Everlast)           Santana   \n",
       "1                          Sex & Candy  Marcy Playground   \n",
       "\n",
       "                       id                                       external_url  \\\n",
       "0  3uRaD26t3RkJ8n549udQ83  https://open.spotify.com/track/3uRaD26t3RkJ8n5...   \n",
       "1  5mkGfmJGFZpwK9nA5amOhv  https://open.spotify.com/track/5mkGfmJGFZpwK9n...   \n",
       "\n",
       "   danceability  energy  key  loudness  mode  speechiness  ...  \\\n",
       "0         0.606   0.834    7    -6.101     1       0.0369  ...   \n",
       "1         0.670   0.558    2    -9.159     1       0.0251  ...   \n",
       "\n",
       "   instrumentalness  liveness  valence    tempo            type  \\\n",
       "0            0.0244     0.133    0.459  143.681  audio_features   \n",
       "1            0.0000     0.106    0.630   80.511  audio_features   \n",
       "\n",
       "                                    uri  \\\n",
       "0  spotify:track:3uRaD26t3RkJ8n549udQ83   \n",
       "1  spotify:track:5mkGfmJGFZpwK9nA5amOhv   \n",
       "\n",
       "                                          track_href  \\\n",
       "0  https://api.spotify.com/v1/tracks/3uRaD26t3RkJ...   \n",
       "1  https://api.spotify.com/v1/tracks/5mkGfmJGFZpw...   \n",
       "\n",
       "                                        analysis_url duration_ms  \\\n",
       "0  https://api.spotify.com/v1/audio-analysis/3uRa...      287493   \n",
       "1  https://api.spotify.com/v1/audio-analysis/5mkG...      173493   \n",
       "\n",
       "   time_signature  \n",
       "0               4  \n",
       "1               4  \n",
       "\n",
       "[2 rows x 21 columns]"
      ]
     },
     "execution_count": 78,
     "metadata": {},
     "output_type": "execute_result"
    }
   ],
   "source": [
    "df.head(2)"
   ]
  },
  {
   "cell_type": "code",
   "execution_count": 58,
   "id": "5af49aed",
   "metadata": {},
   "outputs": [
    {
     "name": "stdout",
     "output_type": "stream",
     "text": [
      "<class 'pandas.core.frame.DataFrame'>\n",
      "RangeIndex: 5413 entries, 0 to 5412\n",
      "Data columns (total 21 columns):\n",
      " #   Column            Non-Null Count  Dtype  \n",
      "---  ------            --------------  -----  \n",
      " 0   Songs             5413 non-null   object \n",
      " 1   Artist            5413 non-null   object \n",
      " 2   id                5413 non-null   object \n",
      " 3   external_url      5413 non-null   object \n",
      " 4   danceability      5413 non-null   float64\n",
      " 5   energy            5413 non-null   float64\n",
      " 6   key               5413 non-null   int64  \n",
      " 7   loudness          5413 non-null   float64\n",
      " 8   mode              5413 non-null   int64  \n",
      " 9   speechiness       5413 non-null   float64\n",
      " 10  acousticness      5413 non-null   float64\n",
      " 11  instrumentalness  5413 non-null   float64\n",
      " 12  liveness          5413 non-null   float64\n",
      " 13  valence           5413 non-null   float64\n",
      " 14  tempo             5413 non-null   float64\n",
      " 15  type              5413 non-null   object \n",
      " 16  uri               5413 non-null   object \n",
      " 17  track_href        5413 non-null   object \n",
      " 18  analysis_url      5413 non-null   object \n",
      " 19  duration_ms       5413 non-null   int64  \n",
      " 20  time_signature    5413 non-null   int64  \n",
      "dtypes: float64(9), int64(4), object(8)\n",
      "memory usage: 888.2+ KB\n"
     ]
    }
   ],
   "source": [
    "#check playlist's information:\n",
    "df.info()"
   ]
  },
  {
   "cell_type": "code",
   "execution_count": 60,
   "id": "a282cb53",
   "metadata": {},
   "outputs": [],
   "source": [
    "#export to file csv:\n",
    "df.to_csv('/Users/macbook/Documents/spotify_playlist.csv')"
   ]
  }
 ],
 "metadata": {
  "kernelspec": {
   "display_name": "Python 3",
   "language": "python",
   "name": "python3"
  },
  "language_info": {
   "codemirror_mode": {
    "name": "ipython",
    "version": 3
   },
   "file_extension": ".py",
   "mimetype": "text/x-python",
   "name": "python",
   "nbconvert_exporter": "python",
   "pygments_lexer": "ipython3",
   "version": "3.8.8"
  },
  "toc": {
   "base_numbering": 1,
   "nav_menu": {},
   "number_sections": true,
   "sideBar": true,
   "skip_h1_title": false,
   "title_cell": "Table of Content",
   "title_sidebar": "Contents",
   "toc_cell": false,
   "toc_position": {
    "height": "441.771px",
    "left": "328px",
    "top": "111.441px",
    "width": "281.319px"
   },
   "toc_section_display": true,
   "toc_window_display": true
  },
  "varInspector": {
   "cols": {
    "lenName": 16,
    "lenType": 16,
    "lenVar": 40
   },
   "kernels_config": {
    "python": {
     "delete_cmd_postfix": "",
     "delete_cmd_prefix": "del ",
     "library": "var_list.py",
     "varRefreshCmd": "print(var_dic_list())"
    },
    "r": {
     "delete_cmd_postfix": ") ",
     "delete_cmd_prefix": "rm(",
     "library": "var_list.r",
     "varRefreshCmd": "cat(var_dic_list()) "
    }
   },
   "types_to_exclude": [
    "module",
    "function",
    "builtin_function_or_method",
    "instance",
    "_Feature"
   ],
   "window_display": false
  }
 },
 "nbformat": 4,
 "nbformat_minor": 5
}
