{
 "cells": [
  {
   "cell_type": "code",
   "execution_count": 1,
   "id": "4f5980c5",
   "metadata": {},
   "outputs": [],
   "source": [
    "#import BeautifulSoup\n",
    "import requests\n",
    "from bs4 import BeautifulSoup\n",
    "#import pandas & numpy\n",
    "import pandas as pd\n",
    "import numpy as np"
   ]
  },
  {
   "cell_type": "markdown",
   "id": "365d88f2",
   "metadata": {},
   "source": [
    "# Import website"
   ]
  },
  {
   "cell_type": "code",
   "execution_count": 2,
   "id": "43563381",
   "metadata": {},
   "outputs": [],
   "source": [
    "url=\"https://www.billboard.com/charts/hot-100/\""
   ]
  },
  {
   "cell_type": "code",
   "execution_count": 3,
   "id": "090f1ea5",
   "metadata": {},
   "outputs": [],
   "source": [
    "page = requests.get(url)"
   ]
  },
  {
   "cell_type": "code",
   "execution_count": 4,
   "id": "9b589997",
   "metadata": {},
   "outputs": [
    {
     "data": {
      "text/plain": [
       "<Response [200]>"
      ]
     },
     "execution_count": 4,
     "metadata": {},
     "output_type": "execute_result"
    }
   ],
   "source": [
    "page"
   ]
  },
  {
   "cell_type": "code",
   "execution_count": 5,
   "id": "a7f4d631",
   "metadata": {},
   "outputs": [],
   "source": [
    "soup = BeautifulSoup(page.content,'html.parser')"
   ]
  },
  {
   "cell_type": "markdown",
   "id": "113876ae",
   "metadata": {},
   "source": [
    "# Get the title of the 100 Billboard"
   ]
  },
  {
   "cell_type": "code",
   "execution_count": 6,
   "id": "4d149c5e",
   "metadata": {},
   "outputs": [
    {
     "data": {
      "text/plain": [
       "\"We Don't Talk About Bruno\""
      ]
     },
     "execution_count": 6,
     "metadata": {},
     "output_type": "execute_result"
    }
   ],
   "source": [
    "soup.select('li.o-chart-results-list__item h3.c-title ')[0].get_text(strip=True)"
   ]
  },
  {
   "cell_type": "markdown",
   "id": "28330116",
   "metadata": {},
   "source": [
    "# Get the artist of the 100 Billboard song"
   ]
  },
  {
   "cell_type": "code",
   "execution_count": 7,
   "id": "53d2873f",
   "metadata": {},
   "outputs": [
    {
     "data": {
      "text/plain": [
       "'Carolina Gaitan, Mauro Castillo, Adassa, Rhenzy Feliz, Diane Guerrero, Stephanie Beatriz & Encanto Cast'"
      ]
     },
     "execution_count": 7,
     "metadata": {},
     "output_type": "execute_result"
    }
   ],
   "source": [
    "soup.select('li.o-chart-results-list__item span.c-label.a-no-trucate')[0].get_text(strip=True)"
   ]
  },
  {
   "cell_type": "markdown",
   "id": "2f7847fa",
   "metadata": {},
   "source": [
    "# Insert results into a list"
   ]
  },
  {
   "cell_type": "code",
   "execution_count": 8,
   "id": "8250aa2a",
   "metadata": {},
   "outputs": [
    {
     "data": {
      "text/plain": [
       "100"
      ]
     },
     "execution_count": 8,
     "metadata": {},
     "output_type": "execute_result"
    }
   ],
   "source": [
    "len_song= len(soup.select('li.o-chart-results-list__item h3.c-title '))\n",
    "len_song"
   ]
  },
  {
   "cell_type": "code",
   "execution_count": 9,
   "id": "55a041c9",
   "metadata": {},
   "outputs": [],
   "source": [
    "song=[]\n",
    "artist=[]"
   ]
  },
  {
   "cell_type": "code",
   "execution_count": 10,
   "id": "7055496f",
   "metadata": {},
   "outputs": [],
   "source": [
    "for i in range (len_song):\n",
    "    song.append(soup.select('li.o-chart-results-list__item h3.c-title ')[i].get_text(strip=True))\n",
    "    artist.append(soup.select('li.o-chart-results-list__item span.c-label.a-no-trucate')[i].get_text(strip=True))\n",
    "    "
   ]
  },
  {
   "cell_type": "markdown",
   "id": "79ffb4cf",
   "metadata": {},
   "source": [
    "# Concat into data frame"
   ]
  },
  {
   "cell_type": "code",
   "execution_count": 13,
   "id": "98c4893b",
   "metadata": {},
   "outputs": [
    {
     "data": {
      "text/plain": [
       "list"
      ]
     },
     "execution_count": 13,
     "metadata": {},
     "output_type": "execute_result"
    }
   ],
   "source": [
    "type(artist)"
   ]
  },
  {
   "cell_type": "code",
   "execution_count": 14,
   "id": "ffe6b7c5",
   "metadata": {},
   "outputs": [
    {
     "data": {
      "text/plain": [
       "'Carolina Gaitan, Mauro Castillo, Adassa, Rhenzy Feliz, Diane Guerrero, Stephanie Beatriz & Encanto Cast'"
      ]
     },
     "execution_count": 14,
     "metadata": {},
     "output_type": "execute_result"
    }
   ],
   "source": [
    "artist[0]"
   ]
  },
  {
   "cell_type": "code",
   "execution_count": null,
   "id": "41f1b8c6",
   "metadata": {},
   "outputs": [],
   "source": [
    "artist"
   ]
  },
  {
   "cell_type": "code",
   "execution_count": null,
   "id": "0232b74a",
   "metadata": {},
   "outputs": [],
   "source": [
    "song"
   ]
  },
  {
   "cell_type": "code",
   "execution_count": 17,
   "id": "a50676cc",
   "metadata": {},
   "outputs": [],
   "source": [
    "list_song= pd.DataFrame({'Songs':song, 'Artist':artist})"
   ]
  },
  {
   "cell_type": "code",
   "execution_count": 18,
   "id": "3c21acc4",
   "metadata": {},
   "outputs": [],
   "source": [
    "list_song['rank']= np.arange(len(song))+1"
   ]
  },
  {
   "cell_type": "code",
   "execution_count": 47,
   "id": "4f0f36ca",
   "metadata": {
    "scrolled": true
   },
   "outputs": [
    {
     "data": {
      "text/html": [
       "<div>\n",
       "<style scoped>\n",
       "    .dataframe tbody tr th:only-of-type {\n",
       "        vertical-align: middle;\n",
       "    }\n",
       "\n",
       "    .dataframe tbody tr th {\n",
       "        vertical-align: top;\n",
       "    }\n",
       "\n",
       "    .dataframe thead th {\n",
       "        text-align: right;\n",
       "    }\n",
       "</style>\n",
       "<table border=\"1\" class=\"dataframe\">\n",
       "  <thead>\n",
       "    <tr style=\"text-align: right;\">\n",
       "      <th></th>\n",
       "      <th>Songs</th>\n",
       "      <th>Artist</th>\n",
       "      <th>rank</th>\n",
       "    </tr>\n",
       "  </thead>\n",
       "  <tbody>\n",
       "    <tr>\n",
       "      <th>0</th>\n",
       "      <td>We Don't Talk About Bruno</td>\n",
       "      <td>Carolina Gaitan, Mauro Castillo, Adassa, Rhenz...</td>\n",
       "      <td>1</td>\n",
       "    </tr>\n",
       "    <tr>\n",
       "      <th>1</th>\n",
       "      <td>Heat Waves</td>\n",
       "      <td>Glass Animals</td>\n",
       "      <td>2</td>\n",
       "    </tr>\n",
       "  </tbody>\n",
       "</table>\n",
       "</div>"
      ],
      "text/plain": [
       "                       Songs  \\\n",
       "0  We Don't Talk About Bruno   \n",
       "1                 Heat Waves   \n",
       "\n",
       "                                              Artist  rank  \n",
       "0  Carolina Gaitan, Mauro Castillo, Adassa, Rhenz...     1  \n",
       "1                                      Glass Animals     2  "
      ]
     },
     "execution_count": 47,
     "metadata": {},
     "output_type": "execute_result"
    }
   ],
   "source": [
    "list_song.head(2)"
   ]
  },
  {
   "cell_type": "code",
   "execution_count": 61,
   "id": "10be7a05",
   "metadata": {},
   "outputs": [],
   "source": [
    "list_song.to_csv(r'/Users/macbook/Documents/top100.csv', index = None, header=True)"
   ]
  },
  {
   "cell_type": "code",
   "execution_count": null,
   "id": "e3cbd58f",
   "metadata": {},
   "outputs": [],
   "source": []
  }
 ],
 "metadata": {
  "kernelspec": {
   "display_name": "Python 3",
   "language": "python",
   "name": "python3"
  },
  "language_info": {
   "codemirror_mode": {
    "name": "ipython",
    "version": 3
   },
   "file_extension": ".py",
   "mimetype": "text/x-python",
   "name": "python",
   "nbconvert_exporter": "python",
   "pygments_lexer": "ipython3",
   "version": "3.8.8"
  },
  "toc": {
   "base_numbering": 1,
   "nav_menu": {},
   "number_sections": true,
   "sideBar": true,
   "skip_h1_title": false,
   "title_cell": "Table of Contents",
   "title_sidebar": "Contents",
   "toc_cell": false,
   "toc_position": {
    "height": "516.667px",
    "left": "413.969px",
    "top": "180px",
    "width": "275.538px"
   },
   "toc_section_display": true,
   "toc_window_display": false
  },
  "varInspector": {
   "cols": {
    "lenName": 16,
    "lenType": 16,
    "lenVar": 40
   },
   "kernels_config": {
    "python": {
     "delete_cmd_postfix": "",
     "delete_cmd_prefix": "del ",
     "library": "var_list.py",
     "varRefreshCmd": "print(var_dic_list())"
    },
    "r": {
     "delete_cmd_postfix": ") ",
     "delete_cmd_prefix": "rm(",
     "library": "var_list.r",
     "varRefreshCmd": "cat(var_dic_list()) "
    }
   },
   "types_to_exclude": [
    "module",
    "function",
    "builtin_function_or_method",
    "instance",
    "_Feature"
   ],
   "window_display": false
  }
 },
 "nbformat": 4,
 "nbformat_minor": 5
}
